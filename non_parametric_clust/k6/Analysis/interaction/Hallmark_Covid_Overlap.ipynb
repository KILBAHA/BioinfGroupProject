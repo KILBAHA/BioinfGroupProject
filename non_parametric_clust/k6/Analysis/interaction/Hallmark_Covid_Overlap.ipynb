{
 "cells": [
  {
   "cell_type": "code",
   "execution_count": 20,
   "id": "adequate-canal",
   "metadata": {},
   "outputs": [],
   "source": [
    "get_ol = function(c_clus, compare, s_clus, sets, core = T){\n",
    "  cmp = read.csv(paste(c_clus,'/', compare, \".tsv\", sep = \"\"), sep = \"\\t\")\n",
    "  if(core == T){cmp = cmp[cmp[,\"CORE.ENRICHMENT\"]==\"Yes\",]}\n",
    "  \n",
    "  lst = list()\n",
    "  for(set in sets){\n",
    "    current = read.csv(paste(s_clus,'/', set,\".tsv\", sep = \"\"), sep=\"\\t\")\n",
    "    if(core == T){current = current[current[,\"CORE.ENRICHMENT\"]==\"Yes\",]}\n",
    "    lst[set] = ifelse(length(current$SYMBOL[current$SYMBOL %in% cmp$SYMBOL]) > 0 , list(current$SYMBOL[current$SYMBOL %in% cmp$SYMBOL]), NA)\n",
    "  }\n",
    "  print(lst, max.levels=0)\n",
    "}\n"
   ]
  },
  {
   "cell_type": "markdown",
   "id": "certified-disco",
   "metadata": {},
   "source": [
    "# Gene list:\n",
    "ACE2 <br>\n",
    "TMPRSS2 <br>\n",
    "IFITM2 <br>\n",
    "IFITM3 <br>\n",
    "MYCN <br>\n",
    "NTRK1<br>\n",
    "PTPN6 <br>\n",
    "TP53 <br>\n",
    "CXCL10 <br>\n",
    "CXCL11 <br>\n",
    "AGTR1 <br>\n",
    "BSG <br>\n",
    "PPIA <br>\n",
    "PPIB <br>\n",
    "DPP4 <br>"
   ]
  },
  {
   "cell_type": "markdown",
   "id": "false-variety",
   "metadata": {},
   "source": [
    "# Unique C2"
   ]
  },
  {
   "cell_type": "code",
   "execution_count": 11,
   "id": "moderate-texas",
   "metadata": {},
   "outputs": [],
   "source": [
    "hall2 = c(\"HALLMARK_HEME_METABOLISM\",\"HALLMARK_MYOGENESIS\",\"HALLMARK_GLYCOLYSIS\",\"HALLMARK_FATTY_ACID_METABOLISM\",\"HALLMARK_ADIPOGENESIS\",\"HALLMARK_PI3K_AKT_MTOR_SIGNALING\",\"HALLMARK_ANDROGEN_RESPONSE\",\"HALLMARK_PROTEIN_SECRETION\",\"HALLMARK_UV_RESPONSE_DN\",\"HALLMARK_PEROXISOME\",\"HALLMARK_NOTCH_SIGNALING\",\"HALLMARK_MTORC1_SIGNALING\",\"HALLMARK_ESTROGEN_RESPONSE_LATE\",\"HALLMARK_UV_RESPONSE_UP\",\"HALLMARK_ANGIOGENESIS\",\"HALLMARK_APICAL_SURFACE\")"
   ]
  },
  {
   "cell_type": "markdown",
   "id": "warming-planner",
   "metadata": {},
   "source": [
    "## COVID-19 NSP7 with C2"
   ]
  },
  {
   "cell_type": "code",
   "execution_count": 21,
   "id": "occupational-detail",
   "metadata": {},
   "outputs": [
    {
     "name": "stdout",
     "output_type": "stream",
     "text": [
      "$HALLMARK_HEME_METABOLISM\n",
      "[1] NA\n",
      "\n",
      "$HALLMARK_MYOGENESIS\n",
      "[1] NA\n",
      "\n",
      "$HALLMARK_GLYCOLYSIS\n",
      "[1] FAM162A HS2ST1 \n",
      "\n",
      "$HALLMARK_FATTY_ACID_METABOLISM\n",
      "[1] NA\n",
      "\n",
      "$HALLMARK_ADIPOGENESIS\n",
      "[1] NA\n",
      "\n",
      "$HALLMARK_PI3K_AKT_MTOR_SIGNALING\n",
      "[1] NA\n",
      "\n",
      "$HALLMARK_ANDROGEN_RESPONSE\n",
      "[1] ACSL3\n",
      "\n",
      "$HALLMARK_PROTEIN_SECRETION\n",
      "[1] RAB2A RAB14\n",
      "\n",
      "$HALLMARK_UV_RESPONSE_DN\n",
      "[1] NA\n",
      "\n",
      "$HALLMARK_PEROXISOME\n",
      "[1] NA\n",
      "\n",
      "$HALLMARK_NOTCH_SIGNALING\n",
      "[1] NA\n",
      "\n",
      "$HALLMARK_MTORC1_SIGNALING\n",
      "[1] ACSL3 RAB1A\n",
      "\n",
      "$HALLMARK_ESTROGEN_RESPONSE_LATE\n",
      "[1] NA\n",
      "\n",
      "$HALLMARK_UV_RESPONSE_UP\n",
      "[1] NA\n",
      "\n",
      "$HALLMARK_ANGIOGENESIS\n",
      "[1] NA\n",
      "\n",
      "$HALLMARK_APICAL_SURFACE\n",
      "[1] NA\n",
      "\n"
     ]
    }
   ],
   "source": [
    "get_ol('C2_COVID_PPI', \"COVID19-NSP7 PROTEIN HOST PPI FROM KROGAN\",'C2_Hallmark', hall2)"
   ]
  },
  {
   "cell_type": "code",
   "execution_count": 22,
   "id": "surgical-knife",
   "metadata": {},
   "outputs": [
    {
     "name": "stdout",
     "output_type": "stream",
     "text": [
      "$HALLMARK_HEME_METABOLISM\n",
      "[1] NA\n",
      "\n",
      "$HALLMARK_MYOGENESIS\n",
      "[1] NA\n",
      "\n",
      "$HALLMARK_GLYCOLYSIS\n",
      "[1] FAM162A HS2ST1 \n",
      "\n",
      "$HALLMARK_FATTY_ACID_METABOLISM\n",
      "[1] NA\n",
      "\n",
      "$HALLMARK_ADIPOGENESIS\n",
      "[1] SCARB1\n",
      "\n",
      "$HALLMARK_PI3K_AKT_MTOR_SIGNALING\n",
      "[1] NA\n",
      "\n",
      "$HALLMARK_ANDROGEN_RESPONSE\n",
      "[1] ACSL3\n",
      "\n",
      "$HALLMARK_PROTEIN_SECRETION\n",
      "[1] RAB2A RAB14\n",
      "\n",
      "$HALLMARK_UV_RESPONSE_DN\n",
      "[1] NA\n",
      "\n",
      "$HALLMARK_PEROXISOME\n",
      "[1] NA\n",
      "\n",
      "$HALLMARK_NOTCH_SIGNALING\n",
      "[1] NA\n",
      "\n",
      "$HALLMARK_MTORC1_SIGNALING\n",
      "[1] ACSL3 RAB1A\n",
      "\n",
      "$HALLMARK_ESTROGEN_RESPONSE_LATE\n",
      "[1] SCARB1\n",
      "\n",
      "$HALLMARK_UV_RESPONSE_UP\n",
      "[1] NA\n",
      "\n",
      "$HALLMARK_ANGIOGENESIS\n",
      "[1] NA\n",
      "\n",
      "$HALLMARK_APICAL_SURFACE\n",
      "[1] NA\n",
      "\n"
     ]
    }
   ],
   "source": [
    "get_ol('C2_COVID_PPI', \"COVID19-NSP7 PROTEIN HOST PPI FROM KROGAN\",'C2_Hallmark', hall2, F)"
   ]
  },
  {
   "cell_type": "markdown",
   "id": "surgical-civilization",
   "metadata": {},
   "source": [
    "## SARS ORF1AB with C2"
   ]
  },
  {
   "cell_type": "code",
   "execution_count": 23,
   "id": "incoming-clear",
   "metadata": {},
   "outputs": [
    {
     "name": "stdout",
     "output_type": "stream",
     "text": [
      "$HALLMARK_HEME_METABOLISM\n",
      "[1] NA\n",
      "\n",
      "$HALLMARK_MYOGENESIS\n",
      "[1] RB1       MYH9      GABARAPL2 APP       TPM3     \n",
      "\n",
      "$HALLMARK_GLYCOLYSIS\n",
      "[1] EGFR  HSPA5 PKM  \n",
      "\n",
      "$HALLMARK_FATTY_ACID_METABOLISM\n",
      "[1] HSP90AA1 YWHAH   \n",
      "\n",
      "$HALLMARK_ADIPOGENESIS\n",
      "[1] YWHAG  UBQLN1\n",
      "\n",
      "$HALLMARK_PI3K_AKT_MTOR_SIGNALING\n",
      "[1] EGFR   SQSTM1 YWHAB  NCK1   GRB2   UBE2D3\n",
      "\n",
      "$HALLMARK_ANDROGEN_RESPONSE\n",
      "[1] B2M\n",
      "\n",
      "$HALLMARK_PROTEIN_SECRETION\n",
      "[1] EGFR\n",
      "\n",
      "$HALLMARK_UV_RESPONSE_DN\n",
      "[1] NA\n",
      "\n",
      "$HALLMARK_PEROXISOME\n",
      "[1] YWHAH\n",
      "\n",
      "$HALLMARK_NOTCH_SIGNALING\n",
      "[1] NA\n",
      "\n",
      "$HALLMARK_MTORC1_SIGNALING\n",
      "[1] SQSTM1 HSPA5  HSPA4  UBE2D3\n",
      "\n",
      "$HALLMARK_ESTROGEN_RESPONSE_LATE\n",
      "[1] JAK1 JAK2\n",
      "\n",
      "$HALLMARK_UV_RESPONSE_UP\n",
      "[1] LYN    SQSTM1\n",
      "\n",
      "$HALLMARK_ANGIOGENESIS\n",
      "[1] NA\n",
      "\n",
      "$HALLMARK_APICAL_SURFACE\n",
      "[1] LYN APP\n",
      "\n"
     ]
    }
   ],
   "source": [
    "get_ol('C2_COVID_PPI', \"SARS CORONAVIRUS ORF1AB FROM VIRUS-HOST PPI P-HIPSTER 2020\",\n",
    "       'C2_Hallmark', hall2)"
   ]
  },
  {
   "cell_type": "code",
   "execution_count": 24,
   "id": "military-snowboard",
   "metadata": {},
   "outputs": [
    {
     "name": "stdout",
     "output_type": "stream",
     "text": [
      "$HALLMARK_HEME_METABOLISM\n",
      "[1] SPTB   USP15  EPB41  RAD23A SPTA1 \n",
      "\n",
      "$HALLMARK_MYOGENESIS\n",
      "[1] RB1       MYH9      GABARAPL2 APP       TPM3      SPTAN1   \n",
      "\n",
      "$HALLMARK_GLYCOLYSIS\n",
      "[1] EGFR  HSPA5 PKM   RBCK1\n",
      "\n",
      "$HALLMARK_FATTY_ACID_METABOLISM\n",
      "[1] HSP90AA1 YWHAH   \n",
      "\n",
      "$HALLMARK_ADIPOGENESIS\n",
      "[1] YWHAG  UBQLN1 UBC   \n",
      "\n",
      "$HALLMARK_PI3K_AKT_MTOR_SIGNALING\n",
      "[1] EGFR   SQSTM1 YWHAB  NCK1   GRB2   UBE2D3 SFN   \n",
      "\n",
      "$HALLMARK_ANDROGEN_RESPONSE\n",
      "[1] B2M    PTPN21\n",
      "\n",
      "$HALLMARK_PROTEIN_SECRETION\n",
      "[1] EGFR\n",
      "\n",
      "$HALLMARK_UV_RESPONSE_DN\n",
      "[1] ERBB2  FYN    PTPN21\n",
      "\n",
      "$HALLMARK_PEROXISOME\n",
      "[1] YWHAH  PABPC1\n",
      "\n",
      "$HALLMARK_NOTCH_SIGNALING\n",
      "[1] CUL1\n",
      "\n",
      "$HALLMARK_MTORC1_SIGNALING\n",
      "[1] SQSTM1 HSPA5  HSPA4  UBE2D3\n",
      "\n",
      "$HALLMARK_ESTROGEN_RESPONSE_LATE\n",
      "[1] JAK1 JAK2 SFN \n",
      "\n",
      "$HALLMARK_UV_RESPONSE_UP\n",
      "[1] LYN    SQSTM1 ARRB2 \n",
      "\n",
      "$HALLMARK_ANGIOGENESIS\n",
      "[1] APP  PTK2\n",
      "\n",
      "$HALLMARK_APICAL_SURFACE\n",
      "[1] LYN   APP   BRCA1\n",
      "\n"
     ]
    }
   ],
   "source": [
    "get_ol('C2_COVID_PPI', \"SARS CORONAVIRUS ORF1AB FROM VIRUS-HOST PPI P-HIPSTER 2020\",\n",
    "       'C2_Hallmark', hall2, F)"
   ]
  },
  {
   "cell_type": "markdown",
   "id": "intended-accuracy",
   "metadata": {},
   "source": [
    "## SARS NSP3-PP1A with C2"
   ]
  },
  {
   "cell_type": "code",
   "execution_count": 25,
   "id": "sufficient-mechanics",
   "metadata": {},
   "outputs": [
    {
     "name": "stdout",
     "output_type": "stream",
     "text": [
      "$HALLMARK_HEME_METABOLISM\n",
      "[1] NA\n",
      "\n",
      "$HALLMARK_MYOGENESIS\n",
      "[1] RB1       MYH9      GABARAPL2 APP      \n",
      "\n",
      "$HALLMARK_GLYCOLYSIS\n",
      "[1] NA\n",
      "\n",
      "$HALLMARK_FATTY_ACID_METABOLISM\n",
      "[1] YWHAH\n",
      "\n",
      "$HALLMARK_ADIPOGENESIS\n",
      "[1] YWHAG  UBQLN1\n",
      "\n",
      "$HALLMARK_PI3K_AKT_MTOR_SIGNALING\n",
      "[1] SQSTM1 YWHAB  GRB2  \n",
      "\n",
      "$HALLMARK_ANDROGEN_RESPONSE\n",
      "[1] NA\n",
      "\n",
      "$HALLMARK_PROTEIN_SECRETION\n",
      "[1] NA\n",
      "\n",
      "$HALLMARK_UV_RESPONSE_DN\n",
      "[1] NA\n",
      "\n",
      "$HALLMARK_PEROXISOME\n",
      "[1] YWHAH\n",
      "\n",
      "$HALLMARK_NOTCH_SIGNALING\n",
      "[1] NA\n",
      "\n",
      "$HALLMARK_MTORC1_SIGNALING\n",
      "[1] SQSTM1\n",
      "\n",
      "$HALLMARK_ESTROGEN_RESPONSE_LATE\n",
      "[1] JAK1 JAK2\n",
      "\n",
      "$HALLMARK_UV_RESPONSE_UP\n",
      "[1] SQSTM1\n",
      "\n",
      "$HALLMARK_ANGIOGENESIS\n",
      "[1] NA\n",
      "\n",
      "$HALLMARK_APICAL_SURFACE\n",
      "[1] APP\n",
      "\n"
     ]
    }
   ],
   "source": [
    "get_ol('C2_COVID_PPI', \"SARS CORONAVIRUS NSP3-PP1A FROM VIRUS-HOST PPI P-HIPSTER 2020\",\n",
    "       'C2_Hallmark', hall2)"
   ]
  },
  {
   "cell_type": "code",
   "execution_count": 26,
   "id": "australian-collapse",
   "metadata": {},
   "outputs": [
    {
     "name": "stdout",
     "output_type": "stream",
     "text": [
      "$HALLMARK_HEME_METABOLISM\n",
      "[1] USP15  EPB41  RAD23A\n",
      "\n",
      "$HALLMARK_MYOGENESIS\n",
      "[1] RB1       MYH9      GABARAPL2 APP      \n",
      "\n",
      "$HALLMARK_GLYCOLYSIS\n",
      "[1] RBCK1\n",
      "\n",
      "$HALLMARK_FATTY_ACID_METABOLISM\n",
      "[1] YWHAH\n",
      "\n",
      "$HALLMARK_ADIPOGENESIS\n",
      "[1] YWHAG  UBQLN1 UBC   \n",
      "\n",
      "$HALLMARK_PI3K_AKT_MTOR_SIGNALING\n",
      "[1] SQSTM1 YWHAB  GRB2   SFN   \n",
      "\n",
      "$HALLMARK_ANDROGEN_RESPONSE\n",
      "[1] PTPN21\n",
      "\n",
      "$HALLMARK_PROTEIN_SECRETION\n",
      "[1] NA\n",
      "\n",
      "$HALLMARK_UV_RESPONSE_DN\n",
      "[1] PTPN21\n",
      "\n",
      "$HALLMARK_PEROXISOME\n",
      "[1] YWHAH\n",
      "\n",
      "$HALLMARK_NOTCH_SIGNALING\n",
      "[1] NA\n",
      "\n",
      "$HALLMARK_MTORC1_SIGNALING\n",
      "[1] SQSTM1\n",
      "\n",
      "$HALLMARK_ESTROGEN_RESPONSE_LATE\n",
      "[1] JAK1 JAK2 SFN \n",
      "\n",
      "$HALLMARK_UV_RESPONSE_UP\n",
      "[1] SQSTM1\n",
      "\n",
      "$HALLMARK_ANGIOGENESIS\n",
      "[1] APP  PTK2\n",
      "\n",
      "$HALLMARK_APICAL_SURFACE\n",
      "[1] APP   BRCA1\n",
      "\n"
     ]
    }
   ],
   "source": [
    "get_ol('C2_COVID_PPI', \"SARS CORONAVIRUS NSP3-PP1A FROM VIRUS-HOST PPI P-HIPSTER 2020\",\n",
    "       'C2_Hallmark', hall2, F)"
   ]
  },
  {
   "cell_type": "markdown",
   "id": "simple-advertising",
   "metadata": {},
   "source": [
    "## COVID19 ORF9C with C2"
   ]
  },
  {
   "cell_type": "code",
   "execution_count": 27,
   "id": "traditional-plenty",
   "metadata": {},
   "outputs": [
    {
     "name": "stdout",
     "output_type": "stream",
     "text": [
      "$HALLMARK_HEME_METABOLISM\n",
      "[1] NA\n",
      "\n",
      "$HALLMARK_MYOGENESIS\n",
      "[1] NA\n",
      "\n",
      "$HALLMARK_GLYCOLYSIS\n",
      "[1] NA\n",
      "\n",
      "$HALLMARK_FATTY_ACID_METABOLISM\n",
      "[1] NA\n",
      "\n",
      "$HALLMARK_ADIPOGENESIS\n",
      "[1] GHITM\n",
      "\n",
      "$HALLMARK_PI3K_AKT_MTOR_SIGNALING\n",
      "[1] NA\n",
      "\n",
      "$HALLMARK_ANDROGEN_RESPONSE\n",
      "[1] NA\n",
      "\n",
      "$HALLMARK_PROTEIN_SECRETION\n",
      "[1] NA\n",
      "\n",
      "$HALLMARK_UV_RESPONSE_DN\n",
      "[1] NA\n",
      "\n",
      "$HALLMARK_PEROXISOME\n",
      "[1] NA\n",
      "\n",
      "$HALLMARK_NOTCH_SIGNALING\n",
      "[1] NA\n",
      "\n",
      "$HALLMARK_MTORC1_SIGNALING\n",
      "[1] NA\n",
      "\n",
      "$HALLMARK_ESTROGEN_RESPONSE_LATE\n",
      "[1] NA\n",
      "\n",
      "$HALLMARK_UV_RESPONSE_UP\n",
      "[1] NA\n",
      "\n",
      "$HALLMARK_ANGIOGENESIS\n",
      "[1] NA\n",
      "\n",
      "$HALLMARK_APICAL_SURFACE\n",
      "[1] NA\n",
      "\n"
     ]
    }
   ],
   "source": [
    "get_ol('C2_COVID_PPI', \"COVID19-ORF9C PROTEIN HOST PPI FROM KROGAN\",\n",
    "       'C2_Hallmark', hall2)"
   ]
  },
  {
   "cell_type": "code",
   "execution_count": 28,
   "id": "authentic-schema",
   "metadata": {},
   "outputs": [
    {
     "name": "stdout",
     "output_type": "stream",
     "text": [
      "$HALLMARK_HEME_METABOLISM\n",
      "[1] NA\n",
      "\n",
      "$HALLMARK_MYOGENESIS\n",
      "[1] NA\n",
      "\n",
      "$HALLMARK_GLYCOLYSIS\n",
      "[1] NA\n",
      "\n",
      "$HALLMARK_FATTY_ACID_METABOLISM\n",
      "[1] NA\n",
      "\n",
      "$HALLMARK_ADIPOGENESIS\n",
      "[1] GHITM\n",
      "\n",
      "$HALLMARK_PI3K_AKT_MTOR_SIGNALING\n",
      "[1] ECSIT\n",
      "\n",
      "$HALLMARK_ANDROGEN_RESPONSE\n",
      "[1] NA\n",
      "\n",
      "$HALLMARK_PROTEIN_SECRETION\n",
      "[1] NA\n",
      "\n",
      "$HALLMARK_UV_RESPONSE_DN\n",
      "[1] ABCC1\n",
      "\n",
      "$HALLMARK_PEROXISOME\n",
      "[1] NA\n",
      "\n",
      "$HALLMARK_NOTCH_SIGNALING\n",
      "[1] NA\n",
      "\n",
      "$HALLMARK_MTORC1_SIGNALING\n",
      "[1] TMEM97\n",
      "\n",
      "$HALLMARK_ESTROGEN_RESPONSE_LATE\n",
      "[1] WFS1\n",
      "\n",
      "$HALLMARK_UV_RESPONSE_UP\n",
      "[1] NA\n",
      "\n",
      "$HALLMARK_ANGIOGENESIS\n",
      "[1] NA\n",
      "\n",
      "$HALLMARK_APICAL_SURFACE\n",
      "[1] NA\n",
      "\n"
     ]
    }
   ],
   "source": [
    "get_ol('C2_COVID_PPI', \"COVID19-ORF9C PROTEIN HOST PPI FROM KROGAN\",\n",
    "       'C2_Hallmark', hall2, F)"
   ]
  },
  {
   "cell_type": "markdown",
   "id": "unnecessary-sailing",
   "metadata": {},
   "source": [
    "## COVID19-M PROTEIN with C2"
   ]
  },
  {
   "cell_type": "code",
   "execution_count": 29,
   "id": "boolean-malawi",
   "metadata": {},
   "outputs": [
    {
     "name": "stdout",
     "output_type": "stream",
     "text": [
      "$HALLMARK_HEME_METABOLISM\n",
      "[1] NA\n",
      "\n",
      "$HALLMARK_MYOGENESIS\n",
      "[1] NA\n",
      "\n",
      "$HALLMARK_GLYCOLYSIS\n",
      "[1] NA\n",
      "\n",
      "$HALLMARK_FATTY_ACID_METABOLISM\n",
      "[1] ACADM\n",
      "\n",
      "$HALLMARK_ADIPOGENESIS\n",
      "[1] STOM  REEP5 ACADM\n",
      "\n",
      "$HALLMARK_PI3K_AKT_MTOR_SIGNALING\n",
      "[1] NA\n",
      "\n",
      "$HALLMARK_ANDROGEN_RESPONSE\n",
      "[1] NA\n",
      "\n",
      "$HALLMARK_PROTEIN_SECRETION\n",
      "[1] NA\n",
      "\n",
      "$HALLMARK_UV_RESPONSE_DN\n",
      "[1] NA\n",
      "\n",
      "$HALLMARK_PEROXISOME\n",
      "[1] NA\n",
      "\n",
      "$HALLMARK_NOTCH_SIGNALING\n",
      "[1] NA\n",
      "\n",
      "$HALLMARK_MTORC1_SIGNALING\n",
      "[1] NA\n",
      "\n",
      "$HALLMARK_ESTROGEN_RESPONSE_LATE\n",
      "[1] NA\n",
      "\n",
      "$HALLMARK_UV_RESPONSE_UP\n",
      "[1] NA\n",
      "\n",
      "$HALLMARK_ANGIOGENESIS\n",
      "[1] NA\n",
      "\n",
      "$HALLMARK_APICAL_SURFACE\n",
      "[1] NA\n",
      "\n"
     ]
    }
   ],
   "source": [
    "get_ol('C2_COVID_PPI', \"COVID19-M PROTEIN HOST PPI FROM KROGAN\",\n",
    "       'C2_Hallmark', hall2)"
   ]
  },
  {
   "cell_type": "code",
   "execution_count": 30,
   "id": "competent-christopher",
   "metadata": {},
   "outputs": [
    {
     "name": "stdout",
     "output_type": "stream",
     "text": [
      "$HALLMARK_HEME_METABOLISM\n",
      "[1] NA\n",
      "\n",
      "$HALLMARK_MYOGENESIS\n",
      "[1] NA\n",
      "\n",
      "$HALLMARK_GLYCOLYSIS\n",
      "[1] NA\n",
      "\n",
      "$HALLMARK_FATTY_ACID_METABOLISM\n",
      "[1] ACADM REEP6\n",
      "\n",
      "$HALLMARK_ADIPOGENESIS\n",
      "[1] STOM  REEP5 ACADM REEP6\n",
      "\n",
      "$HALLMARK_PI3K_AKT_MTOR_SIGNALING\n",
      "[1] NA\n",
      "\n",
      "$HALLMARK_ANDROGEN_RESPONSE\n",
      "[1] NA\n",
      "\n",
      "$HALLMARK_PROTEIN_SECRETION\n",
      "[1] NA\n",
      "\n",
      "$HALLMARK_UV_RESPONSE_DN\n",
      "[1] NA\n",
      "\n",
      "$HALLMARK_PEROXISOME\n",
      "[1] NA\n",
      "\n",
      "$HALLMARK_NOTCH_SIGNALING\n",
      "[1] NA\n",
      "\n",
      "$HALLMARK_MTORC1_SIGNALING\n",
      "[1] NA\n",
      "\n",
      "$HALLMARK_ESTROGEN_RESPONSE_LATE\n",
      "[1] NA\n",
      "\n",
      "$HALLMARK_UV_RESPONSE_UP\n",
      "[1] NA\n",
      "\n",
      "$HALLMARK_ANGIOGENESIS\n",
      "[1] NA\n",
      "\n",
      "$HALLMARK_APICAL_SURFACE\n",
      "[1] NA\n",
      "\n"
     ]
    }
   ],
   "source": [
    "get_ol('C2_COVID_PPI', \"COVID19-M PROTEIN HOST PPI FROM KROGAN\",\n",
    "       'C2_Hallmark', hall2, F)"
   ]
  },
  {
   "cell_type": "markdown",
   "id": "minus-playlist",
   "metadata": {},
   "source": [
    "# Unique with C3"
   ]
  },
  {
   "cell_type": "code",
   "execution_count": 31,
   "id": "intensive-victorian",
   "metadata": {},
   "outputs": [],
   "source": [
    "hall3 = c(\"HALLMARK_IL2_STAT5_SIGNALING\",\"HALLMARK_ALLOGRAFT_REJECTION\",\"HALLMARK_INFLAMMATORY_RESPONSE\",\n",
    "          \"HALLMARK_INTERFERON_GAMMA_RESPONSE\",\"HALLMARK_IL6_JAK_STAT3_SIGNALING\",\"HALLMARK_TNFA_SIGNALING_VIA_NFKB\",\n",
    "          \"HALLMARK_INTERFERON_ALPHA_RESPONSE\",\"HALLMARK_TGF_BETA_SIGNALING\",\"HALLMARK_COAGULATION\") "
   ]
  },
  {
   "cell_type": "markdown",
   "id": "willing-revision",
   "metadata": {},
   "source": [
    "## SARS E2 Glycoprotein with C3"
   ]
  },
  {
   "cell_type": "code",
   "execution_count": 33,
   "id": "authentic-quality",
   "metadata": {},
   "outputs": [
    {
     "name": "stdout",
     "output_type": "stream",
     "text": [
      "$HALLMARK_IL2_STAT5_SIGNALING\n",
      "[1] ICOS  CTLA4 CD79B\n",
      "\n",
      "$HALLMARK_ALLOGRAFT_REJECTION\n",
      "[1] CD4   B2M   STAT1 CD8B \n",
      "\n",
      "$HALLMARK_INFLAMMATORY_RESPONSE\n",
      "[1] NA\n",
      "\n",
      "$HALLMARK_INTERFERON_GAMMA_RESPONSE\n",
      "[1] VCAM1 B2M   STAT1\n",
      "\n",
      "$HALLMARK_IL6_JAK_STAT3_SIGNALING\n",
      "[1] STAT1\n",
      "\n",
      "$HALLMARK_TNFA_SIGNALING_VIA_NFKB\n",
      "[1] NA\n",
      "\n",
      "$HALLMARK_INTERFERON_ALPHA_RESPONSE\n",
      "[1] B2M\n",
      "\n",
      "$HALLMARK_TGF_BETA_SIGNALING\n",
      "[1] NA\n",
      "\n",
      "$HALLMARK_COAGULATION\n",
      "[1] FN1\n",
      "\n"
     ]
    }
   ],
   "source": [
    "get_ol('C3_COVID_PPI', \"SARS CORONAVIRUS E2 GLYCOPROTEIN PRECURSOR FROM VIRUS-HOST PPI P-HIPSTER 2020\",\n",
    "       'C3_Hallmark', hall3)"
   ]
  },
  {
   "cell_type": "code",
   "execution_count": 34,
   "id": "certified-harmony",
   "metadata": {},
   "outputs": [
    {
     "name": "stdout",
     "output_type": "stream",
     "text": [
      "$HALLMARK_IL2_STAT5_SIGNALING\n",
      "[1] ICOS  CTLA4 CD79B\n",
      "\n",
      "$HALLMARK_ALLOGRAFT_REJECTION\n",
      "[1] CD4   B2M   STAT1 CD8B  CD8A  CD7   THY1  BRCA1\n",
      "\n",
      "$HALLMARK_INFLAMMATORY_RESPONSE\n",
      "[1] NA\n",
      "\n",
      "$HALLMARK_INTERFERON_GAMMA_RESPONSE\n",
      "[1] VCAM1 B2M   STAT1 STAT3\n",
      "\n",
      "$HALLMARK_IL6_JAK_STAT3_SIGNALING\n",
      "[1] STAT1 STAT3 GRB2 \n",
      "\n",
      "$HALLMARK_TNFA_SIGNALING_VIA_NFKB\n",
      "[1] NA\n",
      "\n",
      "$HALLMARK_INTERFERON_ALPHA_RESPONSE\n",
      "[1] B2M\n",
      "\n",
      "$HALLMARK_TGF_BETA_SIGNALING\n",
      "[1] NA\n",
      "\n",
      "$HALLMARK_COAGULATION\n",
      "[1] FN1\n",
      "\n"
     ]
    }
   ],
   "source": [
    "get_ol('C3_COVID_PPI', \"SARS CORONAVIRUS E2 GLYCOPROTEIN PRECURSOR FROM VIRUS-HOST PPI P-HIPSTER 2020\",\n",
    "       'C3_Hallmark', hall3, F)"
   ]
  },
  {
   "cell_type": "markdown",
   "id": "light-compound",
   "metadata": {},
   "source": [
    "# Unique with C5"
   ]
  },
  {
   "cell_type": "code",
   "execution_count": 35,
   "id": "bacterial-musical",
   "metadata": {},
   "outputs": [],
   "source": [
    "hall5 = c(\"HALLMARK_MYC_TARGETS_V2\",\"HALLMARK_MYC_TARGETS_V1\")"
   ]
  },
  {
   "cell_type": "markdown",
   "id": "crucial-anxiety",
   "metadata": {},
   "source": [
    "# COVID NSP8 with C5"
   ]
  },
  {
   "cell_type": "code",
   "execution_count": 36,
   "id": "authentic-vegetable",
   "metadata": {},
   "outputs": [
    {
     "name": "stdout",
     "output_type": "stream",
     "text": [
      "$HALLMARK_MYC_TARGETS_V2\n",
      "[1] EXOSC5    MPHOSPH10\n",
      "\n",
      "$HALLMARK_MYC_TARGETS_V1\n",
      "[1] NA\n",
      "\n"
     ]
    }
   ],
   "source": [
    "get_ol('C5_COVID_PPI', \"COVID19-NSP8 PROTEIN HOST PPI FROM KROGAN\",\n",
    "       'C5_Hallmark', hall5)"
   ]
  },
  {
   "cell_type": "code",
   "execution_count": 37,
   "id": "comfortable-guatemala",
   "metadata": {},
   "outputs": [
    {
     "name": "stdout",
     "output_type": "stream",
     "text": [
      "$HALLMARK_MYC_TARGETS_V2\n",
      "[1] EXOSC5    MPHOSPH10\n",
      "\n",
      "$HALLMARK_MYC_TARGETS_V1\n",
      "[1] NA\n",
      "\n"
     ]
    }
   ],
   "source": [
    "get_ol('C5_COVID_PPI', \"COVID19-NSP8 PROTEIN HOST PPI FROM KROGAN\",\n",
    "       'C5_Hallmark', hall5, F)"
   ]
  }
 ],
 "metadata": {
  "kernelspec": {
   "display_name": "R",
   "language": "R",
   "name": "ir"
  },
  "language_info": {
   "codemirror_mode": "r",
   "file_extension": ".r",
   "mimetype": "text/x-r-source",
   "name": "R",
   "pygments_lexer": "r",
   "version": "3.6.1"
  }
 },
 "nbformat": 4,
 "nbformat_minor": 5
}
