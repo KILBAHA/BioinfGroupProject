{
 "cells": [
  {
   "cell_type": "code",
   "execution_count": 9,
   "metadata": {},
   "outputs": [],
   "source": [
    "get_ol = function(c_clus, compare, s_clus, sets, core = T){\n",
    "  cmp = read.csv(paste(c_clus,'/', compare, \".tsv\", sep = \"\"), sep = \"\\t\")\n",
    "  if(core == T){cmp = cmp[cmp[,\"CORE.ENRICHMENT\"]==\"Yes\",]}\n",
    "  \n",
    "  lst = list()\n",
    "  for(set in sets){\n",
    "    current = read.csv(paste(s_clus,'/', set,\".tsv\", sep = \"\"), sep=\"\\t\")\n",
    "    if(core == T){current = current[current[,\"CORE.ENRICHMENT\"]==\"Yes\",]}\n",
    "    lst[set] = ifelse(length(current$SYMBOL[current$SYMBOL %in% cmp$SYMBOL]) > 0 , list(current$SYMBOL[current$SYMBOL %in% cmp$SYMBOL]), NA)\n",
    "  }\n",
    "  print(lst, max.levels=0)\n",
    "}\n"
   ]
  },
  {
   "cell_type": "markdown",
   "metadata": {},
   "source": [
    "# Gene list:\n",
    "ACE2 <br>\n",
    "TMPRSS2 <br>\n",
    "IFITM2 <br>\n",
    "IFITM3 <br>\n",
    "MYCN <br>\n",
    "NTRK1<br>\n",
    "PTPN6 <br>\n",
    "TP53 <br>\n",
    "CXCL10 <br>\n",
    "CXCL11 <br>\n",
    "AGTR1 <br>\n",
    "BSG <br>\n",
    "PPIA <br>\n",
    "PPIB <br>\n",
    "DPP4 <br>"
   ]
  },
  {
   "cell_type": "markdown",
   "metadata": {},
   "source": [
    "# Overlap with C2 & C4\n",
    "\n",
    "Hallmark -> PI3K_AKT_MTOR_Signaling <br>\n",
    "Covid -> NSP3-PP1A & ORF1AB"
   ]
  },
  {
   "cell_type": "markdown",
   "metadata": {},
   "source": [
    "## NSP3-PP1A with C2"
   ]
  },
  {
   "cell_type": "code",
   "execution_count": 10,
   "metadata": {},
   "outputs": [
    {
     "name": "stdout",
     "output_type": "stream",
     "text": [
      "$HALLMARK_PI3K_AKT_MTOR_SIGNALING\n",
      "[1] YWHAB GRB2 \n",
      "\n"
     ]
    }
   ],
   "source": [
    "get_ol('C2_COVID_PPI', \"SARS CORONAVIRUS NSP3-PP1A FROM VIRUS-HOST PPI P-HIPSTER 2020\",\n",
    "       \"C2_Hall\", \"HALLMARK_PI3K_AKT_MTOR_SIGNALING\")"
   ]
  },
  {
   "cell_type": "code",
   "execution_count": 11,
   "metadata": {},
   "outputs": [
    {
     "name": "stdout",
     "output_type": "stream",
     "text": [
      "$HALLMARK_PI3K_AKT_MTOR_SIGNALING\n",
      "[1] YWHAB  GRB2   SQSTM1 SFN   \n",
      "\n"
     ]
    }
   ],
   "source": [
    "get_ol('C2_COVID_PPI', \"SARS CORONAVIRUS NSP3-PP1A FROM VIRUS-HOST PPI P-HIPSTER 2020\",\n",
    "       \"C2_Hall\", \"HALLMARK_PI3K_AKT_MTOR_SIGNALING\", F)"
   ]
  },
  {
   "cell_type": "markdown",
   "metadata": {},
   "source": [
    "## ORF1AB with C2"
   ]
  },
  {
   "cell_type": "code",
   "execution_count": 12,
   "metadata": {},
   "outputs": [
    {
     "name": "stdout",
     "output_type": "stream",
     "text": [
      "$HALLMARK_PI3K_AKT_MTOR_SIGNALING\n",
      "[1] YWHAB NCK1  GRB2 \n",
      "\n"
     ]
    }
   ],
   "source": [
    "get_ol('C2_COVID_PPI', \"SARS CORONAVIRUS ORF1AB FROM VIRUS-HOST PPI P-HIPSTER 2020\",\n",
    "       \"C2_Hall\", \"HALLMARK_PI3K_AKT_MTOR_SIGNALING\")"
   ]
  },
  {
   "cell_type": "code",
   "execution_count": 13,
   "metadata": {},
   "outputs": [
    {
     "name": "stdout",
     "output_type": "stream",
     "text": [
      "$HALLMARK_PI3K_AKT_MTOR_SIGNALING\n",
      "[1] YWHAB  NCK1   GRB2   UBE2D3 SQSTM1 EGFR   SFN   \n",
      "\n"
     ]
    }
   ],
   "source": [
    "get_ol('C2_COVID_PPI', \"SARS CORONAVIRUS ORF1AB FROM VIRUS-HOST PPI P-HIPSTER 2020\",\n",
    "       \"C2_Hall\", \"HALLMARK_PI3K_AKT_MTOR_SIGNALING\", F)"
   ]
  },
  {
   "cell_type": "markdown",
   "metadata": {},
   "source": [
    "## NSP3-PP1A with C4"
   ]
  },
  {
   "cell_type": "code",
   "execution_count": 14,
   "metadata": {},
   "outputs": [
    {
     "name": "stdout",
     "output_type": "stream",
     "text": [
      "$HALLMARK_PI3K_AKT_MTOR_SIGNALING\n",
      "[1] SQSTM1\n",
      "\n"
     ]
    }
   ],
   "source": [
    "get_ol('C4_COVID_PPI', \"SARS CORONAVIRUS NSP3-PP1A FROM VIRUS-HOST PPI P-HIPSTER 2020\",\n",
    "       \"C4_Hall\", \"HALLMARK_PI3K_AKT_MTOR_SIGNALING\")"
   ]
  },
  {
   "cell_type": "code",
   "execution_count": 15,
   "metadata": {},
   "outputs": [
    {
     "name": "stdout",
     "output_type": "stream",
     "text": [
      "$HALLMARK_PI3K_AKT_MTOR_SIGNALING\n",
      "[1] SQSTM1 YWHAB  GRB2   SFN   \n",
      "\n"
     ]
    }
   ],
   "source": [
    "get_ol('C4_COVID_PPI', \"SARS CORONAVIRUS NSP3-PP1A FROM VIRUS-HOST PPI P-HIPSTER 2020\",\n",
    "       \"C4_Hall\", \"HALLMARK_PI3K_AKT_MTOR_SIGNALING\", F)"
   ]
  },
  {
   "cell_type": "markdown",
   "metadata": {},
   "source": [
    "## ORF1AB with C4"
   ]
  },
  {
   "cell_type": "code",
   "execution_count": 16,
   "metadata": {},
   "outputs": [
    {
     "name": "stdout",
     "output_type": "stream",
     "text": [
      "$HALLMARK_PI3K_AKT_MTOR_SIGNALING\n",
      "[1] EGFR   NCK1   SQSTM1\n",
      "\n"
     ]
    }
   ],
   "source": [
    "get_ol('C4_COVID_PPI', \"SARS CORONAVIRUS ORF1AB FROM VIRUS-HOST PPI P-HIPSTER 2020\",\n",
    "       \"C4_Hall\", \"HALLMARK_PI3K_AKT_MTOR_SIGNALING\")"
   ]
  },
  {
   "cell_type": "code",
   "execution_count": 17,
   "metadata": {},
   "outputs": [
    {
     "name": "stdout",
     "output_type": "stream",
     "text": [
      "$HALLMARK_PI3K_AKT_MTOR_SIGNALING\n",
      "[1] EGFR   NCK1   SQSTM1 YWHAB  UBE2D3 GRB2   SFN   \n",
      "\n"
     ]
    }
   ],
   "source": [
    "get_ol('C4_COVID_PPI', \"SARS CORONAVIRUS ORF1AB FROM VIRUS-HOST PPI P-HIPSTER 2020\",\n",
    "       \"C4_Hall\", \"HALLMARK_PI3K_AKT_MTOR_SIGNALING\", F)"
   ]
  },
  {
   "cell_type": "markdown",
   "metadata": {},
   "source": [
    "# Unique C2"
   ]
  },
  {
   "cell_type": "code",
   "execution_count": 18,
   "metadata": {},
   "outputs": [],
   "source": [
    "hall2 = c(\"HALLMARK_DNA_REPAIR\",\"HALLMARK_MITOTIC_SPINDLE\")"
   ]
  },
  {
   "cell_type": "markdown",
   "metadata": {},
   "source": [
    "## Nucleocapsid protein with C2"
   ]
  },
  {
   "cell_type": "code",
   "execution_count": 19,
   "metadata": {},
   "outputs": [
    {
     "name": "stdout",
     "output_type": "stream",
     "text": [
      "$HALLMARK_DNA_REPAIR\n",
      "[1] NA\n",
      "\n",
      "$HALLMARK_MITOTIC_SPINDLE\n",
      "[1] NA\n",
      "\n"
     ]
    }
   ],
   "source": [
    "get_ol('C2_COVID_PPI', \"SARS CORONAVIRUS NUCLEOCAPSID PROTEIN FROM VIRUS-HOST PPI P-HIPSTER 2020\",\n",
    "       'C2_Hall', hall2)"
   ]
  },
  {
   "cell_type": "code",
   "execution_count": 20,
   "metadata": {},
   "outputs": [
    {
     "name": "stdout",
     "output_type": "stream",
     "text": [
      "$HALLMARK_DNA_REPAIR\n",
      "[1] NA\n",
      "\n",
      "$HALLMARK_MITOTIC_SPINDLE\n",
      "[1] TUBA4A YWHAE \n",
      "\n"
     ]
    }
   ],
   "source": [
    "get_ol('C2_COVID_PPI', \"SARS CORONAVIRUS NUCLEOCAPSID PROTEIN FROM VIRUS-HOST PPI P-HIPSTER 2020\",\n",
    "       'C2_Hall', hall2, F)"
   ]
  },
  {
   "cell_type": "markdown",
   "metadata": {},
   "source": [
    "## NSP4-PP1A with C2"
   ]
  },
  {
   "cell_type": "code",
   "execution_count": 21,
   "metadata": {},
   "outputs": [
    {
     "name": "stdout",
     "output_type": "stream",
     "text": [
      "$HALLMARK_DNA_REPAIR\n",
      "[1] NA\n",
      "\n",
      "$HALLMARK_MITOTIC_SPINDLE\n",
      "[1] NA\n",
      "\n"
     ]
    }
   ],
   "source": [
    "get_ol('C2_COVID_PPI', \"SARS CORONAVIRUS NSP4-PP1A FROM VIRUS-HOST PPI P-HIPSTER 2020\",\n",
    "       'C2_Hall', hall2)"
   ]
  },
  {
   "cell_type": "code",
   "execution_count": 22,
   "metadata": {},
   "outputs": [
    {
     "name": "stdout",
     "output_type": "stream",
     "text": [
      "$HALLMARK_DNA_REPAIR\n",
      "[1] NA\n",
      "\n",
      "$HALLMARK_MITOTIC_SPINDLE\n",
      "[1] YWHAE\n",
      "\n"
     ]
    }
   ],
   "source": [
    "get_ol('C2_COVID_PPI', \"SARS CORONAVIRUS NSP4-PP1A FROM VIRUS-HOST PPI P-HIPSTER 2020\",\n",
    "       'C2_Hall', hall2, F)"
   ]
  },
  {
   "cell_type": "markdown",
   "metadata": {},
   "source": [
    "## NSP7-PP1A with C2"
   ]
  },
  {
   "cell_type": "code",
   "execution_count": 23,
   "metadata": {},
   "outputs": [
    {
     "name": "stdout",
     "output_type": "stream",
     "text": [
      "$HALLMARK_DNA_REPAIR\n",
      "[1] NA\n",
      "\n",
      "$HALLMARK_MITOTIC_SPINDLE\n",
      "[1] EZR\n",
      "\n"
     ]
    }
   ],
   "source": [
    "get_ol('C2_COVID_PPI', \"SARS CORONAVIRUS NSP7-PP1A FROM VIRUS-HOST PPI P-HIPSTER 2020\",\n",
    "       'C2_Hall', hall2)"
   ]
  },
  {
   "cell_type": "code",
   "execution_count": 24,
   "metadata": {},
   "outputs": [
    {
     "name": "stdout",
     "output_type": "stream",
     "text": [
      "$HALLMARK_DNA_REPAIR\n",
      "[1] NA\n",
      "\n",
      "$HALLMARK_MITOTIC_SPINDLE\n",
      "[1] EZR    PXN    YWHAE  SPTBN1\n",
      "\n"
     ]
    }
   ],
   "source": [
    "get_ol('C2_COVID_PPI', \"SARS CORONAVIRUS NSP7-PP1A FROM VIRUS-HOST PPI P-HIPSTER 2020\",\n",
    "       'C2_Hall', hall2, F)"
   ]
  },
  {
   "cell_type": "markdown",
   "metadata": {},
   "source": [
    "## SARS7A with C2"
   ]
  },
  {
   "cell_type": "code",
   "execution_count": 25,
   "metadata": {},
   "outputs": [
    {
     "name": "stdout",
     "output_type": "stream",
     "text": [
      "$HALLMARK_DNA_REPAIR\n",
      "[1] NA\n",
      "\n",
      "$HALLMARK_MITOTIC_SPINDLE\n",
      "[1] EZR\n",
      "\n"
     ]
    }
   ],
   "source": [
    "get_ol('C2_COVID_PPI', \"SARS CORONAVIRUS HYPOTHETICAL PROTEIN SARS7A FROM VIRUS-HOST PPI P-HIPSTER 2020\",\n",
    "       'C2_Hall', hall2)"
   ]
  },
  {
   "cell_type": "code",
   "execution_count": 26,
   "metadata": {},
   "outputs": [
    {
     "name": "stdout",
     "output_type": "stream",
     "text": [
      "$HALLMARK_DNA_REPAIR\n",
      "[1] NA\n",
      "\n",
      "$HALLMARK_MITOTIC_SPINDLE\n",
      "[1] EZR   WASF1 YWHAE\n",
      "\n"
     ]
    }
   ],
   "source": [
    "get_ol('C2_COVID_PPI', \"SARS CORONAVIRUS HYPOTHETICAL PROTEIN SARS7A FROM VIRUS-HOST PPI P-HIPSTER 2020\",\n",
    "       'C2_Hall', hall2, F)"
   ]
  },
  {
   "cell_type": "markdown",
   "metadata": {},
   "source": [
    "# Unique with C4"
   ]
  },
  {
   "cell_type": "code",
   "execution_count": 27,
   "metadata": {},
   "outputs": [],
   "source": [
    "hall4 = c(\"HALLMARK_APICAL_JUNCTION\",\"HALLMARK_IL2_STAT5_SIGNALING\",\"HALLMARK_COMPLEMENT\",\"HALLMARK_TGF_BETA_SIGNALING\",\n",
    "          \"HALLMARK_P53_PATHWAY\",\"HALLMARK_ADIPOGENESIS\",\"HALLMARK_HEME_METABOLISM\",\"HALLMARK_MYOGENESIS\",\n",
    "          \"HALLMARK_INFLAMMATORY_RESPONSE\",\"HALLMARK_HYPOXIA\",\"HALLMARK_ALLOGRAFT_REJECTION\",\"HALLMARK_REACTIVE_OXYGEN_SPECIES_PATHWAY\",\n",
    "          \"HALLMARK_ESTROGEN_RESPONSE_EARLY\",\"HALLMARK_APOPTOSIS\",\"HALLMARK_INTERFERON_GAMMA_RESPONSE\",\"HALLMARK_NOTCH_SIGNALING\",\n",
    "          \"HALLMARK_KRAS_SIGNALING_UP\",\"HALLMARK_IL6_JAK_STAT3_SIGNALING\",\"HALLMARK_COAGULATION\",\"HALLMARK_TNFA_SIGNALING_VIA_NFKB\",\n",
    "          \"HALLMARK_BILE_ACID_METABOLISM\",\"HALLMARK_UV_RESPONSE_DN\",\"HALLMARK_INTERFERON_ALPHA_RESPONSE\",\n",
    "          \"HALLMARK_WNT_BETA_CATENIN_SIGNALING\",\"HALLMARK_ANDROGEN_RESPONSE\",\"HALLMARK_ESTROGEN_RESPONSE_LATE\")  \n"
   ]
  },
  {
   "cell_type": "markdown",
   "metadata": {},
   "source": [
    "## E2 Glycoprotein with C4"
   ]
  },
  {
   "cell_type": "code",
   "execution_count": 28,
   "metadata": {},
   "outputs": [
    {
     "name": "stdout",
     "output_type": "stream",
     "text": [
      "$HALLMARK_APICAL_JUNCTION\n",
      "[1] VCAM1 MSN   SIRPA THY1 \n",
      "\n",
      "$HALLMARK_IL2_STAT5_SIGNALING\n",
      "[1] ICOS  CTLA4 CD79B\n",
      "\n",
      "$HALLMARK_COMPLEMENT\n",
      "[1] FN1\n",
      "\n",
      "$HALLMARK_TGF_BETA_SIGNALING\n",
      "[1] NA\n",
      "\n",
      "$HALLMARK_P53_PATHWAY\n",
      "[1] NA\n",
      "\n",
      "$HALLMARK_ADIPOGENESIS\n",
      "[1] NA\n",
      "\n",
      "$HALLMARK_HEME_METABOLISM\n",
      "[1] NA\n",
      "\n",
      "$HALLMARK_MYOGENESIS\n",
      "[1] NA\n",
      "\n",
      "$HALLMARK_INFLAMMATORY_RESPONSE\n",
      "[1] NA\n",
      "\n",
      "$HALLMARK_HYPOXIA\n",
      "[1] NA\n",
      "\n",
      "$HALLMARK_ALLOGRAFT_REJECTION\n",
      "[1] CD4   B2M   STAT1 CD8B  THY1 \n",
      "\n",
      "$HALLMARK_REACTIVE_OXYGEN_SPECIES_PATHWAY\n",
      "[1] NA\n",
      "\n",
      "$HALLMARK_ESTROGEN_RESPONSE_EARLY\n",
      "[1] NA\n",
      "\n",
      "$HALLMARK_APOPTOSIS\n",
      "[1] NA\n",
      "\n",
      "$HALLMARK_INTERFERON_GAMMA_RESPONSE\n",
      "[1] VCAM1 B2M   STAT1\n",
      "\n",
      "$HALLMARK_NOTCH_SIGNALING\n",
      "[1] NA\n",
      "\n",
      "$HALLMARK_KRAS_SIGNALING_UP\n",
      "[1] NA\n",
      "\n",
      "$HALLMARK_IL6_JAK_STAT3_SIGNALING\n",
      "[1] STAT1 STAT3\n",
      "\n",
      "$HALLMARK_COAGULATION\n",
      "[1] FN1\n",
      "\n",
      "$HALLMARK_TNFA_SIGNALING_VIA_NFKB\n",
      "[1] NA\n",
      "\n",
      "$HALLMARK_BILE_ACID_METABOLISM\n",
      "[1] NA\n",
      "\n",
      "$HALLMARK_UV_RESPONSE_DN\n",
      "[1] NA\n",
      "\n",
      "$HALLMARK_INTERFERON_ALPHA_RESPONSE\n",
      "[1] B2M\n",
      "\n",
      "$HALLMARK_WNT_BETA_CATENIN_SIGNALING\n",
      "[1] NA\n",
      "\n",
      "$HALLMARK_ANDROGEN_RESPONSE\n",
      "[1] B2M\n",
      "\n",
      "$HALLMARK_ESTROGEN_RESPONSE_LATE\n",
      "[1] NA\n",
      "\n"
     ]
    }
   ],
   "source": [
    "get_ol('C4_COVID_PPI', \"SARS CORONAVIRUS E2 GLYCOPROTEIN PRECURSOR FROM VIRUS-HOST PPI P-HIPSTER 2020\",\n",
    "       'C4_Hall', hall4)"
   ]
  },
  {
   "cell_type": "code",
   "execution_count": 29,
   "metadata": {},
   "outputs": [
    {
     "name": "stdout",
     "output_type": "stream",
     "text": [
      "$HALLMARK_APICAL_JUNCTION\n",
      "[1] VCAM1 MSN   SIRPA THY1  MPZL1 YWHAH SRC  \n",
      "\n",
      "$HALLMARK_IL2_STAT5_SIGNALING\n",
      "[1] ICOS  CTLA4 CD79B\n",
      "\n",
      "$HALLMARK_COMPLEMENT\n",
      "[1] FN1  GRB2 SRC \n",
      "\n",
      "$HALLMARK_TGF_BETA_SIGNALING\n",
      "[1] NA\n",
      "\n",
      "$HALLMARK_P53_PATHWAY\n",
      "[1] APP SFN\n",
      "\n",
      "$HALLMARK_ADIPOGENESIS\n",
      "[1] YWHAG\n",
      "\n",
      "$HALLMARK_HEME_METABOLISM\n",
      "[1] IGSF3\n",
      "\n",
      "$HALLMARK_MYOGENESIS\n",
      "[1] APP\n",
      "\n",
      "$HALLMARK_INFLAMMATORY_RESPONSE\n",
      "[1] NA\n",
      "\n",
      "$HALLMARK_HYPOXIA\n",
      "[1] NCAN\n",
      "\n",
      "$HALLMARK_ALLOGRAFT_REJECTION\n",
      "[1] CD4   B2M   STAT1 CD8B  THY1  CD8A  CD7   BRCA1\n",
      "\n",
      "$HALLMARK_REACTIVE_OXYGEN_SPECIES_PATHWAY\n",
      "[1] NA\n",
      "\n",
      "$HALLMARK_ESTROGEN_RESPONSE_EARLY\n",
      "[1] SFN\n",
      "\n",
      "$HALLMARK_APOPTOSIS\n",
      "[1] APP   BRCA1\n",
      "\n",
      "$HALLMARK_INTERFERON_GAMMA_RESPONSE\n",
      "[1] VCAM1 B2M   STAT1 STAT3\n",
      "\n",
      "$HALLMARK_NOTCH_SIGNALING\n",
      "[1] NA\n",
      "\n",
      "$HALLMARK_KRAS_SIGNALING_UP\n",
      "[1] NA\n",
      "\n",
      "$HALLMARK_IL6_JAK_STAT3_SIGNALING\n",
      "[1] STAT1 STAT3 GRB2 \n",
      "\n",
      "$HALLMARK_COAGULATION\n",
      "[1] FN1\n",
      "\n",
      "$HALLMARK_TNFA_SIGNALING_VIA_NFKB\n",
      "[1] NA\n",
      "\n",
      "$HALLMARK_BILE_ACID_METABOLISM\n",
      "[1] NA\n",
      "\n",
      "$HALLMARK_UV_RESPONSE_DN\n",
      "[1] NA\n",
      "\n",
      "$HALLMARK_INTERFERON_ALPHA_RESPONSE\n",
      "[1] B2M\n",
      "\n",
      "$HALLMARK_WNT_BETA_CATENIN_SIGNALING\n",
      "[1] NA\n",
      "\n",
      "$HALLMARK_ANDROGEN_RESPONSE\n",
      "[1] B2M\n",
      "\n",
      "$HALLMARK_ESTROGEN_RESPONSE_LATE\n",
      "[1] SFN\n",
      "\n"
     ]
    }
   ],
   "source": [
    "get_ol('C4_COVID_PPI', \"SARS CORONAVIRUS E2 GLYCOPROTEIN PRECURSOR FROM VIRUS-HOST PPI P-HIPSTER 2020\",\n",
    "       'C4_Hall', hall4, F)"
   ]
  },
  {
   "cell_type": "markdown",
   "metadata": {},
   "source": [
    "# NSP8-PP1A with C4"
   ]
  },
  {
   "cell_type": "code",
   "execution_count": 30,
   "metadata": {},
   "outputs": [
    {
     "name": "stdout",
     "output_type": "stream",
     "text": [
      "$HALLMARK_APICAL_JUNCTION\n",
      "[1] MSN\n",
      "\n",
      "$HALLMARK_IL2_STAT5_SIGNALING\n",
      "[1] PLEC\n",
      "\n",
      "$HALLMARK_COMPLEMENT\n",
      "[1] FN1\n",
      "\n",
      "$HALLMARK_TGF_BETA_SIGNALING\n",
      "[1] SPTBN1 CTNNB1\n",
      "\n",
      "$HALLMARK_P53_PATHWAY\n",
      "[1] NA\n",
      "\n",
      "$HALLMARK_ADIPOGENESIS\n",
      "[1] UBC\n",
      "\n",
      "$HALLMARK_HEME_METABOLISM\n",
      "[1] NA\n",
      "\n",
      "$HALLMARK_MYOGENESIS\n",
      "[1] NA\n",
      "\n",
      "$HALLMARK_INFLAMMATORY_RESPONSE\n",
      "[1] ABI1\n",
      "\n",
      "$HALLMARK_HYPOXIA\n",
      "[1] NA\n",
      "\n",
      "$HALLMARK_ALLOGRAFT_REJECTION\n",
      "[1] ABI1\n",
      "\n",
      "$HALLMARK_REACTIVE_OXYGEN_SPECIES_PATHWAY\n",
      "[1] NA\n",
      "\n",
      "$HALLMARK_ESTROGEN_RESPONSE_EARLY\n",
      "[1] NA\n",
      "\n",
      "$HALLMARK_APOPTOSIS\n",
      "[1] NEDD9  CTNNB1\n",
      "\n",
      "$HALLMARK_INTERFERON_GAMMA_RESPONSE\n",
      "[1] NA\n",
      "\n",
      "$HALLMARK_NOTCH_SIGNALING\n",
      "[1] NA\n",
      "\n",
      "$HALLMARK_KRAS_SIGNALING_UP\n",
      "[1] NA\n",
      "\n",
      "$HALLMARK_IL6_JAK_STAT3_SIGNALING\n",
      "[1] STAT3\n",
      "\n",
      "$HALLMARK_COAGULATION\n",
      "[1] FN1   CAPN2\n",
      "\n",
      "$HALLMARK_TNFA_SIGNALING_VIA_NFKB\n",
      "[1] NA\n",
      "\n",
      "$HALLMARK_BILE_ACID_METABOLISM\n",
      "[1] NA\n",
      "\n",
      "$HALLMARK_UV_RESPONSE_DN\n",
      "[1] NA\n",
      "\n",
      "$HALLMARK_INTERFERON_ALPHA_RESPONSE\n",
      "[1] NA\n",
      "\n",
      "$HALLMARK_WNT_BETA_CATENIN_SIGNALING\n",
      "[1] CTNNB1\n",
      "\n",
      "$HALLMARK_ANDROGEN_RESPONSE\n",
      "[1] NA\n",
      "\n",
      "$HALLMARK_ESTROGEN_RESPONSE_LATE\n",
      "[1] NA\n",
      "\n"
     ]
    }
   ],
   "source": [
    "get_ol('C4_COVID_PPI', \"SARS CORONAVIRUS NSP8-PP1A FROM VIRUS-HOST PPI P-HIPSTER 2020\",\n",
    "       'C4_Hall', hall4)"
   ]
  },
  {
   "cell_type": "code",
   "execution_count": 31,
   "metadata": {},
   "outputs": [
    {
     "name": "stdout",
     "output_type": "stream",
     "text": [
      "$HALLMARK_APICAL_JUNCTION\n",
      "[1] MSN SRC\n",
      "\n",
      "$HALLMARK_IL2_STAT5_SIGNALING\n",
      "[1] PLEC\n",
      "\n",
      "$HALLMARK_COMPLEMENT\n",
      "[1] FN1  GRB2 SRC \n",
      "\n",
      "$HALLMARK_TGF_BETA_SIGNALING\n",
      "[1] SPTBN1 CTNNB1\n",
      "\n",
      "$HALLMARK_P53_PATHWAY\n",
      "[1] APP\n",
      "\n",
      "$HALLMARK_ADIPOGENESIS\n",
      "[1] UBC\n",
      "\n",
      "$HALLMARK_HEME_METABOLISM\n",
      "[1] SPTA1\n",
      "\n",
      "$HALLMARK_MYOGENESIS\n",
      "[1] TPM3   APP    CHRNB1 SPTAN1\n",
      "\n",
      "$HALLMARK_INFLAMMATORY_RESPONSE\n",
      "[1] ABI1\n",
      "\n",
      "$HALLMARK_HYPOXIA\n",
      "[1] NA\n",
      "\n",
      "$HALLMARK_ALLOGRAFT_REJECTION\n",
      "[1] ABI1  BRCA1\n",
      "\n",
      "$HALLMARK_REACTIVE_OXYGEN_SPECIES_PATHWAY\n",
      "[1] NA\n",
      "\n",
      "$HALLMARK_ESTROGEN_RESPONSE_EARLY\n",
      "[1] NA\n",
      "\n",
      "$HALLMARK_APOPTOSIS\n",
      "[1] NEDD9  CTNNB1 APP    ERBB2  SPTAN1 BRCA1 \n",
      "\n",
      "$HALLMARK_INTERFERON_GAMMA_RESPONSE\n",
      "[1] STAT3 ISG15\n",
      "\n",
      "$HALLMARK_NOTCH_SIGNALING\n",
      "[1] CUL1\n",
      "\n",
      "$HALLMARK_KRAS_SIGNALING_UP\n",
      "[1] NA\n",
      "\n",
      "$HALLMARK_IL6_JAK_STAT3_SIGNALING\n",
      "[1] STAT3 GRB2 \n",
      "\n",
      "$HALLMARK_COAGULATION\n",
      "[1] FN1   CAPN2\n",
      "\n",
      "$HALLMARK_TNFA_SIGNALING_VIA_NFKB\n",
      "[1] NA\n",
      "\n",
      "$HALLMARK_BILE_ACID_METABOLISM\n",
      "[1] NA\n",
      "\n",
      "$HALLMARK_UV_RESPONSE_DN\n",
      "[1] ERBB2\n",
      "\n",
      "$HALLMARK_INTERFERON_ALPHA_RESPONSE\n",
      "[1] ISG15\n",
      "\n",
      "$HALLMARK_WNT_BETA_CATENIN_SIGNALING\n",
      "[1] CTNNB1 CUL1  \n",
      "\n",
      "$HALLMARK_ANDROGEN_RESPONSE\n",
      "[1] NA\n",
      "\n",
      "$HALLMARK_ESTROGEN_RESPONSE_LATE\n",
      "[1] NA\n",
      "\n"
     ]
    }
   ],
   "source": [
    "get_ol('C4_COVID_PPI', \"SARS CORONAVIRUS NSP8-PP1A FROM VIRUS-HOST PPI P-HIPSTER 2020\",\n",
    "       'C4_Hall', hall4, F)"
   ]
  },
  {
   "cell_type": "markdown",
   "metadata": {},
   "source": [
    "# Unique with C6"
   ]
  },
  {
   "cell_type": "code",
   "execution_count": 32,
   "metadata": {},
   "outputs": [],
   "source": [
    "hall6 = c(\"HALLMARK_MYC_TARGETS_V1\",\"HALLMARK_MYC_TARGETS_V2\",\"HALLMARK_G2M_CHECKPOINT\",\"HALLMARK_E2F_TARGETS\")"
   ]
  },
  {
   "cell_type": "code",
   "execution_count": 33,
   "metadata": {},
   "outputs": [
    {
     "name": "stdout",
     "output_type": "stream",
     "text": [
      "$HALLMARK_MYC_TARGETS_V1\n",
      "[1] NA\n",
      "\n",
      "$HALLMARK_MYC_TARGETS_V2\n",
      "[1] EXOSC5    MPHOSPH10\n",
      "\n",
      "$HALLMARK_G2M_CHECKPOINT\n",
      "[1] NSD2\n",
      "\n",
      "$HALLMARK_E2F_TARGETS\n",
      "[1] EXOSC8\n",
      "\n"
     ]
    }
   ],
   "source": [
    "get_ol('C6_COVID_PPI', \"COVID19-NSP8 PROTEIN HOST PPI FROM KROGAN\",\n",
    "       'C6_Hall', hall6)"
   ]
  },
  {
   "cell_type": "code",
   "execution_count": 34,
   "metadata": {},
   "outputs": [
    {
     "name": "stdout",
     "output_type": "stream",
     "text": [
      "$HALLMARK_MYC_TARGETS_V1\n",
      "[1] NA\n",
      "\n",
      "$HALLMARK_MYC_TARGETS_V2\n",
      "[1] EXOSC5    MPHOSPH10\n",
      "\n",
      "$HALLMARK_G2M_CHECKPOINT\n",
      "[1] NSD2\n",
      "\n",
      "$HALLMARK_E2F_TARGETS\n",
      "[1] EXOSC8\n",
      "\n"
     ]
    }
   ],
   "source": [
    "get_ol('C6_COVID_PPI', \"COVID19-NSP8 PROTEIN HOST PPI FROM KROGAN\",\n",
    "       'C6_Hall', hall6, F)"
   ]
  }
 ],
 "metadata": {
  "kernelspec": {
   "display_name": "Python 3",
   "language": "python",
   "name": "python3"
  },
  "language_info": {
   "codemirror_mode": {
    "name": "ipython",
    "version": 3
   },
   "file_extension": ".py",
   "mimetype": "text/x-python",
   "name": "python",
   "nbconvert_exporter": "python",
   "pygments_lexer": "ipython3",
   "version": "3.7.1"
  }
 },
 "nbformat": 4,
 "nbformat_minor": 5
}
