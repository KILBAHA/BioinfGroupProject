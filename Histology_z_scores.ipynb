{
 "cells": [
  {
   "cell_type": "markdown",
   "metadata": {},
   "source": [
    "<h1> Histology + Z scores</h1>"
   ]
  },
  {
   "cell_type": "markdown",
   "metadata": {},
   "source": [
    "<h2> Read and Format z scores </h2> \n",
    "<br>\n",
    "Data stored wrong way round -> need to transform\n",
    "names of individuals need to be formated for consistency (name fix)"
   ]
  },
  {
   "cell_type": "code",
   "execution_count": null,
   "metadata": {},
   "outputs": [],
   "source": [
    "### Read in z_scores and format ###\n",
    "z_scores = read.csv(\"data_mRNA_median_Zscores.txt\", sep = \"\\t\", stringsAsFactors = FALSE, header = TRUE)\n",
    "\n",
    "map = z_scores[,c(1,2)]\n",
    "\n",
    "inst_names = colnames(z_scores)[3:length(colnames(z_scores))]\n",
    "\n",
    "z_scores = z_scores[,-2]\n",
    "z_scores = as.data.frame(t(z_scores), stringsAsFactors = FALSE) #transformation\n",
    "names(z_scores) = map[,1]\n",
    "z_scores = z_scores[-1,]\n",
    "\n",
    "#convert z scores to numeric datatype\n",
    "z_scores = as.data.frame(apply(z_scores, 2, as.numeric))\n",
    "\n",
    "#Fix inconsistent names -> gets rid of \"TARGET\" and \".01\" from instances\n",
    "name_fix = c()\n",
    "for(name in inst_names){name_fix = c(name_fix,substr(name,11,nchar(name)-3))}\n",
    "\n",
    "\n",
    "row.names(z_scores) = name_fix"
   ]
  },
  {
   "cell_type": "markdown",
   "metadata": {},
   "source": [
    "<h2> Deal with missing values </h2> <br>\n",
    "The following code deletes genes with > thresh number of NA values. "
   ]
  },
  {
   "cell_type": "code",
   "execution_count": null,
   "metadata": {},
   "outputs": [],
   "source": [
    "### Parameters ###\n",
    "\n",
    "thresh = 0"
   ]
  },
  {
   "cell_type": "code",
   "execution_count": null,
   "metadata": {},
   "outputs": [],
   "source": [
    "### Deal with missing vals ###\n",
    "\n",
    "na_count = colSums(is.na.data.frame(z_scores)) # find NAs in each gene\n",
    "\n",
    "to_del = c()\n",
    "for(name in names(z_scores)){\n",
    "  if(na_count[name]>thresh){\n",
    "    to_del = c(to_del,name) #make list of genes to be removed\n",
    "  }\n",
    "}\n",
    "\n",
    "z_scores = z_scores[,!(names(z_scores) %in% to_del)] #delete from df using list"
   ]
  },
  {
   "cell_type": "markdown",
   "metadata": {},
   "source": [
    "<h2> Omit Attributes with majority small z scores </h2> \n",
    "<br> Since genes with little up/down regulation will have small absolute z scores, they won't be helpful in class deliniation and can be removed."
   ]
  },
  {
   "cell_type": "code",
   "execution_count": null,
   "metadata": {},
   "outputs": [],
   "source": [
    "### Parameters ###\n",
    "\n",
    "instances = nrow(z_scores)\n",
    "maj = instances %/% 2 #change to alter definition of majority\n",
    "sig_thresh = 1 #change to alter value z score thresholded at"
   ]
  },
  {
   "cell_type": "code",
   "execution_count": null,
   "metadata": {},
   "outputs": [],
   "source": [
    "### Omit Attributes with majority small z scores ###\n",
    "smallz = c()\n",
    "for(name in names(z_scores)){ #for each column\n",
    "  current_col = z_scores[,name]\n",
    "  current_count = 0\n",
    "  for(val in current_col){ #find num abs(z scores) < sig_thresh\n",
    "    if(abs(val) <= sig_thresh){current_count = current_count + 1}\n",
    "  }\n",
    "  if(current_count > maj){smallz = c(smallz,name)} #if count > maj -> remove\n",
    "}\n",
    "\n",
    "z_scores = z_scores[,!(names(z_scores) %in% smallz)]"
   ]
  },
  {
   "cell_type": "markdown",
   "metadata": {},
   "source": [
    "<h2> Load Sample Histology data </h2>  <br> need to format and fix patient naming convention "
   ]
  },
  {
   "cell_type": "code",
   "execution_count": null,
   "metadata": {},
   "outputs": [],
   "source": [
    "# IMPORTANT: Ignore the first 4 rows of this CSV!\n",
    "patient = as.data.frame(read.csv(\"data_clinical_patient.txt\", sep = \"\\t\", stringsAsFactors = FALSE, header = TRUE, skip = 4)) \n",
    "p_nam = patient[,1]\n",
    "\n",
    "#Standardise patient names (similar to above)\n",
    "p_nam_fix = c()\n",
    "for(name in p_nam){p_nam_fix = c(p_nam_fix,substr(name,11,nchar(name)))}\n",
    "\n",
    "patient = patient[,2:ncol(patient)]\n",
    "\n",
    "row.names(patient) = p_nam_fix\n",
    "\n",
    "#Isolate just the histology column:\n",
    "TSH = data.frame(patient[,\"TUMOR_SAMPLE_HISTOLOGY\"])\n",
    "colnames(TSH) = \"Histology\"\n",
    "rownames(TSH) = p_nam_fix\n",
    "\n",
    "#See how many of the patients shared between two datasets\n",
    "rownames(z_scores) %in% rownames(TSH)"
   ]
  },
  {
   "cell_type": "markdown",
   "metadata": {},
   "source": [
    "<h2> Merge Datasets </h2>"
   ]
  },
  {
   "cell_type": "code",
   "execution_count": null,
   "metadata": {},
   "outputs": [],
   "source": [
    "mg = merge.data.frame(TSH,z_scores, by=\"row.names\")\n",
    "\n",
    "cert = mg[!(mg$Histology == \"Unknown\"),] # remove all unknown hisotologies"
   ]
  },
  {
   "cell_type": "markdown",
   "metadata": {},
   "source": [
    "<h2>Write to a CSV </h2>"
   ]
  },
  {
   "cell_type": "code",
   "execution_count": null,
   "metadata": {},
   "outputs": [],
   "source": [
    "write.csv(cert,file = \"z_score_hist.csv\") # write to a csv"
   ]
  },
  {
   "cell_type": "markdown",
   "metadata": {},
   "source": [
    "<h2> Next Steps </h2>\n",
    "\n",
    "Classification performed with WEKA -> next step is to perform this either in R or with scikit learn"
   ]
  }
 ],
 "metadata": {
  "kernelspec": {
   "display_name": "R",
   "language": "R",
   "name": "ir"
  },
  "language_info": {
   "codemirror_mode": "r",
   "file_extension": ".r",
   "mimetype": "text/x-r-source",
   "name": "R",
   "pygments_lexer": "r",
   "version": "3.6.1"
  }
 },
 "nbformat": 4,
 "nbformat_minor": 4
}
