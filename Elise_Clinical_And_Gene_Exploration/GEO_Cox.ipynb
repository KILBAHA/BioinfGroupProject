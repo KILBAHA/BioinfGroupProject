{
  "nbformat": 4,
  "nbformat_minor": 0,
  "metadata": {
    "colab": {
      "name": "GEO Cox.ipynb",
      "provenance": []
    },
    "kernelspec": {
      "name": "python3",
      "display_name": "Python 3"
    }
  },
  "cells": [
    {
      "cell_type": "code",
      "metadata": {
        "colab": {
          "base_uri": "https://localhost:8080/"
        },
        "id": "ji950utJBX0u",
        "outputId": "10a9e972-05f6-43ac-ba9c-6a645cb3377d"
      },
      "source": [
        "from google.colab import drive\n",
        "drive.mount('/gdrive')"
      ],
      "execution_count": 1,
      "outputs": [
        {
          "output_type": "stream",
          "text": [
            "Mounted at /gdrive\n"
          ],
          "name": "stdout"
        }
      ]
    },
    {
      "cell_type": "code",
      "metadata": {
        "id": "0GVVUnDe5t6W"
      },
      "source": [
        "import pandas as pd"
      ],
      "execution_count": 2,
      "outputs": []
    },
    {
      "cell_type": "code",
      "metadata": {
        "id": "MMN18Y0XR5Rx"
      },
      "source": [
        "!pip install GEOparse"
      ],
      "execution_count": null,
      "outputs": []
    },
    {
      "cell_type": "code",
      "metadata": {
        "id": "ivB-X73nW1fG"
      },
      "source": [
        "import GEOparse\n",
        "gse = GEOparse.get_GEO(\"GSE62564\") #GSE62564 has EFS data\n",
        "gse2 = GEOparse.get_GEO(\"GSE49711\") #GSE49711 has microarray data"
      ],
      "execution_count": null,
      "outputs": []
    },
    {
      "cell_type": "code",
      "metadata": {
        "id": "cMHc5OulYpkv"
      },
      "source": [
        "#Load into dataframes\n",
        "clinical = gse.phenotype_data\n",
        "clinical2 = gse2.phenotype_data"
      ],
      "execution_count": 5,
      "outputs": []
    },
    {
      "cell_type": "code",
      "metadata": {
        "id": "uDMNokfXk-kK"
      },
      "source": [
        "#Formatting and merginf dataframes\n",
        "clinical = clinical.reset_index()\n",
        "clinical2 = clinical2.reset_index()\n",
        "clinical = pd.concat([clinical, clinical2], axis=1)"
      ],
      "execution_count": 6,
      "outputs": []
    },
    {
      "cell_type": "code",
      "metadata": {
        "id": "cQFjqLIUeiMr"
      },
      "source": [
        "#Get just the columns I'm interested in and rename them\n",
        "reduced_clinical = clinical[['index', 'title', 'characteristics_ch1.2.Sex', 'characteristics_ch1.2.age', 'characteristics_ch1.3.efs day', 'characteristics_ch1.5.high risk', 'characteristics_ch1.6.inss stage', 'characteristics_ch1.4.efs bin', 'characteristics_ch1.8.progression', 'characteristics_ch1.11.d_fav_all', 'characteristics_ch1.9.death from disease', 'characteristics_ch1.4.mycn status']]"
      ],
      "execution_count": 7,
      "outputs": []
    },
    {
      "cell_type": "code",
      "metadata": {
        "id": "fCistVt5Afs6"
      },
      "source": [
        "#Rename columns and drop the duplicates\n",
        "reduced_clinical.columns = ['GSM', 'GSM2', 'SampID2', 'SampID', 'Sex', 'Age', 'EFS Time', 'High Risk', 'Stage', 'EFS Bin', 'Progression', 'Favourability', 'Death from Disease', 'MYCN Amplification']\n",
        "reduced_clinical = reduced_clinical.drop(['GSM2', 'SampID2'], axis=1)"
      ],
      "execution_count": 8,
      "outputs": []
    },
    {
      "cell_type": "code",
      "metadata": {
        "id": "BXzCihOom_dz"
      },
      "source": [
        "reduced_clinical.loc[reduced_clinical[\"Favourability\"].isna(), 'Favourability'] = 0"
      ],
      "execution_count": 9,
      "outputs": []
    },
    {
      "cell_type": "code",
      "metadata": {
        "id": "5juxYaJDo8y3"
      },
      "source": [
        "reduced_clinical.loc[reduced_clinical[\"Stage\"] == \"4S\", 'Stage'] = 5"
      ],
      "execution_count": 11,
      "outputs": []
    },
    {
      "cell_type": "code",
      "metadata": {
        "colab": {
          "base_uri": "https://localhost:8080/"
        },
        "id": "s5YrQBdr525B",
        "outputId": "1885f66e-9914-4186-fecc-c257766458da"
      },
      "source": [
        "#Load microarray data file\n",
        "microarray_data = pd.read_csv('/gdrive/My Drive/project/GSE49711_SEQC_NB_MAV_G_log2.csv', sep='\\t')"
      ],
      "execution_count": 12,
      "outputs": [
        {
          "output_type": "stream",
          "text": [
            "/usr/local/lib/python3.7/dist-packages/IPython/core/interactiveshell.py:2718: DtypeWarning: Columns (1,2) have mixed types.Specify dtype option on import or set low_memory=False.\n",
            "  interactivity=interactivity, compiler=compiler, result=result)\n"
          ],
          "name": "stderr"
        }
      ]
    },
    {
      "cell_type": "code",
      "metadata": {
        "id": "PGqzUgLPHu0C"
      },
      "source": [
        "#Format microarray dataframe so it. can be merged with clinical data\n",
        "microarray_data = microarray_data.transpose()\n",
        "microarray_data.columns = microarray_data.iloc[0]\n",
        "microarray_data = microarray_data.drop(['#Gene'])\n",
        "#Genes I'm interested in\n",
        "genes = microarray_data[['TP53', 'NTRK1', 'PTPN6', 'ACE2', 'TMPRSS2', 'CXCL10', 'AGTR1', 'IFITM3', 'MYCN']]\n",
        "genes = genes[1:]\n",
        "genes = genes.reset_index()\n",
        "genes = genes.rename(columns={\"index\": \"SampID\"})"
      ],
      "execution_count": 13,
      "outputs": []
    },
    {
      "cell_type": "code",
      "metadata": {
        "id": "8CfQadw7nu2N"
      },
      "source": [
        "#Merge clinical data and microarray data\n",
        "all = pd.merge(reduced_clinical, genes, on='SampID')"
      ],
      "execution_count": 14,
      "outputs": []
    },
    {
      "cell_type": "code",
      "metadata": {
        "id": "6HhCyx_awoZe"
      },
      "source": [
        "all = all[all['MYCN Amplification'] != 'N/A']"
      ],
      "execution_count": 15,
      "outputs": []
    },
    {
      "cell_type": "code",
      "metadata": {
        "id": "pxm4RsW-96aY"
      },
      "source": [
        "all.loc[all[\"EFS Time\"].astype(float) < 1825, 'EFS'] = 0\n",
        "all.loc[all[\"EFS Time\"].astype(float) >=1825, 'EFS'] = 1"
      ],
      "execution_count": null,
      "outputs": []
    },
    {
      "cell_type": "code",
      "metadata": {
        "id": "OTrevHy8uqTd"
      },
      "source": [
        "#Calculate z-scores\n",
        "from scipy.stats import zscore\n",
        "all['TP53_z'] = zscore(all['TP53'].astype(float))\n",
        "all['NTRK1_z'] = zscore(all['NTRK1'].astype(float))\n",
        "all['PTPN6_z'] = zscore(all['PTPN6'].astype(float))\n",
        "all['ACE2_z'] = zscore(all['ACE2'].astype(float))\n",
        "all['TMPRSS2_z'] = zscore(all['TMPRSS2'].astype(float))\n",
        "all['CXCL10_z'] = zscore(all['CXCL10'].astype(float))\n",
        "all['AGTR1_z'] = zscore(all['AGTR1'].astype(float))\n",
        "all['IFITM3_z'] = zscore(all['IFITM3'].astype(float))"
      ],
      "execution_count": 16,
      "outputs": []
    },
    {
      "cell_type": "markdown",
      "metadata": {
        "id": "1iEtnlfot9SK"
      },
      "source": [
        "## **Cox Regression**"
      ]
    },
    {
      "cell_type": "code",
      "metadata": {
        "id": "R4tZyYG5oa5c"
      },
      "source": [
        "!pip install lifelines"
      ],
      "execution_count": null,
      "outputs": []
    },
    {
      "cell_type": "code",
      "metadata": {
        "id": "wu68HoZAu9jZ"
      },
      "source": [
        "all.loc[all[\"Sex\"] == \"F\", 'Sex'] = 0\n",
        "all.loc[all[\"Sex\"] == \"M\", 'Sex'] = 1"
      ],
      "execution_count": 21,
      "outputs": []
    },
    {
      "cell_type": "code",
      "metadata": {
        "id": "JQ0E_Ljkrpcq"
      },
      "source": [
        "#Drop columns without MYCN Amplification data\n",
        "all = all[all['MYCN Amplification'] != 'N/A']"
      ],
      "execution_count": 22,
      "outputs": []
    },
    {
      "cell_type": "code",
      "metadata": {
        "id": "QAwrK7PU8R-2"
      },
      "source": [
        "#Convert all columns to float\n",
        "all['EFS Bin'] = all['EFS Bin'].astype(float)\n",
        "all['EFS Time'] = all['EFS Time'].astype(float)\n",
        "all['Sex'] = all['Sex'].astype(float)\n",
        "all['Age'] = all['Age'].astype(float)\n",
        "all['High Risk'] = all['High Risk'].astype(float)\n",
        "all['Stage'] = all['Stage'].astype(float)\n",
        "all['Favourability'] = all['Favourability'].astype(float)\n",
        "all['MYCN Amplification'] = all['MYCN Amplification'].astype(float)\n",
        "all['TP53'] = all['TP53'].astype(float)\n",
        "all['NTRK1'] = all['NTRK1'].astype(float)\n",
        "all['PTPN6'] = all['PTPN6'].astype(float)\n",
        "all['ACE2'] = all['ACE2'].astype(float)\n",
        "all['TMPRSS2'] = all['TMPRSS2'].astype(float)\n",
        "all['CXCL10'] = all['CXCL10'].astype(float)\n",
        "all['AGTR1'] = all['AGTR1'].astype(float)\n",
        "all['IFITM3'] = all['IFITM3'].astype(float)\n",
        "all['MYCN'] = all['MYCN'].astype(float)"
      ],
      "execution_count": 48,
      "outputs": []
    },
    {
      "cell_type": "code",
      "metadata": {
        "colab": {
          "base_uri": "https://localhost:8080/",
          "height": 748
        },
        "id": "TR5c8yS9t8Ar",
        "outputId": "9c79faa0-3348-4f32-cd38-0f5a70d80120"
      },
      "source": [
        "from lifelines import CoxPHFitter\n",
        "cph = CoxPHFitter()\n",
        "all_data = all[['Sex', 'Age', 'Stage', 'High Risk', 'EFS Time', 'EFS Bin', 'MYCN Amplification', \"ACE2_z\", 'TMPRSS2_z', 'IFITM3_z', 'CXCL10_z', 'AGTR1_z']]\n",
        "cph.fit(all_data, 'EFS Time', event_col='EFS Bin')\n",
        "cph.print_summary()"
      ],
      "execution_count": 150,
      "outputs": [
        {
          "output_type": "display_data",
          "data": {
            "text/latex": "\\begin{tabular}{lrrrrrrrrrr}\n\\toprule\n{} &  coef &  exp(coef) &  se(coef) &  coef lower 95\\% &  coef upper 95\\% &  exp(coef) lower 95\\% &  exp(coef) upper 95\\% &     z &    p &  -log2(p) \\\\\ncovariate          &       &            &           &                 &                 &                      &                      &       &      &           \\\\\n\\midrule\nSex                & -0.25 &       0.78 &      0.16 &           -0.56 &            0.06 &                 0.57 &                 1.07 & -1.56 & 0.12 &      3.08 \\\\\nAge                &  0.00 &       1.00 &      0.00 &            0.00 &            0.00 &                 1.00 &                 1.00 &  2.59 & 0.01 &      6.72 \\\\\nStage              &  0.26 &       1.29 &      0.08 &            0.10 &            0.41 &                 1.11 &                 1.50 &  3.31 & 0.00 &     10.04 \\\\\nHigh Risk          &  1.22 &       3.38 &      0.24 &            0.75 &            1.69 &                 2.12 &                 5.41 &  5.10 & 0.00 &     21.47 \\\\\nMYCN Amplification &  0.17 &       1.19 &      0.21 &           -0.25 &            0.59 &                 0.78 &                 1.80 &  0.80 & 0.42 &      1.24 \\\\\nACE2\\_z             &  0.11 &       1.12 &      0.08 &           -0.05 &            0.28 &                 0.95 &                 1.32 &  1.35 & 0.18 &      2.51 \\\\\nTMPRSS2\\_z          &  0.02 &       1.02 &      0.08 &           -0.14 &            0.18 &                 0.87 &                 1.20 &  0.27 & 0.79 &      0.34 \\\\\nIFITM3\\_z           & -0.16 &       0.86 &      0.09 &           -0.34 &            0.03 &                 0.71 &                 1.03 & -1.67 & 0.09 &      3.40 \\\\\nCXCL10\\_z           &  0.10 &       1.11 &      0.09 &           -0.08 &            0.28 &                 0.92 &                 1.33 &  1.09 & 0.28 &      1.86 \\\\\nAGTR1\\_z            &  0.11 &       1.12 &      0.08 &           -0.04 &            0.27 &                 0.96 &                 1.31 &  1.40 & 0.16 &      2.63 \\\\\n\\bottomrule\n\\end{tabular}\n",
            "text/html": [
              "<div>\n",
              "<style scoped>\n",
              "    .dataframe tbody tr th:only-of-type {\n",
              "        vertical-align: middle;\n",
              "    }\n",
              "\n",
              "    .dataframe tbody tr th {\n",
              "        vertical-align: top;\n",
              "    }\n",
              "\n",
              "    .dataframe thead th {\n",
              "        text-align: right;\n",
              "    }\n",
              "</style>\n",
              "<table border=\"1\" class=\"dataframe\">\n",
              "  <tbody>\n",
              "    <tr>\n",
              "      <th>model</th>\n",
              "      <td>lifelines.CoxPHFitter</td>\n",
              "    </tr>\n",
              "    <tr>\n",
              "      <th>duration col</th>\n",
              "      <td>'EFS Time'</td>\n",
              "    </tr>\n",
              "    <tr>\n",
              "      <th>event col</th>\n",
              "      <td>'EFS Bin'</td>\n",
              "    </tr>\n",
              "    <tr>\n",
              "      <th>baseline estimation</th>\n",
              "      <td>breslow</td>\n",
              "    </tr>\n",
              "    <tr>\n",
              "      <th>number of observations</th>\n",
              "      <td>493</td>\n",
              "    </tr>\n",
              "    <tr>\n",
              "      <th>number of events observed</th>\n",
              "      <td>180</td>\n",
              "    </tr>\n",
              "    <tr>\n",
              "      <th>partial log-likelihood</th>\n",
              "      <td>-999.19</td>\n",
              "    </tr>\n",
              "    <tr>\n",
              "      <th>time fit was run</th>\n",
              "      <td>2021-02-26 14:40:13 UTC</td>\n",
              "    </tr>\n",
              "  </tbody>\n",
              "</table>\n",
              "</div><table border=\"1\" class=\"dataframe\">\n",
              "  <thead>\n",
              "    <tr style=\"text-align: right;\">\n",
              "      <th style=\"min-width: 12px;\"></th>\n",
              "      <th style=\"min-width: 12px;\">coef</th>\n",
              "      <th style=\"min-width: 12px;\">exp(coef)</th>\n",
              "      <th style=\"min-width: 12px;\">se(coef)</th>\n",
              "      <th style=\"min-width: 12px;\">coef lower 95%</th>\n",
              "      <th style=\"min-width: 12px;\">coef upper 95%</th>\n",
              "      <th style=\"min-width: 12px;\">exp(coef) lower 95%</th>\n",
              "      <th style=\"min-width: 12px;\">exp(coef) upper 95%</th>\n",
              "      <th style=\"min-width: 12px;\">z</th>\n",
              "      <th style=\"min-width: 12px;\">p</th>\n",
              "      <th style=\"min-width: 12px;\">-log2(p)</th>\n",
              "    </tr>\n",
              "  </thead>\n",
              "  <tbody>\n",
              "    <tr>\n",
              "      <th>Sex</th>\n",
              "      <td>-0.25</td>\n",
              "      <td>0.78</td>\n",
              "      <td>0.16</td>\n",
              "      <td>-0.56</td>\n",
              "      <td>0.06</td>\n",
              "      <td>0.57</td>\n",
              "      <td>1.07</td>\n",
              "      <td>-1.56</td>\n",
              "      <td>0.12</td>\n",
              "      <td>3.08</td>\n",
              "    </tr>\n",
              "    <tr>\n",
              "      <th>Age</th>\n",
              "      <td>0.00</td>\n",
              "      <td>1.00</td>\n",
              "      <td>0.00</td>\n",
              "      <td>0.00</td>\n",
              "      <td>0.00</td>\n",
              "      <td>1.00</td>\n",
              "      <td>1.00</td>\n",
              "      <td>2.59</td>\n",
              "      <td>0.01</td>\n",
              "      <td>6.72</td>\n",
              "    </tr>\n",
              "    <tr>\n",
              "      <th>Stage</th>\n",
              "      <td>0.26</td>\n",
              "      <td>1.29</td>\n",
              "      <td>0.08</td>\n",
              "      <td>0.10</td>\n",
              "      <td>0.41</td>\n",
              "      <td>1.11</td>\n",
              "      <td>1.50</td>\n",
              "      <td>3.31</td>\n",
              "      <td>&lt;0.005</td>\n",
              "      <td>10.04</td>\n",
              "    </tr>\n",
              "    <tr>\n",
              "      <th>High Risk</th>\n",
              "      <td>1.22</td>\n",
              "      <td>3.38</td>\n",
              "      <td>0.24</td>\n",
              "      <td>0.75</td>\n",
              "      <td>1.69</td>\n",
              "      <td>2.12</td>\n",
              "      <td>5.41</td>\n",
              "      <td>5.10</td>\n",
              "      <td>&lt;0.005</td>\n",
              "      <td>21.47</td>\n",
              "    </tr>\n",
              "    <tr>\n",
              "      <th>MYCN Amplification</th>\n",
              "      <td>0.17</td>\n",
              "      <td>1.19</td>\n",
              "      <td>0.21</td>\n",
              "      <td>-0.25</td>\n",
              "      <td>0.59</td>\n",
              "      <td>0.78</td>\n",
              "      <td>1.80</td>\n",
              "      <td>0.80</td>\n",
              "      <td>0.42</td>\n",
              "      <td>1.24</td>\n",
              "    </tr>\n",
              "    <tr>\n",
              "      <th>ACE2_z</th>\n",
              "      <td>0.11</td>\n",
              "      <td>1.12</td>\n",
              "      <td>0.08</td>\n",
              "      <td>-0.05</td>\n",
              "      <td>0.28</td>\n",
              "      <td>0.95</td>\n",
              "      <td>1.32</td>\n",
              "      <td>1.35</td>\n",
              "      <td>0.18</td>\n",
              "      <td>2.51</td>\n",
              "    </tr>\n",
              "    <tr>\n",
              "      <th>TMPRSS2_z</th>\n",
              "      <td>0.02</td>\n",
              "      <td>1.02</td>\n",
              "      <td>0.08</td>\n",
              "      <td>-0.14</td>\n",
              "      <td>0.18</td>\n",
              "      <td>0.87</td>\n",
              "      <td>1.20</td>\n",
              "      <td>0.27</td>\n",
              "      <td>0.79</td>\n",
              "      <td>0.34</td>\n",
              "    </tr>\n",
              "    <tr>\n",
              "      <th>IFITM3_z</th>\n",
              "      <td>-0.16</td>\n",
              "      <td>0.86</td>\n",
              "      <td>0.09</td>\n",
              "      <td>-0.34</td>\n",
              "      <td>0.03</td>\n",
              "      <td>0.71</td>\n",
              "      <td>1.03</td>\n",
              "      <td>-1.67</td>\n",
              "      <td>0.09</td>\n",
              "      <td>3.40</td>\n",
              "    </tr>\n",
              "    <tr>\n",
              "      <th>CXCL10_z</th>\n",
              "      <td>0.10</td>\n",
              "      <td>1.11</td>\n",
              "      <td>0.09</td>\n",
              "      <td>-0.08</td>\n",
              "      <td>0.28</td>\n",
              "      <td>0.92</td>\n",
              "      <td>1.33</td>\n",
              "      <td>1.09</td>\n",
              "      <td>0.28</td>\n",
              "      <td>1.86</td>\n",
              "    </tr>\n",
              "    <tr>\n",
              "      <th>AGTR1_z</th>\n",
              "      <td>0.11</td>\n",
              "      <td>1.12</td>\n",
              "      <td>0.08</td>\n",
              "      <td>-0.04</td>\n",
              "      <td>0.27</td>\n",
              "      <td>0.96</td>\n",
              "      <td>1.31</td>\n",
              "      <td>1.40</td>\n",
              "      <td>0.16</td>\n",
              "      <td>2.63</td>\n",
              "    </tr>\n",
              "  </tbody>\n",
              "</table><br><div>\n",
              "<style scoped>\n",
              "    .dataframe tbody tr th:only-of-type {\n",
              "        vertical-align: middle;\n",
              "    }\n",
              "\n",
              "    .dataframe tbody tr th {\n",
              "        vertical-align: top;\n",
              "    }\n",
              "\n",
              "    .dataframe thead th {\n",
              "        text-align: right;\n",
              "    }\n",
              "</style>\n",
              "<table border=\"1\" class=\"dataframe\">\n",
              "  <tbody>\n",
              "    <tr>\n",
              "      <th>Concordance</th>\n",
              "      <td>0.73</td>\n",
              "    </tr>\n",
              "    <tr>\n",
              "      <th>Partial AIC</th>\n",
              "      <td>2018.38</td>\n",
              "    </tr>\n",
              "    <tr>\n",
              "      <th>log-likelihood ratio test</th>\n",
              "      <td>142.47 on 10 df</td>\n",
              "    </tr>\n",
              "    <tr>\n",
              "      <th>-log2(p) of ll-ratio test</th>\n",
              "      <td>82.66</td>\n",
              "    </tr>\n",
              "  </tbody>\n",
              "</table>\n",
              "</div>"
            ],
            "text/plain": [
              "<lifelines.CoxPHFitter: fitted with 493 total observations, 313 right-censored observations>\n",
              "             duration col = 'EFS Time'\n",
              "                event col = 'EFS Bin'\n",
              "      baseline estimation = breslow\n",
              "   number of observations = 493\n",
              "number of events observed = 180\n",
              "   partial log-likelihood = -999.19\n",
              "         time fit was run = 2021-02-26 14:40:13 UTC\n",
              "\n",
              "---\n",
              "                     coef  exp(coef)   se(coef)   coef lower 95%   coef upper 95%  exp(coef) lower 95%  exp(coef) upper 95%\n",
              "covariate                                                                                                                  \n",
              "Sex                 -0.25       0.78       0.16            -0.56             0.06                 0.57                 1.07\n",
              "Age                  0.00       1.00       0.00             0.00             0.00                 1.00                 1.00\n",
              "Stage                0.26       1.29       0.08             0.10             0.41                 1.11                 1.50\n",
              "High Risk            1.22       3.38       0.24             0.75             1.69                 2.12                 5.41\n",
              "MYCN Amplification   0.17       1.19       0.21            -0.25             0.59                 0.78                 1.80\n",
              "ACE2_z               0.11       1.12       0.08            -0.05             0.28                 0.95                 1.32\n",
              "TMPRSS2_z            0.02       1.02       0.08            -0.14             0.18                 0.87                 1.20\n",
              "IFITM3_z            -0.16       0.86       0.09            -0.34             0.03                 0.71                 1.03\n",
              "CXCL10_z             0.10       1.11       0.09            -0.08             0.28                 0.92                 1.33\n",
              "AGTR1_z              0.11       1.12       0.08            -0.04             0.27                 0.96                 1.31\n",
              "\n",
              "                       z      p   -log2(p)\n",
              "covariate                                 \n",
              "Sex                -1.56   0.12       3.08\n",
              "Age                 2.59   0.01       6.72\n",
              "Stage               3.31 <0.005      10.04\n",
              "High Risk           5.10 <0.005      21.47\n",
              "MYCN Amplification  0.80   0.42       1.24\n",
              "ACE2_z              1.35   0.18       2.51\n",
              "TMPRSS2_z           0.27   0.79       0.34\n",
              "IFITM3_z           -1.67   0.09       3.40\n",
              "CXCL10_z            1.09   0.28       1.86\n",
              "AGTR1_z             1.40   0.16       2.63\n",
              "---\n",
              "Concordance = 0.73\n",
              "Partial AIC = 2018.38\n",
              "log-likelihood ratio test = 142.47 on 10 df\n",
              "-log2(p) of ll-ratio test = 82.66"
            ]
          },
          "metadata": {
            "tags": []
          }
        }
      ]
    },
    {
      "cell_type": "code",
      "metadata": {
        "colab": {
          "base_uri": "https://localhost:8080/",
          "height": 296
        },
        "id": "w3-_i7E8dmNC",
        "outputId": "aa10aae1-814f-4b89-f14d-eff6e63fb163"
      },
      "source": [
        "cph.plot()"
      ],
      "execution_count": 121,
      "outputs": [
        {
          "output_type": "execute_result",
          "data": {
            "text/plain": [
              "<matplotlib.axes._subplots.AxesSubplot at 0x7f0c77d10e10>"
            ]
          },
          "metadata": {
            "tags": []
          },
          "execution_count": 121
        },
        {
          "output_type": "display_data",
          "data": {
            "image/png": "[encoded data removed]",
            "text/plain": [
              "<Figure size 432x288 with 1 Axes>"
            ]
          },
          "metadata": {
            "tags": [],
            "needs_background": "light"
          }
        }
      ]
    },
    {
      "cell_type": "code",
      "metadata": {
        "colab": {
          "base_uri": "https://localhost:8080/",
          "height": 282
        },
        "id": "3qrpuX6cel_v",
        "outputId": "4f7405b5-021e-4b52-af5b-3c32a98def63"
      },
      "source": [
        "cph.plot_partial_effects_on_outcome(covariates='MYCN Amplification', values=[1, 0])"
      ],
      "execution_count": 109,
      "outputs": [
        {
          "output_type": "execute_result",
          "data": {
            "text/plain": [
              "<matplotlib.axes._subplots.AxesSubplot at 0x7f0c780bda90>"
            ]
          },
          "metadata": {
            "tags": []
          },
          "execution_count": 109
        },
        {
          "output_type": "display_data",
          "data": {
            "image/png": "[encoded data removed]",
            "text/plain": [
              "<Figure size 432x288 with 1 Axes>"
            ]
          },
          "metadata": {
            "tags": [],
            "needs_background": "light"
          }
        }
      ]
    },
    {
      "cell_type": "code",
      "metadata": {
        "colab": {
          "base_uri": "https://localhost:8080/",
          "height": 282
        },
        "id": "pZUJmoMlERdg",
        "outputId": "8aaed844-abd6-4ca7-c5f1-39f43584347d"
      },
      "source": [
        "cph.plot_partial_effects_on_outcome(covariates='Stage', values=[1, 2, 3, 4, 5], cmap='coolwarm')"
      ],
      "execution_count": 70,
      "outputs": [
        {
          "output_type": "execute_result",
          "data": {
            "text/plain": [
              "<matplotlib.axes._subplots.AxesSubplot at 0x7f0c7839e910>"
            ]
          },
          "metadata": {
            "tags": []
          },
          "execution_count": 70
        },
        {
          "output_type": "display_data",
          "data": {
            "image/png": "[encoded data removed]",
            "text/plain": [
              "<Figure size 432x288 with 1 Axes>"
            ]
          },
          "metadata": {
            "tags": [],
            "needs_background": "light"
          }
        }
      ]
    },
    {
      "cell_type": "code",
      "metadata": {
        "colab": {
          "base_uri": "https://localhost:8080/",
          "height": 282
        },
        "id": "JLSbEym5EeCn",
        "outputId": "9075da92-e027-49f6-e74b-55dec1de63bb"
      },
      "source": [
        "cph.plot_partial_effects_on_outcome(covariates='IFITM3_z', values=[-2,-1,-0,1,2], cmap='coolwarm')"
      ],
      "execution_count": 122,
      "outputs": [
        {
          "output_type": "execute_result",
          "data": {
            "text/plain": [
              "<matplotlib.axes._subplots.AxesSubplot at 0x7f0c77c685d0>"
            ]
          },
          "metadata": {
            "tags": []
          },
          "execution_count": 122
        },
        {
          "output_type": "display_data",
          "data": {
            "image/png": "[encoded data removed]",
            "text/plain": [
              "<Figure size 432x288 with 1 Axes>"
            ]
          },
          "metadata": {
            "tags": [],
            "needs_background": "light"
          }
        }
      ]
    },
    {
      "cell_type": "code",
      "metadata": {
        "colab": {
          "base_uri": "https://localhost:8080/",
          "height": 282
        },
        "id": "VH6gIdgnON_6",
        "outputId": "0b0c1393-ced6-411e-d1bf-06e84e99a781"
      },
      "source": [
        "cph.plot_partial_effects_on_outcome(covariates='ACE2_z', values=[-2,-1,-0,1,2], cmap='coolwarm')"
      ],
      "execution_count": 123,
      "outputs": [
        {
          "output_type": "execute_result",
          "data": {
            "text/plain": [
              "<matplotlib.axes._subplots.AxesSubplot at 0x7f0c77c63450>"
            ]
          },
          "metadata": {
            "tags": []
          },
          "execution_count": 123
        },
        {
          "output_type": "display_data",
          "data": {
            "image/png": "[encoded data removed]",
            "text/plain": [
              "<Figure size 432x288 with 1 Axes>"
            ]
          },
          "metadata": {
            "tags": [],
            "needs_background": "light"
          }
        }
      ]
    },
    {
      "cell_type": "markdown",
      "metadata": {
        "id": "VcE6urVfO7I3"
      },
      "source": [
        "### **MYCN Amplified**"
      ]
    },
    {
      "cell_type": "code",
      "metadata": {
        "id": "PzUzDOc1PBuw"
      },
      "source": [
        "amp = all.loc[all['MYCN Amplification'] == 1]"
      ],
      "execution_count": 77,
      "outputs": []
    },
    {
      "cell_type": "code",
      "metadata": {
        "colab": {
          "base_uri": "https://localhost:8080/",
          "height": 593
        },
        "id": "qofSgWzcO-Xi",
        "outputId": "66d8b3be-eea6-4686-d701-bcb6ca1edd91"
      },
      "source": [
        "from lifelines import CoxPHFitter\n",
        "cph = CoxPHFitter()\n",
        "all_data = amp[['EFS Time', 'EFS Bin', \"ACE2_z\", 'TMPRSS2_z', 'IFITM3_z', 'CXCL10_z', 'AGTR1_z']]\n",
        "cph.fit(all_data, 'EFS Time', event_col='EFS Bin')\n",
        "cph.print_summary()"
      ],
      "execution_count": 124,
      "outputs": [
        {
          "output_type": "display_data",
          "data": {
            "text/latex": "\\begin{tabular}{lrrrrrrrrrr}\n\\toprule\n{} &  coef &  exp(coef) &  se(coef) &  coef lower 95\\% &  coef upper 95\\% &  exp(coef) lower 95\\% &  exp(coef) upper 95\\% &     z &    p &  -log2(p) \\\\\ncovariate &       &            &           &                 &                 &                      &                      &       &      &           \\\\\n\\midrule\nACE2\\_z    &  0.12 &       1.12 &      0.16 &           -0.20 &            0.43 &                 0.82 &                 1.53 &  0.72 & 0.47 &      1.09 \\\\\nTMPRSS2\\_z & -0.00 &       1.00 &      0.15 &           -0.29 &            0.29 &                 0.75 &                 1.33 & -0.01 & 0.99 &      0.01 \\\\\nIFITM3\\_z  & -0.20 &       0.82 &      0.16 &           -0.51 &            0.11 &                 0.60 &                 1.12 & -1.25 & 0.21 &      2.23 \\\\\nCXCL10\\_z  &  0.09 &       1.09 &      0.13 &           -0.16 &            0.34 &                 0.85 &                 1.41 &  0.70 & 0.48 &      1.05 \\\\\nAGTR1\\_z   &  0.18 &       1.19 &      0.16 &           -0.13 &            0.49 &                 0.87 &                 1.63 &  1.11 & 0.27 &      1.91 \\\\\n\\bottomrule\n\\end{tabular}\n",
            "text/html": [
              "<div>\n",
              "<style scoped>\n",
              "    .dataframe tbody tr th:only-of-type {\n",
              "        vertical-align: middle;\n",
              "    }\n",
              "\n",
              "    .dataframe tbody tr th {\n",
              "        vertical-align: top;\n",
              "    }\n",
              "\n",
              "    .dataframe thead th {\n",
              "        text-align: right;\n",
              "    }\n",
              "</style>\n",
              "<table border=\"1\" class=\"dataframe\">\n",
              "  <tbody>\n",
              "    <tr>\n",
              "      <th>model</th>\n",
              "      <td>lifelines.CoxPHFitter</td>\n",
              "    </tr>\n",
              "    <tr>\n",
              "      <th>duration col</th>\n",
              "      <td>'EFS Time'</td>\n",
              "    </tr>\n",
              "    <tr>\n",
              "      <th>event col</th>\n",
              "      <td>'EFS Bin'</td>\n",
              "    </tr>\n",
              "    <tr>\n",
              "      <th>baseline estimation</th>\n",
              "      <td>breslow</td>\n",
              "    </tr>\n",
              "    <tr>\n",
              "      <th>number of observations</th>\n",
              "      <td>92</td>\n",
              "    </tr>\n",
              "    <tr>\n",
              "      <th>number of events observed</th>\n",
              "      <td>60</td>\n",
              "    </tr>\n",
              "    <tr>\n",
              "      <th>partial log-likelihood</th>\n",
              "      <td>-237.76</td>\n",
              "    </tr>\n",
              "    <tr>\n",
              "      <th>time fit was run</th>\n",
              "      <td>2021-02-26 14:16:49 UTC</td>\n",
              "    </tr>\n",
              "  </tbody>\n",
              "</table>\n",
              "</div><table border=\"1\" class=\"dataframe\">\n",
              "  <thead>\n",
              "    <tr style=\"text-align: right;\">\n",
              "      <th style=\"min-width: 12px;\"></th>\n",
              "      <th style=\"min-width: 12px;\">coef</th>\n",
              "      <th style=\"min-width: 12px;\">exp(coef)</th>\n",
              "      <th style=\"min-width: 12px;\">se(coef)</th>\n",
              "      <th style=\"min-width: 12px;\">coef lower 95%</th>\n",
              "      <th style=\"min-width: 12px;\">coef upper 95%</th>\n",
              "      <th style=\"min-width: 12px;\">exp(coef) lower 95%</th>\n",
              "      <th style=\"min-width: 12px;\">exp(coef) upper 95%</th>\n",
              "      <th style=\"min-width: 12px;\">z</th>\n",
              "      <th style=\"min-width: 12px;\">p</th>\n",
              "      <th style=\"min-width: 12px;\">-log2(p)</th>\n",
              "    </tr>\n",
              "  </thead>\n",
              "  <tbody>\n",
              "    <tr>\n",
              "      <th>ACE2_z</th>\n",
              "      <td>0.12</td>\n",
              "      <td>1.12</td>\n",
              "      <td>0.16</td>\n",
              "      <td>-0.20</td>\n",
              "      <td>0.43</td>\n",
              "      <td>0.82</td>\n",
              "      <td>1.53</td>\n",
              "      <td>0.72</td>\n",
              "      <td>0.47</td>\n",
              "      <td>1.09</td>\n",
              "    </tr>\n",
              "    <tr>\n",
              "      <th>TMPRSS2_z</th>\n",
              "      <td>-0.00</td>\n",
              "      <td>1.00</td>\n",
              "      <td>0.15</td>\n",
              "      <td>-0.29</td>\n",
              "      <td>0.29</td>\n",
              "      <td>0.75</td>\n",
              "      <td>1.33</td>\n",
              "      <td>-0.01</td>\n",
              "      <td>0.99</td>\n",
              "      <td>0.01</td>\n",
              "    </tr>\n",
              "    <tr>\n",
              "      <th>IFITM3_z</th>\n",
              "      <td>-0.20</td>\n",
              "      <td>0.82</td>\n",
              "      <td>0.16</td>\n",
              "      <td>-0.51</td>\n",
              "      <td>0.11</td>\n",
              "      <td>0.60</td>\n",
              "      <td>1.12</td>\n",
              "      <td>-1.25</td>\n",
              "      <td>0.21</td>\n",
              "      <td>2.23</td>\n",
              "    </tr>\n",
              "    <tr>\n",
              "      <th>CXCL10_z</th>\n",
              "      <td>0.09</td>\n",
              "      <td>1.09</td>\n",
              "      <td>0.13</td>\n",
              "      <td>-0.16</td>\n",
              "      <td>0.34</td>\n",
              "      <td>0.85</td>\n",
              "      <td>1.41</td>\n",
              "      <td>0.70</td>\n",
              "      <td>0.48</td>\n",
              "      <td>1.05</td>\n",
              "    </tr>\n",
              "    <tr>\n",
              "      <th>AGTR1_z</th>\n",
              "      <td>0.18</td>\n",
              "      <td>1.19</td>\n",
              "      <td>0.16</td>\n",
              "      <td>-0.13</td>\n",
              "      <td>0.49</td>\n",
              "      <td>0.87</td>\n",
              "      <td>1.63</td>\n",
              "      <td>1.11</td>\n",
              "      <td>0.27</td>\n",
              "      <td>1.91</td>\n",
              "    </tr>\n",
              "  </tbody>\n",
              "</table><br><div>\n",
              "<style scoped>\n",
              "    .dataframe tbody tr th:only-of-type {\n",
              "        vertical-align: middle;\n",
              "    }\n",
              "\n",
              "    .dataframe tbody tr th {\n",
              "        vertical-align: top;\n",
              "    }\n",
              "\n",
              "    .dataframe thead th {\n",
              "        text-align: right;\n",
              "    }\n",
              "</style>\n",
              "<table border=\"1\" class=\"dataframe\">\n",
              "  <tbody>\n",
              "    <tr>\n",
              "      <th>Concordance</th>\n",
              "      <td>0.56</td>\n",
              "    </tr>\n",
              "    <tr>\n",
              "      <th>Partial AIC</th>\n",
              "      <td>485.52</td>\n",
              "    </tr>\n",
              "    <tr>\n",
              "      <th>log-likelihood ratio test</th>\n",
              "      <td>3.01 on 5 df</td>\n",
              "    </tr>\n",
              "    <tr>\n",
              "      <th>-log2(p) of ll-ratio test</th>\n",
              "      <td>0.52</td>\n",
              "    </tr>\n",
              "  </tbody>\n",
              "</table>\n",
              "</div>"
            ],
            "text/plain": [
              "<lifelines.CoxPHFitter: fitted with 92 total observations, 32 right-censored observations>\n",
              "             duration col = 'EFS Time'\n",
              "                event col = 'EFS Bin'\n",
              "      baseline estimation = breslow\n",
              "   number of observations = 92\n",
              "number of events observed = 60\n",
              "   partial log-likelihood = -237.76\n",
              "         time fit was run = 2021-02-26 14:16:49 UTC\n",
              "\n",
              "---\n",
              "            coef  exp(coef)   se(coef)   coef lower 95%   coef upper 95%  exp(coef) lower 95%  exp(coef) upper 95%\n",
              "covariate                                                                                                         \n",
              "ACE2_z      0.12       1.12       0.16            -0.20             0.43                 0.82                 1.53\n",
              "TMPRSS2_z  -0.00       1.00       0.15            -0.29             0.29                 0.75                 1.33\n",
              "IFITM3_z   -0.20       0.82       0.16            -0.51             0.11                 0.60                 1.12\n",
              "CXCL10_z    0.09       1.09       0.13            -0.16             0.34                 0.85                 1.41\n",
              "AGTR1_z     0.18       1.19       0.16            -0.13             0.49                 0.87                 1.63\n",
              "\n",
              "              z    p   -log2(p)\n",
              "covariate                      \n",
              "ACE2_z     0.72 0.47       1.09\n",
              "TMPRSS2_z -0.01 0.99       0.01\n",
              "IFITM3_z  -1.25 0.21       2.23\n",
              "CXCL10_z   0.70 0.48       1.05\n",
              "AGTR1_z    1.11 0.27       1.91\n",
              "---\n",
              "Concordance = 0.56\n",
              "Partial AIC = 485.52\n",
              "log-likelihood ratio test = 3.01 on 5 df\n",
              "-log2(p) of ll-ratio test = 0.52"
            ]
          },
          "metadata": {
            "tags": []
          }
        }
      ]
    },
    {
      "cell_type": "code",
      "metadata": {
        "colab": {
          "base_uri": "https://localhost:8080/",
          "height": 296
        },
        "id": "_yXWGrgrVDQ-",
        "outputId": "798bc3f6-804c-4843-8c70-564370ae9c2b"
      },
      "source": [
        "cph.plot()"
      ],
      "execution_count": 125,
      "outputs": [
        {
          "output_type": "execute_result",
          "data": {
            "text/plain": [
              "<matplotlib.axes._subplots.AxesSubplot at 0x7f0c77b27390>"
            ]
          },
          "metadata": {
            "tags": []
          },
          "execution_count": 125
        },
        {
          "output_type": "display_data",
          "data": {
            "image/png": "[encoded data removed]",
            "text/plain": [
              "<Figure size 432x288 with 1 Axes>"
            ]
          },
          "metadata": {
            "tags": [],
            "needs_background": "light"
          }
        }
      ]
    },
    {
      "cell_type": "code",
      "metadata": {
        "colab": {
          "base_uri": "https://localhost:8080/",
          "height": 282
        },
        "id": "eB-Gy9cuVTaC",
        "outputId": "13ed8a0f-9a12-4046-c39b-1fc858824af9"
      },
      "source": [
        "cph.plot_partial_effects_on_outcome(covariates='IFITM3_z', values=[-2,-1,-0,1,2], cmap='coolwarm')"
      ],
      "execution_count": 100,
      "outputs": [
        {
          "output_type": "execute_result",
          "data": {
            "text/plain": [
              "<matplotlib.axes._subplots.AxesSubplot at 0x7f0c77edccd0>"
            ]
          },
          "metadata": {
            "tags": []
          },
          "execution_count": 100
        },
        {
          "output_type": "display_data",
          "data": {
            "image/png": "[encoded data removed]",
            "text/plain": [
              "<Figure size 432x288 with 1 Axes>"
            ]
          },
          "metadata": {
            "tags": [],
            "needs_background": "light"
          }
        }
      ]
    },
    {
      "cell_type": "code",
      "metadata": {
        "colab": {
          "base_uri": "https://localhost:8080/"
        },
        "id": "FkoJAWk-WmIV",
        "outputId": "cdcae99d-4b54-4513-b9ef-2499d8d441d6"
      },
      "source": [
        "all['MYCN Amplification'].value_counts()"
      ],
      "execution_count": 104,
      "outputs": [
        {
          "output_type": "execute_result",
          "data": {
            "text/plain": [
              "0.0    401\n",
              "1.0     92\n",
              "Name: MYCN Amplification, dtype: int64"
            ]
          },
          "metadata": {
            "tags": []
          },
          "execution_count": 104
        }
      ]
    },
    {
      "cell_type": "code",
      "metadata": {
        "id": "-WiEtATyPPa8"
      },
      "source": [
        "not_amp = all.loc[all['MYCN Amplification'] == 0]"
      ],
      "execution_count": 83,
      "outputs": []
    },
    {
      "cell_type": "code",
      "metadata": {
        "colab": {
          "base_uri": "https://localhost:8080/",
          "height": 593
        },
        "id": "TavJgnJ0PerC",
        "outputId": "77a79c0d-0293-4439-8298-215b17f708b1"
      },
      "source": [
        "from lifelines import CoxPHFitter\n",
        "cph = CoxPHFitter()\n",
        "all_data = not_amp[['EFS Time', 'EFS Bin', \"ACE2_z\", 'TMPRSS2_z', 'IFITM3_z', 'CXCL10_z', 'AGTR1_z']]\n",
        "cph.fit(all_data, 'EFS Time', event_col='EFS Bin')\n",
        "cph.print_summary()"
      ],
      "execution_count": 126,
      "outputs": [
        {
          "output_type": "display_data",
          "data": {
            "text/latex": "\\begin{tabular}{lrrrrrrrrrr}\n\\toprule\n{} &  coef &  exp(coef) &  se(coef) &  coef lower 95\\% &  coef upper 95\\% &  exp(coef) lower 95\\% &  exp(coef) upper 95\\% &     z &    p &  -log2(p) \\\\\ncovariate &       &            &           &                 &                 &                      &                      &       &      &           \\\\\n\\midrule\nACE2\\_z    &  0.15 &       1.16 &      0.10 &           -0.04 &            0.34 &                 0.96 &                 1.41 &  1.51 & 0.13 &      2.94 \\\\\nTMPRSS2\\_z & -0.00 &       1.00 &      0.10 &           -0.19 &            0.19 &                 0.82 &                 1.21 & -0.02 & 0.99 &      0.02 \\\\\nIFITM3\\_z  & -0.03 &       0.97 &      0.13 &           -0.28 &            0.22 &                 0.76 &                 1.24 & -0.23 & 0.81 &      0.30 \\\\\nCXCL10\\_z  &  0.14 &       1.15 &      0.14 &           -0.13 &            0.42 &                 0.87 &                 1.52 &  1.01 & 0.31 &      1.68 \\\\\nAGTR1\\_z   & -0.12 &       0.89 &      0.09 &           -0.30 &            0.06 &                 0.74 &                 1.06 & -1.32 & 0.19 &      2.43 \\\\\n\\bottomrule\n\\end{tabular}\n",
            "text/html": [
              "<div>\n",
              "<style scoped>\n",
              "    .dataframe tbody tr th:only-of-type {\n",
              "        vertical-align: middle;\n",
              "    }\n",
              "\n",
              "    .dataframe tbody tr th {\n",
              "        vertical-align: top;\n",
              "    }\n",
              "\n",
              "    .dataframe thead th {\n",
              "        text-align: right;\n",
              "    }\n",
              "</style>\n",
              "<table border=\"1\" class=\"dataframe\">\n",
              "  <tbody>\n",
              "    <tr>\n",
              "      <th>model</th>\n",
              "      <td>lifelines.CoxPHFitter</td>\n",
              "    </tr>\n",
              "    <tr>\n",
              "      <th>duration col</th>\n",
              "      <td>'EFS Time'</td>\n",
              "    </tr>\n",
              "    <tr>\n",
              "      <th>event col</th>\n",
              "      <td>'EFS Bin'</td>\n",
              "    </tr>\n",
              "    <tr>\n",
              "      <th>baseline estimation</th>\n",
              "      <td>breslow</td>\n",
              "    </tr>\n",
              "    <tr>\n",
              "      <th>number of observations</th>\n",
              "      <td>401</td>\n",
              "    </tr>\n",
              "    <tr>\n",
              "      <th>number of events observed</th>\n",
              "      <td>120</td>\n",
              "    </tr>\n",
              "    <tr>\n",
              "      <th>partial log-likelihood</th>\n",
              "      <td>-691.80</td>\n",
              "    </tr>\n",
              "    <tr>\n",
              "      <th>time fit was run</th>\n",
              "      <td>2021-02-26 14:17:00 UTC</td>\n",
              "    </tr>\n",
              "  </tbody>\n",
              "</table>\n",
              "</div><table border=\"1\" class=\"dataframe\">\n",
              "  <thead>\n",
              "    <tr style=\"text-align: right;\">\n",
              "      <th style=\"min-width: 12px;\"></th>\n",
              "      <th style=\"min-width: 12px;\">coef</th>\n",
              "      <th style=\"min-width: 12px;\">exp(coef)</th>\n",
              "      <th style=\"min-width: 12px;\">se(coef)</th>\n",
              "      <th style=\"min-width: 12px;\">coef lower 95%</th>\n",
              "      <th style=\"min-width: 12px;\">coef upper 95%</th>\n",
              "      <th style=\"min-width: 12px;\">exp(coef) lower 95%</th>\n",
              "      <th style=\"min-width: 12px;\">exp(coef) upper 95%</th>\n",
              "      <th style=\"min-width: 12px;\">z</th>\n",
              "      <th style=\"min-width: 12px;\">p</th>\n",
              "      <th style=\"min-width: 12px;\">-log2(p)</th>\n",
              "    </tr>\n",
              "  </thead>\n",
              "  <tbody>\n",
              "    <tr>\n",
              "      <th>ACE2_z</th>\n",
              "      <td>0.15</td>\n",
              "      <td>1.16</td>\n",
              "      <td>0.10</td>\n",
              "      <td>-0.04</td>\n",
              "      <td>0.34</td>\n",
              "      <td>0.96</td>\n",
              "      <td>1.41</td>\n",
              "      <td>1.51</td>\n",
              "      <td>0.13</td>\n",
              "      <td>2.94</td>\n",
              "    </tr>\n",
              "    <tr>\n",
              "      <th>TMPRSS2_z</th>\n",
              "      <td>-0.00</td>\n",
              "      <td>1.00</td>\n",
              "      <td>0.10</td>\n",
              "      <td>-0.19</td>\n",
              "      <td>0.19</td>\n",
              "      <td>0.82</td>\n",
              "      <td>1.21</td>\n",
              "      <td>-0.02</td>\n",
              "      <td>0.99</td>\n",
              "      <td>0.02</td>\n",
              "    </tr>\n",
              "    <tr>\n",
              "      <th>IFITM3_z</th>\n",
              "      <td>-0.03</td>\n",
              "      <td>0.97</td>\n",
              "      <td>0.13</td>\n",
              "      <td>-0.28</td>\n",
              "      <td>0.22</td>\n",
              "      <td>0.76</td>\n",
              "      <td>1.24</td>\n",
              "      <td>-0.23</td>\n",
              "      <td>0.81</td>\n",
              "      <td>0.30</td>\n",
              "    </tr>\n",
              "    <tr>\n",
              "      <th>CXCL10_z</th>\n",
              "      <td>0.14</td>\n",
              "      <td>1.15</td>\n",
              "      <td>0.14</td>\n",
              "      <td>-0.13</td>\n",
              "      <td>0.42</td>\n",
              "      <td>0.87</td>\n",
              "      <td>1.52</td>\n",
              "      <td>1.01</td>\n",
              "      <td>0.31</td>\n",
              "      <td>1.68</td>\n",
              "    </tr>\n",
              "    <tr>\n",
              "      <th>AGTR1_z</th>\n",
              "      <td>-0.12</td>\n",
              "      <td>0.89</td>\n",
              "      <td>0.09</td>\n",
              "      <td>-0.30</td>\n",
              "      <td>0.06</td>\n",
              "      <td>0.74</td>\n",
              "      <td>1.06</td>\n",
              "      <td>-1.32</td>\n",
              "      <td>0.19</td>\n",
              "      <td>2.43</td>\n",
              "    </tr>\n",
              "  </tbody>\n",
              "</table><br><div>\n",
              "<style scoped>\n",
              "    .dataframe tbody tr th:only-of-type {\n",
              "        vertical-align: middle;\n",
              "    }\n",
              "\n",
              "    .dataframe tbody tr th {\n",
              "        vertical-align: top;\n",
              "    }\n",
              "\n",
              "    .dataframe thead th {\n",
              "        text-align: right;\n",
              "    }\n",
              "</style>\n",
              "<table border=\"1\" class=\"dataframe\">\n",
              "  <tbody>\n",
              "    <tr>\n",
              "      <th>Concordance</th>\n",
              "      <td>0.56</td>\n",
              "    </tr>\n",
              "    <tr>\n",
              "      <th>Partial AIC</th>\n",
              "      <td>1393.61</td>\n",
              "    </tr>\n",
              "    <tr>\n",
              "      <th>log-likelihood ratio test</th>\n",
              "      <td>5.61 on 5 df</td>\n",
              "    </tr>\n",
              "    <tr>\n",
              "      <th>-log2(p) of ll-ratio test</th>\n",
              "      <td>1.53</td>\n",
              "    </tr>\n",
              "  </tbody>\n",
              "</table>\n",
              "</div>"
            ],
            "text/plain": [
              "<lifelines.CoxPHFitter: fitted with 401 total observations, 281 right-censored observations>\n",
              "             duration col = 'EFS Time'\n",
              "                event col = 'EFS Bin'\n",
              "      baseline estimation = breslow\n",
              "   number of observations = 401\n",
              "number of events observed = 120\n",
              "   partial log-likelihood = -691.80\n",
              "         time fit was run = 2021-02-26 14:17:00 UTC\n",
              "\n",
              "---\n",
              "            coef  exp(coef)   se(coef)   coef lower 95%   coef upper 95%  exp(coef) lower 95%  exp(coef) upper 95%\n",
              "covariate                                                                                                         \n",
              "ACE2_z      0.15       1.16       0.10            -0.04             0.34                 0.96                 1.41\n",
              "TMPRSS2_z  -0.00       1.00       0.10            -0.19             0.19                 0.82                 1.21\n",
              "IFITM3_z   -0.03       0.97       0.13            -0.28             0.22                 0.76                 1.24\n",
              "CXCL10_z    0.14       1.15       0.14            -0.13             0.42                 0.87                 1.52\n",
              "AGTR1_z    -0.12       0.89       0.09            -0.30             0.06                 0.74                 1.06\n",
              "\n",
              "              z    p   -log2(p)\n",
              "covariate                      \n",
              "ACE2_z     1.51 0.13       2.94\n",
              "TMPRSS2_z -0.02 0.99       0.02\n",
              "IFITM3_z  -0.23 0.81       0.30\n",
              "CXCL10_z   1.01 0.31       1.68\n",
              "AGTR1_z   -1.32 0.19       2.43\n",
              "---\n",
              "Concordance = 0.56\n",
              "Partial AIC = 1393.61\n",
              "log-likelihood ratio test = 5.61 on 5 df\n",
              "-log2(p) of ll-ratio test = 1.53"
            ]
          },
          "metadata": {
            "tags": []
          }
        }
      ]
    },
    {
      "cell_type": "code",
      "metadata": {
        "colab": {
          "base_uri": "https://localhost:8080/",
          "height": 296
        },
        "id": "2PBNxb5mVHsp",
        "outputId": "ab99245e-8738-4aef-d781-04c86531d82c"
      },
      "source": [
        "cph.plot()"
      ],
      "execution_count": 97,
      "outputs": [
        {
          "output_type": "execute_result",
          "data": {
            "text/plain": [
              "<matplotlib.axes._subplots.AxesSubplot at 0x7f0c77fd4190>"
            ]
          },
          "metadata": {
            "tags": []
          },
          "execution_count": 97
        },
        {
          "output_type": "display_data",
          "data": {
            "image/png": "[encoded data removed]",
            "text/plain": [
              "<Figure size 432x288 with 1 Axes>"
            ]
          },
          "metadata": {
            "tags": [],
            "needs_background": "light"
          }
        }
      ]
    },
    {
      "cell_type": "code",
      "metadata": {
        "colab": {
          "base_uri": "https://localhost:8080/",
          "height": 282
        },
        "id": "--Dgt-QHVbHG",
        "outputId": "821402d4-eb04-4a3c-cf0b-99c5e346e8a4"
      },
      "source": [
        "cph.plot_partial_effects_on_outcome(covariates='IFITM3_z', values=[-2,-1,-0,1,2], cmap='coolwarm')"
      ],
      "execution_count": 103,
      "outputs": [
        {
          "output_type": "execute_result",
          "data": {
            "text/plain": [
              "<matplotlib.axes._subplots.AxesSubplot at 0x7f0c77ff14d0>"
            ]
          },
          "metadata": {
            "tags": []
          },
          "execution_count": 103
        },
        {
          "output_type": "display_data",
          "data": {
            "image/png": "[encoded data removed]",
            "text/plain": [
              "<Figure size 432x288 with 1 Axes>"
            ]
          },
          "metadata": {
            "tags": [],
            "needs_background": "light"
          }
        }
      ]
    },
    {
      "cell_type": "markdown",
      "metadata": {
        "id": "-_8btbJXRDxk"
      },
      "source": [
        "### **Favourability**"
      ]
    },
    {
      "cell_type": "code",
      "metadata": {
        "id": "2pNvu3vRRFZS"
      },
      "source": [
        "fav = all.loc[all['Favourability'] == 0]"
      ],
      "execution_count": 85,
      "outputs": []
    },
    {
      "cell_type": "code",
      "metadata": {
        "colab": {
          "base_uri": "https://localhost:8080/",
          "height": 593
        },
        "id": "TRS4dGVZRNFZ",
        "outputId": "0986cb6b-6e0d-4a3e-a5af-e78d0fef5a82"
      },
      "source": [
        "from lifelines import CoxPHFitter\n",
        "cph = CoxPHFitter()\n",
        "all_data = fav[['EFS Time', 'EFS Bin', \"ACE2_z\", 'TMPRSS2_z', 'IFITM3_z', 'CXCL10_z', 'AGTR1_z']]\n",
        "cph.fit(all_data, 'EFS Time', event_col='EFS Bin')\n",
        "cph.print_summary()"
      ],
      "execution_count": 127,
      "outputs": [
        {
          "output_type": "display_data",
          "data": {
            "text/latex": "\\begin{tabular}{lrrrrrrrrrr}\n\\toprule\n{} &  coef &  exp(coef) &  se(coef) &  coef lower 95\\% &  coef upper 95\\% &  exp(coef) lower 95\\% &  exp(coef) upper 95\\% &     z &    p &  -log2(p) \\\\\ncovariate &       &            &           &                 &                 &                      &                      &       &      &           \\\\\n\\midrule\nACE2\\_z    &  0.21 &       1.23 &      0.11 &           -0.00 &            0.41 &                 1.00 &                 1.51 &  1.95 & 0.05 &      4.29 \\\\\nTMPRSS2\\_z &  0.01 &       1.01 &      0.10 &           -0.19 &            0.21 &                 0.83 &                 1.24 &  0.09 & 0.93 &      0.11 \\\\\nIFITM3\\_z  & -0.07 &       0.93 &      0.13 &           -0.33 &            0.18 &                 0.72 &                 1.20 & -0.57 & 0.57 &      0.82 \\\\\nCXCL10\\_z  &  0.02 &       1.02 &      0.13 &           -0.23 &            0.27 &                 0.79 &                 1.31 &  0.14 & 0.89 &      0.17 \\\\\nAGTR1\\_z   & -0.07 &       0.93 &      0.10 &           -0.27 &            0.12 &                 0.77 &                 1.12 & -0.76 & 0.45 &      1.16 \\\\\n\\bottomrule\n\\end{tabular}\n",
            "text/html": [
              "<div>\n",
              "<style scoped>\n",
              "    .dataframe tbody tr th:only-of-type {\n",
              "        vertical-align: middle;\n",
              "    }\n",
              "\n",
              "    .dataframe tbody tr th {\n",
              "        vertical-align: top;\n",
              "    }\n",
              "\n",
              "    .dataframe thead th {\n",
              "        text-align: right;\n",
              "    }\n",
              "</style>\n",
              "<table border=\"1\" class=\"dataframe\">\n",
              "  <tbody>\n",
              "    <tr>\n",
              "      <th>model</th>\n",
              "      <td>lifelines.CoxPHFitter</td>\n",
              "    </tr>\n",
              "    <tr>\n",
              "      <th>duration col</th>\n",
              "      <td>'EFS Time'</td>\n",
              "    </tr>\n",
              "    <tr>\n",
              "      <th>event col</th>\n",
              "      <td>'EFS Bin'</td>\n",
              "    </tr>\n",
              "    <tr>\n",
              "      <th>baseline estimation</th>\n",
              "      <td>breslow</td>\n",
              "    </tr>\n",
              "    <tr>\n",
              "      <th>number of observations</th>\n",
              "      <td>419</td>\n",
              "    </tr>\n",
              "    <tr>\n",
              "      <th>number of events observed</th>\n",
              "      <td>106</td>\n",
              "    </tr>\n",
              "    <tr>\n",
              "      <th>partial log-likelihood</th>\n",
              "      <td>-617.75</td>\n",
              "    </tr>\n",
              "    <tr>\n",
              "      <th>time fit was run</th>\n",
              "      <td>2021-02-26 14:21:18 UTC</td>\n",
              "    </tr>\n",
              "  </tbody>\n",
              "</table>\n",
              "</div><table border=\"1\" class=\"dataframe\">\n",
              "  <thead>\n",
              "    <tr style=\"text-align: right;\">\n",
              "      <th style=\"min-width: 12px;\"></th>\n",
              "      <th style=\"min-width: 12px;\">coef</th>\n",
              "      <th style=\"min-width: 12px;\">exp(coef)</th>\n",
              "      <th style=\"min-width: 12px;\">se(coef)</th>\n",
              "      <th style=\"min-width: 12px;\">coef lower 95%</th>\n",
              "      <th style=\"min-width: 12px;\">coef upper 95%</th>\n",
              "      <th style=\"min-width: 12px;\">exp(coef) lower 95%</th>\n",
              "      <th style=\"min-width: 12px;\">exp(coef) upper 95%</th>\n",
              "      <th style=\"min-width: 12px;\">z</th>\n",
              "      <th style=\"min-width: 12px;\">p</th>\n",
              "      <th style=\"min-width: 12px;\">-log2(p)</th>\n",
              "    </tr>\n",
              "  </thead>\n",
              "  <tbody>\n",
              "    <tr>\n",
              "      <th>ACE2_z</th>\n",
              "      <td>0.21</td>\n",
              "      <td>1.23</td>\n",
              "      <td>0.11</td>\n",
              "      <td>-0.00</td>\n",
              "      <td>0.41</td>\n",
              "      <td>1.00</td>\n",
              "      <td>1.51</td>\n",
              "      <td>1.95</td>\n",
              "      <td>0.05</td>\n",
              "      <td>4.29</td>\n",
              "    </tr>\n",
              "    <tr>\n",
              "      <th>TMPRSS2_z</th>\n",
              "      <td>0.01</td>\n",
              "      <td>1.01</td>\n",
              "      <td>0.10</td>\n",
              "      <td>-0.19</td>\n",
              "      <td>0.21</td>\n",
              "      <td>0.83</td>\n",
              "      <td>1.24</td>\n",
              "      <td>0.09</td>\n",
              "      <td>0.93</td>\n",
              "      <td>0.11</td>\n",
              "    </tr>\n",
              "    <tr>\n",
              "      <th>IFITM3_z</th>\n",
              "      <td>-0.07</td>\n",
              "      <td>0.93</td>\n",
              "      <td>0.13</td>\n",
              "      <td>-0.33</td>\n",
              "      <td>0.18</td>\n",
              "      <td>0.72</td>\n",
              "      <td>1.20</td>\n",
              "      <td>-0.57</td>\n",
              "      <td>0.57</td>\n",
              "      <td>0.82</td>\n",
              "    </tr>\n",
              "    <tr>\n",
              "      <th>CXCL10_z</th>\n",
              "      <td>0.02</td>\n",
              "      <td>1.02</td>\n",
              "      <td>0.13</td>\n",
              "      <td>-0.23</td>\n",
              "      <td>0.27</td>\n",
              "      <td>0.79</td>\n",
              "      <td>1.31</td>\n",
              "      <td>0.14</td>\n",
              "      <td>0.89</td>\n",
              "      <td>0.17</td>\n",
              "    </tr>\n",
              "    <tr>\n",
              "      <th>AGTR1_z</th>\n",
              "      <td>-0.07</td>\n",
              "      <td>0.93</td>\n",
              "      <td>0.10</td>\n",
              "      <td>-0.27</td>\n",
              "      <td>0.12</td>\n",
              "      <td>0.77</td>\n",
              "      <td>1.12</td>\n",
              "      <td>-0.76</td>\n",
              "      <td>0.45</td>\n",
              "      <td>1.16</td>\n",
              "    </tr>\n",
              "  </tbody>\n",
              "</table><br><div>\n",
              "<style scoped>\n",
              "    .dataframe tbody tr th:only-of-type {\n",
              "        vertical-align: middle;\n",
              "    }\n",
              "\n",
              "    .dataframe tbody tr th {\n",
              "        vertical-align: top;\n",
              "    }\n",
              "\n",
              "    .dataframe thead th {\n",
              "        text-align: right;\n",
              "    }\n",
              "</style>\n",
              "<table border=\"1\" class=\"dataframe\">\n",
              "  <tbody>\n",
              "    <tr>\n",
              "      <th>Concordance</th>\n",
              "      <td>0.55</td>\n",
              "    </tr>\n",
              "    <tr>\n",
              "      <th>Partial AIC</th>\n",
              "      <td>1245.50</td>\n",
              "    </tr>\n",
              "    <tr>\n",
              "      <th>log-likelihood ratio test</th>\n",
              "      <td>4.77 on 5 df</td>\n",
              "    </tr>\n",
              "    <tr>\n",
              "      <th>-log2(p) of ll-ratio test</th>\n",
              "      <td>1.17</td>\n",
              "    </tr>\n",
              "  </tbody>\n",
              "</table>\n",
              "</div>"
            ],
            "text/plain": [
              "<lifelines.CoxPHFitter: fitted with 419 total observations, 313 right-censored observations>\n",
              "             duration col = 'EFS Time'\n",
              "                event col = 'EFS Bin'\n",
              "      baseline estimation = breslow\n",
              "   number of observations = 419\n",
              "number of events observed = 106\n",
              "   partial log-likelihood = -617.75\n",
              "         time fit was run = 2021-02-26 14:21:18 UTC\n",
              "\n",
              "---\n",
              "            coef  exp(coef)   se(coef)   coef lower 95%   coef upper 95%  exp(coef) lower 95%  exp(coef) upper 95%\n",
              "covariate                                                                                                         \n",
              "ACE2_z      0.21       1.23       0.11            -0.00             0.41                 1.00                 1.51\n",
              "TMPRSS2_z   0.01       1.01       0.10            -0.19             0.21                 0.83                 1.24\n",
              "IFITM3_z   -0.07       0.93       0.13            -0.33             0.18                 0.72                 1.20\n",
              "CXCL10_z    0.02       1.02       0.13            -0.23             0.27                 0.79                 1.31\n",
              "AGTR1_z    -0.07       0.93       0.10            -0.27             0.12                 0.77                 1.12\n",
              "\n",
              "              z    p   -log2(p)\n",
              "covariate                      \n",
              "ACE2_z     1.95 0.05       4.29\n",
              "TMPRSS2_z  0.09 0.93       0.11\n",
              "IFITM3_z  -0.57 0.57       0.82\n",
              "CXCL10_z   0.14 0.89       0.17\n",
              "AGTR1_z   -0.76 0.45       1.16\n",
              "---\n",
              "Concordance = 0.55\n",
              "Partial AIC = 1245.50\n",
              "log-likelihood ratio test = 4.77 on 5 df\n",
              "-log2(p) of ll-ratio test = 1.17"
            ]
          },
          "metadata": {
            "tags": []
          }
        }
      ]
    },
    {
      "cell_type": "code",
      "metadata": {
        "id": "YLLlNLefRSW7"
      },
      "source": [
        "unfav = all.loc[all['Favourability'] == 1]"
      ],
      "execution_count": 87,
      "outputs": []
    },
    {
      "cell_type": "code",
      "metadata": {
        "colab": {
          "base_uri": "https://localhost:8080/",
          "height": 593
        },
        "id": "sUhjTy23RV_t",
        "outputId": "82162c0e-c7ae-42ad-f213-b5baaa7e753d"
      },
      "source": [
        "from lifelines import CoxPHFitter\n",
        "cph = CoxPHFitter()\n",
        "all_data = unfav[['EFS Time', 'EFS Bin', \"ACE2_z\", 'TMPRSS2_z', 'IFITM3_z', 'CXCL10_z', 'AGTR1_z']]\n",
        "cph.fit(all_data, 'EFS Time', event_col='EFS Bin')\n",
        "cph.print_summary()"
      ],
      "execution_count": 128,
      "outputs": [
        {
          "output_type": "display_data",
          "data": {
            "text/latex": "\\begin{tabular}{lrrrrrrrrrr}\n\\toprule\n{} &  coef &  exp(coef) &  se(coef) &  coef lower 95\\% &  coef upper 95\\% &  exp(coef) lower 95\\% &  exp(coef) upper 95\\% &     z &    p &  -log2(p) \\\\\ncovariate &       &            &           &                 &                 &                      &                      &       &      &           \\\\\n\\midrule\nACE2\\_z    & -0.11 &       0.89 &      0.13 &           -0.36 &            0.14 &                 0.70 &                 1.15 & -0.87 & 0.38 &      1.39 \\\\\nTMPRSS2\\_z & -0.08 &       0.92 &      0.15 &           -0.37 &            0.21 &                 0.69 &                 1.23 & -0.55 & 0.58 &      0.78 \\\\\nIFITM3\\_z  & -0.13 &       0.88 &      0.15 &           -0.42 &            0.17 &                 0.66 &                 1.18 & -0.86 & 0.39 &      1.35 \\\\\nCXCL10\\_z  & -0.08 &       0.92 &      0.12 &           -0.31 &            0.15 &                 0.73 &                 1.16 & -0.71 & 0.47 &      1.07 \\\\\nAGTR1\\_z   &  0.26 &       1.29 &      0.17 &           -0.08 &            0.59 &                 0.92 &                 1.81 &  1.48 & 0.14 &      2.85 \\\\\n\\bottomrule\n\\end{tabular}\n",
            "text/html": [
              "<div>\n",
              "<style scoped>\n",
              "    .dataframe tbody tr th:only-of-type {\n",
              "        vertical-align: middle;\n",
              "    }\n",
              "\n",
              "    .dataframe tbody tr th {\n",
              "        vertical-align: top;\n",
              "    }\n",
              "\n",
              "    .dataframe thead th {\n",
              "        text-align: right;\n",
              "    }\n",
              "</style>\n",
              "<table border=\"1\" class=\"dataframe\">\n",
              "  <tbody>\n",
              "    <tr>\n",
              "      <th>model</th>\n",
              "      <td>lifelines.CoxPHFitter</td>\n",
              "    </tr>\n",
              "    <tr>\n",
              "      <th>duration col</th>\n",
              "      <td>'EFS Time'</td>\n",
              "    </tr>\n",
              "    <tr>\n",
              "      <th>event col</th>\n",
              "      <td>'EFS Bin'</td>\n",
              "    </tr>\n",
              "    <tr>\n",
              "      <th>baseline estimation</th>\n",
              "      <td>breslow</td>\n",
              "    </tr>\n",
              "    <tr>\n",
              "      <th>number of observations</th>\n",
              "      <td>74</td>\n",
              "    </tr>\n",
              "    <tr>\n",
              "      <th>number of events observed</th>\n",
              "      <td>74</td>\n",
              "    </tr>\n",
              "    <tr>\n",
              "      <th>partial log-likelihood</th>\n",
              "      <td>-244.57</td>\n",
              "    </tr>\n",
              "    <tr>\n",
              "      <th>time fit was run</th>\n",
              "      <td>2021-02-26 14:21:39 UTC</td>\n",
              "    </tr>\n",
              "  </tbody>\n",
              "</table>\n",
              "</div><table border=\"1\" class=\"dataframe\">\n",
              "  <thead>\n",
              "    <tr style=\"text-align: right;\">\n",
              "      <th style=\"min-width: 12px;\"></th>\n",
              "      <th style=\"min-width: 12px;\">coef</th>\n",
              "      <th style=\"min-width: 12px;\">exp(coef)</th>\n",
              "      <th style=\"min-width: 12px;\">se(coef)</th>\n",
              "      <th style=\"min-width: 12px;\">coef lower 95%</th>\n",
              "      <th style=\"min-width: 12px;\">coef upper 95%</th>\n",
              "      <th style=\"min-width: 12px;\">exp(coef) lower 95%</th>\n",
              "      <th style=\"min-width: 12px;\">exp(coef) upper 95%</th>\n",
              "      <th style=\"min-width: 12px;\">z</th>\n",
              "      <th style=\"min-width: 12px;\">p</th>\n",
              "      <th style=\"min-width: 12px;\">-log2(p)</th>\n",
              "    </tr>\n",
              "  </thead>\n",
              "  <tbody>\n",
              "    <tr>\n",
              "      <th>ACE2_z</th>\n",
              "      <td>-0.11</td>\n",
              "      <td>0.89</td>\n",
              "      <td>0.13</td>\n",
              "      <td>-0.36</td>\n",
              "      <td>0.14</td>\n",
              "      <td>0.70</td>\n",
              "      <td>1.15</td>\n",
              "      <td>-0.87</td>\n",
              "      <td>0.38</td>\n",
              "      <td>1.39</td>\n",
              "    </tr>\n",
              "    <tr>\n",
              "      <th>TMPRSS2_z</th>\n",
              "      <td>-0.08</td>\n",
              "      <td>0.92</td>\n",
              "      <td>0.15</td>\n",
              "      <td>-0.37</td>\n",
              "      <td>0.21</td>\n",
              "      <td>0.69</td>\n",
              "      <td>1.23</td>\n",
              "      <td>-0.55</td>\n",
              "      <td>0.58</td>\n",
              "      <td>0.78</td>\n",
              "    </tr>\n",
              "    <tr>\n",
              "      <th>IFITM3_z</th>\n",
              "      <td>-0.13</td>\n",
              "      <td>0.88</td>\n",
              "      <td>0.15</td>\n",
              "      <td>-0.42</td>\n",
              "      <td>0.17</td>\n",
              "      <td>0.66</td>\n",
              "      <td>1.18</td>\n",
              "      <td>-0.86</td>\n",
              "      <td>0.39</td>\n",
              "      <td>1.35</td>\n",
              "    </tr>\n",
              "    <tr>\n",
              "      <th>CXCL10_z</th>\n",
              "      <td>-0.08</td>\n",
              "      <td>0.92</td>\n",
              "      <td>0.12</td>\n",
              "      <td>-0.31</td>\n",
              "      <td>0.15</td>\n",
              "      <td>0.73</td>\n",
              "      <td>1.16</td>\n",
              "      <td>-0.71</td>\n",
              "      <td>0.47</td>\n",
              "      <td>1.07</td>\n",
              "    </tr>\n",
              "    <tr>\n",
              "      <th>AGTR1_z</th>\n",
              "      <td>0.26</td>\n",
              "      <td>1.29</td>\n",
              "      <td>0.17</td>\n",
              "      <td>-0.08</td>\n",
              "      <td>0.59</td>\n",
              "      <td>0.92</td>\n",
              "      <td>1.81</td>\n",
              "      <td>1.48</td>\n",
              "      <td>0.14</td>\n",
              "      <td>2.85</td>\n",
              "    </tr>\n",
              "  </tbody>\n",
              "</table><br><div>\n",
              "<style scoped>\n",
              "    .dataframe tbody tr th:only-of-type {\n",
              "        vertical-align: middle;\n",
              "    }\n",
              "\n",
              "    .dataframe tbody tr th {\n",
              "        vertical-align: top;\n",
              "    }\n",
              "\n",
              "    .dataframe thead th {\n",
              "        text-align: right;\n",
              "    }\n",
              "</style>\n",
              "<table border=\"1\" class=\"dataframe\">\n",
              "  <tbody>\n",
              "    <tr>\n",
              "      <th>Concordance</th>\n",
              "      <td>0.60</td>\n",
              "    </tr>\n",
              "    <tr>\n",
              "      <th>Partial AIC</th>\n",
              "      <td>499.14</td>\n",
              "    </tr>\n",
              "    <tr>\n",
              "      <th>log-likelihood ratio test</th>\n",
              "      <td>6.00 on 5 df</td>\n",
              "    </tr>\n",
              "    <tr>\n",
              "      <th>-log2(p) of ll-ratio test</th>\n",
              "      <td>1.71</td>\n",
              "    </tr>\n",
              "  </tbody>\n",
              "</table>\n",
              "</div>"
            ],
            "text/plain": [
              "<lifelines.CoxPHFitter: fitted with 74 total observations, 0 right-censored observations>\n",
              "             duration col = 'EFS Time'\n",
              "                event col = 'EFS Bin'\n",
              "      baseline estimation = breslow\n",
              "   number of observations = 74\n",
              "number of events observed = 74\n",
              "   partial log-likelihood = -244.57\n",
              "         time fit was run = 2021-02-26 14:21:39 UTC\n",
              "\n",
              "---\n",
              "            coef  exp(coef)   se(coef)   coef lower 95%   coef upper 95%  exp(coef) lower 95%  exp(coef) upper 95%\n",
              "covariate                                                                                                         \n",
              "ACE2_z     -0.11       0.89       0.13            -0.36             0.14                 0.70                 1.15\n",
              "TMPRSS2_z  -0.08       0.92       0.15            -0.37             0.21                 0.69                 1.23\n",
              "IFITM3_z   -0.13       0.88       0.15            -0.42             0.17                 0.66                 1.18\n",
              "CXCL10_z   -0.08       0.92       0.12            -0.31             0.15                 0.73                 1.16\n",
              "AGTR1_z     0.26       1.29       0.17            -0.08             0.59                 0.92                 1.81\n",
              "\n",
              "              z    p   -log2(p)\n",
              "covariate                      \n",
              "ACE2_z    -0.87 0.38       1.39\n",
              "TMPRSS2_z -0.55 0.58       0.78\n",
              "IFITM3_z  -0.86 0.39       1.35\n",
              "CXCL10_z  -0.71 0.47       1.07\n",
              "AGTR1_z    1.48 0.14       2.85\n",
              "---\n",
              "Concordance = 0.60\n",
              "Partial AIC = 499.14\n",
              "log-likelihood ratio test = 6.00 on 5 df\n",
              "-log2(p) of ll-ratio test = 1.71"
            ]
          },
          "metadata": {
            "tags": []
          }
        }
      ]
    },
    {
      "cell_type": "markdown",
      "metadata": {
        "id": "GiOPbG0kRoXd"
      },
      "source": [
        "### **Age**"
      ]
    },
    {
      "cell_type": "code",
      "metadata": {
        "id": "__pij493RpmI"
      },
      "source": [
        "young = all.loc[all['Age'] < 547]"
      ],
      "execution_count": 89,
      "outputs": []
    },
    {
      "cell_type": "code",
      "metadata": {
        "colab": {
          "base_uri": "https://localhost:8080/",
          "height": 593
        },
        "id": "-Aoi_q2KRywP",
        "outputId": "f5bc67cf-002d-44f2-dd2d-c30cb4d4657a"
      },
      "source": [
        "from lifelines import CoxPHFitter\n",
        "cph = CoxPHFitter()\n",
        "all_data = young[['EFS Time', 'EFS Bin', \"ACE2_z\", 'TMPRSS2_z', 'IFITM3_z', 'CXCL10_z', 'AGTR1_z']]\n",
        "cph.fit(all_data, 'EFS Time', event_col='EFS Bin')\n",
        "cph.print_summary()"
      ],
      "execution_count": 117,
      "outputs": [
        {
          "output_type": "display_data",
          "data": {
            "text/latex": "\\begin{tabular}{lrrrrrrrrrr}\n\\toprule\n{} &  coef &  exp(coef) &  se(coef) &  coef lower 95\\% &  coef upper 95\\% &  exp(coef) lower 95\\% &  exp(coef) upper 95\\% &     z &    p &  -log2(p) \\\\\ncovariate &       &            &           &                 &                 &                      &                      &       &      &           \\\\\n\\midrule\nACE2\\_z    &  0.31 &       1.36 &      0.14 &            0.03 &            0.58 &                 1.04 &                 1.79 &  2.21 & 0.03 &      5.21 \\\\\nTMPRSS2\\_z &  0.06 &       1.06 &      0.12 &           -0.18 &            0.30 &                 0.83 &                 1.36 &  0.48 & 0.63 &      0.66 \\\\\nIFITM3\\_z  &  0.01 &       1.01 &      0.17 &           -0.33 &            0.35 &                 0.72 &                 1.41 &  0.06 & 0.95 &      0.07 \\\\\nCXCL10\\_z  & -0.25 &       0.78 &      0.16 &           -0.57 &            0.07 &                 0.57 &                 1.07 & -1.52 & 0.13 &      2.96 \\\\\nAGTR1\\_z   & -0.16 &       0.86 &      0.14 &           -0.43 &            0.12 &                 0.65 &                 1.12 & -1.12 & 0.26 &      1.94 \\\\\n\\bottomrule\n\\end{tabular}\n",
            "text/html": [
              "<div>\n",
              "<style scoped>\n",
              "    .dataframe tbody tr th:only-of-type {\n",
              "        vertical-align: middle;\n",
              "    }\n",
              "\n",
              "    .dataframe tbody tr th {\n",
              "        vertical-align: top;\n",
              "    }\n",
              "\n",
              "    .dataframe thead th {\n",
              "        text-align: right;\n",
              "    }\n",
              "</style>\n",
              "<table border=\"1\" class=\"dataframe\">\n",
              "  <tbody>\n",
              "    <tr>\n",
              "      <th>model</th>\n",
              "      <td>lifelines.CoxPHFitter</td>\n",
              "    </tr>\n",
              "    <tr>\n",
              "      <th>duration col</th>\n",
              "      <td>'EFS Time'</td>\n",
              "    </tr>\n",
              "    <tr>\n",
              "      <th>event col</th>\n",
              "      <td>'EFS Bin'</td>\n",
              "    </tr>\n",
              "    <tr>\n",
              "      <th>baseline estimation</th>\n",
              "      <td>breslow</td>\n",
              "    </tr>\n",
              "    <tr>\n",
              "      <th>number of observations</th>\n",
              "      <td>302</td>\n",
              "    </tr>\n",
              "    <tr>\n",
              "      <th>number of events observed</th>\n",
              "      <td>66</td>\n",
              "    </tr>\n",
              "    <tr>\n",
              "      <th>partial log-likelihood</th>\n",
              "      <td>-362.60</td>\n",
              "    </tr>\n",
              "    <tr>\n",
              "      <th>time fit was run</th>\n",
              "      <td>2021-02-26 14:08:31 UTC</td>\n",
              "    </tr>\n",
              "  </tbody>\n",
              "</table>\n",
              "</div><table border=\"1\" class=\"dataframe\">\n",
              "  <thead>\n",
              "    <tr style=\"text-align: right;\">\n",
              "      <th style=\"min-width: 12px;\"></th>\n",
              "      <th style=\"min-width: 12px;\">coef</th>\n",
              "      <th style=\"min-width: 12px;\">exp(coef)</th>\n",
              "      <th style=\"min-width: 12px;\">se(coef)</th>\n",
              "      <th style=\"min-width: 12px;\">coef lower 95%</th>\n",
              "      <th style=\"min-width: 12px;\">coef upper 95%</th>\n",
              "      <th style=\"min-width: 12px;\">exp(coef) lower 95%</th>\n",
              "      <th style=\"min-width: 12px;\">exp(coef) upper 95%</th>\n",
              "      <th style=\"min-width: 12px;\">z</th>\n",
              "      <th style=\"min-width: 12px;\">p</th>\n",
              "      <th style=\"min-width: 12px;\">-log2(p)</th>\n",
              "    </tr>\n",
              "  </thead>\n",
              "  <tbody>\n",
              "    <tr>\n",
              "      <th>ACE2_z</th>\n",
              "      <td>0.31</td>\n",
              "      <td>1.36</td>\n",
              "      <td>0.14</td>\n",
              "      <td>0.03</td>\n",
              "      <td>0.58</td>\n",
              "      <td>1.04</td>\n",
              "      <td>1.79</td>\n",
              "      <td>2.21</td>\n",
              "      <td>0.03</td>\n",
              "      <td>5.21</td>\n",
              "    </tr>\n",
              "    <tr>\n",
              "      <th>TMPRSS2_z</th>\n",
              "      <td>0.06</td>\n",
              "      <td>1.06</td>\n",
              "      <td>0.12</td>\n",
              "      <td>-0.18</td>\n",
              "      <td>0.30</td>\n",
              "      <td>0.83</td>\n",
              "      <td>1.36</td>\n",
              "      <td>0.48</td>\n",
              "      <td>0.63</td>\n",
              "      <td>0.66</td>\n",
              "    </tr>\n",
              "    <tr>\n",
              "      <th>IFITM3_z</th>\n",
              "      <td>0.01</td>\n",
              "      <td>1.01</td>\n",
              "      <td>0.17</td>\n",
              "      <td>-0.33</td>\n",
              "      <td>0.35</td>\n",
              "      <td>0.72</td>\n",
              "      <td>1.41</td>\n",
              "      <td>0.06</td>\n",
              "      <td>0.95</td>\n",
              "      <td>0.07</td>\n",
              "    </tr>\n",
              "    <tr>\n",
              "      <th>CXCL10_z</th>\n",
              "      <td>-0.25</td>\n",
              "      <td>0.78</td>\n",
              "      <td>0.16</td>\n",
              "      <td>-0.57</td>\n",
              "      <td>0.07</td>\n",
              "      <td>0.57</td>\n",
              "      <td>1.07</td>\n",
              "      <td>-1.52</td>\n",
              "      <td>0.13</td>\n",
              "      <td>2.96</td>\n",
              "    </tr>\n",
              "    <tr>\n",
              "      <th>AGTR1_z</th>\n",
              "      <td>-0.16</td>\n",
              "      <td>0.86</td>\n",
              "      <td>0.14</td>\n",
              "      <td>-0.43</td>\n",
              "      <td>0.12</td>\n",
              "      <td>0.65</td>\n",
              "      <td>1.12</td>\n",
              "      <td>-1.12</td>\n",
              "      <td>0.26</td>\n",
              "      <td>1.94</td>\n",
              "    </tr>\n",
              "  </tbody>\n",
              "</table><br><div>\n",
              "<style scoped>\n",
              "    .dataframe tbody tr th:only-of-type {\n",
              "        vertical-align: middle;\n",
              "    }\n",
              "\n",
              "    .dataframe tbody tr th {\n",
              "        vertical-align: top;\n",
              "    }\n",
              "\n",
              "    .dataframe thead th {\n",
              "        text-align: right;\n",
              "    }\n",
              "</style>\n",
              "<table border=\"1\" class=\"dataframe\">\n",
              "  <tbody>\n",
              "    <tr>\n",
              "      <th>Concordance</th>\n",
              "      <td>0.57</td>\n",
              "    </tr>\n",
              "    <tr>\n",
              "      <th>Partial AIC</th>\n",
              "      <td>735.20</td>\n",
              "    </tr>\n",
              "    <tr>\n",
              "      <th>log-likelihood ratio test</th>\n",
              "      <td>9.56 on 5 df</td>\n",
              "    </tr>\n",
              "    <tr>\n",
              "      <th>-log2(p) of ll-ratio test</th>\n",
              "      <td>3.49</td>\n",
              "    </tr>\n",
              "  </tbody>\n",
              "</table>\n",
              "</div>"
            ],
            "text/plain": [
              "<lifelines.CoxPHFitter: fitted with 302 total observations, 236 right-censored observations>\n",
              "             duration col = 'EFS Time'\n",
              "                event col = 'EFS Bin'\n",
              "      baseline estimation = breslow\n",
              "   number of observations = 302\n",
              "number of events observed = 66\n",
              "   partial log-likelihood = -362.60\n",
              "         time fit was run = 2021-02-26 14:08:31 UTC\n",
              "\n",
              "---\n",
              "            coef  exp(coef)   se(coef)   coef lower 95%   coef upper 95%  exp(coef) lower 95%  exp(coef) upper 95%\n",
              "covariate                                                                                                         \n",
              "ACE2_z      0.31       1.36       0.14             0.03             0.58                 1.04                 1.79\n",
              "TMPRSS2_z   0.06       1.06       0.12            -0.18             0.30                 0.83                 1.36\n",
              "IFITM3_z    0.01       1.01       0.17            -0.33             0.35                 0.72                 1.41\n",
              "CXCL10_z   -0.25       0.78       0.16            -0.57             0.07                 0.57                 1.07\n",
              "AGTR1_z    -0.16       0.86       0.14            -0.43             0.12                 0.65                 1.12\n",
              "\n",
              "              z    p   -log2(p)\n",
              "covariate                      \n",
              "ACE2_z     2.21 0.03       5.21\n",
              "TMPRSS2_z  0.48 0.63       0.66\n",
              "IFITM3_z   0.06 0.95       0.07\n",
              "CXCL10_z  -1.52 0.13       2.96\n",
              "AGTR1_z   -1.12 0.26       1.94\n",
              "---\n",
              "Concordance = 0.57\n",
              "Partial AIC = 735.20\n",
              "log-likelihood ratio test = 9.56 on 5 df\n",
              "-log2(p) of ll-ratio test = 3.49"
            ]
          },
          "metadata": {
            "tags": []
          }
        }
      ]
    },
    {
      "cell_type": "code",
      "metadata": {
        "id": "EKdPb1AfR4S7"
      },
      "source": [
        "old = all.loc[all['Age'] >= 547]"
      ],
      "execution_count": 92,
      "outputs": []
    },
    {
      "cell_type": "code",
      "metadata": {
        "colab": {
          "base_uri": "https://localhost:8080/",
          "height": 593
        },
        "id": "xgzjVR1bR8C8",
        "outputId": "ec9a5dec-d93c-4f8e-d86d-8cbbb6d76c4a"
      },
      "source": [
        "from lifelines import CoxPHFitter\n",
        "cph = CoxPHFitter()\n",
        "all_data = old[['EFS Time', 'EFS Bin', \"ACE2_z\", 'TMPRSS2_z', 'IFITM3_z', 'CXCL10_z', 'AGTR1_z']]\n",
        "cph.fit(all_data, 'EFS Time', event_col='EFS Bin')\n",
        "cph.print_summary()"
      ],
      "execution_count": 118,
      "outputs": [
        {
          "output_type": "display_data",
          "data": {
            "text/latex": "\\begin{tabular}{lrrrrrrrrrr}\n\\toprule\n{} &  coef &  exp(coef) &  se(coef) &  coef lower 95\\% &  coef upper 95\\% &  exp(coef) lower 95\\% &  exp(coef) upper 95\\% &     z &    p &  -log2(p) \\\\\ncovariate &       &            &           &                 &                 &                      &                      &       &      &           \\\\\n\\midrule\nACE2\\_z    &  0.05 &       1.05 &      0.10 &           -0.15 &            0.25 &                 0.86 &                 1.28 &  0.50 & 0.61 &      0.70 \\\\\nTMPRSS2\\_z & -0.12 &       0.89 &      0.11 &           -0.33 &            0.10 &                 0.72 &                 1.10 & -1.06 & 0.29 &      1.79 \\\\\nIFITM3\\_z  & -0.06 &       0.95 &      0.11 &           -0.28 &            0.17 &                 0.76 &                 1.18 & -0.49 & 0.63 &      0.67 \\\\\nCXCL10\\_z  & -0.00 &       1.00 &      0.10 &           -0.20 &            0.19 &                 0.82 &                 1.21 & -0.03 & 0.98 &      0.03 \\\\\nAGTR1\\_z   & -0.01 &       0.99 &      0.08 &           -0.17 &            0.16 &                 0.84 &                 1.17 & -0.07 & 0.94 &      0.09 \\\\\n\\bottomrule\n\\end{tabular}\n",
            "text/html": [
              "<div>\n",
              "<style scoped>\n",
              "    .dataframe tbody tr th:only-of-type {\n",
              "        vertical-align: middle;\n",
              "    }\n",
              "\n",
              "    .dataframe tbody tr th {\n",
              "        vertical-align: top;\n",
              "    }\n",
              "\n",
              "    .dataframe thead th {\n",
              "        text-align: right;\n",
              "    }\n",
              "</style>\n",
              "<table border=\"1\" class=\"dataframe\">\n",
              "  <tbody>\n",
              "    <tr>\n",
              "      <th>model</th>\n",
              "      <td>lifelines.CoxPHFitter</td>\n",
              "    </tr>\n",
              "    <tr>\n",
              "      <th>duration col</th>\n",
              "      <td>'EFS Time'</td>\n",
              "    </tr>\n",
              "    <tr>\n",
              "      <th>event col</th>\n",
              "      <td>'EFS Bin'</td>\n",
              "    </tr>\n",
              "    <tr>\n",
              "      <th>baseline estimation</th>\n",
              "      <td>breslow</td>\n",
              "    </tr>\n",
              "    <tr>\n",
              "      <th>number of observations</th>\n",
              "      <td>191</td>\n",
              "    </tr>\n",
              "    <tr>\n",
              "      <th>number of events observed</th>\n",
              "      <td>114</td>\n",
              "    </tr>\n",
              "    <tr>\n",
              "      <th>partial log-likelihood</th>\n",
              "      <td>-546.04</td>\n",
              "    </tr>\n",
              "    <tr>\n",
              "      <th>time fit was run</th>\n",
              "      <td>2021-02-26 14:08:44 UTC</td>\n",
              "    </tr>\n",
              "  </tbody>\n",
              "</table>\n",
              "</div><table border=\"1\" class=\"dataframe\">\n",
              "  <thead>\n",
              "    <tr style=\"text-align: right;\">\n",
              "      <th style=\"min-width: 12px;\"></th>\n",
              "      <th style=\"min-width: 12px;\">coef</th>\n",
              "      <th style=\"min-width: 12px;\">exp(coef)</th>\n",
              "      <th style=\"min-width: 12px;\">se(coef)</th>\n",
              "      <th style=\"min-width: 12px;\">coef lower 95%</th>\n",
              "      <th style=\"min-width: 12px;\">coef upper 95%</th>\n",
              "      <th style=\"min-width: 12px;\">exp(coef) lower 95%</th>\n",
              "      <th style=\"min-width: 12px;\">exp(coef) upper 95%</th>\n",
              "      <th style=\"min-width: 12px;\">z</th>\n",
              "      <th style=\"min-width: 12px;\">p</th>\n",
              "      <th style=\"min-width: 12px;\">-log2(p)</th>\n",
              "    </tr>\n",
              "  </thead>\n",
              "  <tbody>\n",
              "    <tr>\n",
              "      <th>ACE2_z</th>\n",
              "      <td>0.05</td>\n",
              "      <td>1.05</td>\n",
              "      <td>0.10</td>\n",
              "      <td>-0.15</td>\n",
              "      <td>0.25</td>\n",
              "      <td>0.86</td>\n",
              "      <td>1.28</td>\n",
              "      <td>0.50</td>\n",
              "      <td>0.61</td>\n",
              "      <td>0.70</td>\n",
              "    </tr>\n",
              "    <tr>\n",
              "      <th>TMPRSS2_z</th>\n",
              "      <td>-0.12</td>\n",
              "      <td>0.89</td>\n",
              "      <td>0.11</td>\n",
              "      <td>-0.33</td>\n",
              "      <td>0.10</td>\n",
              "      <td>0.72</td>\n",
              "      <td>1.10</td>\n",
              "      <td>-1.06</td>\n",
              "      <td>0.29</td>\n",
              "      <td>1.79</td>\n",
              "    </tr>\n",
              "    <tr>\n",
              "      <th>IFITM3_z</th>\n",
              "      <td>-0.06</td>\n",
              "      <td>0.95</td>\n",
              "      <td>0.11</td>\n",
              "      <td>-0.28</td>\n",
              "      <td>0.17</td>\n",
              "      <td>0.76</td>\n",
              "      <td>1.18</td>\n",
              "      <td>-0.49</td>\n",
              "      <td>0.63</td>\n",
              "      <td>0.67</td>\n",
              "    </tr>\n",
              "    <tr>\n",
              "      <th>CXCL10_z</th>\n",
              "      <td>-0.00</td>\n",
              "      <td>1.00</td>\n",
              "      <td>0.10</td>\n",
              "      <td>-0.20</td>\n",
              "      <td>0.19</td>\n",
              "      <td>0.82</td>\n",
              "      <td>1.21</td>\n",
              "      <td>-0.03</td>\n",
              "      <td>0.98</td>\n",
              "      <td>0.03</td>\n",
              "    </tr>\n",
              "    <tr>\n",
              "      <th>AGTR1_z</th>\n",
              "      <td>-0.01</td>\n",
              "      <td>0.99</td>\n",
              "      <td>0.08</td>\n",
              "      <td>-0.17</td>\n",
              "      <td>0.16</td>\n",
              "      <td>0.84</td>\n",
              "      <td>1.17</td>\n",
              "      <td>-0.07</td>\n",
              "      <td>0.94</td>\n",
              "      <td>0.09</td>\n",
              "    </tr>\n",
              "  </tbody>\n",
              "</table><br><div>\n",
              "<style scoped>\n",
              "    .dataframe tbody tr th:only-of-type {\n",
              "        vertical-align: middle;\n",
              "    }\n",
              "\n",
              "    .dataframe tbody tr th {\n",
              "        vertical-align: top;\n",
              "    }\n",
              "\n",
              "    .dataframe thead th {\n",
              "        text-align: right;\n",
              "    }\n",
              "</style>\n",
              "<table border=\"1\" class=\"dataframe\">\n",
              "  <tbody>\n",
              "    <tr>\n",
              "      <th>Concordance</th>\n",
              "      <td>0.55</td>\n",
              "    </tr>\n",
              "    <tr>\n",
              "      <th>Partial AIC</th>\n",
              "      <td>1102.08</td>\n",
              "    </tr>\n",
              "    <tr>\n",
              "      <th>log-likelihood ratio test</th>\n",
              "      <td>2.22 on 5 df</td>\n",
              "    </tr>\n",
              "    <tr>\n",
              "      <th>-log2(p) of ll-ratio test</th>\n",
              "      <td>0.29</td>\n",
              "    </tr>\n",
              "  </tbody>\n",
              "</table>\n",
              "</div>"
            ],
            "text/plain": [
              "<lifelines.CoxPHFitter: fitted with 191 total observations, 77 right-censored observations>\n",
              "             duration col = 'EFS Time'\n",
              "                event col = 'EFS Bin'\n",
              "      baseline estimation = breslow\n",
              "   number of observations = 191\n",
              "number of events observed = 114\n",
              "   partial log-likelihood = -546.04\n",
              "         time fit was run = 2021-02-26 14:08:44 UTC\n",
              "\n",
              "---\n",
              "            coef  exp(coef)   se(coef)   coef lower 95%   coef upper 95%  exp(coef) lower 95%  exp(coef) upper 95%\n",
              "covariate                                                                                                         \n",
              "ACE2_z      0.05       1.05       0.10            -0.15             0.25                 0.86                 1.28\n",
              "TMPRSS2_z  -0.12       0.89       0.11            -0.33             0.10                 0.72                 1.10\n",
              "IFITM3_z   -0.06       0.95       0.11            -0.28             0.17                 0.76                 1.18\n",
              "CXCL10_z   -0.00       1.00       0.10            -0.20             0.19                 0.82                 1.21\n",
              "AGTR1_z    -0.01       0.99       0.08            -0.17             0.16                 0.84                 1.17\n",
              "\n",
              "              z    p   -log2(p)\n",
              "covariate                      \n",
              "ACE2_z     0.50 0.61       0.70\n",
              "TMPRSS2_z -1.06 0.29       1.79\n",
              "IFITM3_z  -0.49 0.63       0.67\n",
              "CXCL10_z  -0.03 0.98       0.03\n",
              "AGTR1_z   -0.07 0.94       0.09\n",
              "---\n",
              "Concordance = 0.55\n",
              "Partial AIC = 1102.08\n",
              "log-likelihood ratio test = 2.22 on 5 df\n",
              "-log2(p) of ll-ratio test = 0.29"
            ]
          },
          "metadata": {
            "tags": []
          }
        }
      ]
    },
    {
      "cell_type": "code",
      "metadata": {
        "colab": {
          "base_uri": "https://localhost:8080/",
          "height": 296
        },
        "id": "ksLyyPeVVNdj",
        "outputId": "7e4ae8ba-3610-4d04-9b3e-5fda092ced1e"
      },
      "source": [
        "cph.plot()"
      ],
      "execution_count": 99,
      "outputs": [
        {
          "output_type": "execute_result",
          "data": {
            "text/plain": [
              "<matplotlib.axes._subplots.AxesSubplot at 0x7f0c77fcc6d0>"
            ]
          },
          "metadata": {
            "tags": []
          },
          "execution_count": 99
        },
        {
          "output_type": "display_data",
          "data": {
            "image/png": "[encoded data removed]",
            "text/plain": [
              "<Figure size 432x288 with 1 Axes>"
            ]
          },
          "metadata": {
            "tags": [],
            "needs_background": "light"
          }
        }
      ]
    }
  ]
}