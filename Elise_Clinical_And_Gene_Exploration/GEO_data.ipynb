{
  "nbformat": 4,
  "nbformat_minor": 0,
  "metadata": {
    "colab": {
      "name": "Copy of Untitled3.ipynb",
      "provenance": []
    },
    "kernelspec": {
      "name": "python3",
      "display_name": "Python 3"
    }
  },
  "cells": [
    {
      "cell_type": "code",
      "metadata": {
        "colab": {
          "base_uri": "https://localhost:8080/"
        },
        "id": "ji950utJBX0u",
        "outputId": "37ea011f-e04d-441d-835b-c0772f2bbec5"
      },
      "source": [
        "from google.colab import drive\n",
        "drive.mount('/gdrive')"
      ],
      "execution_count": 1,
      "outputs": [
        {
          "output_type": "stream",
          "text": [
            "Mounted at /gdrive\n"
          ],
          "name": "stdout"
        }
      ]
    },
    {
      "cell_type": "code",
      "metadata": {
        "id": "0GVVUnDe5t6W"
      },
      "source": [
        "import pandas as pd"
      ],
      "execution_count": 2,
      "outputs": []
    },
    {
      "cell_type": "code",
      "metadata": {
        "id": "ivB-X73nW1fG"
      },
      "source": [
        "import GEOparse\n",
        "gse = GEOparse.get_GEO(\"GSE62564\") #GSE62564 has EFS data\n",
        "gse2 = GEOparse.get_GEO(\"GSE49711\") #GSE49711 has microarray data"
      ],
      "execution_count": null,
      "outputs": []
    },
    {
      "cell_type": "code",
      "metadata": {
        "id": "cMHc5OulYpkv"
      },
      "source": [
        "#Load into dataframes\n",
        "clinical = gse.phenotype_data\n",
        "clinical2 = gse2.phenotype_data"
      ],
      "execution_count": 7,
      "outputs": []
    },
    {
      "cell_type": "code",
      "metadata": {
        "id": "uDMNokfXk-kK"
      },
      "source": [
        "#Formatting and merginf dataframes\n",
        "clinical = clinical.reset_index()\n",
        "clinical2 = clinical2.reset_index()\n",
        "clinical = pd.concat([clinical, clinical2], axis=1)"
      ],
      "execution_count": 8,
      "outputs": []
    },
    {
      "cell_type": "code",
      "metadata": {
        "id": "cQFjqLIUeiMr"
      },
      "source": [
        "#Get just the columns I'm interested in and rename them\n",
        "reduced_clinical = clinical[['index', 'title', 'characteristics_ch1.1.Sex', 'characteristics_ch1.2.age', 'characteristics_ch1.3.efs day', 'characteristics_ch1.4.efs bin', 'characteristics_ch1.4.mycn status']]"
      ],
      "execution_count": 9,
      "outputs": []
    },
    {
      "cell_type": "code",
      "metadata": {
        "id": "fCistVt5Afs6"
      },
      "source": [
        "#Rename columns and drop the duplicates\n",
        "reduced_clinical.columns = ['GSM', 'GSM2', 'SampID2', 'SampID', 'Sex', 'Age', 'EFS Time', 'EFS Bin', 'MYCN Amplification']\n",
        "reduced_clinical = reduced_clinical.drop(['GSM2', 'SampID2'], axis=1)"
      ],
      "execution_count": 11,
      "outputs": []
    },
    {
      "cell_type": "code",
      "metadata": {
        "colab": {
          "base_uri": "https://localhost:8080/"
        },
        "id": "s5YrQBdr525B",
        "outputId": "ceb1d60f-40ab-4aa4-e09c-1432f7a907ce"
      },
      "source": [
        "#Load microarray data file\n",
        "microarray_data = pd.read_csv('/gdrive/My Drive/project/GSE49711_SEQC_NB_MAV_G_log2.csv', sep='\\t')"
      ],
      "execution_count": 12,
      "outputs": [
        {
          "output_type": "stream",
          "text": [
            "/usr/local/lib/python3.7/dist-packages/IPython/core/interactiveshell.py:2718: DtypeWarning: Columns (1,2) have mixed types.Specify dtype option on import or set low_memory=False.\n",
            "  interactivity=interactivity, compiler=compiler, result=result)\n"
          ],
          "name": "stderr"
        }
      ]
    },
    {
      "cell_type": "code",
      "metadata": {
        "id": "PGqzUgLPHu0C"
      },
      "source": [
        "#Format microarray dataframe so it. can be merged with clinical data\n",
        "microarray_data = microarray_data.transpose()\n",
        "microarray_data.columns = microarray_data.iloc[0]\n",
        "microarray_data = microarray_data.drop(['#Gene'])\n",
        "#Genes I'm interested in\n",
        "genes = microarray_data[['TP53', 'NTRK1', 'PTPN6', 'ACE2', 'TMPRSS2', 'CXCL10', 'AGTR1']]\n",
        "genes = genes[1:]\n",
        "genes = genes.reset_index()\n",
        "genes = genes.rename(columns={\"index\": \"SampID\"})"
      ],
      "execution_count": 14,
      "outputs": []
    },
    {
      "cell_type": "code",
      "metadata": {
        "id": "8CfQadw7nu2N"
      },
      "source": [
        "#Merge clinical data and microarray data\n",
        "all = pd.merge(reduced_clinical, genes, on='SampID')"
      ],
      "execution_count": 15,
      "outputs": []
    },
    {
      "cell_type": "code",
      "metadata": {
        "id": "OTrevHy8uqTd"
      },
      "source": [
        "#Calculate z-scores\n",
        "from scipy.stats import zscore\n",
        "all['TP53_z'] = zscore(all['TP53'].astype(float))\n",
        "all['NTRK1_z'] = zscore(all['NTRK1'].astype(float))\n",
        "all['PTPN6_z'] = zscore(all['PTPN6'].astype(float))\n",
        "all['ACE2_z'] = zscore(all['ACE2'].astype(float))\n",
        "all['TMPRSS2_z'] = zscore(all['TMPRSS2'].astype(float))\n",
        "all['CXCL10_z'] = zscore(all['CXCL10'].astype(float))\n",
        "all['AGTR1_z'] = zscore(all['AGTR1'].astype(float))"
      ],
      "execution_count": 17,
      "outputs": []
    },
    {
      "cell_type": "code",
      "metadata": {
        "colab": {
          "base_uri": "https://localhost:8080/",
          "height": 456
        },
        "id": "OtqHUcAYJiDi",
        "outputId": "86d393df-eb80-4b1e-d887-d83117189d97"
      },
      "source": [
        "all"
      ],
      "execution_count": 18,
      "outputs": [
        {
          "output_type": "execute_result",
          "data": {
            "text/html": [
              "<div>\n",
              "<style scoped>\n",
              "    .dataframe tbody tr th:only-of-type {\n",
              "        vertical-align: middle;\n",
              "    }\n",
              "\n",
              "    .dataframe tbody tr th {\n",
              "        vertical-align: top;\n",
              "    }\n",
              "\n",
              "    .dataframe thead th {\n",
              "        text-align: right;\n",
              "    }\n",
              "</style>\n",
              "<table border=\"1\" class=\"dataframe\">\n",
              "  <thead>\n",
              "    <tr style=\"text-align: right;\">\n",
              "      <th></th>\n",
              "      <th>GSM</th>\n",
              "      <th>SampID</th>\n",
              "      <th>Sex</th>\n",
              "      <th>Age</th>\n",
              "      <th>EFS Time</th>\n",
              "      <th>EFS Bin</th>\n",
              "      <th>MYCN Amplification</th>\n",
              "      <th>TP53</th>\n",
              "      <th>NTRK1</th>\n",
              "      <th>PTPN6</th>\n",
              "      <th>ACE2</th>\n",
              "      <th>TMPRSS2</th>\n",
              "      <th>CXCL10</th>\n",
              "      <th>AGTR1</th>\n",
              "      <th>TP53_z</th>\n",
              "      <th>NTRK1_z</th>\n",
              "      <th>PTPN6_z</th>\n",
              "      <th>ACE2_z</th>\n",
              "      <th>TMPRSS2_z</th>\n",
              "      <th>CXCL10_z</th>\n",
              "      <th>AGTR1_z</th>\n",
              "    </tr>\n",
              "  </thead>\n",
              "  <tbody>\n",
              "    <tr>\n",
              "      <th>0</th>\n",
              "      <td>GSM1528894</td>\n",
              "      <td>SEQC_NB001</td>\n",
              "      <td>M</td>\n",
              "      <td>987</td>\n",
              "      <td>593</td>\n",
              "      <td>1</td>\n",
              "      <td>0</td>\n",
              "      <td>13.97</td>\n",
              "      <td>15.35</td>\n",
              "      <td>15.36</td>\n",
              "      <td>3.99</td>\n",
              "      <td>4.21</td>\n",
              "      <td>13.26</td>\n",
              "      <td>8.25</td>\n",
              "      <td>-0.177807</td>\n",
              "      <td>-0.134065</td>\n",
              "      <td>2.205290</td>\n",
              "      <td>-0.128659</td>\n",
              "      <td>0.405994</td>\n",
              "      <td>0.963559</td>\n",
              "      <td>-0.569730</td>\n",
              "    </tr>\n",
              "    <tr>\n",
              "      <th>1</th>\n",
              "      <td>GSM1528895</td>\n",
              "      <td>SEQC_NB002</td>\n",
              "      <td>M</td>\n",
              "      <td>1808</td>\n",
              "      <td>2016</td>\n",
              "      <td>1</td>\n",
              "      <td>0</td>\n",
              "      <td>13.61</td>\n",
              "      <td>13.97</td>\n",
              "      <td>13.11</td>\n",
              "      <td>7</td>\n",
              "      <td>0</td>\n",
              "      <td>12.54</td>\n",
              "      <td>7.75</td>\n",
              "      <td>-0.643984</td>\n",
              "      <td>-0.624117</td>\n",
              "      <td>0.308133</td>\n",
              "      <td>0.936732</td>\n",
              "      <td>-1.091646</td>\n",
              "      <td>0.697643</td>\n",
              "      <td>-0.759969</td>\n",
              "    </tr>\n",
              "    <tr>\n",
              "      <th>2</th>\n",
              "      <td>GSM1528896</td>\n",
              "      <td>SEQC_NB003</td>\n",
              "      <td>F</td>\n",
              "      <td>625</td>\n",
              "      <td>840</td>\n",
              "      <td>1</td>\n",
              "      <td>1</td>\n",
              "      <td>15.59</td>\n",
              "      <td>9.27</td>\n",
              "      <td>12.45</td>\n",
              "      <td>7.44</td>\n",
              "      <td>4.44</td>\n",
              "      <td>0</td>\n",
              "      <td>8.86</td>\n",
              "      <td>1.919990</td>\n",
              "      <td>-2.293134</td>\n",
              "      <td>-0.248366</td>\n",
              "      <td>1.092470</td>\n",
              "      <td>0.487813</td>\n",
              "      <td>-3.933721</td>\n",
              "      <td>-0.337639</td>\n",
              "    </tr>\n",
              "    <tr>\n",
              "      <th>3</th>\n",
              "      <td>GSM1528897</td>\n",
              "      <td>SEQC_NB004</td>\n",
              "      <td>F</td>\n",
              "      <td>335</td>\n",
              "      <td>2046</td>\n",
              "      <td>0</td>\n",
              "      <td>1</td>\n",
              "      <td>14.78</td>\n",
              "      <td>12.99</td>\n",
              "      <td>12.32</td>\n",
              "      <td>7.62</td>\n",
              "      <td>4.15</td>\n",
              "      <td>11.37</td>\n",
              "      <td>12.34</td>\n",
              "      <td>0.871092</td>\n",
              "      <td>-0.972125</td>\n",
              "      <td>-0.357979</td>\n",
              "      <td>1.156181</td>\n",
              "      <td>0.384650</td>\n",
              "      <td>0.265530</td>\n",
              "      <td>0.986421</td>\n",
              "    </tr>\n",
              "    <tr>\n",
              "      <th>4</th>\n",
              "      <td>GSM1528898</td>\n",
              "      <td>SEQC_NB005</td>\n",
              "      <td>F</td>\n",
              "      <td>536</td>\n",
              "      <td>212</td>\n",
              "      <td>1</td>\n",
              "      <td>1</td>\n",
              "      <td>14.85</td>\n",
              "      <td>9.11</td>\n",
              "      <td>11.8</td>\n",
              "      <td>4.43</td>\n",
              "      <td>0</td>\n",
              "      <td>9.41</td>\n",
              "      <td>7.56</td>\n",
              "      <td>0.961737</td>\n",
              "      <td>-2.349952</td>\n",
              "      <td>-0.796433</td>\n",
              "      <td>0.027079</td>\n",
              "      <td>-1.091646</td>\n",
              "      <td>-0.458351</td>\n",
              "      <td>-0.832259</td>\n",
              "    </tr>\n",
              "    <tr>\n",
              "      <th>...</th>\n",
              "      <td>...</td>\n",
              "      <td>...</td>\n",
              "      <td>...</td>\n",
              "      <td>...</td>\n",
              "      <td>...</td>\n",
              "      <td>...</td>\n",
              "      <td>...</td>\n",
              "      <td>...</td>\n",
              "      <td>...</td>\n",
              "      <td>...</td>\n",
              "      <td>...</td>\n",
              "      <td>...</td>\n",
              "      <td>...</td>\n",
              "      <td>...</td>\n",
              "      <td>...</td>\n",
              "      <td>...</td>\n",
              "      <td>...</td>\n",
              "      <td>...</td>\n",
              "      <td>...</td>\n",
              "      <td>...</td>\n",
              "      <td>...</td>\n",
              "    </tr>\n",
              "    <tr>\n",
              "      <th>493</th>\n",
              "      <td>GSM1529389</td>\n",
              "      <td>SEQC_NB494</td>\n",
              "      <td>M</td>\n",
              "      <td>56</td>\n",
              "      <td>4828</td>\n",
              "      <td>0</td>\n",
              "      <td>0</td>\n",
              "      <td>13.94</td>\n",
              "      <td>17.48</td>\n",
              "      <td>12.7</td>\n",
              "      <td>5.3</td>\n",
              "      <td>5.06</td>\n",
              "      <td>10.65</td>\n",
              "      <td>11.96</td>\n",
              "      <td>-0.216655</td>\n",
              "      <td>0.622320</td>\n",
              "      <td>-0.037571</td>\n",
              "      <td>0.335016</td>\n",
              "      <td>0.708368</td>\n",
              "      <td>-0.000386</td>\n",
              "      <td>0.841840</td>\n",
              "    </tr>\n",
              "    <tr>\n",
              "      <th>494</th>\n",
              "      <td>GSM1529390</td>\n",
              "      <td>SEQC_NB495</td>\n",
              "      <td>M</td>\n",
              "      <td>163</td>\n",
              "      <td>2467</td>\n",
              "      <td>0</td>\n",
              "      <td>0</td>\n",
              "      <td>14.02</td>\n",
              "      <td>18.16</td>\n",
              "      <td>13.03</td>\n",
              "      <td>7.19</td>\n",
              "      <td>5.87</td>\n",
              "      <td>14.68</td>\n",
              "      <td>10.15</td>\n",
              "      <td>-0.113060</td>\n",
              "      <td>0.863795</td>\n",
              "      <td>0.240679</td>\n",
              "      <td>1.003982</td>\n",
              "      <td>0.996512</td>\n",
              "      <td>1.488003</td>\n",
              "      <td>0.153176</td>\n",
              "    </tr>\n",
              "    <tr>\n",
              "      <th>495</th>\n",
              "      <td>GSM1529391</td>\n",
              "      <td>SEQC_NB496</td>\n",
              "      <td>M</td>\n",
              "      <td>132</td>\n",
              "      <td>105</td>\n",
              "      <td>1</td>\n",
              "      <td>0</td>\n",
              "      <td>14.02</td>\n",
              "      <td>15.84</td>\n",
              "      <td>11.27</td>\n",
              "      <td>6.45</td>\n",
              "      <td>5.2</td>\n",
              "      <td>9.38</td>\n",
              "      <td>10.87</td>\n",
              "      <td>-0.113060</td>\n",
              "      <td>0.039939</td>\n",
              "      <td>-1.243319</td>\n",
              "      <td>0.742059</td>\n",
              "      <td>0.758170</td>\n",
              "      <td>-0.469431</td>\n",
              "      <td>0.427120</td>\n",
              "    </tr>\n",
              "    <tr>\n",
              "      <th>496</th>\n",
              "      <td>GSM1529392</td>\n",
              "      <td>SEQC_NB497</td>\n",
              "      <td>F</td>\n",
              "      <td>379</td>\n",
              "      <td>4883</td>\n",
              "      <td>0</td>\n",
              "      <td>0</td>\n",
              "      <td>14.13</td>\n",
              "      <td>16.65</td>\n",
              "      <td>12.91</td>\n",
              "      <td>7.21</td>\n",
              "      <td>4.81</td>\n",
              "      <td>11.92</td>\n",
              "      <td>8.2</td>\n",
              "      <td>0.029383</td>\n",
              "      <td>0.327578</td>\n",
              "      <td>0.139497</td>\n",
              "      <td>1.011061</td>\n",
              "      <td>0.619434</td>\n",
              "      <td>0.468660</td>\n",
              "      <td>-0.588754</td>\n",
              "    </tr>\n",
              "    <tr>\n",
              "      <th>497</th>\n",
              "      <td>GSM1529393</td>\n",
              "      <td>SEQC_NB498</td>\n",
              "      <td>F</td>\n",
              "      <td>530</td>\n",
              "      <td>2772</td>\n",
              "      <td>0</td>\n",
              "      <td>0</td>\n",
              "      <td>13.99</td>\n",
              "      <td>16.47</td>\n",
              "      <td>14.1</td>\n",
              "      <td>7.55</td>\n",
              "      <td>5.48</td>\n",
              "      <td>12.71</td>\n",
              "      <td>8.15</td>\n",
              "      <td>-0.151908</td>\n",
              "      <td>0.263659</td>\n",
              "      <td>1.142882</td>\n",
              "      <td>1.131404</td>\n",
              "      <td>0.857776</td>\n",
              "      <td>0.760429</td>\n",
              "      <td>-0.607778</td>\n",
              "    </tr>\n",
              "  </tbody>\n",
              "</table>\n",
              "<p>498 rows × 21 columns</p>\n",
              "</div>"
            ],
            "text/plain": [
              "            GSM      SampID Sex   Age  ...    ACE2_z TMPRSS2_z  CXCL10_z   AGTR1_z\n",
              "0    GSM1528894  SEQC_NB001   M   987  ... -0.128659  0.405994  0.963559 -0.569730\n",
              "1    GSM1528895  SEQC_NB002   M  1808  ...  0.936732 -1.091646  0.697643 -0.759969\n",
              "2    GSM1528896  SEQC_NB003   F   625  ...  1.092470  0.487813 -3.933721 -0.337639\n",
              "3    GSM1528897  SEQC_NB004   F   335  ...  1.156181  0.384650  0.265530  0.986421\n",
              "4    GSM1528898  SEQC_NB005   F   536  ...  0.027079 -1.091646 -0.458351 -0.832259\n",
              "..          ...         ...  ..   ...  ...       ...       ...       ...       ...\n",
              "493  GSM1529389  SEQC_NB494   M    56  ...  0.335016  0.708368 -0.000386  0.841840\n",
              "494  GSM1529390  SEQC_NB495   M   163  ...  1.003982  0.996512  1.488003  0.153176\n",
              "495  GSM1529391  SEQC_NB496   M   132  ...  0.742059  0.758170 -0.469431  0.427120\n",
              "496  GSM1529392  SEQC_NB497   F   379  ...  1.011061  0.619434  0.468660 -0.588754\n",
              "497  GSM1529393  SEQC_NB498   F   530  ...  1.131404  0.857776  0.760429 -0.607778\n",
              "\n",
              "[498 rows x 21 columns]"
            ]
          },
          "metadata": {
            "tags": []
          },
          "execution_count": 18
        }
      ]
    }
  ]
}