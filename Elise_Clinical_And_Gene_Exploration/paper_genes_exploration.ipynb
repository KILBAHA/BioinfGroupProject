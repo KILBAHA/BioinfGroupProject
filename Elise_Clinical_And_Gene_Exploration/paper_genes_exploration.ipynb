{
  "nbformat": 4,
  "nbformat_minor": 0,
  "metadata": {
    "colab": {
      "name": "genes.ipynb",
      "provenance": []
    },
    "kernelspec": {
      "name": "python3",
      "display_name": "Python 3"
    }
  },
  "cells": [
    {
      "cell_type": "code",
      "metadata": {
        "colab": {
          "base_uri": "https://localhost:8080/"
        },
        "id": "zEVeyMnD7yo9",
        "outputId": "20d3931b-20f8-4419-d2e4-15064a977a1f"
      },
      "source": [
        "from google.colab import drive\n",
        "drive.mount('/gdrive')"
      ],
      "execution_count": 1,
      "outputs": [
        {
          "output_type": "stream",
          "text": [
            "Mounted at /gdrive\n"
          ],
          "name": "stdout"
        }
      ]
    },
    {
      "cell_type": "code",
      "metadata": {
        "id": "s2CnpEf37v2C"
      },
      "source": [
        "import pandas as pd"
      ],
      "execution_count": 2,
      "outputs": []
    },
    {
      "cell_type": "code",
      "metadata": {
        "id": "mWQHoMEh7fk5"
      },
      "source": [
        "#mrna_z = pd.read_csv('/gdrive/My Drive/project/data_mRNA_median_Zscores.csv',  sep='\\t')\n",
        "mrna_z = pd.read_csv('/gdrive/My Drive/project/data_mRNA_median_all_sample_Zscores.csv',  sep='\\t')\n",
        "mrna = pd.read_csv('/gdrive/My Drive/project/data_expression_median.csv',  sep='\\t')\n",
        "clinical = pd.read_csv('/gdrive/My Drive/project/data_clinical_patient.csv',  sep='\\t', error_bad_lines=False)\n",
        "clinical_sample = pd.read_csv('/gdrive/My Drive/project/data_clinical_sample.csv',  sep='\\t', error_bad_lines=False)\n",
        "\n",
        "mrna_z_transposed = mrna_z.transpose()\n",
        "mrna_z_transposed.columns = mrna_z_transposed.iloc[0]\n",
        "mrna_z_transposed = mrna_z_transposed.drop(mrna_z_transposed.index[0])\n",
        "\n",
        "mrna_transposed = mrna.transpose()\n",
        "mrna_transposed.columns = mrna_transposed.iloc[0]\n",
        "mrna_transposed = mrna_transposed.drop(mrna_transposed.index[0])"
      ],
      "execution_count": 3,
      "outputs": []
    },
    {
      "cell_type": "code",
      "metadata": {
        "id": "TKYea-eL74gU"
      },
      "source": [
        "all_clinical = pd.merge(clinical, clinical_sample, on='#Patient Identifier')\n",
        "reduced_clinical = all_clinical[[\"#Patient Identifier\", \"Sample Identifier\", \"Diagnosis Age (days)\", \"Diagnosis Age\", \"INSS Stage\", \"Tumor Sample Histology\", \n",
        "                                 \"EFS Time\", \"Sex\", \"Risk Group\", \"Overall Survival Status\", \"Overall Survival Days\", \"MYCN\", \"Ploidy\"]]\n",
        "\n",
        "covid_genes_mrna_z = mrna_z_transposed[[\"ACE2\", \"IFITM3\", \"TMPRSS2\", \"MYCN\"]]\n",
        "covid_genes_mrna_z = covid_genes_mrna_z.reset_index()\n",
        "covid_genes_mrna_z = covid_genes_mrna_z.rename(columns={'index': 'Sample Identifier'})\n",
        "clinical_covid_genes_mrna_z = pd.merge(reduced_clinical, covid_genes_mrna_z, on='Sample Identifier')\n",
        "\n",
        "paper_genes_mrna_z = mrna_z_transposed[[\"NTRK1\", \"TP53\", \"PTPN6\"]]\n",
        "paper_genes_mrna_z = paper_genes_mrna_z.reset_index()\n",
        "paper_genes_mrna_z = paper_genes_mrna_z.rename(columns={'index': 'Sample Identifier'})\n",
        "clinical_paper_genes_mrna_z = pd.merge(reduced_clinical, paper_genes_mrna_z, on='Sample Identifier')\n",
        "\n",
        "paper_genes_mrna = mrna_transposed[[\"NTRK1\", \"TP53\", \"PTPN6\"]]\n",
        "paper_genes_mrna = paper_genes_mrna.reset_index()\n",
        "paper_genes_mrna = paper_genes_mrna.rename(columns={'index': 'Sample Identifier'})\n",
        "clinical_paper_genes_mrna = pd.merge(reduced_clinical, paper_genes_mrna, on='Sample Identifier')"
      ],
      "execution_count": 4,
      "outputs": []
    },
    {
      "cell_type": "code",
      "metadata": {
        "id": "sXPGpm64Savi"
      },
      "source": [
        "#Set up binary/numerical classes for Cox regression\n",
        "clinical_paper_genes_mrna_z.loc[clinical_paper_genes_mrna_z[\"Overall Survival Status\"] == \"1:DECEASED\", 'dead'] = 1\n",
        "clinical_paper_genes_mrna_z.loc[clinical_paper_genes_mrna_z[\"Overall Survival Status\"] == \"0:LIVING\", 'dead'] = 0\n",
        "\n",
        "clinical_paper_genes_mrna_z.loc[clinical_paper_genes_mrna_z[\"INSS Stage\"] == \"Stage 1\", 'Stage'] = 0\n",
        "clinical_paper_genes_mrna_z.loc[clinical_paper_genes_mrna_z[\"INSS Stage\"] == \"Stage 2a\", 'Stage'] = 1\n",
        "clinical_paper_genes_mrna_z.loc[clinical_paper_genes_mrna_z[\"INSS Stage\"] == \"Stage 2b\", 'Stage'] = 2\n",
        "clinical_paper_genes_mrna_z.loc[clinical_paper_genes_mrna_z[\"INSS Stage\"] == \"Stage 3\", 'Stage'] = 3\n",
        "clinical_paper_genes_mrna_z.loc[clinical_paper_genes_mrna_z[\"INSS Stage\"] == \"Stage 4\", 'Stage'] = 4\n",
        "clinical_paper_genes_mrna_z.loc[clinical_paper_genes_mrna_z[\"INSS Stage\"] == \"Stage 4s\", 'Stage'] = 5\n",
        "\n",
        "clinical_paper_genes_mrna_z.loc[clinical_paper_genes_mrna_z[\"Tumor Sample Histology\"] == \"Unfavorable\", 'Histology'] = 0\n",
        "clinical_paper_genes_mrna_z.loc[clinical_paper_genes_mrna_z[\"Tumor Sample Histology\"] == \"Favorable\", 'Histology'] = 1\n",
        "clinical_paper_genes_mrna_z.loc[clinical_paper_genes_mrna_z[\"Tumor Sample Histology\"] == \"Unknown\", 'Histology'] = 3\n",
        "\n",
        "clinical_paper_genes_mrna_z.loc[clinical_paper_genes_mrna_z[\"Sex\"] == \"Female\", 'Sex_binary'] = 0\n",
        "clinical_paper_genes_mrna_z.loc[clinical_paper_genes_mrna_z[\"Sex\"] == \"Male\", 'Sex_binary'] = 1\n",
        "\n",
        "clinical_paper_genes_mrna_z.loc[clinical_paper_genes_mrna_z[\"MYCN\"] == \"Not Amplified\", 'mycn_binary'] = 0\n",
        "clinical_paper_genes_mrna_z.loc[clinical_paper_genes_mrna_z[\"MYCN\"] == \"Amplified\", 'mycn_binary'] = 1"
      ],
      "execution_count": 53,
      "outputs": []
    },
    {
      "cell_type": "code",
      "metadata": {
        "id": "va9Mlz3HMQsp"
      },
      "source": [
        "#Drop subjects with null values\n",
        "clinical_paper_genes_mrna_z = clinical_paper_genes_mrna_z.dropna(subset=[\"Diagnosis Age (days)\", \"Histology\", \"Stage\",\n",
        "                                  'EFS Time', \"Sex_binary\", \"mycn_binary\", \"Overall Survival Status\"])"
      ],
      "execution_count": 54,
      "outputs": []
    },
    {
      "cell_type": "code",
      "metadata": {
        "colab": {
          "base_uri": "https://localhost:8080/",
          "height": 643
        },
        "id": "jo-d_LcIR6n3",
        "outputId": "20778e7d-1b61-4f87-c989-1ae366a64c52"
      },
      "source": [
        "clinical_paper_genes_mrna_z"
      ],
      "execution_count": 55,
      "outputs": [
        {
          "output_type": "execute_result",
          "data": {
            "text/html": [
              "<div>\n",
              "<style scoped>\n",
              "    .dataframe tbody tr th:only-of-type {\n",
              "        vertical-align: middle;\n",
              "    }\n",
              "\n",
              "    .dataframe tbody tr th {\n",
              "        vertical-align: top;\n",
              "    }\n",
              "\n",
              "    .dataframe thead th {\n",
              "        text-align: right;\n",
              "    }\n",
              "</style>\n",
              "<table border=\"1\" class=\"dataframe\">\n",
              "  <thead>\n",
              "    <tr style=\"text-align: right;\">\n",
              "      <th></th>\n",
              "      <th>#Patient Identifier</th>\n",
              "      <th>Sample Identifier</th>\n",
              "      <th>Diagnosis Age (days)</th>\n",
              "      <th>Diagnosis Age</th>\n",
              "      <th>INSS Stage</th>\n",
              "      <th>Tumor Sample Histology</th>\n",
              "      <th>EFS Time</th>\n",
              "      <th>Sex</th>\n",
              "      <th>Risk Group</th>\n",
              "      <th>Overall Survival Status</th>\n",
              "      <th>Overall Survival Days</th>\n",
              "      <th>MYCN</th>\n",
              "      <th>Ploidy</th>\n",
              "      <th>NTRK1</th>\n",
              "      <th>TP53</th>\n",
              "      <th>PTPN6</th>\n",
              "      <th>Stage</th>\n",
              "      <th>Histology</th>\n",
              "      <th>Sex_binary</th>\n",
              "      <th>mycn_binary</th>\n",
              "      <th>dead</th>\n",
              "    </tr>\n",
              "  </thead>\n",
              "  <tbody>\n",
              "    <tr>\n",
              "      <th>0</th>\n",
              "      <td>TARGET-30-PADIRB</td>\n",
              "      <td>TARGET-30-PADIRB-01</td>\n",
              "      <td>1191</td>\n",
              "      <td>4</td>\n",
              "      <td>Stage 4</td>\n",
              "      <td>Unfavorable</td>\n",
              "      <td>798.0</td>\n",
              "      <td>Female</td>\n",
              "      <td>High Risk</td>\n",
              "      <td>0:LIVING</td>\n",
              "      <td>3855.0</td>\n",
              "      <td>Not Amplified</td>\n",
              "      <td>Unknown</td>\n",
              "      <td>-0.8099</td>\n",
              "      <td>0.6056</td>\n",
              "      <td>-1.2356</td>\n",
              "      <td>4.0</td>\n",
              "      <td>0.0</td>\n",
              "      <td>0.0</td>\n",
              "      <td>0.0</td>\n",
              "      <td>0.0</td>\n",
              "    </tr>\n",
              "    <tr>\n",
              "      <th>1</th>\n",
              "      <td>TARGET-30-PAKGCI</td>\n",
              "      <td>TARGET-30-PAKGCI-01</td>\n",
              "      <td>300</td>\n",
              "      <td>1</td>\n",
              "      <td>Stage 1</td>\n",
              "      <td>Favorable</td>\n",
              "      <td>3723.0</td>\n",
              "      <td>Female</td>\n",
              "      <td>Low Risk</td>\n",
              "      <td>0:LIVING</td>\n",
              "      <td>3723.0</td>\n",
              "      <td>Not Amplified</td>\n",
              "      <td>Hyperdiploid (DI&gt;1)</td>\n",
              "      <td>1.5676</td>\n",
              "      <td>-1.4105</td>\n",
              "      <td>-0.5883</td>\n",
              "      <td>0.0</td>\n",
              "      <td>1.0</td>\n",
              "      <td>0.0</td>\n",
              "      <td>0.0</td>\n",
              "      <td>0.0</td>\n",
              "    </tr>\n",
              "    <tr>\n",
              "      <th>2</th>\n",
              "      <td>TARGET-30-PAIXLC</td>\n",
              "      <td>TARGET-30-PAIXLC-01</td>\n",
              "      <td>270</td>\n",
              "      <td>1</td>\n",
              "      <td>Stage 1</td>\n",
              "      <td>Favorable</td>\n",
              "      <td>5048.0</td>\n",
              "      <td>Male</td>\n",
              "      <td>Low Risk</td>\n",
              "      <td>0:LIVING</td>\n",
              "      <td>5048.0</td>\n",
              "      <td>Not Amplified</td>\n",
              "      <td>Hyperdiploid (DI&gt;1)</td>\n",
              "      <td>1.0819</td>\n",
              "      <td>-0.016</td>\n",
              "      <td>0.3199</td>\n",
              "      <td>0.0</td>\n",
              "      <td>1.0</td>\n",
              "      <td>1.0</td>\n",
              "      <td>0.0</td>\n",
              "      <td>0.0</td>\n",
              "    </tr>\n",
              "    <tr>\n",
              "      <th>3</th>\n",
              "      <td>TARGET-30-PAISNS</td>\n",
              "      <td>TARGET-30-PAISNS-01</td>\n",
              "      <td>1070</td>\n",
              "      <td>3</td>\n",
              "      <td>Stage 4</td>\n",
              "      <td>Unknown</td>\n",
              "      <td>410.0</td>\n",
              "      <td>Male</td>\n",
              "      <td>High Risk</td>\n",
              "      <td>1:DECEASED</td>\n",
              "      <td>421.0</td>\n",
              "      <td>Not Amplified</td>\n",
              "      <td>Diploid (DI=1)</td>\n",
              "      <td>0.0334</td>\n",
              "      <td>-0.8243</td>\n",
              "      <td>0.621</td>\n",
              "      <td>4.0</td>\n",
              "      <td>3.0</td>\n",
              "      <td>1.0</td>\n",
              "      <td>0.0</td>\n",
              "      <td>1.0</td>\n",
              "    </tr>\n",
              "    <tr>\n",
              "      <th>4</th>\n",
              "      <td>TARGET-30-PACSNL</td>\n",
              "      <td>TARGET-30-PACSNL-01</td>\n",
              "      <td>2157</td>\n",
              "      <td>6</td>\n",
              "      <td>Stage 4</td>\n",
              "      <td>Unfavorable</td>\n",
              "      <td>205.0</td>\n",
              "      <td>Female</td>\n",
              "      <td>High Risk</td>\n",
              "      <td>1:DECEASED</td>\n",
              "      <td>322.0</td>\n",
              "      <td>Not Amplified</td>\n",
              "      <td>Unknown</td>\n",
              "      <td>0.1392</td>\n",
              "      <td>1.528</td>\n",
              "      <td>-1.0907</td>\n",
              "      <td>4.0</td>\n",
              "      <td>0.0</td>\n",
              "      <td>0.0</td>\n",
              "      <td>0.0</td>\n",
              "      <td>1.0</td>\n",
              "    </tr>\n",
              "    <tr>\n",
              "      <th>...</th>\n",
              "      <td>...</td>\n",
              "      <td>...</td>\n",
              "      <td>...</td>\n",
              "      <td>...</td>\n",
              "      <td>...</td>\n",
              "      <td>...</td>\n",
              "      <td>...</td>\n",
              "      <td>...</td>\n",
              "      <td>...</td>\n",
              "      <td>...</td>\n",
              "      <td>...</td>\n",
              "      <td>...</td>\n",
              "      <td>...</td>\n",
              "      <td>...</td>\n",
              "      <td>...</td>\n",
              "      <td>...</td>\n",
              "      <td>...</td>\n",
              "      <td>...</td>\n",
              "      <td>...</td>\n",
              "      <td>...</td>\n",
              "      <td>...</td>\n",
              "    </tr>\n",
              "    <tr>\n",
              "      <th>244</th>\n",
              "      <td>TARGET-30-PADPRJ</td>\n",
              "      <td>TARGET-30-PADPRJ-01</td>\n",
              "      <td>1423</td>\n",
              "      <td>4</td>\n",
              "      <td>Stage 4</td>\n",
              "      <td>Unfavorable</td>\n",
              "      <td>84.0</td>\n",
              "      <td>Male</td>\n",
              "      <td>High Risk</td>\n",
              "      <td>1:DECEASED</td>\n",
              "      <td>1188.0</td>\n",
              "      <td>Not Amplified</td>\n",
              "      <td>Unknown</td>\n",
              "      <td>-0.0194</td>\n",
              "      <td>-1.0287</td>\n",
              "      <td>1.322</td>\n",
              "      <td>4.0</td>\n",
              "      <td>0.0</td>\n",
              "      <td>1.0</td>\n",
              "      <td>0.0</td>\n",
              "      <td>1.0</td>\n",
              "    </tr>\n",
              "    <tr>\n",
              "      <th>245</th>\n",
              "      <td>TARGET-30-PADVWW</td>\n",
              "      <td>TARGET-30-PADVWW-01</td>\n",
              "      <td>1988</td>\n",
              "      <td>6</td>\n",
              "      <td>Stage 4</td>\n",
              "      <td>Unfavorable</td>\n",
              "      <td>3563.0</td>\n",
              "      <td>Female</td>\n",
              "      <td>High Risk</td>\n",
              "      <td>0:LIVING</td>\n",
              "      <td>3563.0</td>\n",
              "      <td>Not Amplified</td>\n",
              "      <td>Unknown</td>\n",
              "      <td>0.2634</td>\n",
              "      <td>-0.693</td>\n",
              "      <td>0.436</td>\n",
              "      <td>4.0</td>\n",
              "      <td>0.0</td>\n",
              "      <td>0.0</td>\n",
              "      <td>0.0</td>\n",
              "      <td>0.0</td>\n",
              "    </tr>\n",
              "    <tr>\n",
              "      <th>246</th>\n",
              "      <td>TARGET-30-PAIPGU</td>\n",
              "      <td>TARGET-30-PAIPGU-01</td>\n",
              "      <td>898</td>\n",
              "      <td>3</td>\n",
              "      <td>Stage 4</td>\n",
              "      <td>Unknown</td>\n",
              "      <td>436.0</td>\n",
              "      <td>Female</td>\n",
              "      <td>High Risk</td>\n",
              "      <td>1:DECEASED</td>\n",
              "      <td>436.0</td>\n",
              "      <td>Not Amplified</td>\n",
              "      <td>Hyperdiploid (DI&gt;1)</td>\n",
              "      <td>-0.168</td>\n",
              "      <td>-0.5841</td>\n",
              "      <td>1.4442</td>\n",
              "      <td>4.0</td>\n",
              "      <td>3.0</td>\n",
              "      <td>0.0</td>\n",
              "      <td>0.0</td>\n",
              "      <td>1.0</td>\n",
              "    </tr>\n",
              "    <tr>\n",
              "      <th>247</th>\n",
              "      <td>TARGET-30-PAPTIP</td>\n",
              "      <td>TARGET-30-PAPTIP-01</td>\n",
              "      <td>1208</td>\n",
              "      <td>4</td>\n",
              "      <td>Stage 4</td>\n",
              "      <td>Unfavorable</td>\n",
              "      <td>372.0</td>\n",
              "      <td>Male</td>\n",
              "      <td>High Risk</td>\n",
              "      <td>1:DECEASED</td>\n",
              "      <td>1492.0</td>\n",
              "      <td>Amplified</td>\n",
              "      <td>Hyperdiploid (DI&gt;1)</td>\n",
              "      <td>-1.5167</td>\n",
              "      <td>1.3433</td>\n",
              "      <td>-0.4081</td>\n",
              "      <td>4.0</td>\n",
              "      <td>0.0</td>\n",
              "      <td>1.0</td>\n",
              "      <td>1.0</td>\n",
              "      <td>1.0</td>\n",
              "    </tr>\n",
              "    <tr>\n",
              "      <th>248</th>\n",
              "      <td>TARGET-30-PAJYVA</td>\n",
              "      <td>TARGET-30-PAJYVA-01</td>\n",
              "      <td>708</td>\n",
              "      <td>2</td>\n",
              "      <td>Stage 4</td>\n",
              "      <td>Unfavorable</td>\n",
              "      <td>238.0</td>\n",
              "      <td>Female</td>\n",
              "      <td>High Risk</td>\n",
              "      <td>1:DECEASED</td>\n",
              "      <td>306.0</td>\n",
              "      <td>Not Amplified</td>\n",
              "      <td>Unknown</td>\n",
              "      <td>-1.3642</td>\n",
              "      <td>1.5902</td>\n",
              "      <td>-0.8515</td>\n",
              "      <td>4.0</td>\n",
              "      <td>0.0</td>\n",
              "      <td>0.0</td>\n",
              "      <td>0.0</td>\n",
              "      <td>1.0</td>\n",
              "    </tr>\n",
              "  </tbody>\n",
              "</table>\n",
              "<p>243 rows × 21 columns</p>\n",
              "</div>"
            ],
            "text/plain": [
              "    #Patient Identifier    Sample Identifier  ... mycn_binary dead\n",
              "0      TARGET-30-PADIRB  TARGET-30-PADIRB-01  ...         0.0  0.0\n",
              "1      TARGET-30-PAKGCI  TARGET-30-PAKGCI-01  ...         0.0  0.0\n",
              "2      TARGET-30-PAIXLC  TARGET-30-PAIXLC-01  ...         0.0  0.0\n",
              "3      TARGET-30-PAISNS  TARGET-30-PAISNS-01  ...         0.0  1.0\n",
              "4      TARGET-30-PACSNL  TARGET-30-PACSNL-01  ...         0.0  1.0\n",
              "..                  ...                  ...  ...         ...  ...\n",
              "244    TARGET-30-PADPRJ  TARGET-30-PADPRJ-01  ...         0.0  1.0\n",
              "245    TARGET-30-PADVWW  TARGET-30-PADVWW-01  ...         0.0  0.0\n",
              "246    TARGET-30-PAIPGU  TARGET-30-PAIPGU-01  ...         0.0  1.0\n",
              "247    TARGET-30-PAPTIP  TARGET-30-PAPTIP-01  ...         1.0  1.0\n",
              "248    TARGET-30-PAJYVA  TARGET-30-PAJYVA-01  ...         0.0  1.0\n",
              "\n",
              "[243 rows x 21 columns]"
            ]
          },
          "metadata": {
            "tags": []
          },
          "execution_count": 55
        }
      ]
    },
    {
      "cell_type": "markdown",
      "metadata": {
        "id": "uFPKPa3OB0EZ"
      },
      "source": [
        "### **TrkA/NTRK1**"
      ]
    },
    {
      "cell_type": "code",
      "metadata": {
        "id": "OBj4Vx5e810Y"
      },
      "source": [
        "Trk_low = clinical_paper_genes_mrna_z.loc[clinical_paper_genes_mrna_z['NTRK1'] <= -1]\n",
        "Trk_moderate = clinical_paper_genes_mrna_z.loc[(clinical_paper_genes_mrna_z['NTRK1'] > -1) & (clinical_paper_genes_mrna_z['NTRK1'] < 1)]\n",
        "Trk_high = clinical_paper_genes_mrna_z.loc[clinical_paper_genes_mrna_z['NTRK1'] >= 1]"
      ],
      "execution_count": 56,
      "outputs": []
    },
    {
      "cell_type": "code",
      "metadata": {
        "colab": {
          "base_uri": "https://localhost:8080/",
          "height": 282
        },
        "id": "e8dLSVSp_HxH",
        "outputId": "fa5912ee-93dd-4058-8d4c-74957345c16d"
      },
      "source": [
        "Trk_low_efs = Trk_low[['EFS Time']].astype(float)\n",
        "Trk_moderate_efs = Trk_moderate[['EFS Time']].astype(float)\n",
        "Trk_high_efs = Trk_high[['EFS Time']].astype(float)\n",
        "\n",
        "import seaborn as sns\n",
        "sns.violinplot(data=Trk_low_efs, cut=0)"
      ],
      "execution_count": 8,
      "outputs": [
        {
          "output_type": "execute_result",
          "data": {
            "text/plain": [
              "<matplotlib.axes._subplots.AxesSubplot at 0x7f4b52efda58>"
            ]
          },
          "metadata": {
            "tags": []
          },
          "execution_count": 8
        },
        {
          "output_type": "display_data",
          "data": {
            "image/png": "[encoded data removed]",
            "text/plain": [
              "<Figure size 432x288 with 1 Axes>"
            ]
          },
          "metadata": {
            "tags": [],
            "needs_background": "light"
          }
        }
      ]
    },
    {
      "cell_type": "code",
      "metadata": {
        "colab": {
          "base_uri": "https://localhost:8080/",
          "height": 282
        },
        "id": "w20j2F5JBUSF",
        "outputId": "fe91566e-5e3a-412f-81ff-d777be99ca86"
      },
      "source": [
        "sns.violinplot(data=Trk_moderate_efs, cut=0)"
      ],
      "execution_count": 9,
      "outputs": [
        {
          "output_type": "execute_result",
          "data": {
            "text/plain": [
              "<matplotlib.axes._subplots.AxesSubplot at 0x7f4b627bd7f0>"
            ]
          },
          "metadata": {
            "tags": []
          },
          "execution_count": 9
        },
        {
          "output_type": "display_data",
          "data": {
            "image/png": "[encoded data removed]",
            "text/plain": [
              "<Figure size 432x288 with 1 Axes>"
            ]
          },
          "metadata": {
            "tags": [],
            "needs_background": "light"
          }
        }
      ]
    },
    {
      "cell_type": "code",
      "metadata": {
        "colab": {
          "base_uri": "https://localhost:8080/",
          "height": 282
        },
        "id": "Kwq5_N4wBXFR",
        "outputId": "19d3aa61-8f3a-402f-a894-064cf0249126"
      },
      "source": [
        "sns.violinplot(data=Trk_high_efs, cut=0)"
      ],
      "execution_count": 10,
      "outputs": [
        {
          "output_type": "execute_result",
          "data": {
            "text/plain": [
              "<matplotlib.axes._subplots.AxesSubplot at 0x7f4b509699e8>"
            ]
          },
          "metadata": {
            "tags": []
          },
          "execution_count": 10
        },
        {
          "output_type": "display_data",
          "data": {
            "image/png": "[encoded data removed]",
            "text/plain": [
              "<Figure size 432x288 with 1 Axes>"
            ]
          },
          "metadata": {
            "tags": [],
            "needs_background": "light"
          }
        }
      ]
    },
    {
      "cell_type": "code",
      "metadata": {
        "colab": {
          "base_uri": "https://localhost:8080/",
          "height": 282
        },
        "id": "R1pmxV5Iv8j7",
        "outputId": "b39cbc46-82f7-4e3d-f222-0de8060632e6"
      },
      "source": [
        "Trk_low_genes = Trk_low[['NTRK1', 'TP53', 'PTPN6']]\n",
        "ax = sns.violinplot(data=Trk_low_genes, cut=0)\n",
        "ax.set_ylim([-2.5,3.5])"
      ],
      "execution_count": 127,
      "outputs": [
        {
          "output_type": "execute_result",
          "data": {
            "text/plain": [
              "(-2.5, 3.5)"
            ]
          },
          "metadata": {
            "tags": []
          },
          "execution_count": 127
        },
        {
          "output_type": "display_data",
          "data": {
            "image/png": "[encoded data removed]",
            "text/plain": [
              "<Figure size 432x288 with 1 Axes>"
            ]
          },
          "metadata": {
            "tags": [],
            "needs_background": "light"
          }
        }
      ]
    },
    {
      "cell_type": "code",
      "metadata": {
        "colab": {
          "base_uri": "https://localhost:8080/",
          "height": 282
        },
        "id": "NhAQ70yiwEKa",
        "outputId": "a9ae6577-80f6-49c7-e3dd-1ffcf9cfdf23"
      },
      "source": [
        "Trk_moderate_genes = Trk_moderate[['NTRK1', 'TP53', 'PTPN6']]\n",
        "ax = sns.violinplot(data=Trk_moderate_genes, cut=0)\n",
        "ax.set_ylim([-2.5,3.5])"
      ],
      "execution_count": 128,
      "outputs": [
        {
          "output_type": "execute_result",
          "data": {
            "text/plain": [
              "(-2.5, 3.5)"
            ]
          },
          "metadata": {
            "tags": []
          },
          "execution_count": 128
        },
        {
          "output_type": "display_data",
          "data": {
            "image/png": "[encoded data removed]",
            "text/plain": [
              "<Figure size 432x288 with 1 Axes>"
            ]
          },
          "metadata": {
            "tags": [],
            "needs_background": "light"
          }
        }
      ]
    },
    {
      "cell_type": "code",
      "metadata": {
        "colab": {
          "base_uri": "https://localhost:8080/",
          "height": 282
        },
        "id": "qaWyJLbmwM3E",
        "outputId": "95730806-ac3b-40cd-fc65-9175cefacfd5"
      },
      "source": [
        "Trk_high_genes = Trk_high[['NTRK1', 'TP53', 'PTPN6']]\n",
        "ax = sns.violinplot(data=Trk_high_genes, cut=0)\n",
        "ax.set_ylim([-2.5,3.5])"
      ],
      "execution_count": 129,
      "outputs": [
        {
          "output_type": "execute_result",
          "data": {
            "text/plain": [
              "(-2.5, 3.5)"
            ]
          },
          "metadata": {
            "tags": []
          },
          "execution_count": 129
        },
        {
          "output_type": "display_data",
          "data": {
            "image/png": "[encoded data removed]",
            "text/plain": [
              "<Figure size 432x288 with 1 Axes>"
            ]
          },
          "metadata": {
            "tags": [],
            "needs_background": "light"
          }
        }
      ]
    },
    {
      "cell_type": "markdown",
      "metadata": {
        "id": "bCFkWooOB5j0"
      },
      "source": [
        "### **SHP1/PTPN6**"
      ]
    },
    {
      "cell_type": "code",
      "metadata": {
        "id": "o8v2BEbSB8xn"
      },
      "source": [
        "ptpn6_low = clinical_paper_genes_mrna_z.loc[clinical_paper_genes_mrna_z['PTPN6'] <= -1]\n",
        "ptpn6_moderate = clinical_paper_genes_mrna_z.loc[(clinical_paper_genes_mrna_z['PTPN6'] > -1) & (clinical_paper_genes_mrna_z['PTPN6'] < 1)]\n",
        "ptpn6_high = clinical_paper_genes_mrna_z.loc[clinical_paper_genes_mrna_z['PTPN6'] >= 1]"
      ],
      "execution_count": 57,
      "outputs": []
    },
    {
      "cell_type": "code",
      "metadata": {
        "colab": {
          "base_uri": "https://localhost:8080/",
          "height": 282
        },
        "id": "yASlYV98CIch",
        "outputId": "3a135ed6-65a9-48b1-9fac-026258254de4"
      },
      "source": [
        "ptpn6_low_efs = ptpn6_low[['EFS Time']].astype(float)\n",
        "ptpn6_moderate_efs = ptpn6_moderate[['EFS Time']].astype(float)\n",
        "ptpn6_high_efs = ptpn6_high[['EFS Time']].astype(float)\n",
        "\n",
        "import seaborn as sns\n",
        "sns.violinplot(data=ptpn6_low_efs, cut=0)"
      ],
      "execution_count": 12,
      "outputs": [
        {
          "output_type": "execute_result",
          "data": {
            "text/plain": [
              "<matplotlib.axes._subplots.AxesSubplot at 0x7f4b508c3cc0>"
            ]
          },
          "metadata": {
            "tags": []
          },
          "execution_count": 12
        },
        {
          "output_type": "display_data",
          "data": {
            "image/png": "[encoded data removed]",
            "text/plain": [
              "<Figure size 432x288 with 1 Axes>"
            ]
          },
          "metadata": {
            "tags": [],
            "needs_background": "light"
          }
        }
      ]
    },
    {
      "cell_type": "code",
      "metadata": {
        "colab": {
          "base_uri": "https://localhost:8080/",
          "height": 282
        },
        "id": "fQ4gdZSvCT-j",
        "outputId": "72134eb8-9a6c-46b3-b071-375ef38505d6"
      },
      "source": [
        "sns.violinplot(data=ptpn6_moderate_efs, cut=0)"
      ],
      "execution_count": 13,
      "outputs": [
        {
          "output_type": "execute_result",
          "data": {
            "text/plain": [
              "<matplotlib.axes._subplots.AxesSubplot at 0x7f4b508c81d0>"
            ]
          },
          "metadata": {
            "tags": []
          },
          "execution_count": 13
        },
        {
          "output_type": "display_data",
          "data": {
            "image/png": "[encoded data removed]",
            "text/plain": [
              "<Figure size 432x288 with 1 Axes>"
            ]
          },
          "metadata": {
            "tags": [],
            "needs_background": "light"
          }
        }
      ]
    },
    {
      "cell_type": "code",
      "metadata": {
        "colab": {
          "base_uri": "https://localhost:8080/",
          "height": 282
        },
        "id": "jtBlJJnUCUR4",
        "outputId": "25303813-d993-4fe4-baf5-56b8d8993b19"
      },
      "source": [
        "sns.violinplot(data=ptpn6_high_efs, cut=0)"
      ],
      "execution_count": 14,
      "outputs": [
        {
          "output_type": "execute_result",
          "data": {
            "text/plain": [
              "<matplotlib.axes._subplots.AxesSubplot at 0x7f4b507fcba8>"
            ]
          },
          "metadata": {
            "tags": []
          },
          "execution_count": 14
        },
        {
          "output_type": "display_data",
          "data": {
            "image/png": "[encoded data removed]",
            "text/plain": [
              "<Figure size 432x288 with 1 Axes>"
            ]
          },
          "metadata": {
            "tags": [],
            "needs_background": "light"
          }
        }
      ]
    },
    {
      "cell_type": "code",
      "metadata": {
        "colab": {
          "base_uri": "https://localhost:8080/",
          "height": 282
        },
        "id": "tZ-5zQ2QwTod",
        "outputId": "c163e50a-8788-4fbe-85b4-04ff5e707a27"
      },
      "source": [
        "ptpn6_low_genes = ptpn6_low[['NTRK1', 'TP53', 'PTPN6']]\n",
        "ax = sns.violinplot(data=ptpn6_low_genes, cut=0)\n",
        "ax.set_ylim([-2.5,3.5])"
      ],
      "execution_count": 130,
      "outputs": [
        {
          "output_type": "execute_result",
          "data": {
            "text/plain": [
              "(-2.5, 3.5)"
            ]
          },
          "metadata": {
            "tags": []
          },
          "execution_count": 130
        },
        {
          "output_type": "display_data",
          "data": {
            "image/png": "[encoded data removed]",
            "text/plain": [
              "<Figure size 432x288 with 1 Axes>"
            ]
          },
          "metadata": {
            "tags": [],
            "needs_background": "light"
          }
        }
      ]
    },
    {
      "cell_type": "code",
      "metadata": {
        "colab": {
          "base_uri": "https://localhost:8080/",
          "height": 282
        },
        "id": "tY3IKEqCwUYZ",
        "outputId": "b3778c7f-2f1b-409c-de21-cd7341993d65"
      },
      "source": [
        "ptpn6_moderate_genes = ptpn6_moderate[['NTRK1', 'TP53', 'PTPN6']]\n",
        "ax = sns.violinplot(data=ptpn6_moderate_genes, cut=0)\n",
        "ax.set_ylim([-2.5,3.5])"
      ],
      "execution_count": 131,
      "outputs": [
        {
          "output_type": "execute_result",
          "data": {
            "text/plain": [
              "(-2.5, 3.5)"
            ]
          },
          "metadata": {
            "tags": []
          },
          "execution_count": 131
        },
        {
          "output_type": "display_data",
          "data": {
            "image/png": "[encoded data removed]",
            "text/plain": [
              "<Figure size 432x288 with 1 Axes>"
            ]
          },
          "metadata": {
            "tags": [],
            "needs_background": "light"
          }
        }
      ]
    },
    {
      "cell_type": "code",
      "metadata": {
        "colab": {
          "base_uri": "https://localhost:8080/",
          "height": 282
        },
        "id": "Qi2DeZM9wU5v",
        "outputId": "e0ae664a-5f15-48b6-c2cf-a9cf8fcd6b90"
      },
      "source": [
        "ptpn6_high_genes = ptpn6_high[['NTRK1', 'TP53', 'PTPN6']]\n",
        "ax = sns.violinplot(data=ptpn6_high_genes, cut=0)\n",
        "ax.set_ylim([-2.5,3.5])"
      ],
      "execution_count": 132,
      "outputs": [
        {
          "output_type": "execute_result",
          "data": {
            "text/plain": [
              "(-2.5, 3.5)"
            ]
          },
          "metadata": {
            "tags": []
          },
          "execution_count": 132
        },
        {
          "output_type": "display_data",
          "data": {
            "image/png": "[encoded data removed]",
            "text/plain": [
              "<Figure size 432x288 with 1 Axes>"
            ]
          },
          "metadata": {
            "tags": [],
            "needs_background": "light"
          }
        }
      ]
    },
    {
      "cell_type": "markdown",
      "metadata": {
        "id": "M_PGUdc1CksJ"
      },
      "source": [
        "### **TP53**"
      ]
    },
    {
      "cell_type": "code",
      "metadata": {
        "id": "wfL08mn2Cma6"
      },
      "source": [
        "tp53_low = clinical_paper_genes_mrna_z.loc[clinical_paper_genes_mrna_z['TP53'] <= -1]\n",
        "tp53_moderate = clinical_paper_genes_mrna_z.loc[(clinical_paper_genes_mrna_z['TP53'] > -1) & (clinical_paper_genes_mrna_z['TP53'] < 1)]\n",
        "tp53_high = clinical_paper_genes_mrna_z.loc[clinical_paper_genes_mrna_z['TP53'] >= 1]"
      ],
      "execution_count": 58,
      "outputs": []
    },
    {
      "cell_type": "code",
      "metadata": {
        "colab": {
          "base_uri": "https://localhost:8080/",
          "height": 282
        },
        "id": "TTs8WB4lCw4m",
        "outputId": "632f1664-88f5-43a4-a6d8-4ea22c7c45fa"
      },
      "source": [
        "tp53_low_efs = tp53_low[['EFS Time']].astype(float)\n",
        "tp53_moderate_efs = tp53_moderate[['EFS Time']].astype(float)\n",
        "tp53_high_efs = tp53_high[['EFS Time']].astype(float)\n",
        "\n",
        "import seaborn as sns\n",
        "sns.violinplot(data=tp53_low_efs, cut=0)"
      ],
      "execution_count": 16,
      "outputs": [
        {
          "output_type": "execute_result",
          "data": {
            "text/plain": [
              "<matplotlib.axes._subplots.AxesSubplot at 0x7f4b507ddb38>"
            ]
          },
          "metadata": {
            "tags": []
          },
          "execution_count": 16
        },
        {
          "output_type": "display_data",
          "data": {
            "image/png": "[encoded data removed]",
            "text/plain": [
              "<Figure size 432x288 with 1 Axes>"
            ]
          },
          "metadata": {
            "tags": [],
            "needs_background": "light"
          }
        }
      ]
    },
    {
      "cell_type": "code",
      "metadata": {
        "colab": {
          "base_uri": "https://localhost:8080/",
          "height": 282
        },
        "id": "jJvAqIiHC3W4",
        "outputId": "1470b25b-332f-46d0-a8f6-b46fbeced62b"
      },
      "source": [
        "sns.violinplot(data=tp53_moderate_efs, cut=0)"
      ],
      "execution_count": 17,
      "outputs": [
        {
          "output_type": "execute_result",
          "data": {
            "text/plain": [
              "<matplotlib.axes._subplots.AxesSubplot at 0x7f4b507d49b0>"
            ]
          },
          "metadata": {
            "tags": []
          },
          "execution_count": 17
        },
        {
          "output_type": "display_data",
          "data": {
            "image/png": "[encoded data removed]",
            "text/plain": [
              "<Figure size 432x288 with 1 Axes>"
            ]
          },
          "metadata": {
            "tags": [],
            "needs_background": "light"
          }
        }
      ]
    },
    {
      "cell_type": "code",
      "metadata": {
        "colab": {
          "base_uri": "https://localhost:8080/",
          "height": 282
        },
        "id": "Sw0A-ncWC6TR",
        "outputId": "3b6ae309-172b-4993-fb4c-7b64f472e6a1"
      },
      "source": [
        "sns.violinplot(data=tp53_high_efs, cut=0)"
      ],
      "execution_count": 18,
      "outputs": [
        {
          "output_type": "execute_result",
          "data": {
            "text/plain": [
              "<matplotlib.axes._subplots.AxesSubplot at 0x7f4b50716748>"
            ]
          },
          "metadata": {
            "tags": []
          },
          "execution_count": 18
        },
        {
          "output_type": "display_data",
          "data": {
            "image/png": "[encoded data removed]",
            "text/plain": [
              "<Figure size 432x288 with 1 Axes>"
            ]
          },
          "metadata": {
            "tags": [],
            "needs_background": "light"
          }
        }
      ]
    },
    {
      "cell_type": "code",
      "metadata": {
        "colab": {
          "base_uri": "https://localhost:8080/",
          "height": 282
        },
        "id": "58u10nW1xHbR",
        "outputId": "56e3a216-502f-4772-d736-1b4e111e2201"
      },
      "source": [
        "tp53_low_genes = tp53_low[['NTRK1', 'TP53', 'PTPN6']]\n",
        "ax = sns.violinplot(data=tp53_low_genes, cut=0)\n",
        "ax.set_ylim([-2.5,3.5])"
      ],
      "execution_count": 134,
      "outputs": [
        {
          "output_type": "execute_result",
          "data": {
            "text/plain": [
              "(-2.5, 3.5)"
            ]
          },
          "metadata": {
            "tags": []
          },
          "execution_count": 134
        },
        {
          "output_type": "display_data",
          "data": {
            "image/png": "[encoded data removed]",
            "text/plain": [
              "<Figure size 432x288 with 1 Axes>"
            ]
          },
          "metadata": {
            "tags": [],
            "needs_background": "light"
          }
        }
      ]
    },
    {
      "cell_type": "code",
      "metadata": {
        "colab": {
          "base_uri": "https://localhost:8080/",
          "height": 282
        },
        "id": "FoHxD57_xHyO",
        "outputId": "d48adc30-ccd5-40d7-e1df-91200e3b1f06"
      },
      "source": [
        "tp53_moderate_genes = tp53_moderate[['NTRK1', 'TP53', 'PTPN6']]\n",
        "ax = sns.violinplot(data=tp53_moderate_genes, cut=0)\n",
        "ax.set_ylim([-2.5,3.5])"
      ],
      "execution_count": 133,
      "outputs": [
        {
          "output_type": "execute_result",
          "data": {
            "text/plain": [
              "(-2.5, 3.5)"
            ]
          },
          "metadata": {
            "tags": []
          },
          "execution_count": 133
        },
        {
          "output_type": "display_data",
          "data": {
            "image/png": "[encoded data removed]",
            "text/plain": [
              "<Figure size 432x288 with 1 Axes>"
            ]
          },
          "metadata": {
            "tags": [],
            "needs_background": "light"
          }
        }
      ]
    },
    {
      "cell_type": "code",
      "metadata": {
        "colab": {
          "base_uri": "https://localhost:8080/",
          "height": 282
        },
        "id": "PrOlMozRxIOT",
        "outputId": "ad733011-f5ed-47ff-dfa4-c28ef9287caf"
      },
      "source": [
        "tp53_high_genes = tp53_high[['NTRK1', 'TP53', 'PTPN6']]\n",
        "ax = sns.violinplot(data=tp53_high_genes, cut=0)\n",
        "ax.set_ylim([-2.5,3.5])"
      ],
      "execution_count": 135,
      "outputs": [
        {
          "output_type": "execute_result",
          "data": {
            "text/plain": [
              "(-2.5, 3.5)"
            ]
          },
          "metadata": {
            "tags": []
          },
          "execution_count": 135
        },
        {
          "output_type": "display_data",
          "data": {
            "image/png": "[encoded data removed]",
            "text/plain": [
              "<Figure size 432x288 with 1 Axes>"
            ]
          },
          "metadata": {
            "tags": [],
            "needs_background": "light"
          }
        }
      ]
    },
    {
      "cell_type": "markdown",
      "metadata": {
        "id": "IXMgjcjLNFJ3"
      },
      "source": [
        "### **Low TP53 & PTPN6**"
      ]
    },
    {
      "cell_type": "code",
      "metadata": {
        "id": "k2GCKxfCNIwv"
      },
      "source": [
        "ptpn6_tp53_low = clinical_paper_genes_mrna_z.loc[(clinical_paper_genes_mrna_z['PTPN6'] <= -1) & (clinical_paper_genes_mrna_z['TP53'] <= -1)]\n",
        "ptpn6_tp53_low_efs = ptpn6_tp53_low[['EFS Time']].astype(float)"
      ],
      "execution_count": 59,
      "outputs": []
    },
    {
      "cell_type": "code",
      "metadata": {
        "colab": {
          "base_uri": "https://localhost:8080/",
          "height": 282
        },
        "id": "kUlftzenN4Li",
        "outputId": "68504ad2-7fc5-41c8-ed05-774d695c7087"
      },
      "source": [
        "sns.violinplot(data=ptpn6_tp53_low_efs, cut=0)"
      ],
      "execution_count": 20,
      "outputs": [
        {
          "output_type": "execute_result",
          "data": {
            "text/plain": [
              "<matplotlib.axes._subplots.AxesSubplot at 0x7f4b506ea358>"
            ]
          },
          "metadata": {
            "tags": []
          },
          "execution_count": 20
        },
        {
          "output_type": "display_data",
          "data": {
            "image/png": "[encoded data removed]",
            "text/plain": [
              "<Figure size 432x288 with 1 Axes>"
            ]
          },
          "metadata": {
            "tags": [],
            "needs_background": "light"
          }
        }
      ]
    },
    {
      "cell_type": "code",
      "metadata": {
        "colab": {
          "base_uri": "https://localhost:8080/",
          "height": 235
        },
        "id": "ao2focwqOkg5",
        "outputId": "8bd7e79b-af54-4f4f-9352-ad328a424b95"
      },
      "source": [
        "ptpn6_tp53_low_efs"
      ],
      "execution_count": 21,
      "outputs": [
        {
          "output_type": "execute_result",
          "data": {
            "text/html": [
              "<div>\n",
              "<style scoped>\n",
              "    .dataframe tbody tr th:only-of-type {\n",
              "        vertical-align: middle;\n",
              "    }\n",
              "\n",
              "    .dataframe tbody tr th {\n",
              "        vertical-align: top;\n",
              "    }\n",
              "\n",
              "    .dataframe thead th {\n",
              "        text-align: right;\n",
              "    }\n",
              "</style>\n",
              "<table border=\"1\" class=\"dataframe\">\n",
              "  <thead>\n",
              "    <tr style=\"text-align: right;\">\n",
              "      <th></th>\n",
              "      <th>EFS Time</th>\n",
              "    </tr>\n",
              "  </thead>\n",
              "  <tbody>\n",
              "    <tr>\n",
              "      <th>44</th>\n",
              "      <td>4998.0</td>\n",
              "    </tr>\n",
              "    <tr>\n",
              "      <th>150</th>\n",
              "      <td>165.0</td>\n",
              "    </tr>\n",
              "    <tr>\n",
              "      <th>164</th>\n",
              "      <td>1638.0</td>\n",
              "    </tr>\n",
              "    <tr>\n",
              "      <th>207</th>\n",
              "      <td>425.0</td>\n",
              "    </tr>\n",
              "    <tr>\n",
              "      <th>225</th>\n",
              "      <td>1626.0</td>\n",
              "    </tr>\n",
              "    <tr>\n",
              "      <th>234</th>\n",
              "      <td>168.0</td>\n",
              "    </tr>\n",
              "  </tbody>\n",
              "</table>\n",
              "</div>"
            ],
            "text/plain": [
              "     EFS Time\n",
              "44     4998.0\n",
              "150     165.0\n",
              "164    1638.0\n",
              "207     425.0\n",
              "225    1626.0\n",
              "234     168.0"
            ]
          },
          "metadata": {
            "tags": []
          },
          "execution_count": 21
        }
      ]
    },
    {
      "cell_type": "code",
      "metadata": {
        "colab": {
          "base_uri": "https://localhost:8080/",
          "height": 282
        },
        "id": "FLcbjfuaNgfV",
        "outputId": "f843c02b-10a1-4eef-f681-a95d66f8ce7d"
      },
      "source": [
        "ptpn6_tp53_low_genes = ptpn6_tp53_low[['NTRK1', 'TP53', 'PTPN6']]\n",
        "sns.violinplot(data=ptpn6_tp53_low_genes, cut=0)"
      ],
      "execution_count": 22,
      "outputs": [
        {
          "output_type": "execute_result",
          "data": {
            "text/plain": [
              "<matplotlib.axes._subplots.AxesSubplot at 0x7f4b506b20b8>"
            ]
          },
          "metadata": {
            "tags": []
          },
          "execution_count": 22
        },
        {
          "output_type": "display_data",
          "data": {
            "image/png": "[encoded data removed]",
            "text/plain": [
              "<Figure size 432x288 with 1 Axes>"
            ]
          },
          "metadata": {
            "tags": [],
            "needs_background": "light"
          }
        }
      ]
    },
    {
      "cell_type": "markdown",
      "metadata": {
        "id": "xA2nLKTsOqkC"
      },
      "source": [
        "## **Kaplan Meier**"
      ]
    },
    {
      "cell_type": "markdown",
      "metadata": {
        "id": "Z_R83_-nXDUy"
      },
      "source": [
        "### **TrkA**"
      ]
    },
    {
      "cell_type": "code",
      "metadata": {
        "id": "9ynVi-gYOiQN"
      },
      "source": [
        "from lifelines import KaplanMeierFitter\n",
        "import matplotlib.pyplot as plt"
      ],
      "execution_count": 25,
      "outputs": []
    },
    {
      "cell_type": "code",
      "metadata": {
        "colab": {
          "base_uri": "https://localhost:8080/",
          "height": 554
        },
        "id": "qtOijDjWQPJJ",
        "outputId": "9f5bb514-88a1-475c-b15c-5b819020e0cd"
      },
      "source": [
        "kmf = KaplanMeierFitter()\n",
        "kmf.fit(durations =  Trk_low[\"EFS Time\"], event_observed = Trk_low[\"dead\"])\n",
        "\n",
        "kmf.plot()\n",
        "plt.xlabel(\"Number of days\")\n",
        "plt.ylabel(\"Probability of survival\")"
      ],
      "execution_count": 52,
      "outputs": [
        {
          "output_type": "stream",
          "text": [
            "/usr/local/lib/python3.6/dist-packages/pandas/core/indexing.py:1596: SettingWithCopyWarning: \n",
            "A value is trying to be set on a copy of a slice from a DataFrame.\n",
            "Try using .loc[row_indexer,col_indexer] = value instead\n",
            "\n",
            "See the caveats in the documentation: https://pandas.pydata.org/pandas-docs/stable/user_guide/indexing.html#returning-a-view-versus-a-copy\n",
            "  self.obj[key] = _infer_fill_value(value)\n",
            "/usr/local/lib/python3.6/dist-packages/pandas/core/indexing.py:1763: SettingWithCopyWarning: \n",
            "A value is trying to be set on a copy of a slice from a DataFrame.\n",
            "Try using .loc[row_indexer,col_indexer] = value instead\n",
            "\n",
            "See the caveats in the documentation: https://pandas.pydata.org/pandas-docs/stable/user_guide/indexing.html#returning-a-view-versus-a-copy\n",
            "  isetter(loc, value)\n",
            "/usr/local/lib/python3.6/dist-packages/lifelines/utils/__init__.py:1175: UserWarning: Attempting to convert an unexpected datatype 'object' to float. Suggestion: 1) use `lifelines.utils.datetimes_to_durations` to do conversions or 2) manually convert to floats/booleans.\n",
            "  warnings.warn(warning_text, UserWarning)\n"
          ],
          "name": "stderr"
        },
        {
          "output_type": "execute_result",
          "data": {
            "text/plain": [
              "Text(0, 0.5, 'Probability of survival')"
            ]
          },
          "metadata": {
            "tags": []
          },
          "execution_count": 52
        },
        {
          "output_type": "display_data",
          "data": {
            "image/png": "[encoded data removed]",
            "text/plain": [
              "<Figure size 432x288 with 1 Axes>"
            ]
          },
          "metadata": {
            "tags": [],
            "needs_background": "light"
          }
        }
      ]
    },
    {
      "cell_type": "code",
      "metadata": {
        "colab": {
          "base_uri": "https://localhost:8080/",
          "height": 554
        },
        "id": "ruWwVKGeS0Y8",
        "outputId": "57faebae-1b2f-481e-c409-c8e094b56f68"
      },
      "source": [
        "kmf = KaplanMeierFitter()\n",
        "kmf.fit(durations =  Trk_moderate[\"EFS Time\"], event_observed = Trk_moderate[\"dead\"])\n",
        "\n",
        "kmf.plot()\n",
        "plt.xlabel(\"Number of days\")\n",
        "plt.ylabel(\"Probability of survival\")"
      ],
      "execution_count": 27,
      "outputs": [
        {
          "output_type": "stream",
          "text": [
            "/usr/local/lib/python3.6/dist-packages/pandas/core/indexing.py:1596: SettingWithCopyWarning: \n",
            "A value is trying to be set on a copy of a slice from a DataFrame.\n",
            "Try using .loc[row_indexer,col_indexer] = value instead\n",
            "\n",
            "See the caveats in the documentation: https://pandas.pydata.org/pandas-docs/stable/user_guide/indexing.html#returning-a-view-versus-a-copy\n",
            "  self.obj[key] = _infer_fill_value(value)\n",
            "/usr/local/lib/python3.6/dist-packages/pandas/core/indexing.py:1763: SettingWithCopyWarning: \n",
            "A value is trying to be set on a copy of a slice from a DataFrame.\n",
            "Try using .loc[row_indexer,col_indexer] = value instead\n",
            "\n",
            "See the caveats in the documentation: https://pandas.pydata.org/pandas-docs/stable/user_guide/indexing.html#returning-a-view-versus-a-copy\n",
            "  isetter(loc, value)\n",
            "/usr/local/lib/python3.6/dist-packages/lifelines/utils/__init__.py:1175: UserWarning: Attempting to convert an unexpected datatype 'object' to float. Suggestion: 1) use `lifelines.utils.datetimes_to_durations` to do conversions or 2) manually convert to floats/booleans.\n",
            "  warnings.warn(warning_text, UserWarning)\n"
          ],
          "name": "stderr"
        },
        {
          "output_type": "execute_result",
          "data": {
            "text/plain": [
              "Text(0, 0.5, 'Probability of survival')"
            ]
          },
          "metadata": {
            "tags": []
          },
          "execution_count": 27
        },
        {
          "output_type": "display_data",
          "data": {
            "image/png": "[encoded data removed]",
            "text/plain": [
              "<Figure size 432x288 with 1 Axes>"
            ]
          },
          "metadata": {
            "tags": [],
            "needs_background": "light"
          }
        }
      ]
    },
    {
      "cell_type": "code",
      "metadata": {
        "colab": {
          "base_uri": "https://localhost:8080/",
          "height": 554
        },
        "id": "WU5uc2RcTHlU",
        "outputId": "15c3fa49-e346-4f27-fd2d-899cc68366f3"
      },
      "source": [
        "kmf = KaplanMeierFitter()\n",
        "kmf.fit(durations =  Trk_high[\"EFS Time\"], event_observed = Trk_high[\"dead\"])\n",
        "\n",
        "kmf.plot()\n",
        "plt.xlabel(\"Number of days\")\n",
        "plt.ylabel(\"Probability of survival\")"
      ],
      "execution_count": 28,
      "outputs": [
        {
          "output_type": "stream",
          "text": [
            "/usr/local/lib/python3.6/dist-packages/pandas/core/indexing.py:1596: SettingWithCopyWarning: \n",
            "A value is trying to be set on a copy of a slice from a DataFrame.\n",
            "Try using .loc[row_indexer,col_indexer] = value instead\n",
            "\n",
            "See the caveats in the documentation: https://pandas.pydata.org/pandas-docs/stable/user_guide/indexing.html#returning-a-view-versus-a-copy\n",
            "  self.obj[key] = _infer_fill_value(value)\n",
            "/usr/local/lib/python3.6/dist-packages/pandas/core/indexing.py:1763: SettingWithCopyWarning: \n",
            "A value is trying to be set on a copy of a slice from a DataFrame.\n",
            "Try using .loc[row_indexer,col_indexer] = value instead\n",
            "\n",
            "See the caveats in the documentation: https://pandas.pydata.org/pandas-docs/stable/user_guide/indexing.html#returning-a-view-versus-a-copy\n",
            "  isetter(loc, value)\n",
            "/usr/local/lib/python3.6/dist-packages/lifelines/utils/__init__.py:1175: UserWarning: Attempting to convert an unexpected datatype 'object' to float. Suggestion: 1) use `lifelines.utils.datetimes_to_durations` to do conversions or 2) manually convert to floats/booleans.\n",
            "  warnings.warn(warning_text, UserWarning)\n"
          ],
          "name": "stderr"
        },
        {
          "output_type": "execute_result",
          "data": {
            "text/plain": [
              "Text(0, 0.5, 'Probability of survival')"
            ]
          },
          "metadata": {
            "tags": []
          },
          "execution_count": 28
        },
        {
          "output_type": "display_data",
          "data": {
            "image/png": "[encoded data removed]",
            "text/plain": [
              "<Figure size 432x288 with 1 Axes>"
            ]
          },
          "metadata": {
            "tags": [],
            "needs_background": "light"
          }
        }
      ]
    },
    {
      "cell_type": "code",
      "metadata": {
        "colab": {
          "base_uri": "https://localhost:8080/",
          "height": 204
        },
        "id": "wi3rcvp8EZAm",
        "outputId": "2f9e3686-d937-4406-d4db-b9104ba4f77b"
      },
      "source": [
        "from lifelines.statistics import logrank_test\n",
        "results=logrank_test(Trk_low[\"EFS Time\"].astype(float), Trk_high[\"EFS Time\"].astype(float), event_observed_A=Trk_low[\"dead\"], event_observed_B=Trk_high[\"dead\"])\n",
        "results.print_summary()"
      ],
      "execution_count": 29,
      "outputs": [
        {
          "output_type": "display_data",
          "data": {
            "text/latex": "\\begin{tabular}{lrrr}\n\\toprule\n{} &  test\\_statistic &         p &   -log2(p) \\\\\n\\midrule\n0 &       12.524121 &  0.000402 &  11.281479 \\\\\n\\bottomrule\n\\end{tabular}\n",
            "text/html": [
              "<div>\n",
              "<style scoped>\n",
              "    .dataframe tbody tr th:only-of-type {\n",
              "        vertical-align: middle;\n",
              "    }\n",
              "\n",
              "    .dataframe tbody tr th {\n",
              "        vertical-align: top;\n",
              "    }\n",
              "\n",
              "    .dataframe thead th {\n",
              "        text-align: right;\n",
              "    }\n",
              "</style>\n",
              "<table border=\"1\" class=\"dataframe\">\n",
              "  <tbody>\n",
              "    <tr>\n",
              "      <th>t_0</th>\n",
              "      <td>-1</td>\n",
              "    </tr>\n",
              "    <tr>\n",
              "      <th>null_distribution</th>\n",
              "      <td>chi squared</td>\n",
              "    </tr>\n",
              "    <tr>\n",
              "      <th>degrees_of_freedom</th>\n",
              "      <td>1</td>\n",
              "    </tr>\n",
              "    <tr>\n",
              "      <th>test_name</th>\n",
              "      <td>logrank_test</td>\n",
              "    </tr>\n",
              "  </tbody>\n",
              "</table>\n",
              "</div><table border=\"1\" class=\"dataframe\">\n",
              "  <thead>\n",
              "    <tr style=\"text-align: right;\">\n",
              "      <th></th>\n",
              "      <th>test_statistic</th>\n",
              "      <th>p</th>\n",
              "      <th>-log2(p)</th>\n",
              "    </tr>\n",
              "  </thead>\n",
              "  <tbody>\n",
              "    <tr>\n",
              "      <th>0</th>\n",
              "      <td>12.52</td>\n",
              "      <td>&lt;0.005</td>\n",
              "      <td>11.28</td>\n",
              "    </tr>\n",
              "  </tbody>\n",
              "</table>"
            ],
            "text/plain": [
              "<lifelines.StatisticalResult: logrank_test>\n",
              "               t_0 = -1\n",
              " null_distribution = chi squared\n",
              "degrees_of_freedom = 1\n",
              "         test_name = logrank_test\n",
              "\n",
              "---\n",
              " test_statistic      p  -log2(p)\n",
              "          12.52 <0.005     11.28"
            ]
          },
          "metadata": {
            "tags": []
          }
        }
      ]
    },
    {
      "cell_type": "code",
      "metadata": {
        "colab": {
          "base_uri": "https://localhost:8080/",
          "height": 204
        },
        "id": "zQFx6wzgE0uD",
        "outputId": "b4b236f0-0362-4949-ca33-cfadc5095a71"
      },
      "source": [
        "results=logrank_test(Trk_moderate[\"EFS Time\"].astype(float), Trk_high[\"EFS Time\"].astype(float), event_observed_A=Trk_moderate[\"dead\"], event_observed_B=Trk_high[\"dead\"])\n",
        "results.print_summary()"
      ],
      "execution_count": 30,
      "outputs": [
        {
          "output_type": "display_data",
          "data": {
            "text/latex": "\\begin{tabular}{lrrr}\n\\toprule\n{} &  test\\_statistic &         p &   -log2(p) \\\\\n\\midrule\n0 &       14.652093 &  0.000129 &  12.917091 \\\\\n\\bottomrule\n\\end{tabular}\n",
            "text/html": [
              "<div>\n",
              "<style scoped>\n",
              "    .dataframe tbody tr th:only-of-type {\n",
              "        vertical-align: middle;\n",
              "    }\n",
              "\n",
              "    .dataframe tbody tr th {\n",
              "        vertical-align: top;\n",
              "    }\n",
              "\n",
              "    .dataframe thead th {\n",
              "        text-align: right;\n",
              "    }\n",
              "</style>\n",
              "<table border=\"1\" class=\"dataframe\">\n",
              "  <tbody>\n",
              "    <tr>\n",
              "      <th>t_0</th>\n",
              "      <td>-1</td>\n",
              "    </tr>\n",
              "    <tr>\n",
              "      <th>null_distribution</th>\n",
              "      <td>chi squared</td>\n",
              "    </tr>\n",
              "    <tr>\n",
              "      <th>degrees_of_freedom</th>\n",
              "      <td>1</td>\n",
              "    </tr>\n",
              "    <tr>\n",
              "      <th>test_name</th>\n",
              "      <td>logrank_test</td>\n",
              "    </tr>\n",
              "  </tbody>\n",
              "</table>\n",
              "</div><table border=\"1\" class=\"dataframe\">\n",
              "  <thead>\n",
              "    <tr style=\"text-align: right;\">\n",
              "      <th></th>\n",
              "      <th>test_statistic</th>\n",
              "      <th>p</th>\n",
              "      <th>-log2(p)</th>\n",
              "    </tr>\n",
              "  </thead>\n",
              "  <tbody>\n",
              "    <tr>\n",
              "      <th>0</th>\n",
              "      <td>14.65</td>\n",
              "      <td>&lt;0.005</td>\n",
              "      <td>12.92</td>\n",
              "    </tr>\n",
              "  </tbody>\n",
              "</table>"
            ],
            "text/plain": [
              "<lifelines.StatisticalResult: logrank_test>\n",
              "               t_0 = -1\n",
              " null_distribution = chi squared\n",
              "degrees_of_freedom = 1\n",
              "         test_name = logrank_test\n",
              "\n",
              "---\n",
              " test_statistic      p  -log2(p)\n",
              "          14.65 <0.005     12.92"
            ]
          },
          "metadata": {
            "tags": []
          }
        }
      ]
    },
    {
      "cell_type": "markdown",
      "metadata": {
        "id": "sERlkXZOXG7t"
      },
      "source": [
        "### **TP53**"
      ]
    },
    {
      "cell_type": "code",
      "metadata": {
        "colab": {
          "base_uri": "https://localhost:8080/",
          "height": 554
        },
        "id": "QF_e-OfcXJgr",
        "outputId": "d69dfda4-29eb-4a95-cabb-d6190f8f29a7"
      },
      "source": [
        "kmf = KaplanMeierFitter()\n",
        "kmf.fit(durations = tp53_low[\"EFS Time\"], event_observed = tp53_low[\"dead\"])\n",
        "\n",
        "kmf.plot()\n",
        "plt.xlabel(\"Number of days\")\n",
        "plt.ylabel(\"Probability of survival\")"
      ],
      "execution_count": 31,
      "outputs": [
        {
          "output_type": "stream",
          "text": [
            "/usr/local/lib/python3.6/dist-packages/pandas/core/indexing.py:1596: SettingWithCopyWarning: \n",
            "A value is trying to be set on a copy of a slice from a DataFrame.\n",
            "Try using .loc[row_indexer,col_indexer] = value instead\n",
            "\n",
            "See the caveats in the documentation: https://pandas.pydata.org/pandas-docs/stable/user_guide/indexing.html#returning-a-view-versus-a-copy\n",
            "  self.obj[key] = _infer_fill_value(value)\n",
            "/usr/local/lib/python3.6/dist-packages/pandas/core/indexing.py:1763: SettingWithCopyWarning: \n",
            "A value is trying to be set on a copy of a slice from a DataFrame.\n",
            "Try using .loc[row_indexer,col_indexer] = value instead\n",
            "\n",
            "See the caveats in the documentation: https://pandas.pydata.org/pandas-docs/stable/user_guide/indexing.html#returning-a-view-versus-a-copy\n",
            "  isetter(loc, value)\n",
            "/usr/local/lib/python3.6/dist-packages/lifelines/utils/__init__.py:1175: UserWarning: Attempting to convert an unexpected datatype 'object' to float. Suggestion: 1) use `lifelines.utils.datetimes_to_durations` to do conversions or 2) manually convert to floats/booleans.\n",
            "  warnings.warn(warning_text, UserWarning)\n"
          ],
          "name": "stderr"
        },
        {
          "output_type": "execute_result",
          "data": {
            "text/plain": [
              "Text(0, 0.5, 'Probability of survival')"
            ]
          },
          "metadata": {
            "tags": []
          },
          "execution_count": 31
        },
        {
          "output_type": "display_data",
          "data": {
            "image/png": "[encoded data removed]",
            "text/plain": [
              "<Figure size 432x288 with 1 Axes>"
            ]
          },
          "metadata": {
            "tags": [],
            "needs_background": "light"
          }
        }
      ]
    },
    {
      "cell_type": "code",
      "metadata": {
        "colab": {
          "base_uri": "https://localhost:8080/",
          "height": 350
        },
        "id": "rnaaRo4bXTMp",
        "outputId": "e94ff580-ebd2-4865-e339-48bfc673b0d0"
      },
      "source": [
        "kmf = KaplanMeierFitter()\n",
        "kmf.fit(durations = tp53_moderate[\"EFS Time\"], event_observed = tp53_moderate[\"dead\"])\n",
        "\n",
        "kmf.plot()\n",
        "plt.xlabel(\"Number of days\")\n",
        "plt.ylabel(\"Probability of survival\")"
      ],
      "execution_count": 32,
      "outputs": [
        {
          "output_type": "stream",
          "text": [
            "/usr/local/lib/python3.6/dist-packages/lifelines/utils/__init__.py:1175: UserWarning: Attempting to convert an unexpected datatype 'object' to float. Suggestion: 1) use `lifelines.utils.datetimes_to_durations` to do conversions or 2) manually convert to floats/booleans.\n",
            "  warnings.warn(warning_text, UserWarning)\n"
          ],
          "name": "stderr"
        },
        {
          "output_type": "execute_result",
          "data": {
            "text/plain": [
              "Text(0, 0.5, 'Probability of survival')"
            ]
          },
          "metadata": {
            "tags": []
          },
          "execution_count": 32
        },
        {
          "output_type": "display_data",
          "data": {
            "image/png": "[encoded data removed]",
            "text/plain": [
              "<Figure size 432x288 with 1 Axes>"
            ]
          },
          "metadata": {
            "tags": [],
            "needs_background": "light"
          }
        }
      ]
    },
    {
      "cell_type": "code",
      "metadata": {
        "colab": {
          "base_uri": "https://localhost:8080/",
          "height": 350
        },
        "id": "cWs7yr1SXdbN",
        "outputId": "b9fd4180-a9e8-4b7f-fba7-88df0f60e831"
      },
      "source": [
        "#tp53_high = tp53_high.drop(tp53_high.loc[tp53_high[\"#Patient Identifier\"] == \"TARGET-30-PAJXLE\"].index)\n",
        "\n",
        "kmf = KaplanMeierFitter()\n",
        "kmf.fit(durations = tp53_high[\"EFS Time\"], event_observed = tp53_high[\"dead\"])\n",
        "\n",
        "kmf.plot()\n",
        "plt.xlabel(\"Number of days\")\n",
        "plt.ylabel(\"Probability of survival\")"
      ],
      "execution_count": 33,
      "outputs": [
        {
          "output_type": "stream",
          "text": [
            "/usr/local/lib/python3.6/dist-packages/lifelines/utils/__init__.py:1175: UserWarning: Attempting to convert an unexpected datatype 'object' to float. Suggestion: 1) use `lifelines.utils.datetimes_to_durations` to do conversions or 2) manually convert to floats/booleans.\n",
            "  warnings.warn(warning_text, UserWarning)\n"
          ],
          "name": "stderr"
        },
        {
          "output_type": "execute_result",
          "data": {
            "text/plain": [
              "Text(0, 0.5, 'Probability of survival')"
            ]
          },
          "metadata": {
            "tags": []
          },
          "execution_count": 33
        },
        {
          "output_type": "display_data",
          "data": {
            "image/png": "[encoded data removed]",
            "text/plain": [
              "<Figure size 432x288 with 1 Axes>"
            ]
          },
          "metadata": {
            "tags": [],
            "needs_background": "light"
          }
        }
      ]
    },
    {
      "cell_type": "code",
      "metadata": {
        "colab": {
          "base_uri": "https://localhost:8080/",
          "height": 204
        },
        "id": "kpmQ8kKFEOrI",
        "outputId": "a034171b-24f7-47eb-b255-42b171beb0f5"
      },
      "source": [
        "results=logrank_test(tp53_low[\"EFS Time\"].astype(float), tp53_high[\"EFS Time\"].astype(float), event_observed_A=tp53_low[\"dead\"], event_observed_B=tp53_high[\"dead\"])\n",
        "results.print_summary()"
      ],
      "execution_count": 34,
      "outputs": [
        {
          "output_type": "display_data",
          "data": {
            "text/latex": "\\begin{tabular}{lrrr}\n\\toprule\n{} &  test\\_statistic &         p &  -log2(p) \\\\\n\\midrule\n0 &         2.70508 &  0.100029 &  3.321509 \\\\\n\\bottomrule\n\\end{tabular}\n",
            "text/html": [
              "<div>\n",
              "<style scoped>\n",
              "    .dataframe tbody tr th:only-of-type {\n",
              "        vertical-align: middle;\n",
              "    }\n",
              "\n",
              "    .dataframe tbody tr th {\n",
              "        vertical-align: top;\n",
              "    }\n",
              "\n",
              "    .dataframe thead th {\n",
              "        text-align: right;\n",
              "    }\n",
              "</style>\n",
              "<table border=\"1\" class=\"dataframe\">\n",
              "  <tbody>\n",
              "    <tr>\n",
              "      <th>t_0</th>\n",
              "      <td>-1</td>\n",
              "    </tr>\n",
              "    <tr>\n",
              "      <th>null_distribution</th>\n",
              "      <td>chi squared</td>\n",
              "    </tr>\n",
              "    <tr>\n",
              "      <th>degrees_of_freedom</th>\n",
              "      <td>1</td>\n",
              "    </tr>\n",
              "    <tr>\n",
              "      <th>test_name</th>\n",
              "      <td>logrank_test</td>\n",
              "    </tr>\n",
              "  </tbody>\n",
              "</table>\n",
              "</div><table border=\"1\" class=\"dataframe\">\n",
              "  <thead>\n",
              "    <tr style=\"text-align: right;\">\n",
              "      <th></th>\n",
              "      <th>test_statistic</th>\n",
              "      <th>p</th>\n",
              "      <th>-log2(p)</th>\n",
              "    </tr>\n",
              "  </thead>\n",
              "  <tbody>\n",
              "    <tr>\n",
              "      <th>0</th>\n",
              "      <td>2.71</td>\n",
              "      <td>0.10</td>\n",
              "      <td>3.32</td>\n",
              "    </tr>\n",
              "  </tbody>\n",
              "</table>"
            ],
            "text/plain": [
              "<lifelines.StatisticalResult: logrank_test>\n",
              "               t_0 = -1\n",
              " null_distribution = chi squared\n",
              "degrees_of_freedom = 1\n",
              "         test_name = logrank_test\n",
              "\n",
              "---\n",
              " test_statistic    p  -log2(p)\n",
              "           2.71 0.10      3.32"
            ]
          },
          "metadata": {
            "tags": []
          }
        }
      ]
    },
    {
      "cell_type": "code",
      "metadata": {
        "colab": {
          "base_uri": "https://localhost:8080/",
          "height": 204
        },
        "id": "V83kKnqaFzx8",
        "outputId": "76ba120d-aaf5-4460-8757-25c6792e87c6"
      },
      "source": [
        "results=logrank_test(tp53_low[\"EFS Time\"].astype(float), tp53_moderate[\"EFS Time\"].astype(float), event_observed_A=tp53_low[\"dead\"], event_observed_B=tp53_moderate[\"dead\"])\n",
        "results.print_summary()"
      ],
      "execution_count": 35,
      "outputs": [
        {
          "output_type": "display_data",
          "data": {
            "text/latex": "\\begin{tabular}{lrrr}\n\\toprule\n{} &  test\\_statistic &         p &  -log2(p) \\\\\n\\midrule\n0 &        1.488125 &  0.222508 &  2.168074 \\\\\n\\bottomrule\n\\end{tabular}\n",
            "text/html": [
              "<div>\n",
              "<style scoped>\n",
              "    .dataframe tbody tr th:only-of-type {\n",
              "        vertical-align: middle;\n",
              "    }\n",
              "\n",
              "    .dataframe tbody tr th {\n",
              "        vertical-align: top;\n",
              "    }\n",
              "\n",
              "    .dataframe thead th {\n",
              "        text-align: right;\n",
              "    }\n",
              "</style>\n",
              "<table border=\"1\" class=\"dataframe\">\n",
              "  <tbody>\n",
              "    <tr>\n",
              "      <th>t_0</th>\n",
              "      <td>-1</td>\n",
              "    </tr>\n",
              "    <tr>\n",
              "      <th>null_distribution</th>\n",
              "      <td>chi squared</td>\n",
              "    </tr>\n",
              "    <tr>\n",
              "      <th>degrees_of_freedom</th>\n",
              "      <td>1</td>\n",
              "    </tr>\n",
              "    <tr>\n",
              "      <th>test_name</th>\n",
              "      <td>logrank_test</td>\n",
              "    </tr>\n",
              "  </tbody>\n",
              "</table>\n",
              "</div><table border=\"1\" class=\"dataframe\">\n",
              "  <thead>\n",
              "    <tr style=\"text-align: right;\">\n",
              "      <th></th>\n",
              "      <th>test_statistic</th>\n",
              "      <th>p</th>\n",
              "      <th>-log2(p)</th>\n",
              "    </tr>\n",
              "  </thead>\n",
              "  <tbody>\n",
              "    <tr>\n",
              "      <th>0</th>\n",
              "      <td>1.49</td>\n",
              "      <td>0.22</td>\n",
              "      <td>2.17</td>\n",
              "    </tr>\n",
              "  </tbody>\n",
              "</table>"
            ],
            "text/plain": [
              "<lifelines.StatisticalResult: logrank_test>\n",
              "               t_0 = -1\n",
              " null_distribution = chi squared\n",
              "degrees_of_freedom = 1\n",
              "         test_name = logrank_test\n",
              "\n",
              "---\n",
              " test_statistic    p  -log2(p)\n",
              "           1.49 0.22      2.17"
            ]
          },
          "metadata": {
            "tags": []
          }
        }
      ]
    },
    {
      "cell_type": "code",
      "metadata": {
        "colab": {
          "base_uri": "https://localhost:8080/",
          "height": 204
        },
        "id": "wSU_UyPjF5eP",
        "outputId": "c57eda33-1a5b-4b11-9534-c587e6a30235"
      },
      "source": [
        "results=logrank_test(tp53_high[\"EFS Time\"].astype(float), tp53_moderate[\"EFS Time\"].astype(float), event_observed_A=tp53_high[\"dead\"], event_observed_B=tp53_moderate[\"dead\"])\n",
        "results.print_summary()"
      ],
      "execution_count": 36,
      "outputs": [
        {
          "output_type": "display_data",
          "data": {
            "text/latex": "\\begin{tabular}{lrrr}\n\\toprule\n{} &  test\\_statistic &         p &  -log2(p) \\\\\n\\midrule\n0 &        0.429544 &  0.512213 &  0.965185 \\\\\n\\bottomrule\n\\end{tabular}\n",
            "text/html": [
              "<div>\n",
              "<style scoped>\n",
              "    .dataframe tbody tr th:only-of-type {\n",
              "        vertical-align: middle;\n",
              "    }\n",
              "\n",
              "    .dataframe tbody tr th {\n",
              "        vertical-align: top;\n",
              "    }\n",
              "\n",
              "    .dataframe thead th {\n",
              "        text-align: right;\n",
              "    }\n",
              "</style>\n",
              "<table border=\"1\" class=\"dataframe\">\n",
              "  <tbody>\n",
              "    <tr>\n",
              "      <th>t_0</th>\n",
              "      <td>-1</td>\n",
              "    </tr>\n",
              "    <tr>\n",
              "      <th>null_distribution</th>\n",
              "      <td>chi squared</td>\n",
              "    </tr>\n",
              "    <tr>\n",
              "      <th>degrees_of_freedom</th>\n",
              "      <td>1</td>\n",
              "    </tr>\n",
              "    <tr>\n",
              "      <th>test_name</th>\n",
              "      <td>logrank_test</td>\n",
              "    </tr>\n",
              "  </tbody>\n",
              "</table>\n",
              "</div><table border=\"1\" class=\"dataframe\">\n",
              "  <thead>\n",
              "    <tr style=\"text-align: right;\">\n",
              "      <th></th>\n",
              "      <th>test_statistic</th>\n",
              "      <th>p</th>\n",
              "      <th>-log2(p)</th>\n",
              "    </tr>\n",
              "  </thead>\n",
              "  <tbody>\n",
              "    <tr>\n",
              "      <th>0</th>\n",
              "      <td>0.43</td>\n",
              "      <td>0.51</td>\n",
              "      <td>0.97</td>\n",
              "    </tr>\n",
              "  </tbody>\n",
              "</table>"
            ],
            "text/plain": [
              "<lifelines.StatisticalResult: logrank_test>\n",
              "               t_0 = -1\n",
              " null_distribution = chi squared\n",
              "degrees_of_freedom = 1\n",
              "         test_name = logrank_test\n",
              "\n",
              "---\n",
              " test_statistic    p  -log2(p)\n",
              "           0.43 0.51      0.97"
            ]
          },
          "metadata": {
            "tags": []
          }
        }
      ]
    },
    {
      "cell_type": "markdown",
      "metadata": {
        "id": "OGeowitaZAxV"
      },
      "source": [
        "### **SHP1**"
      ]
    },
    {
      "cell_type": "code",
      "metadata": {
        "colab": {
          "base_uri": "https://localhost:8080/",
          "height": 554
        },
        "id": "1hggDZ-zZDQT",
        "outputId": "25f46724-5391-4901-b4b3-c4728b4e9093"
      },
      "source": [
        "kmf = KaplanMeierFitter()\n",
        "kmf.fit(durations = ptpn6_low[\"EFS Time\"], event_observed = ptpn6_low[\"dead\"])\n",
        "\n",
        "kmf.plot()\n",
        "plt.xlabel(\"Number of days\")\n",
        "plt.ylabel(\"Probability of survival\")"
      ],
      "execution_count": 37,
      "outputs": [
        {
          "output_type": "stream",
          "text": [
            "/usr/local/lib/python3.6/dist-packages/pandas/core/indexing.py:1596: SettingWithCopyWarning: \n",
            "A value is trying to be set on a copy of a slice from a DataFrame.\n",
            "Try using .loc[row_indexer,col_indexer] = value instead\n",
            "\n",
            "See the caveats in the documentation: https://pandas.pydata.org/pandas-docs/stable/user_guide/indexing.html#returning-a-view-versus-a-copy\n",
            "  self.obj[key] = _infer_fill_value(value)\n",
            "/usr/local/lib/python3.6/dist-packages/pandas/core/indexing.py:1763: SettingWithCopyWarning: \n",
            "A value is trying to be set on a copy of a slice from a DataFrame.\n",
            "Try using .loc[row_indexer,col_indexer] = value instead\n",
            "\n",
            "See the caveats in the documentation: https://pandas.pydata.org/pandas-docs/stable/user_guide/indexing.html#returning-a-view-versus-a-copy\n",
            "  isetter(loc, value)\n",
            "/usr/local/lib/python3.6/dist-packages/lifelines/utils/__init__.py:1175: UserWarning: Attempting to convert an unexpected datatype 'object' to float. Suggestion: 1) use `lifelines.utils.datetimes_to_durations` to do conversions or 2) manually convert to floats/booleans.\n",
            "  warnings.warn(warning_text, UserWarning)\n"
          ],
          "name": "stderr"
        },
        {
          "output_type": "execute_result",
          "data": {
            "text/plain": [
              "Text(0, 0.5, 'Probability of survival')"
            ]
          },
          "metadata": {
            "tags": []
          },
          "execution_count": 37
        },
        {
          "output_type": "display_data",
          "data": {
            "image/png": "[encoded data removed]",
            "text/plain": [
              "<Figure size 432x288 with 1 Axes>"
            ]
          },
          "metadata": {
            "tags": [],
            "needs_background": "light"
          }
        }
      ]
    },
    {
      "cell_type": "code",
      "metadata": {
        "colab": {
          "base_uri": "https://localhost:8080/",
          "height": 350
        },
        "id": "OCV8W3STZQpX",
        "outputId": "a608d71f-f4ae-41d5-bc2f-2c91ef3e445c"
      },
      "source": [
        "#ptpn6_moderate = ptpn6_moderate.drop(ptpn6_moderate.loc[ptpn6_moderate[\"#Patient Identifier\"] == \"TARGET-30-PAJXLE\"].index)\n",
        "\n",
        "kmf = KaplanMeierFitter()\n",
        "kmf.fit(durations = ptpn6_moderate[\"EFS Time\"], event_observed = ptpn6_moderate[\"dead\"])\n",
        "\n",
        "kmf.plot()\n",
        "plt.xlabel(\"Number of days\")\n",
        "plt.ylabel(\"Probability of survival\")"
      ],
      "execution_count": 38,
      "outputs": [
        {
          "output_type": "stream",
          "text": [
            "/usr/local/lib/python3.6/dist-packages/lifelines/utils/__init__.py:1175: UserWarning: Attempting to convert an unexpected datatype 'object' to float. Suggestion: 1) use `lifelines.utils.datetimes_to_durations` to do conversions or 2) manually convert to floats/booleans.\n",
            "  warnings.warn(warning_text, UserWarning)\n"
          ],
          "name": "stderr"
        },
        {
          "output_type": "execute_result",
          "data": {
            "text/plain": [
              "Text(0, 0.5, 'Probability of survival')"
            ]
          },
          "metadata": {
            "tags": []
          },
          "execution_count": 38
        },
        {
          "output_type": "display_data",
          "data": {
            "image/png": "[encoded data removed]",
            "text/plain": [
              "<Figure size 432x288 with 1 Axes>"
            ]
          },
          "metadata": {
            "tags": [],
            "needs_background": "light"
          }
        }
      ]
    },
    {
      "cell_type": "code",
      "metadata": {
        "colab": {
          "base_uri": "https://localhost:8080/",
          "height": 350
        },
        "id": "TO6SDqBCZiOm",
        "outputId": "72ed2dc9-69b6-4b9f-e914-343cfc21216f"
      },
      "source": [
        "#ptpn6_high = ptpn6_high.drop(ptpn6_high.loc[ptpn6_high[\"#Patient Identifier\"] == \"TARGET-30-PACPJG\"].index)\n",
        "\n",
        "kmf = KaplanMeierFitter()\n",
        "kmf.fit(durations = ptpn6_high[\"EFS Time\"], event_observed = ptpn6_high[\"dead\"])\n",
        "\n",
        "kmf.plot()\n",
        "plt.xlabel(\"Number of days\")\n",
        "plt.ylabel(\"Probability of survival\")"
      ],
      "execution_count": 39,
      "outputs": [
        {
          "output_type": "stream",
          "text": [
            "/usr/local/lib/python3.6/dist-packages/lifelines/utils/__init__.py:1175: UserWarning: Attempting to convert an unexpected datatype 'object' to float. Suggestion: 1) use `lifelines.utils.datetimes_to_durations` to do conversions or 2) manually convert to floats/booleans.\n",
            "  warnings.warn(warning_text, UserWarning)\n"
          ],
          "name": "stderr"
        },
        {
          "output_type": "execute_result",
          "data": {
            "text/plain": [
              "Text(0, 0.5, 'Probability of survival')"
            ]
          },
          "metadata": {
            "tags": []
          },
          "execution_count": 39
        },
        {
          "output_type": "display_data",
          "data": {
            "image/png": "[encoded data removed]",
            "text/plain": [
              "<Figure size 432x288 with 1 Axes>"
            ]
          },
          "metadata": {
            "tags": [],
            "needs_background": "light"
          }
        }
      ]
    },
    {
      "cell_type": "code",
      "metadata": {
        "colab": {
          "base_uri": "https://localhost:8080/",
          "height": 204
        },
        "id": "UdzfrDrUCUlN",
        "outputId": "c7bf03a6-4ced-40d8-cdef-e48cdcb776bc"
      },
      "source": [
        "results=logrank_test(ptpn6_low[\"EFS Time\"].astype(float), ptpn6_moderate[\"EFS Time\"].astype(float), event_observed_A=ptpn6_low[\"dead\"], event_observed_B=ptpn6_moderate[\"dead\"])\n",
        "results.print_summary()"
      ],
      "execution_count": 40,
      "outputs": [
        {
          "output_type": "display_data",
          "data": {
            "text/latex": "\\begin{tabular}{lrrr}\n\\toprule\n{} &  test\\_statistic &         p &  -log2(p) \\\\\n\\midrule\n0 &         0.59068 &  0.442156 &  1.177372 \\\\\n\\bottomrule\n\\end{tabular}\n",
            "text/html": [
              "<div>\n",
              "<style scoped>\n",
              "    .dataframe tbody tr th:only-of-type {\n",
              "        vertical-align: middle;\n",
              "    }\n",
              "\n",
              "    .dataframe tbody tr th {\n",
              "        vertical-align: top;\n",
              "    }\n",
              "\n",
              "    .dataframe thead th {\n",
              "        text-align: right;\n",
              "    }\n",
              "</style>\n",
              "<table border=\"1\" class=\"dataframe\">\n",
              "  <tbody>\n",
              "    <tr>\n",
              "      <th>t_0</th>\n",
              "      <td>-1</td>\n",
              "    </tr>\n",
              "    <tr>\n",
              "      <th>null_distribution</th>\n",
              "      <td>chi squared</td>\n",
              "    </tr>\n",
              "    <tr>\n",
              "      <th>degrees_of_freedom</th>\n",
              "      <td>1</td>\n",
              "    </tr>\n",
              "    <tr>\n",
              "      <th>test_name</th>\n",
              "      <td>logrank_test</td>\n",
              "    </tr>\n",
              "  </tbody>\n",
              "</table>\n",
              "</div><table border=\"1\" class=\"dataframe\">\n",
              "  <thead>\n",
              "    <tr style=\"text-align: right;\">\n",
              "      <th></th>\n",
              "      <th>test_statistic</th>\n",
              "      <th>p</th>\n",
              "      <th>-log2(p)</th>\n",
              "    </tr>\n",
              "  </thead>\n",
              "  <tbody>\n",
              "    <tr>\n",
              "      <th>0</th>\n",
              "      <td>0.59</td>\n",
              "      <td>0.44</td>\n",
              "      <td>1.18</td>\n",
              "    </tr>\n",
              "  </tbody>\n",
              "</table>"
            ],
            "text/plain": [
              "<lifelines.StatisticalResult: logrank_test>\n",
              "               t_0 = -1\n",
              " null_distribution = chi squared\n",
              "degrees_of_freedom = 1\n",
              "         test_name = logrank_test\n",
              "\n",
              "---\n",
              " test_statistic    p  -log2(p)\n",
              "           0.59 0.44      1.18"
            ]
          },
          "metadata": {
            "tags": []
          }
        }
      ]
    },
    {
      "cell_type": "code",
      "metadata": {
        "colab": {
          "base_uri": "https://localhost:8080/",
          "height": 204
        },
        "id": "5wFxkuyOD8EI",
        "outputId": "f44655e8-69e3-438a-c3f3-fe6675f6f599"
      },
      "source": [
        "results=logrank_test(ptpn6_low[\"EFS Time\"].astype(float), ptpn6_high[\"EFS Time\"].astype(float), event_observed_A=ptpn6_low[\"dead\"], event_observed_B=ptpn6_high[\"dead\"])\n",
        "results.print_summary()"
      ],
      "execution_count": 41,
      "outputs": [
        {
          "output_type": "display_data",
          "data": {
            "text/latex": "\\begin{tabular}{lrrr}\n\\toprule\n{} &  test\\_statistic &         p &  -log2(p) \\\\\n\\midrule\n0 &        0.020317 &  0.886654 &  0.173557 \\\\\n\\bottomrule\n\\end{tabular}\n",
            "text/html": [
              "<div>\n",
              "<style scoped>\n",
              "    .dataframe tbody tr th:only-of-type {\n",
              "        vertical-align: middle;\n",
              "    }\n",
              "\n",
              "    .dataframe tbody tr th {\n",
              "        vertical-align: top;\n",
              "    }\n",
              "\n",
              "    .dataframe thead th {\n",
              "        text-align: right;\n",
              "    }\n",
              "</style>\n",
              "<table border=\"1\" class=\"dataframe\">\n",
              "  <tbody>\n",
              "    <tr>\n",
              "      <th>t_0</th>\n",
              "      <td>-1</td>\n",
              "    </tr>\n",
              "    <tr>\n",
              "      <th>null_distribution</th>\n",
              "      <td>chi squared</td>\n",
              "    </tr>\n",
              "    <tr>\n",
              "      <th>degrees_of_freedom</th>\n",
              "      <td>1</td>\n",
              "    </tr>\n",
              "    <tr>\n",
              "      <th>test_name</th>\n",
              "      <td>logrank_test</td>\n",
              "    </tr>\n",
              "  </tbody>\n",
              "</table>\n",
              "</div><table border=\"1\" class=\"dataframe\">\n",
              "  <thead>\n",
              "    <tr style=\"text-align: right;\">\n",
              "      <th></th>\n",
              "      <th>test_statistic</th>\n",
              "      <th>p</th>\n",
              "      <th>-log2(p)</th>\n",
              "    </tr>\n",
              "  </thead>\n",
              "  <tbody>\n",
              "    <tr>\n",
              "      <th>0</th>\n",
              "      <td>0.02</td>\n",
              "      <td>0.89</td>\n",
              "      <td>0.17</td>\n",
              "    </tr>\n",
              "  </tbody>\n",
              "</table>"
            ],
            "text/plain": [
              "<lifelines.StatisticalResult: logrank_test>\n",
              "               t_0 = -1\n",
              " null_distribution = chi squared\n",
              "degrees_of_freedom = 1\n",
              "         test_name = logrank_test\n",
              "\n",
              "---\n",
              " test_statistic    p  -log2(p)\n",
              "           0.02 0.89      0.17"
            ]
          },
          "metadata": {
            "tags": []
          }
        }
      ]
    },
    {
      "cell_type": "code",
      "metadata": {
        "colab": {
          "base_uri": "https://localhost:8080/",
          "height": 204
        },
        "id": "LH5m_b-SGUjz",
        "outputId": "41a264c6-4e1c-46de-8d04-225d201888d9"
      },
      "source": [
        "results=logrank_test(ptpn6_moderate[\"EFS Time\"].astype(float), ptpn6_high[\"EFS Time\"].astype(float), event_observed_A=ptpn6_moderate[\"dead\"], event_observed_B=ptpn6_high[\"dead\"])\n",
        "results.print_summary()"
      ],
      "execution_count": 42,
      "outputs": [
        {
          "output_type": "display_data",
          "data": {
            "text/latex": "\\begin{tabular}{lrrr}\n\\toprule\n{} &  test\\_statistic &         p &  -log2(p) \\\\\n\\midrule\n0 &        0.391747 &  0.531382 &  0.912178 \\\\\n\\bottomrule\n\\end{tabular}\n",
            "text/html": [
              "<div>\n",
              "<style scoped>\n",
              "    .dataframe tbody tr th:only-of-type {\n",
              "        vertical-align: middle;\n",
              "    }\n",
              "\n",
              "    .dataframe tbody tr th {\n",
              "        vertical-align: top;\n",
              "    }\n",
              "\n",
              "    .dataframe thead th {\n",
              "        text-align: right;\n",
              "    }\n",
              "</style>\n",
              "<table border=\"1\" class=\"dataframe\">\n",
              "  <tbody>\n",
              "    <tr>\n",
              "      <th>t_0</th>\n",
              "      <td>-1</td>\n",
              "    </tr>\n",
              "    <tr>\n",
              "      <th>null_distribution</th>\n",
              "      <td>chi squared</td>\n",
              "    </tr>\n",
              "    <tr>\n",
              "      <th>degrees_of_freedom</th>\n",
              "      <td>1</td>\n",
              "    </tr>\n",
              "    <tr>\n",
              "      <th>test_name</th>\n",
              "      <td>logrank_test</td>\n",
              "    </tr>\n",
              "  </tbody>\n",
              "</table>\n",
              "</div><table border=\"1\" class=\"dataframe\">\n",
              "  <thead>\n",
              "    <tr style=\"text-align: right;\">\n",
              "      <th></th>\n",
              "      <th>test_statistic</th>\n",
              "      <th>p</th>\n",
              "      <th>-log2(p)</th>\n",
              "    </tr>\n",
              "  </thead>\n",
              "  <tbody>\n",
              "    <tr>\n",
              "      <th>0</th>\n",
              "      <td>0.39</td>\n",
              "      <td>0.53</td>\n",
              "      <td>0.91</td>\n",
              "    </tr>\n",
              "  </tbody>\n",
              "</table>"
            ],
            "text/plain": [
              "<lifelines.StatisticalResult: logrank_test>\n",
              "               t_0 = -1\n",
              " null_distribution = chi squared\n",
              "degrees_of_freedom = 1\n",
              "         test_name = logrank_test\n",
              "\n",
              "---\n",
              " test_statistic    p  -log2(p)\n",
              "           0.39 0.53      0.91"
            ]
          },
          "metadata": {
            "tags": []
          }
        }
      ]
    },
    {
      "cell_type": "markdown",
      "metadata": {
        "id": "9K9DnJhXdOaS"
      },
      "source": [
        "### **MYCN**"
      ]
    },
    {
      "cell_type": "markdown",
      "metadata": {
        "id": "Z1mysqU1dapW"
      },
      "source": [
        "**TrkA**"
      ]
    },
    {
      "cell_type": "code",
      "metadata": {
        "id": "5u3PgQKTqA26"
      },
      "source": [
        "Trk_low_mycamp = Trk_low['MYCN'].value_counts(normalize=True)\n",
        "Trk_moderate_mycamp = Trk_moderate['MYCN'].value_counts(normalize=True)\n",
        "Trk_high_mycamp = Trk_high['MYCN'].value_counts(normalize=True)"
      ],
      "execution_count": 111,
      "outputs": []
    },
    {
      "cell_type": "code",
      "metadata": {
        "id": "3fChVc8iqBdM"
      },
      "source": [
        "Trk_mycamp = pd.DataFrame({'Expression':['low', 'moderate', 'high'], '% MYCN Apmlification':[Trk_low_mycamp[0], Trk_moderate_mycamp[1], 0]})"
      ],
      "execution_count": 112,
      "outputs": []
    },
    {
      "cell_type": "code",
      "metadata": {
        "colab": {
          "base_uri": "https://localhost:8080/",
          "height": 300
        },
        "id": "4gdHuLkxqFcp",
        "outputId": "d6fa0cc8-aa2a-461c-c2df-87477aab1c5e"
      },
      "source": [
        "ax = Trk_mycamp.plot.bar(x='Expression', y='% MYCN Apmlification', rot=0)\n",
        "ax.set_ylim(0,1.0)"
      ],
      "execution_count": 113,
      "outputs": [
        {
          "output_type": "execute_result",
          "data": {
            "text/plain": [
              "(0.0, 1.0)"
            ]
          },
          "metadata": {
            "tags": []
          },
          "execution_count": 113
        },
        {
          "output_type": "display_data",
          "data": {
            "image/png": "[encoded data removed]",
            "text/plain": [
              "<Figure size 432x288 with 1 Axes>"
            ]
          },
          "metadata": {
            "tags": [],
            "needs_background": "light"
          }
        }
      ]
    },
    {
      "cell_type": "markdown",
      "metadata": {
        "id": "W6EqT_RAdeCB"
      },
      "source": [
        "**TP53**"
      ]
    },
    {
      "cell_type": "code",
      "metadata": {
        "id": "pfy35ojMdRA9"
      },
      "source": [
        "tp53_low_mycamp = tp53_low['MYCN'].value_counts(normalize=True)\n",
        "tp53_moderate_mycamp = tp53_moderate['MYCN'].value_counts(normalize=True)\n",
        "tp53_high_mycamp = tp53_high['MYCN'].value_counts(normalize=True)"
      ],
      "execution_count": 95,
      "outputs": []
    },
    {
      "cell_type": "code",
      "metadata": {
        "id": "i67Gqq2HoeR4"
      },
      "source": [
        "tp53_mycamp = pd.DataFrame({'Expression':['low', 'moderate', 'high'], '% MYCN Apmlification':[tp53_low_mycamp[1], tp53_moderate_mycamp[1], tp53_high_mycamp[0]]})"
      ],
      "execution_count": 106,
      "outputs": []
    },
    {
      "cell_type": "code",
      "metadata": {
        "colab": {
          "base_uri": "https://localhost:8080/",
          "height": 300
        },
        "id": "zg17bJhGo3Oi",
        "outputId": "58085540-9b11-4513-fcb9-d47ebd9fea95"
      },
      "source": [
        "ax = tp53_mycamp.plot.bar(x='Expression', y='% MYCN Apmlification', rot=0)\n",
        "ax.set_ylim(0,1.0)"
      ],
      "execution_count": 110,
      "outputs": [
        {
          "output_type": "execute_result",
          "data": {
            "text/plain": [
              "(0.0, 1.0)"
            ]
          },
          "metadata": {
            "tags": []
          },
          "execution_count": 110
        },
        {
          "output_type": "display_data",
          "data": {
            "image/png": "[encoded data removed]",
            "text/plain": [
              "<Figure size 432x288 with 1 Axes>"
            ]
          },
          "metadata": {
            "tags": [],
            "needs_background": "light"
          }
        }
      ]
    },
    {
      "cell_type": "markdown",
      "metadata": {
        "id": "FS7E7Jvjdgkk"
      },
      "source": [
        "**PTPN6**"
      ]
    },
    {
      "cell_type": "code",
      "metadata": {
        "id": "R51kYTp2rnt9"
      },
      "source": [
        "ptpn6_low_mycamp = ptpn6_low['MYCN'].value_counts(normalize=True)\n",
        "ptpn6_moderate_mycamp = ptpn6_moderate['MYCN'].value_counts(normalize=True)\n",
        "ptpn6_high_mycamp = ptpn6_high['MYCN'].value_counts(normalize=True)"
      ],
      "execution_count": 114,
      "outputs": []
    },
    {
      "cell_type": "code",
      "metadata": {
        "id": "i3p0fzHPrxps"
      },
      "source": [
        "ptpn6_mycamp = pd.DataFrame({'Expression':['low', 'moderate', 'high'], '% MYCN Apmlification':[ptpn6_low_mycamp[0], ptpn6_moderate_mycamp[1], ptpn6_high_mycamp[1]]})"
      ],
      "execution_count": 115,
      "outputs": []
    },
    {
      "cell_type": "code",
      "metadata": {
        "colab": {
          "base_uri": "https://localhost:8080/",
          "height": 300
        },
        "id": "a24mVj6IsAPb",
        "outputId": "dabdaf21-1507-45a0-8bdd-64410ec3057e"
      },
      "source": [
        "ax = ptpn6_mycamp.plot.bar(x='Expression', y='% MYCN Apmlification', rot=0)\n",
        "ax.set_ylim(0,1.0)"
      ],
      "execution_count": 116,
      "outputs": [
        {
          "output_type": "execute_result",
          "data": {
            "text/plain": [
              "(0.0, 1.0)"
            ]
          },
          "metadata": {
            "tags": []
          },
          "execution_count": 116
        },
        {
          "output_type": "display_data",
          "data": {
            "image/png": "[encoded data removed]",
            "text/plain": [
              "<Figure size 432x288 with 1 Axes>"
            ]
          },
          "metadata": {
            "tags": [],
            "needs_background": "light"
          }
        }
      ]
    },
    {
      "cell_type": "markdown",
      "metadata": {
        "id": "J3EtFPweNLoH"
      },
      "source": [
        "### **Cox Regression Hazard Model**"
      ]
    },
    {
      "cell_type": "code",
      "metadata": {
        "id": "bSS2dL2vNQX1"
      },
      "source": [
        "from lifelines import CoxPHFitter"
      ],
      "execution_count": 43,
      "outputs": []
    },
    {
      "cell_type": "code",
      "metadata": {
        "colab": {
          "base_uri": "https://localhost:8080/",
          "height": 616
        },
        "id": "G2vZsgkNNvcl",
        "outputId": "576d15b0-d743-4d2c-ead5-c6bac734b16b"
      },
      "source": [
        "kmf = KaplanMeierFitter()\n",
        "kmf.fit(Trk_low[\"EFS Time\"], event_observed = Trk_low[\"dead\"])\n",
        "\n",
        "cph = CoxPHFitter()\n",
        "Trk_low_data = Trk_low[[\"Diagnosis Age (days)\", \"Histology\", #\"Stage\",\n",
        "                                  'EFS Time', \"Sex_binary\", \"mycn_binary\", \"dead\"]]\n",
        "cph.fit(Trk_low_data, 'EFS Time', event_col='dead')\n",
        "cph.print_summary()"
      ],
      "execution_count": 60,
      "outputs": [
        {
          "output_type": "stream",
          "text": [
            "/usr/local/lib/python3.6/dist-packages/lifelines/utils/__init__.py:1175: UserWarning: Attempting to convert an unexpected datatype 'object' to float. Suggestion: 1) use `lifelines.utils.datetimes_to_durations` to do conversions or 2) manually convert to floats/booleans.\n",
            "  warnings.warn(warning_text, UserWarning)\n"
          ],
          "name": "stderr"
        },
        {
          "output_type": "display_data",
          "data": {
            "text/latex": "\\begin{tabular}{lrrrrrrrrrr}\n\\toprule\n{} &  coef &  exp(coef) &  se(coef) &  coef lower 95\\% &  coef upper 95\\% &  exp(coef) lower 95\\% &  exp(coef) upper 95\\% &     z &    p &  -log2(p) \\\\\ncovariate            &       &            &           &                 &                 &                      &                      &       &      &           \\\\\n\\midrule\nDiagnosis Age (days) &  0.00 &       1.00 &      0.00 &           -0.00 &            0.00 &                 1.00 &                 1.00 &  0.28 & 0.78 &      0.36 \\\\\nHistology            & -0.03 &       0.97 &      0.24 &           -0.50 &            0.43 &                 0.61 &                 1.54 & -0.14 & 0.89 &      0.17 \\\\\nSex\\_binary           & -0.02 &       0.98 &      0.37 &           -0.75 &            0.70 &                 0.47 &                 2.02 & -0.06 & 0.95 &      0.07 \\\\\nmycn\\_binary          &  0.14 &       1.16 &      0.47 &           -0.77 &            1.06 &                 0.46 &                 2.90 &  0.31 & 0.76 &      0.40 \\\\\n\\bottomrule\n\\end{tabular}\n",
            "text/html": [
              "<div>\n",
              "<style scoped>\n",
              "    .dataframe tbody tr th:only-of-type {\n",
              "        vertical-align: middle;\n",
              "    }\n",
              "\n",
              "    .dataframe tbody tr th {\n",
              "        vertical-align: top;\n",
              "    }\n",
              "\n",
              "    .dataframe thead th {\n",
              "        text-align: right;\n",
              "    }\n",
              "</style>\n",
              "<table border=\"1\" class=\"dataframe\">\n",
              "  <tbody>\n",
              "    <tr>\n",
              "      <th>model</th>\n",
              "      <td>lifelines.CoxPHFitter</td>\n",
              "    </tr>\n",
              "    <tr>\n",
              "      <th>duration col</th>\n",
              "      <td>'EFS Time'</td>\n",
              "    </tr>\n",
              "    <tr>\n",
              "      <th>event col</th>\n",
              "      <td>'dead'</td>\n",
              "    </tr>\n",
              "    <tr>\n",
              "      <th>baseline estimation</th>\n",
              "      <td>breslow</td>\n",
              "    </tr>\n",
              "    <tr>\n",
              "      <th>number of observations</th>\n",
              "      <td>60</td>\n",
              "    </tr>\n",
              "    <tr>\n",
              "      <th>number of events observed</th>\n",
              "      <td>37</td>\n",
              "    </tr>\n",
              "    <tr>\n",
              "      <th>partial log-likelihood</th>\n",
              "      <td>-111.97</td>\n",
              "    </tr>\n",
              "    <tr>\n",
              "      <th>time fit was run</th>\n",
              "      <td>2021-02-04 09:32:52 UTC</td>\n",
              "    </tr>\n",
              "  </tbody>\n",
              "</table>\n",
              "</div><table border=\"1\" class=\"dataframe\">\n",
              "  <thead>\n",
              "    <tr style=\"text-align: right;\">\n",
              "      <th style=\"min-width: 12px;\"></th>\n",
              "      <th style=\"min-width: 12px;\">coef</th>\n",
              "      <th style=\"min-width: 12px;\">exp(coef)</th>\n",
              "      <th style=\"min-width: 12px;\">se(coef)</th>\n",
              "      <th style=\"min-width: 12px;\">coef lower 95%</th>\n",
              "      <th style=\"min-width: 12px;\">coef upper 95%</th>\n",
              "      <th style=\"min-width: 12px;\">exp(coef) lower 95%</th>\n",
              "      <th style=\"min-width: 12px;\">exp(coef) upper 95%</th>\n",
              "      <th style=\"min-width: 12px;\">z</th>\n",
              "      <th style=\"min-width: 12px;\">p</th>\n",
              "      <th style=\"min-width: 12px;\">-log2(p)</th>\n",
              "    </tr>\n",
              "  </thead>\n",
              "  <tbody>\n",
              "    <tr>\n",
              "      <th>Diagnosis Age (days)</th>\n",
              "      <td>0.00</td>\n",
              "      <td>1.00</td>\n",
              "      <td>0.00</td>\n",
              "      <td>-0.00</td>\n",
              "      <td>0.00</td>\n",
              "      <td>1.00</td>\n",
              "      <td>1.00</td>\n",
              "      <td>0.28</td>\n",
              "      <td>0.78</td>\n",
              "      <td>0.36</td>\n",
              "    </tr>\n",
              "    <tr>\n",
              "      <th>Histology</th>\n",
              "      <td>-0.03</td>\n",
              "      <td>0.97</td>\n",
              "      <td>0.24</td>\n",
              "      <td>-0.50</td>\n",
              "      <td>0.43</td>\n",
              "      <td>0.61</td>\n",
              "      <td>1.54</td>\n",
              "      <td>-0.14</td>\n",
              "      <td>0.89</td>\n",
              "      <td>0.17</td>\n",
              "    </tr>\n",
              "    <tr>\n",
              "      <th>Sex_binary</th>\n",
              "      <td>-0.02</td>\n",
              "      <td>0.98</td>\n",
              "      <td>0.37</td>\n",
              "      <td>-0.75</td>\n",
              "      <td>0.70</td>\n",
              "      <td>0.47</td>\n",
              "      <td>2.02</td>\n",
              "      <td>-0.06</td>\n",
              "      <td>0.95</td>\n",
              "      <td>0.07</td>\n",
              "    </tr>\n",
              "    <tr>\n",
              "      <th>mycn_binary</th>\n",
              "      <td>0.14</td>\n",
              "      <td>1.16</td>\n",
              "      <td>0.47</td>\n",
              "      <td>-0.77</td>\n",
              "      <td>1.06</td>\n",
              "      <td>0.46</td>\n",
              "      <td>2.90</td>\n",
              "      <td>0.31</td>\n",
              "      <td>0.76</td>\n",
              "      <td>0.40</td>\n",
              "    </tr>\n",
              "  </tbody>\n",
              "</table><br><div>\n",
              "<style scoped>\n",
              "    .dataframe tbody tr th:only-of-type {\n",
              "        vertical-align: middle;\n",
              "    }\n",
              "\n",
              "    .dataframe tbody tr th {\n",
              "        vertical-align: top;\n",
              "    }\n",
              "\n",
              "    .dataframe thead th {\n",
              "        text-align: right;\n",
              "    }\n",
              "</style>\n",
              "<table border=\"1\" class=\"dataframe\">\n",
              "  <tbody>\n",
              "    <tr>\n",
              "      <th>Concordance</th>\n",
              "      <td>0.53</td>\n",
              "    </tr>\n",
              "    <tr>\n",
              "      <th>Partial AIC</th>\n",
              "      <td>231.95</td>\n",
              "    </tr>\n",
              "    <tr>\n",
              "      <th>log-likelihood ratio test</th>\n",
              "      <td>0.20 on 4 df</td>\n",
              "    </tr>\n",
              "    <tr>\n",
              "      <th>-log2(p) of ll-ratio test</th>\n",
              "      <td>0.01</td>\n",
              "    </tr>\n",
              "  </tbody>\n",
              "</table>\n",
              "</div>"
            ],
            "text/plain": [
              "<lifelines.CoxPHFitter: fitted with 60 total observations, 23 right-censored observations>\n",
              "             duration col = 'EFS Time'\n",
              "                event col = 'dead'\n",
              "      baseline estimation = breslow\n",
              "   number of observations = 60\n",
              "number of events observed = 37\n",
              "   partial log-likelihood = -111.97\n",
              "         time fit was run = 2021-02-04 09:32:52 UTC\n",
              "\n",
              "---\n",
              "                       coef  exp(coef)   se(coef)   coef lower 95%   coef upper 95%  exp(coef) lower 95%  exp(coef) upper 95%\n",
              "covariate                                                                                                                    \n",
              "Diagnosis Age (days)   0.00       1.00       0.00            -0.00             0.00                 1.00                 1.00\n",
              "Histology             -0.03       0.97       0.24            -0.50             0.43                 0.61                 1.54\n",
              "Sex_binary            -0.02       0.98       0.37            -0.75             0.70                 0.47                 2.02\n",
              "mycn_binary            0.14       1.16       0.47            -0.77             1.06                 0.46                 2.90\n",
              "\n",
              "                         z    p   -log2(p)\n",
              "covariate                                 \n",
              "Diagnosis Age (days)  0.28 0.78       0.36\n",
              "Histology            -0.14 0.89       0.17\n",
              "Sex_binary           -0.06 0.95       0.07\n",
              "mycn_binary           0.31 0.76       0.40\n",
              "---\n",
              "Concordance = 0.53\n",
              "Partial AIC = 231.95\n",
              "log-likelihood ratio test = 0.20 on 4 df\n",
              "-log2(p) of ll-ratio test = 0.01"
            ]
          },
          "metadata": {
            "tags": []
          }
        }
      ]
    },
    {
      "cell_type": "code",
      "metadata": {
        "colab": {
          "base_uri": "https://localhost:8080/",
          "height": 296
        },
        "id": "tjiOxWWdR4kg",
        "outputId": "d18a1b6e-e1e8-4837-b532-0dc4d6307a26"
      },
      "source": [
        "cph.plot() #Almost all stage 4 - Stage 4: 58, Stage 3: 1, Stage 1: 1"
      ],
      "execution_count": 45,
      "outputs": [
        {
          "output_type": "execute_result",
          "data": {
            "text/plain": [
              "<matplotlib.axes._subplots.AxesSubplot at 0x7f4b4fcb1ba8>"
            ]
          },
          "metadata": {
            "tags": []
          },
          "execution_count": 45
        },
        {
          "output_type": "display_data",
          "data": {
            "image/png": "[encoded data removed]",
            "text/plain": [
              "<Figure size 432x288 with 1 Axes>"
            ]
          },
          "metadata": {
            "tags": [],
            "needs_background": "light"
          }
        }
      ]
    },
    {
      "cell_type": "code",
      "metadata": {
        "colab": {
          "base_uri": "https://localhost:8080/",
          "height": 616
        },
        "id": "PRgmXtV8S126",
        "outputId": "ef32fb89-a94e-45be-a62d-bc7324f8a913"
      },
      "source": [
        "Trk_moderate = Trk_moderate.dropna(subset=[\"Diagnosis Age (days)\", \"Histology\", #\"Stage\",\n",
        "                                  'EFS Time', \"Sex_binary\", \"mycn_binary\", \"dead\"])\n",
        "\n",
        "kmf = KaplanMeierFitter()\n",
        "kmf.fit(Trk_moderate[\"EFS Time\"], event_observed = Trk_moderate[\"dead\"])\n",
        "\n",
        "cph = CoxPHFitter()\n",
        "Trk_moderate_data = Trk_moderate[[\"Diagnosis Age (days)\", \"Histology\", #\"Stage\",\n",
        "                                  'EFS Time', \"Sex_binary\", \"mycn_binary\", \"dead\"]]\n",
        "cph.fit(Trk_moderate_data, 'EFS Time', event_col='dead')\n",
        "cph.print_summary()"
      ],
      "execution_count": 61,
      "outputs": [
        {
          "output_type": "stream",
          "text": [
            "/usr/local/lib/python3.6/dist-packages/lifelines/utils/__init__.py:1175: UserWarning: Attempting to convert an unexpected datatype 'object' to float. Suggestion: 1) use `lifelines.utils.datetimes_to_durations` to do conversions or 2) manually convert to floats/booleans.\n",
            "  warnings.warn(warning_text, UserWarning)\n"
          ],
          "name": "stderr"
        },
        {
          "output_type": "display_data",
          "data": {
            "text/latex": "\\begin{tabular}{lrrrrrrrrrr}\n\\toprule\n{} &  coef &  exp(coef) &  se(coef) &  coef lower 95\\% &  coef upper 95\\% &  exp(coef) lower 95\\% &  exp(coef) upper 95\\% &     z &    p &  -log2(p) \\\\\ncovariate            &       &            &           &                 &                 &                      &                      &       &      &           \\\\\n\\midrule\nDiagnosis Age (days) &  0.00 &       1.00 &      0.00 &           -0.00 &            0.00 &                 1.00 &                 1.00 &  1.63 & 0.10 &      3.28 \\\\\nHistology            &  0.18 &       1.20 &      0.11 &           -0.03 &            0.39 &                 0.97 &                 1.47 &  1.69 & 0.09 &      3.47 \\\\\nSex\\_binary           & -0.35 &       0.71 &      0.23 &           -0.81 &            0.11 &                 0.45 &                 1.12 & -1.47 & 0.14 &      2.83 \\\\\nmycn\\_binary          &  0.18 &       1.20 &      0.31 &           -0.42 &            0.79 &                 0.66 &                 2.20 &  0.60 & 0.55 &      0.86 \\\\\n\\bottomrule\n\\end{tabular}\n",
            "text/html": [
              "<div>\n",
              "<style scoped>\n",
              "    .dataframe tbody tr th:only-of-type {\n",
              "        vertical-align: middle;\n",
              "    }\n",
              "\n",
              "    .dataframe tbody tr th {\n",
              "        vertical-align: top;\n",
              "    }\n",
              "\n",
              "    .dataframe thead th {\n",
              "        text-align: right;\n",
              "    }\n",
              "</style>\n",
              "<table border=\"1\" class=\"dataframe\">\n",
              "  <tbody>\n",
              "    <tr>\n",
              "      <th>model</th>\n",
              "      <td>lifelines.CoxPHFitter</td>\n",
              "    </tr>\n",
              "    <tr>\n",
              "      <th>duration col</th>\n",
              "      <td>'EFS Time'</td>\n",
              "    </tr>\n",
              "    <tr>\n",
              "      <th>event col</th>\n",
              "      <td>'dead'</td>\n",
              "    </tr>\n",
              "    <tr>\n",
              "      <th>baseline estimation</th>\n",
              "      <td>breslow</td>\n",
              "    </tr>\n",
              "    <tr>\n",
              "      <th>number of observations</th>\n",
              "      <td>134</td>\n",
              "    </tr>\n",
              "    <tr>\n",
              "      <th>number of events observed</th>\n",
              "      <td>85</td>\n",
              "    </tr>\n",
              "    <tr>\n",
              "      <th>partial log-likelihood</th>\n",
              "      <td>-320.62</td>\n",
              "    </tr>\n",
              "    <tr>\n",
              "      <th>time fit was run</th>\n",
              "      <td>2021-02-04 09:32:56 UTC</td>\n",
              "    </tr>\n",
              "  </tbody>\n",
              "</table>\n",
              "</div><table border=\"1\" class=\"dataframe\">\n",
              "  <thead>\n",
              "    <tr style=\"text-align: right;\">\n",
              "      <th style=\"min-width: 12px;\"></th>\n",
              "      <th style=\"min-width: 12px;\">coef</th>\n",
              "      <th style=\"min-width: 12px;\">exp(coef)</th>\n",
              "      <th style=\"min-width: 12px;\">se(coef)</th>\n",
              "      <th style=\"min-width: 12px;\">coef lower 95%</th>\n",
              "      <th style=\"min-width: 12px;\">coef upper 95%</th>\n",
              "      <th style=\"min-width: 12px;\">exp(coef) lower 95%</th>\n",
              "      <th style=\"min-width: 12px;\">exp(coef) upper 95%</th>\n",
              "      <th style=\"min-width: 12px;\">z</th>\n",
              "      <th style=\"min-width: 12px;\">p</th>\n",
              "      <th style=\"min-width: 12px;\">-log2(p)</th>\n",
              "    </tr>\n",
              "  </thead>\n",
              "  <tbody>\n",
              "    <tr>\n",
              "      <th>Diagnosis Age (days)</th>\n",
              "      <td>0.00</td>\n",
              "      <td>1.00</td>\n",
              "      <td>0.00</td>\n",
              "      <td>-0.00</td>\n",
              "      <td>0.00</td>\n",
              "      <td>1.00</td>\n",
              "      <td>1.00</td>\n",
              "      <td>1.63</td>\n",
              "      <td>0.10</td>\n",
              "      <td>3.28</td>\n",
              "    </tr>\n",
              "    <tr>\n",
              "      <th>Histology</th>\n",
              "      <td>0.18</td>\n",
              "      <td>1.20</td>\n",
              "      <td>0.11</td>\n",
              "      <td>-0.03</td>\n",
              "      <td>0.39</td>\n",
              "      <td>0.97</td>\n",
              "      <td>1.47</td>\n",
              "      <td>1.69</td>\n",
              "      <td>0.09</td>\n",
              "      <td>3.47</td>\n",
              "    </tr>\n",
              "    <tr>\n",
              "      <th>Sex_binary</th>\n",
              "      <td>-0.35</td>\n",
              "      <td>0.71</td>\n",
              "      <td>0.23</td>\n",
              "      <td>-0.81</td>\n",
              "      <td>0.11</td>\n",
              "      <td>0.45</td>\n",
              "      <td>1.12</td>\n",
              "      <td>-1.47</td>\n",
              "      <td>0.14</td>\n",
              "      <td>2.83</td>\n",
              "    </tr>\n",
              "    <tr>\n",
              "      <th>mycn_binary</th>\n",
              "      <td>0.18</td>\n",
              "      <td>1.20</td>\n",
              "      <td>0.31</td>\n",
              "      <td>-0.42</td>\n",
              "      <td>0.79</td>\n",
              "      <td>0.66</td>\n",
              "      <td>2.20</td>\n",
              "      <td>0.60</td>\n",
              "      <td>0.55</td>\n",
              "      <td>0.86</td>\n",
              "    </tr>\n",
              "  </tbody>\n",
              "</table><br><div>\n",
              "<style scoped>\n",
              "    .dataframe tbody tr th:only-of-type {\n",
              "        vertical-align: middle;\n",
              "    }\n",
              "\n",
              "    .dataframe tbody tr th {\n",
              "        vertical-align: top;\n",
              "    }\n",
              "\n",
              "    .dataframe thead th {\n",
              "        text-align: right;\n",
              "    }\n",
              "</style>\n",
              "<table border=\"1\" class=\"dataframe\">\n",
              "  <tbody>\n",
              "    <tr>\n",
              "      <th>Concordance</th>\n",
              "      <td>0.54</td>\n",
              "    </tr>\n",
              "    <tr>\n",
              "      <th>Partial AIC</th>\n",
              "      <td>649.25</td>\n",
              "    </tr>\n",
              "    <tr>\n",
              "      <th>log-likelihood ratio test</th>\n",
              "      <td>5.45 on 4 df</td>\n",
              "    </tr>\n",
              "    <tr>\n",
              "      <th>-log2(p) of ll-ratio test</th>\n",
              "      <td>2.03</td>\n",
              "    </tr>\n",
              "  </tbody>\n",
              "</table>\n",
              "</div>"
            ],
            "text/plain": [
              "<lifelines.CoxPHFitter: fitted with 134 total observations, 49 right-censored observations>\n",
              "             duration col = 'EFS Time'\n",
              "                event col = 'dead'\n",
              "      baseline estimation = breslow\n",
              "   number of observations = 134\n",
              "number of events observed = 85\n",
              "   partial log-likelihood = -320.62\n",
              "         time fit was run = 2021-02-04 09:32:56 UTC\n",
              "\n",
              "---\n",
              "                       coef  exp(coef)   se(coef)   coef lower 95%   coef upper 95%  exp(coef) lower 95%  exp(coef) upper 95%\n",
              "covariate                                                                                                                    \n",
              "Diagnosis Age (days)   0.00       1.00       0.00            -0.00             0.00                 1.00                 1.00\n",
              "Histology              0.18       1.20       0.11            -0.03             0.39                 0.97                 1.47\n",
              "Sex_binary            -0.35       0.71       0.23            -0.81             0.11                 0.45                 1.12\n",
              "mycn_binary            0.18       1.20       0.31            -0.42             0.79                 0.66                 2.20\n",
              "\n",
              "                         z    p   -log2(p)\n",
              "covariate                                 \n",
              "Diagnosis Age (days)  1.63 0.10       3.28\n",
              "Histology             1.69 0.09       3.47\n",
              "Sex_binary           -1.47 0.14       2.83\n",
              "mycn_binary           0.60 0.55       0.86\n",
              "---\n",
              "Concordance = 0.54\n",
              "Partial AIC = 649.25\n",
              "log-likelihood ratio test = 5.45 on 4 df\n",
              "-log2(p) of ll-ratio test = 2.03"
            ]
          },
          "metadata": {
            "tags": []
          }
        }
      ]
    },
    {
      "cell_type": "code",
      "metadata": {
        "colab": {
          "base_uri": "https://localhost:8080/",
          "height": 296
        },
        "id": "9OwU68_xTcED",
        "outputId": "6aaa3030-f817-44e0-940a-13e4169559a5"
      },
      "source": [
        "cph.plot() #Almost all stage 4 - Stage 4: 127, Stage 1: 7"
      ],
      "execution_count": 47,
      "outputs": [
        {
          "output_type": "execute_result",
          "data": {
            "text/plain": [
              "<matplotlib.axes._subplots.AxesSubplot at 0x7f4b4f85b1d0>"
            ]
          },
          "metadata": {
            "tags": []
          },
          "execution_count": 47
        },
        {
          "output_type": "display_data",
          "data": {
            "image/png": "[encoded data removed]",
            "text/plain": [
              "<Figure size 432x288 with 1 Axes>"
            ]
          },
          "metadata": {
            "tags": [],
            "needs_background": "light"
          }
        }
      ]
    },
    {
      "cell_type": "code",
      "metadata": {
        "colab": {
          "base_uri": "https://localhost:8080/",
          "height": 585
        },
        "id": "mXfJ3pygWxri",
        "outputId": "d51d44dc-69d5-47b7-ed74-858a9a5605d0"
      },
      "source": [
        "Trk_high = Trk_high.dropna(subset=[\"Diagnosis Age (days)\", \"Histology\", #\"Stage\",\n",
        "                                  'EFS Time', \"Sex_binary\", \"mycn_binary\", \"dead\"])\n",
        "\n",
        "kmf = KaplanMeierFitter()\n",
        "kmf.fit(Trk_high[\"EFS Time\"], event_observed = Trk_high[\"dead\"])\n",
        "\n",
        "cph = CoxPHFitter()\n",
        "Trk_high_data = Trk_high[[\"Diagnosis Age (days)\", \"Histology\", #\"Stage\",\n",
        "                                  'EFS Time', \"Sex_binary\", \"dead\"]]#\"mycn_binary\",\n",
        "cph.fit(Trk_high_data, 'EFS Time', event_col='dead')\n",
        "cph.print_summary()"
      ],
      "execution_count": 137,
      "outputs": [
        {
          "output_type": "stream",
          "text": [
            "/usr/local/lib/python3.6/dist-packages/lifelines/utils/__init__.py:1175: UserWarning: Attempting to convert an unexpected datatype 'object' to float. Suggestion: 1) use `lifelines.utils.datetimes_to_durations` to do conversions or 2) manually convert to floats/booleans.\n",
            "  warnings.warn(warning_text, UserWarning)\n"
          ],
          "name": "stderr"
        },
        {
          "output_type": "display_data",
          "data": {
            "text/latex": "\\begin{tabular}{lrrrrrrrrrr}\n\\toprule\n{} &  coef &  exp(coef) &  se(coef) &  coef lower 95\\% &  coef upper 95\\% &  exp(coef) lower 95\\% &  exp(coef) upper 95\\% &     z &    p &  -log2(p) \\\\\ncovariate            &       &            &           &                 &                 &                      &                      &       &      &           \\\\\n\\midrule\nDiagnosis Age (days) &  0.00 &       1.00 &      0.00 &           -0.00 &            0.00 &                 1.00 &                 1.00 &  0.38 & 0.71 &      0.50 \\\\\nHistology            & -0.74 &       0.48 &      0.58 &           -1.88 &            0.41 &                 0.15 &                 1.50 & -1.26 & 0.21 &      2.27 \\\\\nSex\\_binary           & -1.56 &       0.21 &      0.68 &           -2.89 &           -0.23 &                 0.06 &                 0.80 & -2.30 & 0.02 &      5.53 \\\\\n\\bottomrule\n\\end{tabular}\n",
            "text/html": [
              "<div>\n",
              "<style scoped>\n",
              "    .dataframe tbody tr th:only-of-type {\n",
              "        vertical-align: middle;\n",
              "    }\n",
              "\n",
              "    .dataframe tbody tr th {\n",
              "        vertical-align: top;\n",
              "    }\n",
              "\n",
              "    .dataframe thead th {\n",
              "        text-align: right;\n",
              "    }\n",
              "</style>\n",
              "<table border=\"1\" class=\"dataframe\">\n",
              "  <tbody>\n",
              "    <tr>\n",
              "      <th>model</th>\n",
              "      <td>lifelines.CoxPHFitter</td>\n",
              "    </tr>\n",
              "    <tr>\n",
              "      <th>duration col</th>\n",
              "      <td>'EFS Time'</td>\n",
              "    </tr>\n",
              "    <tr>\n",
              "      <th>event col</th>\n",
              "      <td>'dead'</td>\n",
              "    </tr>\n",
              "    <tr>\n",
              "      <th>baseline estimation</th>\n",
              "      <td>breslow</td>\n",
              "    </tr>\n",
              "    <tr>\n",
              "      <th>number of observations</th>\n",
              "      <td>49</td>\n",
              "    </tr>\n",
              "    <tr>\n",
              "      <th>number of events observed</th>\n",
              "      <td>15</td>\n",
              "    </tr>\n",
              "    <tr>\n",
              "      <th>partial log-likelihood</th>\n",
              "      <td>-36.64</td>\n",
              "    </tr>\n",
              "    <tr>\n",
              "      <th>time fit was run</th>\n",
              "      <td>2021-02-04 11:24:55 UTC</td>\n",
              "    </tr>\n",
              "  </tbody>\n",
              "</table>\n",
              "</div><table border=\"1\" class=\"dataframe\">\n",
              "  <thead>\n",
              "    <tr style=\"text-align: right;\">\n",
              "      <th style=\"min-width: 12px;\"></th>\n",
              "      <th style=\"min-width: 12px;\">coef</th>\n",
              "      <th style=\"min-width: 12px;\">exp(coef)</th>\n",
              "      <th style=\"min-width: 12px;\">se(coef)</th>\n",
              "      <th style=\"min-width: 12px;\">coef lower 95%</th>\n",
              "      <th style=\"min-width: 12px;\">coef upper 95%</th>\n",
              "      <th style=\"min-width: 12px;\">exp(coef) lower 95%</th>\n",
              "      <th style=\"min-width: 12px;\">exp(coef) upper 95%</th>\n",
              "      <th style=\"min-width: 12px;\">z</th>\n",
              "      <th style=\"min-width: 12px;\">p</th>\n",
              "      <th style=\"min-width: 12px;\">-log2(p)</th>\n",
              "    </tr>\n",
              "  </thead>\n",
              "  <tbody>\n",
              "    <tr>\n",
              "      <th>Diagnosis Age (days)</th>\n",
              "      <td>0.00</td>\n",
              "      <td>1.00</td>\n",
              "      <td>0.00</td>\n",
              "      <td>-0.00</td>\n",
              "      <td>0.00</td>\n",
              "      <td>1.00</td>\n",
              "      <td>1.00</td>\n",
              "      <td>0.38</td>\n",
              "      <td>0.71</td>\n",
              "      <td>0.50</td>\n",
              "    </tr>\n",
              "    <tr>\n",
              "      <th>Histology</th>\n",
              "      <td>-0.74</td>\n",
              "      <td>0.48</td>\n",
              "      <td>0.58</td>\n",
              "      <td>-1.88</td>\n",
              "      <td>0.41</td>\n",
              "      <td>0.15</td>\n",
              "      <td>1.50</td>\n",
              "      <td>-1.26</td>\n",
              "      <td>0.21</td>\n",
              "      <td>2.27</td>\n",
              "    </tr>\n",
              "    <tr>\n",
              "      <th>Sex_binary</th>\n",
              "      <td>-1.56</td>\n",
              "      <td>0.21</td>\n",
              "      <td>0.68</td>\n",
              "      <td>-2.89</td>\n",
              "      <td>-0.23</td>\n",
              "      <td>0.06</td>\n",
              "      <td>0.80</td>\n",
              "      <td>-2.30</td>\n",
              "      <td>0.02</td>\n",
              "      <td>5.53</td>\n",
              "    </tr>\n",
              "  </tbody>\n",
              "</table><br><div>\n",
              "<style scoped>\n",
              "    .dataframe tbody tr th:only-of-type {\n",
              "        vertical-align: middle;\n",
              "    }\n",
              "\n",
              "    .dataframe tbody tr th {\n",
              "        vertical-align: top;\n",
              "    }\n",
              "\n",
              "    .dataframe thead th {\n",
              "        text-align: right;\n",
              "    }\n",
              "</style>\n",
              "<table border=\"1\" class=\"dataframe\">\n",
              "  <tbody>\n",
              "    <tr>\n",
              "      <th>Concordance</th>\n",
              "      <td>0.70</td>\n",
              "    </tr>\n",
              "    <tr>\n",
              "      <th>Partial AIC</th>\n",
              "      <td>79.28</td>\n",
              "    </tr>\n",
              "    <tr>\n",
              "      <th>log-likelihood ratio test</th>\n",
              "      <td>7.22 on 3 df</td>\n",
              "    </tr>\n",
              "    <tr>\n",
              "      <th>-log2(p) of ll-ratio test</th>\n",
              "      <td>3.94</td>\n",
              "    </tr>\n",
              "  </tbody>\n",
              "</table>\n",
              "</div>"
            ],
            "text/plain": [
              "<lifelines.CoxPHFitter: fitted with 49 total observations, 34 right-censored observations>\n",
              "             duration col = 'EFS Time'\n",
              "                event col = 'dead'\n",
              "      baseline estimation = breslow\n",
              "   number of observations = 49\n",
              "number of events observed = 15\n",
              "   partial log-likelihood = -36.64\n",
              "         time fit was run = 2021-02-04 11:24:55 UTC\n",
              "\n",
              "---\n",
              "                       coef  exp(coef)   se(coef)   coef lower 95%   coef upper 95%  exp(coef) lower 95%  exp(coef) upper 95%\n",
              "covariate                                                                                                                    \n",
              "Diagnosis Age (days)   0.00       1.00       0.00            -0.00             0.00                 1.00                 1.00\n",
              "Histology             -0.74       0.48       0.58            -1.88             0.41                 0.15                 1.50\n",
              "Sex_binary            -1.56       0.21       0.68            -2.89            -0.23                 0.06                 0.80\n",
              "\n",
              "                         z    p   -log2(p)\n",
              "covariate                                 \n",
              "Diagnosis Age (days)  0.38 0.71       0.50\n",
              "Histology            -1.26 0.21       2.27\n",
              "Sex_binary           -2.30 0.02       5.53\n",
              "---\n",
              "Concordance = 0.70\n",
              "Partial AIC = 79.28\n",
              "log-likelihood ratio test = 7.22 on 3 df\n",
              "-log2(p) of ll-ratio test = 3.94"
            ]
          },
          "metadata": {
            "tags": []
          }
        }
      ]
    },
    {
      "cell_type": "code",
      "metadata": {
        "colab": {
          "base_uri": "https://localhost:8080/",
          "height": 296
        },
        "id": "0mYHrapayM3H",
        "outputId": "5353e692-67b0-4ff3-917e-ed782765c9e4"
      },
      "source": [
        "cph.plot() #all not amplified"
      ],
      "execution_count": 136,
      "outputs": [
        {
          "output_type": "execute_result",
          "data": {
            "text/plain": [
              "<matplotlib.axes._subplots.AxesSubplot at 0x7f4b3e392b70>"
            ]
          },
          "metadata": {
            "tags": []
          },
          "execution_count": 136
        },
        {
          "output_type": "display_data",
          "data": {
            "image/png": "[encoded data removed]",
            "text/plain": [
              "<Figure size 432x288 with 1 Axes>"
            ]
          },
          "metadata": {
            "tags": [],
            "needs_background": "light"
          }
        }
      ]
    },
    {
      "cell_type": "code",
      "metadata": {
        "colab": {
          "base_uri": "https://localhost:8080/",
          "height": 616
        },
        "id": "Z4iVVCFlyd0a",
        "outputId": "b9b26c40-f3a8-4eab-94a5-bafc4e26f306"
      },
      "source": [
        "tp53_low = tp53_low.dropna(subset=[\"Diagnosis Age (days)\", \"Histology\", #\"Stage\",\n",
        "                                  'EFS Time', \"Sex_binary\", \"mycn_binary\", \"dead\"])\n",
        "\n",
        "kmf = KaplanMeierFitter()\n",
        "kmf.fit(tp53_low[\"EFS Time\"], event_observed = tp53_low[\"dead\"])\n",
        "\n",
        "cph = CoxPHFitter()\n",
        "tp53_low_data = tp53_low[[\"Diagnosis Age (days)\", \"Histology\", #\"Stage\",\n",
        "                                  'EFS Time', \"mycn_binary\", \"Sex_binary\", \"dead\"]]\n",
        "cph.fit(tp53_low_data, 'EFS Time', event_col='dead')\n",
        "cph.print_summary()"
      ],
      "execution_count": 142,
      "outputs": [
        {
          "output_type": "stream",
          "text": [
            "/usr/local/lib/python3.6/dist-packages/lifelines/utils/__init__.py:1175: UserWarning: Attempting to convert an unexpected datatype 'object' to float. Suggestion: 1) use `lifelines.utils.datetimes_to_durations` to do conversions or 2) manually convert to floats/booleans.\n",
            "  warnings.warn(warning_text, UserWarning)\n"
          ],
          "name": "stderr"
        },
        {
          "output_type": "display_data",
          "data": {
            "text/latex": "\\begin{tabular}{lrrrrrrrrrr}\n\\toprule\n{} &  coef &  exp(coef) &  se(coef) &  coef lower 95\\% &  coef upper 95\\% &  exp(coef) lower 95\\% &  exp(coef) upper 95\\% &     z &    p &  -log2(p) \\\\\ncovariate            &       &            &           &                 &                 &                      &                      &       &      &           \\\\\n\\midrule\nDiagnosis Age (days) &  0.00 &       1.00 &      0.00 &            0.00 &            0.00 &                 1.00 &                 1.00 &  2.02 & 0.04 &      4.53 \\\\\nHistology            & -0.21 &       0.81 &      0.42 &           -1.04 &            0.62 &                 0.35 &                 1.85 & -0.51 & 0.61 &      0.71 \\\\\nmycn\\_binary          &  0.33 &       1.40 &      1.09 &           -1.81 &            2.48 &                 0.16 &                11.95 &  0.31 & 0.76 &      0.40 \\\\\nSex\\_binary           & -1.39 &       0.25 &      0.67 &           -2.70 &           -0.09 &                 0.07 &                 0.91 & -2.09 & 0.04 &      4.79 \\\\\n\\bottomrule\n\\end{tabular}\n",
            "text/html": [
              "<div>\n",
              "<style scoped>\n",
              "    .dataframe tbody tr th:only-of-type {\n",
              "        vertical-align: middle;\n",
              "    }\n",
              "\n",
              "    .dataframe tbody tr th {\n",
              "        vertical-align: top;\n",
              "    }\n",
              "\n",
              "    .dataframe thead th {\n",
              "        text-align: right;\n",
              "    }\n",
              "</style>\n",
              "<table border=\"1\" class=\"dataframe\">\n",
              "  <tbody>\n",
              "    <tr>\n",
              "      <th>model</th>\n",
              "      <td>lifelines.CoxPHFitter</td>\n",
              "    </tr>\n",
              "    <tr>\n",
              "      <th>duration col</th>\n",
              "      <td>'EFS Time'</td>\n",
              "    </tr>\n",
              "    <tr>\n",
              "      <th>event col</th>\n",
              "      <td>'dead'</td>\n",
              "    </tr>\n",
              "    <tr>\n",
              "      <th>baseline estimation</th>\n",
              "      <td>breslow</td>\n",
              "    </tr>\n",
              "    <tr>\n",
              "      <th>number of observations</th>\n",
              "      <td>40</td>\n",
              "    </tr>\n",
              "    <tr>\n",
              "      <th>number of events observed</th>\n",
              "      <td>20</td>\n",
              "    </tr>\n",
              "    <tr>\n",
              "      <th>partial log-likelihood</th>\n",
              "      <td>-42.68</td>\n",
              "    </tr>\n",
              "    <tr>\n",
              "      <th>time fit was run</th>\n",
              "      <td>2021-02-04 11:26:15 UTC</td>\n",
              "    </tr>\n",
              "  </tbody>\n",
              "</table>\n",
              "</div><table border=\"1\" class=\"dataframe\">\n",
              "  <thead>\n",
              "    <tr style=\"text-align: right;\">\n",
              "      <th style=\"min-width: 12px;\"></th>\n",
              "      <th style=\"min-width: 12px;\">coef</th>\n",
              "      <th style=\"min-width: 12px;\">exp(coef)</th>\n",
              "      <th style=\"min-width: 12px;\">se(coef)</th>\n",
              "      <th style=\"min-width: 12px;\">coef lower 95%</th>\n",
              "      <th style=\"min-width: 12px;\">coef upper 95%</th>\n",
              "      <th style=\"min-width: 12px;\">exp(coef) lower 95%</th>\n",
              "      <th style=\"min-width: 12px;\">exp(coef) upper 95%</th>\n",
              "      <th style=\"min-width: 12px;\">z</th>\n",
              "      <th style=\"min-width: 12px;\">p</th>\n",
              "      <th style=\"min-width: 12px;\">-log2(p)</th>\n",
              "    </tr>\n",
              "  </thead>\n",
              "  <tbody>\n",
              "    <tr>\n",
              "      <th>Diagnosis Age (days)</th>\n",
              "      <td>0.00</td>\n",
              "      <td>1.00</td>\n",
              "      <td>0.00</td>\n",
              "      <td>0.00</td>\n",
              "      <td>0.00</td>\n",
              "      <td>1.00</td>\n",
              "      <td>1.00</td>\n",
              "      <td>2.02</td>\n",
              "      <td>0.04</td>\n",
              "      <td>4.53</td>\n",
              "    </tr>\n",
              "    <tr>\n",
              "      <th>Histology</th>\n",
              "      <td>-0.21</td>\n",
              "      <td>0.81</td>\n",
              "      <td>0.42</td>\n",
              "      <td>-1.04</td>\n",
              "      <td>0.62</td>\n",
              "      <td>0.35</td>\n",
              "      <td>1.85</td>\n",
              "      <td>-0.51</td>\n",
              "      <td>0.61</td>\n",
              "      <td>0.71</td>\n",
              "    </tr>\n",
              "    <tr>\n",
              "      <th>mycn_binary</th>\n",
              "      <td>0.33</td>\n",
              "      <td>1.40</td>\n",
              "      <td>1.09</td>\n",
              "      <td>-1.81</td>\n",
              "      <td>2.48</td>\n",
              "      <td>0.16</td>\n",
              "      <td>11.95</td>\n",
              "      <td>0.31</td>\n",
              "      <td>0.76</td>\n",
              "      <td>0.40</td>\n",
              "    </tr>\n",
              "    <tr>\n",
              "      <th>Sex_binary</th>\n",
              "      <td>-1.39</td>\n",
              "      <td>0.25</td>\n",
              "      <td>0.67</td>\n",
              "      <td>-2.70</td>\n",
              "      <td>-0.09</td>\n",
              "      <td>0.07</td>\n",
              "      <td>0.91</td>\n",
              "      <td>-2.09</td>\n",
              "      <td>0.04</td>\n",
              "      <td>4.79</td>\n",
              "    </tr>\n",
              "  </tbody>\n",
              "</table><br><div>\n",
              "<style scoped>\n",
              "    .dataframe tbody tr th:only-of-type {\n",
              "        vertical-align: middle;\n",
              "    }\n",
              "\n",
              "    .dataframe tbody tr th {\n",
              "        vertical-align: top;\n",
              "    }\n",
              "\n",
              "    .dataframe thead th {\n",
              "        text-align: right;\n",
              "    }\n",
              "</style>\n",
              "<table border=\"1\" class=\"dataframe\">\n",
              "  <tbody>\n",
              "    <tr>\n",
              "      <th>Concordance</th>\n",
              "      <td>0.58</td>\n",
              "    </tr>\n",
              "    <tr>\n",
              "      <th>Partial AIC</th>\n",
              "      <td>93.35</td>\n",
              "    </tr>\n",
              "    <tr>\n",
              "      <th>log-likelihood ratio test</th>\n",
              "      <td>13.22 on 4 df</td>\n",
              "    </tr>\n",
              "    <tr>\n",
              "      <th>-log2(p) of ll-ratio test</th>\n",
              "      <td>6.61</td>\n",
              "    </tr>\n",
              "  </tbody>\n",
              "</table>\n",
              "</div>"
            ],
            "text/plain": [
              "<lifelines.CoxPHFitter: fitted with 40 total observations, 20 right-censored observations>\n",
              "             duration col = 'EFS Time'\n",
              "                event col = 'dead'\n",
              "      baseline estimation = breslow\n",
              "   number of observations = 40\n",
              "number of events observed = 20\n",
              "   partial log-likelihood = -42.68\n",
              "         time fit was run = 2021-02-04 11:26:15 UTC\n",
              "\n",
              "---\n",
              "                       coef  exp(coef)   se(coef)   coef lower 95%   coef upper 95%  exp(coef) lower 95%  exp(coef) upper 95%\n",
              "covariate                                                                                                                    \n",
              "Diagnosis Age (days)   0.00       1.00       0.00             0.00             0.00                 1.00                 1.00\n",
              "Histology             -0.21       0.81       0.42            -1.04             0.62                 0.35                 1.85\n",
              "mycn_binary            0.33       1.40       1.09            -1.81             2.48                 0.16                11.95\n",
              "Sex_binary            -1.39       0.25       0.67            -2.70            -0.09                 0.07                 0.91\n",
              "\n",
              "                         z    p   -log2(p)\n",
              "covariate                                 \n",
              "Diagnosis Age (days)  2.02 0.04       4.53\n",
              "Histology            -0.51 0.61       0.71\n",
              "mycn_binary           0.31 0.76       0.40\n",
              "Sex_binary           -2.09 0.04       4.79\n",
              "---\n",
              "Concordance = 0.58\n",
              "Partial AIC = 93.35\n",
              "log-likelihood ratio test = 13.22 on 4 df\n",
              "-log2(p) of ll-ratio test = 6.61"
            ]
          },
          "metadata": {
            "tags": []
          }
        }
      ]
    },
    {
      "cell_type": "code",
      "metadata": {
        "colab": {
          "base_uri": "https://localhost:8080/",
          "height": 296
        },
        "id": "QUzFmZceyoqk",
        "outputId": "47e12761-a5ee-44d4-f5c6-a358611f57ec"
      },
      "source": [
        "cph.plot() #Almost all stage 4 - Stage 4: 32, Stage 1: 8"
      ],
      "execution_count": 143,
      "outputs": [
        {
          "output_type": "execute_result",
          "data": {
            "text/plain": [
              "<matplotlib.axes._subplots.AxesSubplot at 0x7f4b3e52dd68>"
            ]
          },
          "metadata": {
            "tags": []
          },
          "execution_count": 143
        },
        {
          "output_type": "display_data",
          "data": {
            "image/png": "[encoded data removed]",
            "text/plain": [
              "<Figure size 432x288 with 1 Axes>"
            ]
          },
          "metadata": {
            "tags": [],
            "needs_background": "light"
          }
        }
      ]
    },
    {
      "cell_type": "code",
      "metadata": {
        "colab": {
          "base_uri": "https://localhost:8080/",
          "height": 616
        },
        "id": "DjUIUT_fyx5X",
        "outputId": "2b0bf8a3-86ce-4117-ca8d-7d622430fe87"
      },
      "source": [
        "tp53_moderate = tp53_moderate.dropna(subset=[\"Diagnosis Age (days)\", \"Histology\", #\"Stage\",\n",
        "                                  'EFS Time', \"Sex_binary\", \"mycn_binary\", \"dead\"])\n",
        "\n",
        "kmf = KaplanMeierFitter()\n",
        "kmf.fit(tp53_moderate[\"EFS Time\"], event_observed = tp53_moderate[\"dead\"])\n",
        "\n",
        "cph = CoxPHFitter()\n",
        "tp53_moderate_data = tp53_moderate[[\"Diagnosis Age (days)\", \"Histology\", #\"Stage\",\n",
        "                                  'EFS Time', \"mycn_binary\", \"Sex_binary\", \"dead\"]]\n",
        "cph.fit(tp53_moderate_data, 'EFS Time', event_col='dead')\n",
        "cph.print_summary()"
      ],
      "execution_count": 150,
      "outputs": [
        {
          "output_type": "stream",
          "text": [
            "/usr/local/lib/python3.6/dist-packages/lifelines/utils/__init__.py:1175: UserWarning: Attempting to convert an unexpected datatype 'object' to float. Suggestion: 1) use `lifelines.utils.datetimes_to_durations` to do conversions or 2) manually convert to floats/booleans.\n",
            "  warnings.warn(warning_text, UserWarning)\n"
          ],
          "name": "stderr"
        },
        {
          "output_type": "display_data",
          "data": {
            "text/latex": "\\begin{tabular}{lrrrrrrrrrr}\n\\toprule\n{} &  coef &  exp(coef) &  se(coef) &  coef lower 95\\% &  coef upper 95\\% &  exp(coef) lower 95\\% &  exp(coef) upper 95\\% &     z &    p &  -log2(p) \\\\\ncovariate            &       &            &           &                 &                 &                      &                      &       &      &           \\\\\n\\midrule\nDiagnosis Age (days) &  0.00 &       1.00 &      0.00 &           -0.00 &            0.00 &                 1.00 &                 1.00 &  0.79 & 0.43 &      1.23 \\\\\nHistology            &  0.18 &       1.19 &      0.10 &           -0.03 &            0.38 &                 0.98 &                 1.46 &  1.72 & 0.09 &      3.54 \\\\\nmycn\\_binary          &  0.36 &       1.43 &      0.25 &           -0.13 &            0.84 &                 0.88 &                 2.32 &  1.45 & 0.15 &      2.76 \\\\\nSex\\_binary           & -0.22 &       0.81 &      0.23 &           -0.66 &            0.23 &                 0.52 &                 1.26 & -0.94 & 0.34 &      1.54 \\\\\n\\bottomrule\n\\end{tabular}\n",
            "text/html": [
              "<div>\n",
              "<style scoped>\n",
              "    .dataframe tbody tr th:only-of-type {\n",
              "        vertical-align: middle;\n",
              "    }\n",
              "\n",
              "    .dataframe tbody tr th {\n",
              "        vertical-align: top;\n",
              "    }\n",
              "\n",
              "    .dataframe thead th {\n",
              "        text-align: right;\n",
              "    }\n",
              "</style>\n",
              "<table border=\"1\" class=\"dataframe\">\n",
              "  <tbody>\n",
              "    <tr>\n",
              "      <th>model</th>\n",
              "      <td>lifelines.CoxPHFitter</td>\n",
              "    </tr>\n",
              "    <tr>\n",
              "      <th>duration col</th>\n",
              "      <td>'EFS Time'</td>\n",
              "    </tr>\n",
              "    <tr>\n",
              "      <th>event col</th>\n",
              "      <td>'dead'</td>\n",
              "    </tr>\n",
              "    <tr>\n",
              "      <th>baseline estimation</th>\n",
              "      <td>breslow</td>\n",
              "    </tr>\n",
              "    <tr>\n",
              "      <th>number of observations</th>\n",
              "      <td>157</td>\n",
              "    </tr>\n",
              "    <tr>\n",
              "      <th>number of events observed</th>\n",
              "      <td>90</td>\n",
              "    </tr>\n",
              "    <tr>\n",
              "      <th>partial log-likelihood</th>\n",
              "      <td>-350.69</td>\n",
              "    </tr>\n",
              "    <tr>\n",
              "      <th>time fit was run</th>\n",
              "      <td>2021-02-04 11:27:38 UTC</td>\n",
              "    </tr>\n",
              "  </tbody>\n",
              "</table>\n",
              "</div><table border=\"1\" class=\"dataframe\">\n",
              "  <thead>\n",
              "    <tr style=\"text-align: right;\">\n",
              "      <th style=\"min-width: 12px;\"></th>\n",
              "      <th style=\"min-width: 12px;\">coef</th>\n",
              "      <th style=\"min-width: 12px;\">exp(coef)</th>\n",
              "      <th style=\"min-width: 12px;\">se(coef)</th>\n",
              "      <th style=\"min-width: 12px;\">coef lower 95%</th>\n",
              "      <th style=\"min-width: 12px;\">coef upper 95%</th>\n",
              "      <th style=\"min-width: 12px;\">exp(coef) lower 95%</th>\n",
              "      <th style=\"min-width: 12px;\">exp(coef) upper 95%</th>\n",
              "      <th style=\"min-width: 12px;\">z</th>\n",
              "      <th style=\"min-width: 12px;\">p</th>\n",
              "      <th style=\"min-width: 12px;\">-log2(p)</th>\n",
              "    </tr>\n",
              "  </thead>\n",
              "  <tbody>\n",
              "    <tr>\n",
              "      <th>Diagnosis Age (days)</th>\n",
              "      <td>0.00</td>\n",
              "      <td>1.00</td>\n",
              "      <td>0.00</td>\n",
              "      <td>-0.00</td>\n",
              "      <td>0.00</td>\n",
              "      <td>1.00</td>\n",
              "      <td>1.00</td>\n",
              "      <td>0.79</td>\n",
              "      <td>0.43</td>\n",
              "      <td>1.23</td>\n",
              "    </tr>\n",
              "    <tr>\n",
              "      <th>Histology</th>\n",
              "      <td>0.18</td>\n",
              "      <td>1.19</td>\n",
              "      <td>0.10</td>\n",
              "      <td>-0.03</td>\n",
              "      <td>0.38</td>\n",
              "      <td>0.98</td>\n",
              "      <td>1.46</td>\n",
              "      <td>1.72</td>\n",
              "      <td>0.09</td>\n",
              "      <td>3.54</td>\n",
              "    </tr>\n",
              "    <tr>\n",
              "      <th>mycn_binary</th>\n",
              "      <td>0.36</td>\n",
              "      <td>1.43</td>\n",
              "      <td>0.25</td>\n",
              "      <td>-0.13</td>\n",
              "      <td>0.84</td>\n",
              "      <td>0.88</td>\n",
              "      <td>2.32</td>\n",
              "      <td>1.45</td>\n",
              "      <td>0.15</td>\n",
              "      <td>2.76</td>\n",
              "    </tr>\n",
              "    <tr>\n",
              "      <th>Sex_binary</th>\n",
              "      <td>-0.22</td>\n",
              "      <td>0.81</td>\n",
              "      <td>0.23</td>\n",
              "      <td>-0.66</td>\n",
              "      <td>0.23</td>\n",
              "      <td>0.52</td>\n",
              "      <td>1.26</td>\n",
              "      <td>-0.94</td>\n",
              "      <td>0.34</td>\n",
              "      <td>1.54</td>\n",
              "    </tr>\n",
              "  </tbody>\n",
              "</table><br><div>\n",
              "<style scoped>\n",
              "    .dataframe tbody tr th:only-of-type {\n",
              "        vertical-align: middle;\n",
              "    }\n",
              "\n",
              "    .dataframe tbody tr th {\n",
              "        vertical-align: top;\n",
              "    }\n",
              "\n",
              "    .dataframe thead th {\n",
              "        text-align: right;\n",
              "    }\n",
              "</style>\n",
              "<table border=\"1\" class=\"dataframe\">\n",
              "  <tbody>\n",
              "    <tr>\n",
              "      <th>Concordance</th>\n",
              "      <td>0.57</td>\n",
              "    </tr>\n",
              "    <tr>\n",
              "      <th>Partial AIC</th>\n",
              "      <td>709.38</td>\n",
              "    </tr>\n",
              "    <tr>\n",
              "      <th>log-likelihood ratio test</th>\n",
              "      <td>5.45 on 4 df</td>\n",
              "    </tr>\n",
              "    <tr>\n",
              "      <th>-log2(p) of ll-ratio test</th>\n",
              "      <td>2.03</td>\n",
              "    </tr>\n",
              "  </tbody>\n",
              "</table>\n",
              "</div>"
            ],
            "text/plain": [
              "<lifelines.CoxPHFitter: fitted with 157 total observations, 67 right-censored observations>\n",
              "             duration col = 'EFS Time'\n",
              "                event col = 'dead'\n",
              "      baseline estimation = breslow\n",
              "   number of observations = 157\n",
              "number of events observed = 90\n",
              "   partial log-likelihood = -350.69\n",
              "         time fit was run = 2021-02-04 11:27:38 UTC\n",
              "\n",
              "---\n",
              "                       coef  exp(coef)   se(coef)   coef lower 95%   coef upper 95%  exp(coef) lower 95%  exp(coef) upper 95%\n",
              "covariate                                                                                                                    \n",
              "Diagnosis Age (days)   0.00       1.00       0.00            -0.00             0.00                 1.00                 1.00\n",
              "Histology              0.18       1.19       0.10            -0.03             0.38                 0.98                 1.46\n",
              "mycn_binary            0.36       1.43       0.25            -0.13             0.84                 0.88                 2.32\n",
              "Sex_binary            -0.22       0.81       0.23            -0.66             0.23                 0.52                 1.26\n",
              "\n",
              "                         z    p   -log2(p)\n",
              "covariate                                 \n",
              "Diagnosis Age (days)  0.79 0.43       1.23\n",
              "Histology             1.72 0.09       3.54\n",
              "mycn_binary           1.45 0.15       2.76\n",
              "Sex_binary           -0.94 0.34       1.54\n",
              "---\n",
              "Concordance = 0.57\n",
              "Partial AIC = 709.38\n",
              "log-likelihood ratio test = 5.45 on 4 df\n",
              "-log2(p) of ll-ratio test = 2.03"
            ]
          },
          "metadata": {
            "tags": []
          }
        }
      ]
    },
    {
      "cell_type": "code",
      "metadata": {
        "colab": {
          "base_uri": "https://localhost:8080/",
          "height": 296
        },
        "id": "JA5CfF7iy8iW",
        "outputId": "1f131e52-8ade-4e58-e08d-95a0b90357f9"
      },
      "source": [
        "cph.plot() #almost all stage 4 - stage 4: 134, stage 3: 1, stage 1: 22"
      ],
      "execution_count": 151,
      "outputs": [
        {
          "output_type": "execute_result",
          "data": {
            "text/plain": [
              "<matplotlib.axes._subplots.AxesSubplot at 0x7f4b3ef8d208>"
            ]
          },
          "metadata": {
            "tags": []
          },
          "execution_count": 151
        },
        {
          "output_type": "display_data",
          "data": {
            "image/png": "[encoded data removed]",
            "text/plain": [
              "<Figure size 432x288 with 1 Axes>"
            ]
          },
          "metadata": {
            "tags": [],
            "needs_background": "light"
          }
        }
      ]
    },
    {
      "cell_type": "code",
      "metadata": {
        "colab": {
          "base_uri": "https://localhost:8080/",
          "height": 616
        },
        "id": "rg4d0HINzF23",
        "outputId": "604cfe98-3cb2-4b14-e253-5d033d053c32"
      },
      "source": [
        "tp53_high = tp53_high.dropna(subset=[\"Diagnosis Age (days)\", \"Histology\", #\"Stage\",\n",
        "                                  'EFS Time', \"Sex_binary\", \"mycn_binary\", \"dead\"])\n",
        "\n",
        "kmf = KaplanMeierFitter()\n",
        "kmf.fit(tp53_high[\"EFS Time\"], event_observed = tp53_high[\"dead\"])\n",
        "\n",
        "cph = CoxPHFitter()\n",
        "tp53_high_data = tp53_high[[\"Diagnosis Age (days)\", \"Histology\", #\"Stage\", #all stage 4\n",
        "                                  'EFS Time', \"mycn_binary\", \"Sex_binary\", \"dead\"]]\n",
        "cph.fit(tp53_high_data, 'EFS Time', event_col='dead')\n",
        "cph.print_summary()"
      ],
      "execution_count": 154,
      "outputs": [
        {
          "output_type": "stream",
          "text": [
            "/usr/local/lib/python3.6/dist-packages/lifelines/utils/__init__.py:1175: UserWarning: Attempting to convert an unexpected datatype 'object' to float. Suggestion: 1) use `lifelines.utils.datetimes_to_durations` to do conversions or 2) manually convert to floats/booleans.\n",
            "  warnings.warn(warning_text, UserWarning)\n"
          ],
          "name": "stderr"
        },
        {
          "output_type": "display_data",
          "data": {
            "text/latex": "\\begin{tabular}{lrrrrrrrrrr}\n\\toprule\n{} &  coef &  exp(coef) &  se(coef) &  coef lower 95\\% &  coef upper 95\\% &  exp(coef) lower 95\\% &  exp(coef) upper 95\\% &     z &    p &  -log2(p) \\\\\ncovariate            &       &            &           &                 &                 &                      &                      &       &      &           \\\\\n\\midrule\nDiagnosis Age (days) &  0.00 &       1.00 &      0.00 &           -0.00 &            0.00 &                 1.00 &                 1.00 &  1.05 & 0.29 &      1.77 \\\\\nHistology            & -0.58 &       0.56 &      0.61 &           -1.79 &            0.62 &                 0.17 &                 1.86 & -0.95 & 0.34 &      1.54 \\\\\nmycn\\_binary          & -0.27 &       0.76 &      0.47 &           -1.20 &            0.66 &                 0.30 &                 1.93 & -0.57 & 0.57 &      0.82 \\\\\nSex\\_binary           & -0.29 &       0.75 &      0.41 &           -1.10 &            0.51 &                 0.33 &                 1.67 & -0.71 & 0.48 &      1.07 \\\\\n\\bottomrule\n\\end{tabular}\n",
            "text/html": [
              "<div>\n",
              "<style scoped>\n",
              "    .dataframe tbody tr th:only-of-type {\n",
              "        vertical-align: middle;\n",
              "    }\n",
              "\n",
              "    .dataframe tbody tr th {\n",
              "        vertical-align: top;\n",
              "    }\n",
              "\n",
              "    .dataframe thead th {\n",
              "        text-align: right;\n",
              "    }\n",
              "</style>\n",
              "<table border=\"1\" class=\"dataframe\">\n",
              "  <tbody>\n",
              "    <tr>\n",
              "      <th>model</th>\n",
              "      <td>lifelines.CoxPHFitter</td>\n",
              "    </tr>\n",
              "    <tr>\n",
              "      <th>duration col</th>\n",
              "      <td>'EFS Time'</td>\n",
              "    </tr>\n",
              "    <tr>\n",
              "      <th>event col</th>\n",
              "      <td>'dead'</td>\n",
              "    </tr>\n",
              "    <tr>\n",
              "      <th>baseline estimation</th>\n",
              "      <td>breslow</td>\n",
              "    </tr>\n",
              "    <tr>\n",
              "      <th>number of observations</th>\n",
              "      <td>46</td>\n",
              "    </tr>\n",
              "    <tr>\n",
              "      <th>number of events observed</th>\n",
              "      <td>27</td>\n",
              "    </tr>\n",
              "    <tr>\n",
              "      <th>partial log-likelihood</th>\n",
              "      <td>-73.86</td>\n",
              "    </tr>\n",
              "    <tr>\n",
              "      <th>time fit was run</th>\n",
              "      <td>2021-02-04 11:28:31 UTC</td>\n",
              "    </tr>\n",
              "  </tbody>\n",
              "</table>\n",
              "</div><table border=\"1\" class=\"dataframe\">\n",
              "  <thead>\n",
              "    <tr style=\"text-align: right;\">\n",
              "      <th style=\"min-width: 12px;\"></th>\n",
              "      <th style=\"min-width: 12px;\">coef</th>\n",
              "      <th style=\"min-width: 12px;\">exp(coef)</th>\n",
              "      <th style=\"min-width: 12px;\">se(coef)</th>\n",
              "      <th style=\"min-width: 12px;\">coef lower 95%</th>\n",
              "      <th style=\"min-width: 12px;\">coef upper 95%</th>\n",
              "      <th style=\"min-width: 12px;\">exp(coef) lower 95%</th>\n",
              "      <th style=\"min-width: 12px;\">exp(coef) upper 95%</th>\n",
              "      <th style=\"min-width: 12px;\">z</th>\n",
              "      <th style=\"min-width: 12px;\">p</th>\n",
              "      <th style=\"min-width: 12px;\">-log2(p)</th>\n",
              "    </tr>\n",
              "  </thead>\n",
              "  <tbody>\n",
              "    <tr>\n",
              "      <th>Diagnosis Age (days)</th>\n",
              "      <td>0.00</td>\n",
              "      <td>1.00</td>\n",
              "      <td>0.00</td>\n",
              "      <td>-0.00</td>\n",
              "      <td>0.00</td>\n",
              "      <td>1.00</td>\n",
              "      <td>1.00</td>\n",
              "      <td>1.05</td>\n",
              "      <td>0.29</td>\n",
              "      <td>1.77</td>\n",
              "    </tr>\n",
              "    <tr>\n",
              "      <th>Histology</th>\n",
              "      <td>-0.58</td>\n",
              "      <td>0.56</td>\n",
              "      <td>0.61</td>\n",
              "      <td>-1.79</td>\n",
              "      <td>0.62</td>\n",
              "      <td>0.17</td>\n",
              "      <td>1.86</td>\n",
              "      <td>-0.95</td>\n",
              "      <td>0.34</td>\n",
              "      <td>1.54</td>\n",
              "    </tr>\n",
              "    <tr>\n",
              "      <th>mycn_binary</th>\n",
              "      <td>-0.27</td>\n",
              "      <td>0.76</td>\n",
              "      <td>0.47</td>\n",
              "      <td>-1.20</td>\n",
              "      <td>0.66</td>\n",
              "      <td>0.30</td>\n",
              "      <td>1.93</td>\n",
              "      <td>-0.57</td>\n",
              "      <td>0.57</td>\n",
              "      <td>0.82</td>\n",
              "    </tr>\n",
              "    <tr>\n",
              "      <th>Sex_binary</th>\n",
              "      <td>-0.29</td>\n",
              "      <td>0.75</td>\n",
              "      <td>0.41</td>\n",
              "      <td>-1.10</td>\n",
              "      <td>0.51</td>\n",
              "      <td>0.33</td>\n",
              "      <td>1.67</td>\n",
              "      <td>-0.71</td>\n",
              "      <td>0.48</td>\n",
              "      <td>1.07</td>\n",
              "    </tr>\n",
              "  </tbody>\n",
              "</table><br><div>\n",
              "<style scoped>\n",
              "    .dataframe tbody tr th:only-of-type {\n",
              "        vertical-align: middle;\n",
              "    }\n",
              "\n",
              "    .dataframe tbody tr th {\n",
              "        vertical-align: top;\n",
              "    }\n",
              "\n",
              "    .dataframe thead th {\n",
              "        text-align: right;\n",
              "    }\n",
              "</style>\n",
              "<table border=\"1\" class=\"dataframe\">\n",
              "  <tbody>\n",
              "    <tr>\n",
              "      <th>Concordance</th>\n",
              "      <td>0.64</td>\n",
              "    </tr>\n",
              "    <tr>\n",
              "      <th>Partial AIC</th>\n",
              "      <td>155.71</td>\n",
              "    </tr>\n",
              "    <tr>\n",
              "      <th>log-likelihood ratio test</th>\n",
              "      <td>4.23 on 4 df</td>\n",
              "    </tr>\n",
              "    <tr>\n",
              "      <th>-log2(p) of ll-ratio test</th>\n",
              "      <td>1.41</td>\n",
              "    </tr>\n",
              "  </tbody>\n",
              "</table>\n",
              "</div>"
            ],
            "text/plain": [
              "<lifelines.CoxPHFitter: fitted with 46 total observations, 19 right-censored observations>\n",
              "             duration col = 'EFS Time'\n",
              "                event col = 'dead'\n",
              "      baseline estimation = breslow\n",
              "   number of observations = 46\n",
              "number of events observed = 27\n",
              "   partial log-likelihood = -73.86\n",
              "         time fit was run = 2021-02-04 11:28:31 UTC\n",
              "\n",
              "---\n",
              "                       coef  exp(coef)   se(coef)   coef lower 95%   coef upper 95%  exp(coef) lower 95%  exp(coef) upper 95%\n",
              "covariate                                                                                                                    \n",
              "Diagnosis Age (days)   0.00       1.00       0.00            -0.00             0.00                 1.00                 1.00\n",
              "Histology             -0.58       0.56       0.61            -1.79             0.62                 0.17                 1.86\n",
              "mycn_binary           -0.27       0.76       0.47            -1.20             0.66                 0.30                 1.93\n",
              "Sex_binary            -0.29       0.75       0.41            -1.10             0.51                 0.33                 1.67\n",
              "\n",
              "                         z    p   -log2(p)\n",
              "covariate                                 \n",
              "Diagnosis Age (days)  1.05 0.29       1.77\n",
              "Histology            -0.95 0.34       1.54\n",
              "mycn_binary          -0.57 0.57       0.82\n",
              "Sex_binary           -0.71 0.48       1.07\n",
              "---\n",
              "Concordance = 0.64\n",
              "Partial AIC = 155.71\n",
              "log-likelihood ratio test = 4.23 on 4 df\n",
              "-log2(p) of ll-ratio test = 1.41"
            ]
          },
          "metadata": {
            "tags": []
          }
        }
      ]
    },
    {
      "cell_type": "code",
      "metadata": {
        "colab": {
          "base_uri": "https://localhost:8080/",
          "height": 296
        },
        "id": "r4SFIIpbzd_5",
        "outputId": "89c89944-e127-449c-cb6f-cc78cc6300c9"
      },
      "source": [
        "cph.plot() #all stage 4"
      ],
      "execution_count": 157,
      "outputs": [
        {
          "output_type": "execute_result",
          "data": {
            "text/plain": [
              "<matplotlib.axes._subplots.AxesSubplot at 0x7f4b3e777f98>"
            ]
          },
          "metadata": {
            "tags": []
          },
          "execution_count": 157
        },
        {
          "output_type": "display_data",
          "data": {
            "image/png": "[encoded data removed]",
            "text/plain": [
              "<Figure size 432x288 with 1 Axes>"
            ]
          },
          "metadata": {
            "tags": [],
            "needs_background": "light"
          }
        }
      ]
    },
    {
      "cell_type": "code",
      "metadata": {
        "colab": {
          "base_uri": "https://localhost:8080/",
          "height": 820
        },
        "id": "tcenJrBG1vWI",
        "outputId": "39745610-c93f-41cf-8126-d9e8423bd5d9"
      },
      "source": [
        "ptpn6_low = ptpn6_low.dropna(subset=[\"Diagnosis Age (days)\", \"Histology\", #\"Stage\",\n",
        "                                  'EFS Time', \"Sex_binary\", \"mycn_binary\", \"dead\"])\n",
        "\n",
        "kmf = KaplanMeierFitter()\n",
        "kmf.fit(ptpn6_low[\"EFS Time\"], event_observed = ptpn6_low[\"dead\"])\n",
        "\n",
        "cph = CoxPHFitter()\n",
        "ptpn6_low_data = ptpn6_low[[\"Diagnosis Age (days)\", \"Histology\", #\"Stage\", #all stage 4\n",
        "                                  'EFS Time', \"mycn_binary\", \"Sex_binary\", \"dead\"]]\n",
        "cph.fit(ptpn6_low_data, 'EFS Time', event_col='dead')\n",
        "cph.print_summary()"
      ],
      "execution_count": 166,
      "outputs": [
        {
          "output_type": "stream",
          "text": [
            "/usr/local/lib/python3.6/dist-packages/lifelines/utils/__init__.py:1175: UserWarning: Attempting to convert an unexpected datatype 'object' to float. Suggestion: 1) use `lifelines.utils.datetimes_to_durations` to do conversions or 2) manually convert to floats/booleans.\n",
            "  warnings.warn(warning_text, UserWarning)\n",
            "/usr/local/lib/python3.6/dist-packages/lifelines/utils/__init__.py:1110: ConvergenceWarning: Column Histology have very low variance when conditioned on death event present or not. This may harm convergence. This could be a form of 'complete separation'. For example, try the following code:\n",
            "\n",
            ">>> events = df['dead'].astype(bool)\n",
            ">>> print(df.loc[events, 'Histology'].var())\n",
            ">>> print(df.loc[~events, 'Histology'].var())\n",
            "\n",
            "A very low variance means that the column Histology completely determines whether a subject dies or not. See https://stats.stackexchange.com/questions/11109/how-to-deal-with-perfect-separation-in-logistic-regression.\n",
            "\n",
            "  warnings.warn(dedent(warning_text), ConvergenceWarning)\n",
            "/usr/local/lib/python3.6/dist-packages/lifelines/fitters/coxph_fitter.py:1578: ConvergenceWarning: Newton-Rhaphson convergence completed successfully but norm(delta) is still high, 0.547. This may imply non-unique solutions to the maximum likelihood. Perhaps there is collinearity or complete separation in the dataset?\n",
            "\n",
            "  exceptions.ConvergenceWarning,\n"
          ],
          "name": "stderr"
        },
        {
          "output_type": "display_data",
          "data": {
            "text/latex": "\\begin{tabular}{lrrrrrrrrrr}\n\\toprule\n{} &   coef &  exp(coef) &  se(coef) &  coef lower 95\\% &  coef upper 95\\% &  exp(coef) lower 95\\% &  exp(coef) upper 95\\% &     z &    p &  -log2(p) \\\\\ncovariate            &        &            &           &                 &                 &                      &                      &       &      &           \\\\\n\\midrule\nDiagnosis Age (days) &   0.00 &       1.00 &      0.00 &           -0.00 &            0.00 &                 1.00 &                 1.00 &  0.02 & 0.99 &      0.02 \\\\\nHistology            & -16.28 &       0.00 &   3201.39 &        -6290.89 &         6258.32 &                 0.00 &                  inf & -0.01 & 1.00 &      0.01 \\\\\nmycn\\_binary          &  -0.03 &       0.97 &      0.59 &           -1.20 &            1.13 &                 0.30 &                 3.09 & -0.06 & 0.95 &      0.07 \\\\\nSex\\_binary           &  -0.23 &       0.79 &      0.50 &           -1.22 &            0.76 &                 0.30 &                 2.13 & -0.46 & 0.65 &      0.63 \\\\\n\\bottomrule\n\\end{tabular}\n",
            "text/html": [
              "<div>\n",
              "<style scoped>\n",
              "    .dataframe tbody tr th:only-of-type {\n",
              "        vertical-align: middle;\n",
              "    }\n",
              "\n",
              "    .dataframe tbody tr th {\n",
              "        vertical-align: top;\n",
              "    }\n",
              "\n",
              "    .dataframe thead th {\n",
              "        text-align: right;\n",
              "    }\n",
              "</style>\n",
              "<table border=\"1\" class=\"dataframe\">\n",
              "  <tbody>\n",
              "    <tr>\n",
              "      <th>model</th>\n",
              "      <td>lifelines.CoxPHFitter</td>\n",
              "    </tr>\n",
              "    <tr>\n",
              "      <th>duration col</th>\n",
              "      <td>'EFS Time'</td>\n",
              "    </tr>\n",
              "    <tr>\n",
              "      <th>event col</th>\n",
              "      <td>'dead'</td>\n",
              "    </tr>\n",
              "    <tr>\n",
              "      <th>baseline estimation</th>\n",
              "      <td>breslow</td>\n",
              "    </tr>\n",
              "    <tr>\n",
              "      <th>number of observations</th>\n",
              "      <td>38</td>\n",
              "    </tr>\n",
              "    <tr>\n",
              "      <th>number of events observed</th>\n",
              "      <td>18</td>\n",
              "    </tr>\n",
              "    <tr>\n",
              "      <th>partial log-likelihood</th>\n",
              "      <td>-44.25</td>\n",
              "    </tr>\n",
              "    <tr>\n",
              "      <th>time fit was run</th>\n",
              "      <td>2021-02-04 11:39:50 UTC</td>\n",
              "    </tr>\n",
              "  </tbody>\n",
              "</table>\n",
              "</div><table border=\"1\" class=\"dataframe\">\n",
              "  <thead>\n",
              "    <tr style=\"text-align: right;\">\n",
              "      <th style=\"min-width: 12px;\"></th>\n",
              "      <th style=\"min-width: 12px;\">coef</th>\n",
              "      <th style=\"min-width: 12px;\">exp(coef)</th>\n",
              "      <th style=\"min-width: 12px;\">se(coef)</th>\n",
              "      <th style=\"min-width: 12px;\">coef lower 95%</th>\n",
              "      <th style=\"min-width: 12px;\">coef upper 95%</th>\n",
              "      <th style=\"min-width: 12px;\">exp(coef) lower 95%</th>\n",
              "      <th style=\"min-width: 12px;\">exp(coef) upper 95%</th>\n",
              "      <th style=\"min-width: 12px;\">z</th>\n",
              "      <th style=\"min-width: 12px;\">p</th>\n",
              "      <th style=\"min-width: 12px;\">-log2(p)</th>\n",
              "    </tr>\n",
              "  </thead>\n",
              "  <tbody>\n",
              "    <tr>\n",
              "      <th>Diagnosis Age (days)</th>\n",
              "      <td>0.00</td>\n",
              "      <td>1.00</td>\n",
              "      <td>0.00</td>\n",
              "      <td>-0.00</td>\n",
              "      <td>0.00</td>\n",
              "      <td>1.00</td>\n",
              "      <td>1.00</td>\n",
              "      <td>0.02</td>\n",
              "      <td>0.99</td>\n",
              "      <td>0.02</td>\n",
              "    </tr>\n",
              "    <tr>\n",
              "      <th>Histology</th>\n",
              "      <td>-16.28</td>\n",
              "      <td>0.00</td>\n",
              "      <td>3201.39</td>\n",
              "      <td>-6290.89</td>\n",
              "      <td>6258.32</td>\n",
              "      <td>0.00</td>\n",
              "      <td>inf</td>\n",
              "      <td>-0.01</td>\n",
              "      <td>1.00</td>\n",
              "      <td>0.01</td>\n",
              "    </tr>\n",
              "    <tr>\n",
              "      <th>mycn_binary</th>\n",
              "      <td>-0.03</td>\n",
              "      <td>0.97</td>\n",
              "      <td>0.59</td>\n",
              "      <td>-1.20</td>\n",
              "      <td>1.13</td>\n",
              "      <td>0.30</td>\n",
              "      <td>3.09</td>\n",
              "      <td>-0.06</td>\n",
              "      <td>0.95</td>\n",
              "      <td>0.07</td>\n",
              "    </tr>\n",
              "    <tr>\n",
              "      <th>Sex_binary</th>\n",
              "      <td>-0.23</td>\n",
              "      <td>0.79</td>\n",
              "      <td>0.50</td>\n",
              "      <td>-1.22</td>\n",
              "      <td>0.76</td>\n",
              "      <td>0.30</td>\n",
              "      <td>2.13</td>\n",
              "      <td>-0.46</td>\n",
              "      <td>0.65</td>\n",
              "      <td>0.63</td>\n",
              "    </tr>\n",
              "  </tbody>\n",
              "</table><br><div>\n",
              "<style scoped>\n",
              "    .dataframe tbody tr th:only-of-type {\n",
              "        vertical-align: middle;\n",
              "    }\n",
              "\n",
              "    .dataframe tbody tr th {\n",
              "        vertical-align: top;\n",
              "    }\n",
              "\n",
              "    .dataframe thead th {\n",
              "        text-align: right;\n",
              "    }\n",
              "</style>\n",
              "<table border=\"1\" class=\"dataframe\">\n",
              "  <tbody>\n",
              "    <tr>\n",
              "      <th>Concordance</th>\n",
              "      <td>0.63</td>\n",
              "    </tr>\n",
              "    <tr>\n",
              "      <th>Partial AIC</th>\n",
              "      <td>96.50</td>\n",
              "    </tr>\n",
              "    <tr>\n",
              "      <th>log-likelihood ratio test</th>\n",
              "      <td>4.61 on 4 df</td>\n",
              "    </tr>\n",
              "    <tr>\n",
              "      <th>-log2(p) of ll-ratio test</th>\n",
              "      <td>1.60</td>\n",
              "    </tr>\n",
              "  </tbody>\n",
              "</table>\n",
              "</div>"
            ],
            "text/plain": [
              "<lifelines.CoxPHFitter: fitted with 38 total observations, 20 right-censored observations>\n",
              "             duration col = 'EFS Time'\n",
              "                event col = 'dead'\n",
              "      baseline estimation = breslow\n",
              "   number of observations = 38\n",
              "number of events observed = 18\n",
              "   partial log-likelihood = -44.25\n",
              "         time fit was run = 2021-02-04 11:39:50 UTC\n",
              "\n",
              "---\n",
              "                       coef  exp(coef)   se(coef)   coef lower 95%   coef upper 95%  exp(coef) lower 95%  exp(coef) upper 95%\n",
              "covariate                                                                                                                    \n",
              "Diagnosis Age (days)   0.00       1.00       0.00            -0.00             0.00                 1.00                 1.00\n",
              "Histology            -16.28       0.00    3201.39         -6290.89          6258.32                 0.00                  inf\n",
              "mycn_binary           -0.03       0.97       0.59            -1.20             1.13                 0.30                 3.09\n",
              "Sex_binary            -0.23       0.79       0.50            -1.22             0.76                 0.30                 2.13\n",
              "\n",
              "                         z    p   -log2(p)\n",
              "covariate                                 \n",
              "Diagnosis Age (days)  0.02 0.99       0.02\n",
              "Histology            -0.01 1.00       0.01\n",
              "mycn_binary          -0.06 0.95       0.07\n",
              "Sex_binary           -0.46 0.65       0.63\n",
              "---\n",
              "Concordance = 0.63\n",
              "Partial AIC = 96.50\n",
              "log-likelihood ratio test = 4.61 on 4 df\n",
              "-log2(p) of ll-ratio test = 1.60"
            ]
          },
          "metadata": {
            "tags": []
          }
        }
      ]
    },
    {
      "cell_type": "code",
      "metadata": {
        "colab": {
          "base_uri": "https://localhost:8080/",
          "height": 296
        },
        "id": "aPiBEgsa17Lz",
        "outputId": "2bc74e4e-766f-4aff-966e-947f91bf216a"
      },
      "source": [
        "cph.plot() #all stage 4"
      ],
      "execution_count": 167,
      "outputs": [
        {
          "output_type": "execute_result",
          "data": {
            "text/plain": [
              "<matplotlib.axes._subplots.AxesSubplot at 0x7f4b3e4ae3c8>"
            ]
          },
          "metadata": {
            "tags": []
          },
          "execution_count": 167
        },
        {
          "output_type": "display_data",
          "data": {
            "image/png": "[encoded data removed]",
            "text/plain": [
              "<Figure size 432x288 with 1 Axes>"
            ]
          },
          "metadata": {
            "tags": [],
            "needs_background": "light"
          }
        }
      ]
    },
    {
      "cell_type": "code",
      "metadata": {
        "colab": {
          "base_uri": "https://localhost:8080/"
        },
        "id": "3-xxGG4B19-H",
        "outputId": "a03ef300-6193-4649-cd52-2515d40489f2"
      },
      "source": [
        "ptpn6_low['Histology'].value_counts()"
      ],
      "execution_count": 170,
      "outputs": [
        {
          "output_type": "execute_result",
          "data": {
            "text/plain": [
              "0.0    34\n",
              "1.0     3\n",
              "3.0     1\n",
              "Name: Histology, dtype: int64"
            ]
          },
          "metadata": {
            "tags": []
          },
          "execution_count": 170
        }
      ]
    }
  ]
}