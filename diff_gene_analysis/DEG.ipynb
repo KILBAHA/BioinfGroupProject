{
 "cells": [
  {
   "cell_type": "markdown",
   "id": "legendary-malawi",
   "metadata": {},
   "source": [
    "# Differential Gene Expression Analysis"
   ]
  },
  {
   "cell_type": "markdown",
   "id": "stock-opening",
   "metadata": {},
   "source": [
    "## Import Z scores and Format"
   ]
  },
  {
   "cell_type": "code",
   "execution_count": 4,
   "id": "intermediate-jungle",
   "metadata": {},
   "outputs": [],
   "source": [
    "### Read in z_scores and format ###\n",
    "z_scores = read.csv(\"data_RNA_Seq_mRNA_median_all_sample_Zscores.txt\", sep = \"\\t\", stringsAsFactors = FALSE, header = TRUE)\n",
    "\n",
    "map = z_scores[,c(1,2)]\n",
    "\n",
    "inst_names = colnames(z_scores)[3:length(colnames(z_scores))]\n",
    "\n",
    "z_scores = z_scores[,-2]\n",
    "z_scores = as.data.frame(t(z_scores), stringsAsFactors = FALSE)\n",
    "names(z_scores) = map[,1]\n",
    "z_scores = z_scores[-1,]\n",
    "\n",
    "z_scores = as.data.frame(apply(z_scores, 2, as.numeric))\n",
    "\n",
    "name_fix = c()\n",
    "for(name in inst_names){name_fix = c(name_fix,substr(name,11,nchar(name)-3))}\n",
    "\n",
    "\n",
    "row.names(z_scores) = name_fix\n"
   ]
  },
  {
   "cell_type": "code",
   "execution_count": 5,
   "id": "abroad-miracle",
   "metadata": {},
   "outputs": [
    {
     "data": {
      "text/html": [
       "<table>\n",
       "<thead><tr><th></th><th scope=col>A1BG</th><th scope=col>A1BG-AS</th><th scope=col>A1CF</th><th scope=col>A2LD1</th><th scope=col>A2M</th></tr></thead>\n",
       "<tbody>\n",
       "\t<tr><th scope=row>PAAPFA</th><td>-1.3428</td><td>-1.6542</td><td>-0.9681</td><td>-1.5144</td><td> 0.9390</td></tr>\n",
       "\t<tr><th scope=row>PACLJN</th><td>-0.5008</td><td> 1.2776</td><td>-1.1983</td><td> 1.2333</td><td> 0.2163</td></tr>\n",
       "\t<tr><th scope=row>PACPJG</th><td>-0.2098</td><td>-1.6542</td><td>-1.1983</td><td> 0.3050</td><td>-0.4804</td></tr>\n",
       "\t<tr><th scope=row>PACRYY</th><td>-1.3428</td><td> 0.3708</td><td>-1.1983</td><td>-1.5144</td><td>-0.2457</td></tr>\n",
       "\t<tr><th scope=row>PACRZM</th><td> 0.5693</td><td>-0.5274</td><td>-0.5943</td><td> 0.5219</td><td>-0.5965</td></tr>\n",
       "</tbody>\n",
       "</table>\n"
      ],
      "text/latex": [
       "\\begin{tabular}{r|lllll}\n",
       "  & A1BG & A1BG-AS & A1CF & A2LD1 & A2M\\\\\n",
       "\\hline\n",
       "\tPAAPFA & -1.3428 & -1.6542 & -0.9681 & -1.5144 &  0.9390\\\\\n",
       "\tPACLJN & -0.5008 &  1.2776 & -1.1983 &  1.2333 &  0.2163\\\\\n",
       "\tPACPJG & -0.2098 & -1.6542 & -1.1983 &  0.3050 & -0.4804\\\\\n",
       "\tPACRYY & -1.3428 &  0.3708 & -1.1983 & -1.5144 & -0.2457\\\\\n",
       "\tPACRZM &  0.5693 & -0.5274 & -0.5943 &  0.5219 & -0.5965\\\\\n",
       "\\end{tabular}\n"
      ],
      "text/markdown": [
       "\n",
       "| <!--/--> | A1BG | A1BG-AS | A1CF | A2LD1 | A2M |\n",
       "|---|---|---|---|---|---|\n",
       "| PAAPFA | -1.3428 | -1.6542 | -0.9681 | -1.5144 |  0.9390 |\n",
       "| PACLJN | -0.5008 |  1.2776 | -1.1983 |  1.2333 |  0.2163 |\n",
       "| PACPJG | -0.2098 | -1.6542 | -1.1983 |  0.3050 | -0.4804 |\n",
       "| PACRYY | -1.3428 |  0.3708 | -1.1983 | -1.5144 | -0.2457 |\n",
       "| PACRZM |  0.5693 | -0.5274 | -0.5943 |  0.5219 | -0.5965 |\n",
       "\n"
      ],
      "text/plain": [
       "       A1BG    A1BG-AS A1CF    A2LD1   A2M    \n",
       "PAAPFA -1.3428 -1.6542 -0.9681 -1.5144  0.9390\n",
       "PACLJN -0.5008  1.2776 -1.1983  1.2333  0.2163\n",
       "PACPJG -0.2098 -1.6542 -1.1983  0.3050 -0.4804\n",
       "PACRYY -1.3428  0.3708 -1.1983 -1.5144 -0.2457\n",
       "PACRZM  0.5693 -0.5274 -0.5943  0.5219 -0.5965"
      ]
     },
     "metadata": {},
     "output_type": "display_data"
    }
   ],
   "source": [
    "z_scores[1:5,1:5]\n"
   ]
  },
  {
   "cell_type": "markdown",
   "id": "chief-ratio",
   "metadata": {},
   "source": [
    "## Import Clinical data and Format"
   ]
  },
  {
   "cell_type": "code",
   "execution_count": 6,
   "id": "institutional-cambodia",
   "metadata": {},
   "outputs": [],
   "source": [
    "patient = as.data.frame(read.csv(\"data_clinical_patient.txt\", sep = \"\\t\", stringsAsFactors = FALSE, header = TRUE, skip = 4))\n",
    "p_nam = patient[,1]\n",
    "\n",
    "p_nam_fix = c()\n",
    "for(name in p_nam){p_nam_fix = c(p_nam_fix,substr(name,11,nchar(name)))}\n",
    "\n",
    "patient = patient[,2:ncol(patient)]\n",
    "\n",
    "row.names(patient) = p_nam_fix"
   ]
  },
  {
   "cell_type": "code",
   "execution_count": 7,
   "id": "proper-roommate",
   "metadata": {},
   "outputs": [
    {
     "data": {
      "text/html": [
       "<table>\n",
       "<thead><tr><th></th><th scope=col>PROTOCOL</th><th scope=col>ICDO</th><th scope=col>SNOMED</th><th scope=col>ICDO_SNOMED_DESCRIPTION</th><th scope=col>AGE_IN_DAYS</th><th scope=col>AGE</th><th scope=col>YEAR_OF_DIAGNOSIS</th><th scope=col>INSS_STAGE</th><th scope=col>TUMOR_SAMPLE_HISTOLOGY</th><th scope=col>DIAGNOSIS</th><th scope=col>...</th><th scope=col>FIRST_EVENT</th><th scope=col>OS_STATUS</th><th scope=col>OS_DAYS</th><th scope=col>OS_MONTHS</th><th scope=col>LAST_FOLLOWUP_YEAR</th><th scope=col>PERCENTAGE_NECROSIS</th><th scope=col>PERCENT_TUMOR_VS_STROMA</th><th scope=col>PERCENT_TUMOR_CELLS_RELAPSE</th><th scope=col>RELAPSE_PERCENT_NECROSIS</th><th scope=col>RELAPSE_PERCENT_STROMA</th></tr></thead>\n",
       "<tbody>\n",
       "\t<tr><th scope=row>PALPKZ</th><td>ANBL00B1                                                                                                                                      </td><td>C38.2                                                                                                                                         </td><td>                                                                                                                                              </td><td>Posterior mediastinum                                                                                                                         </td><td>1157                                                                                                                                          </td><td>4                                                                                                                                             </td><td>2002                                                                                                                                          </td><td>Stage 4                                                                                                                                       </td><td>Unfavorable                                                                                                                                   </td><td>Neuroblastoma                                                                                                                                 </td><td>...                                                                                                                                           </td><td>Progression                                                                                                                                   </td><td>1:DECEASED                                                                                                                                    </td><td>2103                                                                                                                                          </td><td> 70                                                                                                                                           </td><td>2008                                                                                                                                          </td><td>                                                                                                                                              </td><td>                                                                                                                                              </td><td>                                                                                                                                              </td><td>NA                                                                                                                                            </td><td>                                                                                                                                              </td></tr>\n",
       "\t<tr><th scope=row>PASFWL</th><td>ANBL00B1, AEPI07N1                                                                                                                            </td><td>C64.9                                                                                                                                         </td><td>                                                                                                                                              </td><td>Kidney, NOS Renal, NOS Kidney parenchyma                                                                                                      </td><td> 184                                                                                                                                          </td><td>1                                                                                                                                             </td><td>2008                                                                                                                                          </td><td>Stage 2b                                                                                                                                      </td><td>Favorable                                                                                                                                     </td><td>Neuroblastoma                                                                                                                                 </td><td>...                                                                                                                                           </td><td>Censored                                                                                                                                      </td><td>0:LIVING                                                                                                                                      </td><td>2449                                                                                                                                          </td><td> 81                                                                                                                                           </td><td>2015                                                                                                                                          </td><td>                                                                                                                                              </td><td>                                                                                                                                              </td><td>                                                                                                                                              </td><td>NA                                                                                                                                            </td><td>                                                                                                                                              </td></tr>\n",
       "\t<tr><th scope=row>PAURYJ</th><td>ANBL00B1                                                                                                                                      </td><td>C64.9                                                                                                                                         </td><td>                                                                                                                                              </td><td>Kidney, NOS Renal, NOS Kidney parenchyma                                                                                                      </td><td>  10                                                                                                                                          </td><td>1                                                                                                                                             </td><td>2012                                                                                                                                          </td><td>Stage 4s                                                                                                                                      </td><td>Favorable                                                                                                                                     </td><td>Neuroblastoma                                                                                                                                 </td><td>...                                                                                                                                           </td><td>Censored                                                                                                                                      </td><td>0:LIVING                                                                                                                                      </td><td>1294                                                                                                                                          </td><td> 43                                                                                                                                           </td><td>2015                                                                                                                                          </td><td>                                                                                                                                              </td><td>                                                                                                                                              </td><td>                                                                                                                                              </td><td>NA                                                                                                                                            </td><td>                                                                                                                                              </td></tr>\n",
       "\t<tr><th scope=row>PARVHG</th><td>ANBL00B1, ANBL0532                                                                                                                            </td><td>C74.9                                                                                                                                         </td><td>                                                                                                                                              </td><td>Adrenal gland, NOS Suprarenal gland Adrenal, NOS                                                                                              </td><td> 730                                                                                                                                          </td><td>2                                                                                                                                             </td><td>2008                                                                                                                                          </td><td>Stage 4                                                                                                                                       </td><td>Unknown                                                                                                                                       </td><td>Neuroblastoma                                                                                                                                 </td><td>...                                                                                                                                           </td><td>Censored                                                                                                                                      </td><td>0:LIVING                                                                                                                                      </td><td>1913                                                                                                                                          </td><td> 63                                                                                                                                           </td><td>2013                                                                                                                                          </td><td>                                                                                                                                              </td><td>                                                                                                                                              </td><td>                                                                                                                                              </td><td>NA                                                                                                                                            </td><td>                                                                                                                                              </td></tr>\n",
       "\t<tr><th scope=row>PALNMX</th><td>ANBL00B1, A3973                                                                                                                               </td><td>C76.2                                                                                                                                         </td><td>999                                                                                                                                           </td><td>Abdomen, NOS Abdominal wall, NOS Intra-abdominal site, NOS                                                                                    </td><td>1607                                                                                                                                          </td><td>5                                                                                                                                             </td><td>2002                                                                                                                                          </td><td>Stage 4                                                                                                                                       </td><td>Unfavorable                                                                                                                                   </td><td>Neuroblastoma                                                                                                                                 </td><td>...                                                                                                                                           </td><td>Censored                                                                                                                                      </td><td>0:LIVING                                                                                                                                      </td><td>4679                                                                                                                                          </td><td>154                                                                                                                                           </td><td>2015                                                                                                                                          </td><td>                                                                                                                                              </td><td>                                                                                                                                              </td><td>                                                                                                                                              </td><td>NA                                                                                                                                            </td><td>                                                                                                                                              </td></tr>\n",
       "\t<tr><th scope=row>PAMZSH</th><td>ANBL00B1, P9641                                                                                                                               </td><td>C76.1                                                                                                                                         </td><td>                                                                                                                                              </td><td>Thorax, NOS Axilla, NOS Chest, NOS Chest wall, NOS Intrathoracic site, NOS Thoracic wall, NOS Infraclavicular region, NOS Scapular region, NOS</td><td> 315                                                                                                                                          </td><td>1                                                                                                                                             </td><td>2004                                                                                                                                          </td><td>Stage 1                                                                                                                                       </td><td>Favorable                                                                                                                                     </td><td>Neuroblastoma                                                                                                                                 </td><td>...                                                                                                                                           </td><td>Censored                                                                                                                                      </td><td>0:LIVING                                                                                                                                      </td><td>3334                                                                                                                                          </td><td>110                                                                                                                                           </td><td>2013                                                                                                                                          </td><td>                                                                                                                                              </td><td>                                                                                                                                              </td><td>                                                                                                                                              </td><td>NA                                                                                                                                            </td><td>                                                                                                                                              </td></tr>\n",
       "</tbody>\n",
       "</table>\n"
      ],
      "text/latex": [
       "\\begin{tabular}{r|lllllllllllllllllllllllllllll}\n",
       "  & PROTOCOL & ICDO & SNOMED & ICDO\\_SNOMED\\_DESCRIPTION & AGE\\_IN\\_DAYS & AGE & YEAR\\_OF\\_DIAGNOSIS & INSS\\_STAGE & TUMOR\\_SAMPLE\\_HISTOLOGY & DIAGNOSIS & ... & FIRST\\_EVENT & OS\\_STATUS & OS\\_DAYS & OS\\_MONTHS & LAST\\_FOLLOWUP\\_YEAR & PERCENTAGE\\_NECROSIS & PERCENT\\_TUMOR\\_VS\\_STROMA & PERCENT\\_TUMOR\\_CELLS\\_RELAPSE & RELAPSE\\_PERCENT\\_NECROSIS & RELAPSE\\_PERCENT\\_STROMA\\\\\n",
       "\\hline\n",
       "\tPALPKZ & ANBL00B1                                                                                                                                       & C38.2                                                                                                                                          &                                                                                                                                                & Posterior mediastinum                                                                                                                          & 1157                                                                                                                                           & 4                                                                                                                                              & 2002                                                                                                                                           & Stage 4                                                                                                                                        & Unfavorable                                                                                                                                    & Neuroblastoma                                                                                                                                  & ...                                                                                                                                            & Progression                                                                                                                                    & 1:DECEASED                                                                                                                                     & 2103                                                                                                                                           &  70                                                                                                                                            & 2008                                                                                                                                           &                                                                                                                                                &                                                                                                                                                &                                                                                                                                                & NA                                                                                                                                             &                                                                                                                                               \\\\\n",
       "\tPASFWL & ANBL00B1, AEPI07N1                                                                                                                             & C64.9                                                                                                                                          &                                                                                                                                                & Kidney, NOS Renal, NOS Kidney parenchyma                                                                                                       &  184                                                                                                                                           & 1                                                                                                                                              & 2008                                                                                                                                           & Stage 2b                                                                                                                                       & Favorable                                                                                                                                      & Neuroblastoma                                                                                                                                  & ...                                                                                                                                            & Censored                                                                                                                                       & 0:LIVING                                                                                                                                       & 2449                                                                                                                                           &  81                                                                                                                                            & 2015                                                                                                                                           &                                                                                                                                                &                                                                                                                                                &                                                                                                                                                & NA                                                                                                                                             &                                                                                                                                               \\\\\n",
       "\tPAURYJ & ANBL00B1                                                                                                                                       & C64.9                                                                                                                                          &                                                                                                                                                & Kidney, NOS Renal, NOS Kidney parenchyma                                                                                                       &   10                                                                                                                                           & 1                                                                                                                                              & 2012                                                                                                                                           & Stage 4s                                                                                                                                       & Favorable                                                                                                                                      & Neuroblastoma                                                                                                                                  & ...                                                                                                                                            & Censored                                                                                                                                       & 0:LIVING                                                                                                                                       & 1294                                                                                                                                           &  43                                                                                                                                            & 2015                                                                                                                                           &                                                                                                                                                &                                                                                                                                                &                                                                                                                                                & NA                                                                                                                                             &                                                                                                                                               \\\\\n",
       "\tPARVHG & ANBL00B1, ANBL0532                                                                                                                             & C74.9                                                                                                                                          &                                                                                                                                                & Adrenal gland, NOS Suprarenal gland Adrenal, NOS                                                                                               &  730                                                                                                                                           & 2                                                                                                                                              & 2008                                                                                                                                           & Stage 4                                                                                                                                        & Unknown                                                                                                                                        & Neuroblastoma                                                                                                                                  & ...                                                                                                                                            & Censored                                                                                                                                       & 0:LIVING                                                                                                                                       & 1913                                                                                                                                           &  63                                                                                                                                            & 2013                                                                                                                                           &                                                                                                                                                &                                                                                                                                                &                                                                                                                                                & NA                                                                                                                                             &                                                                                                                                               \\\\\n",
       "\tPALNMX & ANBL00B1, A3973                                                                                                                                & C76.2                                                                                                                                          & 999                                                                                                                                            & Abdomen, NOS Abdominal wall, NOS Intra-abdominal site, NOS                                                                                     & 1607                                                                                                                                           & 5                                                                                                                                              & 2002                                                                                                                                           & Stage 4                                                                                                                                        & Unfavorable                                                                                                                                    & Neuroblastoma                                                                                                                                  & ...                                                                                                                                            & Censored                                                                                                                                       & 0:LIVING                                                                                                                                       & 4679                                                                                                                                           & 154                                                                                                                                            & 2015                                                                                                                                           &                                                                                                                                                &                                                                                                                                                &                                                                                                                                                & NA                                                                                                                                             &                                                                                                                                               \\\\\n",
       "\tPAMZSH & ANBL00B1, P9641                                                                                                                                & C76.1                                                                                                                                          &                                                                                                                                                & Thorax, NOS Axilla, NOS Chest, NOS Chest wall, NOS Intrathoracic site, NOS Thoracic wall, NOS Infraclavicular region, NOS Scapular region, NOS &  315                                                                                                                                           & 1                                                                                                                                              & 2004                                                                                                                                           & Stage 1                                                                                                                                        & Favorable                                                                                                                                      & Neuroblastoma                                                                                                                                  & ...                                                                                                                                            & Censored                                                                                                                                       & 0:LIVING                                                                                                                                       & 3334                                                                                                                                           & 110                                                                                                                                            & 2013                                                                                                                                           &                                                                                                                                                &                                                                                                                                                &                                                                                                                                                & NA                                                                                                                                             &                                                                                                                                               \\\\\n",
       "\\end{tabular}\n"
      ],
      "text/markdown": [
       "\n",
       "| <!--/--> | PROTOCOL | ICDO | SNOMED | ICDO_SNOMED_DESCRIPTION | AGE_IN_DAYS | AGE | YEAR_OF_DIAGNOSIS | INSS_STAGE | TUMOR_SAMPLE_HISTOLOGY | DIAGNOSIS | ... | FIRST_EVENT | OS_STATUS | OS_DAYS | OS_MONTHS | LAST_FOLLOWUP_YEAR | PERCENTAGE_NECROSIS | PERCENT_TUMOR_VS_STROMA | PERCENT_TUMOR_CELLS_RELAPSE | RELAPSE_PERCENT_NECROSIS | RELAPSE_PERCENT_STROMA |\n",
       "|---|---|---|---|---|---|---|---|---|---|---|---|---|---|---|---|---|---|---|---|---|---|\n",
       "| PALPKZ | ANBL00B1                                                                                                                                       | C38.2                                                                                                                                          |                                                                                                                                                | Posterior mediastinum                                                                                                                          | 1157                                                                                                                                           | 4                                                                                                                                              | 2002                                                                                                                                           | Stage 4                                                                                                                                        | Unfavorable                                                                                                                                    | Neuroblastoma                                                                                                                                  | ...                                                                                                                                            | Progression                                                                                                                                    | 1:DECEASED                                                                                                                                     | 2103                                                                                                                                           |  70                                                                                                                                            | 2008                                                                                                                                           |                                                                                                                                                |                                                                                                                                                |                                                                                                                                                | NA                                                                                                                                             |                                                                                                                                                |\n",
       "| PASFWL | ANBL00B1, AEPI07N1                                                                                                                             | C64.9                                                                                                                                          |                                                                                                                                                | Kidney, NOS Renal, NOS Kidney parenchyma                                                                                                       |  184                                                                                                                                           | 1                                                                                                                                              | 2008                                                                                                                                           | Stage 2b                                                                                                                                       | Favorable                                                                                                                                      | Neuroblastoma                                                                                                                                  | ...                                                                                                                                            | Censored                                                                                                                                       | 0:LIVING                                                                                                                                       | 2449                                                                                                                                           |  81                                                                                                                                            | 2015                                                                                                                                           |                                                                                                                                                |                                                                                                                                                |                                                                                                                                                | NA                                                                                                                                             |                                                                                                                                                |\n",
       "| PAURYJ | ANBL00B1                                                                                                                                       | C64.9                                                                                                                                          |                                                                                                                                                | Kidney, NOS Renal, NOS Kidney parenchyma                                                                                                       |   10                                                                                                                                           | 1                                                                                                                                              | 2012                                                                                                                                           | Stage 4s                                                                                                                                       | Favorable                                                                                                                                      | Neuroblastoma                                                                                                                                  | ...                                                                                                                                            | Censored                                                                                                                                       | 0:LIVING                                                                                                                                       | 1294                                                                                                                                           |  43                                                                                                                                            | 2015                                                                                                                                           |                                                                                                                                                |                                                                                                                                                |                                                                                                                                                | NA                                                                                                                                             |                                                                                                                                                |\n",
       "| PARVHG | ANBL00B1, ANBL0532                                                                                                                             | C74.9                                                                                                                                          |                                                                                                                                                | Adrenal gland, NOS Suprarenal gland Adrenal, NOS                                                                                               |  730                                                                                                                                           | 2                                                                                                                                              | 2008                                                                                                                                           | Stage 4                                                                                                                                        | Unknown                                                                                                                                        | Neuroblastoma                                                                                                                                  | ...                                                                                                                                            | Censored                                                                                                                                       | 0:LIVING                                                                                                                                       | 1913                                                                                                                                           |  63                                                                                                                                            | 2013                                                                                                                                           |                                                                                                                                                |                                                                                                                                                |                                                                                                                                                | NA                                                                                                                                             |                                                                                                                                                |\n",
       "| PALNMX | ANBL00B1, A3973                                                                                                                                | C76.2                                                                                                                                          | 999                                                                                                                                            | Abdomen, NOS Abdominal wall, NOS Intra-abdominal site, NOS                                                                                     | 1607                                                                                                                                           | 5                                                                                                                                              | 2002                                                                                                                                           | Stage 4                                                                                                                                        | Unfavorable                                                                                                                                    | Neuroblastoma                                                                                                                                  | ...                                                                                                                                            | Censored                                                                                                                                       | 0:LIVING                                                                                                                                       | 4679                                                                                                                                           | 154                                                                                                                                            | 2015                                                                                                                                           |                                                                                                                                                |                                                                                                                                                |                                                                                                                                                | NA                                                                                                                                             |                                                                                                                                                |\n",
       "| PAMZSH | ANBL00B1, P9641                                                                                                                                | C76.1                                                                                                                                          |                                                                                                                                                | Thorax, NOS Axilla, NOS Chest, NOS Chest wall, NOS Intrathoracic site, NOS Thoracic wall, NOS Infraclavicular region, NOS Scapular region, NOS |  315                                                                                                                                           | 1                                                                                                                                              | 2004                                                                                                                                           | Stage 1                                                                                                                                        | Favorable                                                                                                                                      | Neuroblastoma                                                                                                                                  | ...                                                                                                                                            | Censored                                                                                                                                       | 0:LIVING                                                                                                                                       | 3334                                                                                                                                           | 110                                                                                                                                            | 2013                                                                                                                                           |                                                                                                                                                |                                                                                                                                                |                                                                                                                                                | NA                                                                                                                                             |                                                                                                                                                |\n",
       "\n"
      ],
      "text/plain": [
       "       PROTOCOL           ICDO  SNOMED\n",
       "PALPKZ ANBL00B1           C38.2       \n",
       "PASFWL ANBL00B1, AEPI07N1 C64.9       \n",
       "PAURYJ ANBL00B1           C64.9       \n",
       "PARVHG ANBL00B1, ANBL0532 C74.9       \n",
       "PALNMX ANBL00B1, A3973    C76.2 999   \n",
       "PAMZSH ANBL00B1, P9641    C76.1       \n",
       "       ICDO_SNOMED_DESCRIPTION                                                                                                                       \n",
       "PALPKZ Posterior mediastinum                                                                                                                         \n",
       "PASFWL Kidney, NOS Renal, NOS Kidney parenchyma                                                                                                      \n",
       "PAURYJ Kidney, NOS Renal, NOS Kidney parenchyma                                                                                                      \n",
       "PARVHG Adrenal gland, NOS Suprarenal gland Adrenal, NOS                                                                                              \n",
       "PALNMX Abdomen, NOS Abdominal wall, NOS Intra-abdominal site, NOS                                                                                    \n",
       "PAMZSH Thorax, NOS Axilla, NOS Chest, NOS Chest wall, NOS Intrathoracic site, NOS Thoracic wall, NOS Infraclavicular region, NOS Scapular region, NOS\n",
       "       AGE_IN_DAYS AGE YEAR_OF_DIAGNOSIS INSS_STAGE TUMOR_SAMPLE_HISTOLOGY\n",
       "PALPKZ 1157        4   2002              Stage 4    Unfavorable           \n",
       "PASFWL  184        1   2008              Stage 2b   Favorable             \n",
       "PAURYJ   10        1   2012              Stage 4s   Favorable             \n",
       "PARVHG  730        2   2008              Stage 4    Unknown               \n",
       "PALNMX 1607        5   2002              Stage 4    Unfavorable           \n",
       "PAMZSH  315        1   2004              Stage 1    Favorable             \n",
       "       DIAGNOSIS     ... FIRST_EVENT OS_STATUS  OS_DAYS OS_MONTHS\n",
       "PALPKZ Neuroblastoma ... Progression 1:DECEASED 2103     70      \n",
       "PASFWL Neuroblastoma ... Censored    0:LIVING   2449     81      \n",
       "PAURYJ Neuroblastoma ... Censored    0:LIVING   1294     43      \n",
       "PARVHG Neuroblastoma ... Censored    0:LIVING   1913     63      \n",
       "PALNMX Neuroblastoma ... Censored    0:LIVING   4679    154      \n",
       "PAMZSH Neuroblastoma ... Censored    0:LIVING   3334    110      \n",
       "       LAST_FOLLOWUP_YEAR PERCENTAGE_NECROSIS PERCENT_TUMOR_VS_STROMA\n",
       "PALPKZ 2008                                                          \n",
       "PASFWL 2015                                                          \n",
       "PAURYJ 2015                                                          \n",
       "PARVHG 2013                                                          \n",
       "PALNMX 2015                                                          \n",
       "PAMZSH 2013                                                          \n",
       "       PERCENT_TUMOR_CELLS_RELAPSE RELAPSE_PERCENT_NECROSIS\n",
       "PALPKZ                             NA                      \n",
       "PASFWL                             NA                      \n",
       "PAURYJ                             NA                      \n",
       "PARVHG                             NA                      \n",
       "PALNMX                             NA                      \n",
       "PAMZSH                             NA                      \n",
       "       RELAPSE_PERCENT_STROMA\n",
       "PALPKZ                       \n",
       "PASFWL                       \n",
       "PAURYJ                       \n",
       "PARVHG                       \n",
       "PALNMX                       \n",
       "PAMZSH                       "
      ]
     },
     "metadata": {},
     "output_type": "display_data"
    }
   ],
   "source": [
    "head(patient)"
   ]
  },
  {
   "cell_type": "markdown",
   "id": "removable-wisdom",
   "metadata": {},
   "source": [
    "## Isolate Status and Merge"
   ]
  },
  {
   "cell_type": "code",
   "execution_count": 8,
   "id": "leading-enlargement",
   "metadata": {},
   "outputs": [],
   "source": [
    "status = data.frame(patient[,\"OS_STATUS\"])\n",
    "colnames(status) = \"STATUS\"\n",
    "rownames(status) = p_nam_fix\n",
    "\n",
    "mg = merge.data.frame(status,z_scores, by=\"row.names\")"
   ]
  },
  {
   "cell_type": "code",
   "execution_count": 9,
   "id": "ordinary-composite",
   "metadata": {},
   "outputs": [
    {
     "data": {
      "text/html": [
       "<table>\n",
       "<thead><tr><th scope=col>Row.names</th><th scope=col>STATUS</th><th scope=col>A1BG</th><th scope=col>A1BG-AS</th><th scope=col>A1CF</th></tr></thead>\n",
       "<tbody>\n",
       "\t<tr><td>PAAPFA    </td><td>1:DECEASED</td><td>-1.3428   </td><td>-1.6542   </td><td>-0.9681   </td></tr>\n",
       "\t<tr><td>PACLJN    </td><td>0:LIVING  </td><td>-0.5008   </td><td> 1.2776   </td><td>-1.1983   </td></tr>\n",
       "\t<tr><td>PACPJG    </td><td>          </td><td>-0.2098   </td><td>-1.6542   </td><td>-1.1983   </td></tr>\n",
       "\t<tr><td>PACRYY    </td><td>0:LIVING  </td><td>-1.3428   </td><td> 0.3708   </td><td>-1.1983   </td></tr>\n",
       "\t<tr><td>PACRZM    </td><td>1:DECEASED</td><td> 0.5693   </td><td>-0.5274   </td><td>-0.5943   </td></tr>\n",
       "</tbody>\n",
       "</table>\n"
      ],
      "text/latex": [
       "\\begin{tabular}{r|lllll}\n",
       " Row.names & STATUS & A1BG & A1BG-AS & A1CF\\\\\n",
       "\\hline\n",
       "\t PAAPFA     & 1:DECEASED & -1.3428    & -1.6542    & -0.9681   \\\\\n",
       "\t PACLJN     & 0:LIVING   & -0.5008    &  1.2776    & -1.1983   \\\\\n",
       "\t PACPJG     &            & -0.2098    & -1.6542    & -1.1983   \\\\\n",
       "\t PACRYY     & 0:LIVING   & -1.3428    &  0.3708    & -1.1983   \\\\\n",
       "\t PACRZM     & 1:DECEASED &  0.5693    & -0.5274    & -0.5943   \\\\\n",
       "\\end{tabular}\n"
      ],
      "text/markdown": [
       "\n",
       "| Row.names | STATUS | A1BG | A1BG-AS | A1CF |\n",
       "|---|---|---|---|---|\n",
       "| PAAPFA     | 1:DECEASED | -1.3428    | -1.6542    | -0.9681    |\n",
       "| PACLJN     | 0:LIVING   | -0.5008    |  1.2776    | -1.1983    |\n",
       "| PACPJG     |            | -0.2098    | -1.6542    | -1.1983    |\n",
       "| PACRYY     | 0:LIVING   | -1.3428    |  0.3708    | -1.1983    |\n",
       "| PACRZM     | 1:DECEASED |  0.5693    | -0.5274    | -0.5943    |\n",
       "\n"
      ],
      "text/plain": [
       "  Row.names STATUS     A1BG    A1BG-AS A1CF   \n",
       "1 PAAPFA    1:DECEASED -1.3428 -1.6542 -0.9681\n",
       "2 PACLJN    0:LIVING   -0.5008  1.2776 -1.1983\n",
       "3 PACPJG               -0.2098 -1.6542 -1.1983\n",
       "4 PACRYY    0:LIVING   -1.3428  0.3708 -1.1983\n",
       "5 PACRZM    1:DECEASED  0.5693 -0.5274 -0.5943"
      ]
     },
     "metadata": {},
     "output_type": "display_data"
    }
   ],
   "source": [
    "mg[1:5,1:5]"
   ]
  },
  {
   "cell_type": "markdown",
   "id": "ready-moisture",
   "metadata": {},
   "source": [
    "## Find DEG between status groups"
   ]
  },
  {
   "cell_type": "code",
   "execution_count": 10,
   "id": "serial-sandwich",
   "metadata": {},
   "outputs": [],
   "source": [
    "srv = mg[mg$STATUS == \"0:LIVING\",]\n",
    "dec = mg[mg$STATUS == \"1:DECEASED\",]\n",
    "\n",
    "get_mean = function(dat){ #finds the mean z score for each attribute in a dataframe\n",
    "  atribs = colnames(dat)[colnames(dat)!= \"Row.names\" & colnames(dat)!= \"STATUS\"]\n",
    "  ret = c()\n",
    "  for(atrib in atribs){\n",
    "    mea = mean(dat[,atrib])\n",
    "    ret = cbind(ret, mea)\n",
    "  }\n",
    "  \n",
    "  ret = as.data.frame(ret)\n",
    "  colnames(ret) = atribs\n",
    "  return(ret)\n",
    "}\n",
    "\n",
    "srv_mean = get_mean(srv)\n",
    "dec_mean = get_mean(dec)\n",
    "\n"
   ]
  },
  {
   "cell_type": "markdown",
   "id": "reserved-sudan",
   "metadata": {},
   "source": [
    "Note: Certain known prognostic markers do not show much of a difference in expression in this dataset. "
   ]
  },
  {
   "cell_type": "code",
   "execution_count": 25,
   "id": "blond-affect",
   "metadata": {},
   "outputs": [
    {
     "name": "stdout",
     "output_type": "stream",
     "text": [
      "Survived MYCN:  -1.158347 \n",
      " Deceased MYCN:  -1.047521"
     ]
    }
   ],
   "source": [
    "cat(\"Survived MYCN: \",srv_mean[,\"MYCN\"], \"\\n\", \"Deceased MYCN: \",dec_mean[,\"MYCN\"])\n"
   ]
  },
  {
   "cell_type": "code",
   "execution_count": 31,
   "id": "particular-hours",
   "metadata": {},
   "outputs": [],
   "source": [
    "## calculate the absolute difference in mean between both groups and threshold based on significance\n",
    "## Need to get a value of thresh that accounts for multiple testing\n",
    "get_deg = function(d1, d2, thresh=0.8){\n",
    "  ab = abs(d1-d2)\n",
    "  sig = apply(ab,2, function(imp){imp > thresh})\n",
    "  deg = ab[,sig]\n",
    "  return(deg)\n",
    "}\n",
    "\n",
    "deg = get_deg(srv_mean, dec_mean)"
   ]
  },
  {
   "cell_type": "markdown",
   "id": "protected-alias",
   "metadata": {},
   "source": [
    "# List of differentially expressed genes\n"
   ]
  },
  {
   "cell_type": "code",
   "execution_count": 32,
   "id": "happy-thinking",
   "metadata": {},
   "outputs": [
    {
     "data": {
      "text/html": [
       "<table>\n",
       "<thead><tr><th scope=col>BBS9</th><th scope=col>C7orf41</th><th scope=col>FAM131B</th><th scope=col>GPR85</th><th scope=col>HECW1</th><th scope=col>PGM2L1</th><th scope=col>SCN3A</th><th scope=col>TRNAU1AP</th><th scope=col>ZNF608</th></tr></thead>\n",
       "<tbody>\n",
       "\t<tr><td>0.8679416</td><td>0.800478 </td><td>0.8381018</td><td>0.8712983</td><td>0.8326285</td><td>0.9389987</td><td>0.8690714</td><td>0.8521163</td><td>0.8778749</td></tr>\n",
       "</tbody>\n",
       "</table>\n"
      ],
      "text/latex": [
       "\\begin{tabular}{r|lllllllll}\n",
       " BBS9 & C7orf41 & FAM131B & GPR85 & HECW1 & PGM2L1 & SCN3A & TRNAU1AP & ZNF608\\\\\n",
       "\\hline\n",
       "\t 0.8679416 & 0.800478  & 0.8381018 & 0.8712983 & 0.8326285 & 0.9389987 & 0.8690714 & 0.8521163 & 0.8778749\\\\\n",
       "\\end{tabular}\n"
      ],
      "text/markdown": [
       "\n",
       "| BBS9 | C7orf41 | FAM131B | GPR85 | HECW1 | PGM2L1 | SCN3A | TRNAU1AP | ZNF608 |\n",
       "|---|---|---|---|---|---|---|---|---|\n",
       "| 0.8679416 | 0.800478  | 0.8381018 | 0.8712983 | 0.8326285 | 0.9389987 | 0.8690714 | 0.8521163 | 0.8778749 |\n",
       "\n"
      ],
      "text/plain": [
       "  BBS9      C7orf41  FAM131B   GPR85     HECW1     PGM2L1    SCN3A    \n",
       "1 0.8679416 0.800478 0.8381018 0.8712983 0.8326285 0.9389987 0.8690714\n",
       "  TRNAU1AP  ZNF608   \n",
       "1 0.8521163 0.8778749"
      ]
     },
     "metadata": {},
     "output_type": "display_data"
    }
   ],
   "source": [
    "deg"
   ]
  },
  {
   "cell_type": "markdown",
   "id": "ultimate-spectacular",
   "metadata": {},
   "source": [
    "when comparing this list to the ML outputs from survival classification, many of these genes appeared in the output. None of these genes appear to be associated with Neuroblastoma in the lit -> do we need a different dataset?"
   ]
  }
 ],
 "metadata": {
  "kernelspec": {
   "display_name": "R",
   "language": "R",
   "name": "ir"
  },
  "language_info": {
   "codemirror_mode": "r",
   "file_extension": ".r",
   "mimetype": "text/x-r-source",
   "name": "R",
   "pygments_lexer": "r",
   "version": "3.6.1"
  }
 },
 "nbformat": 4,
 "nbformat_minor": 5
}
