{
 "cells": [
  {
   "cell_type": "markdown",
   "id": "certified-industry",
   "metadata": {},
   "source": [
    "# Query GSEA Output\n",
    "\n",
    "Script to queery gene presence in GSEA output. Set Filenames in the cell below."
   ]
  },
  {
   "cell_type": "code",
   "execution_count": 1,
   "id": "ranging-chocolate",
   "metadata": {},
   "outputs": [],
   "source": [
    "GE_output_file = \"BURTON_ADIPOGENESIS_PEAK_AT_16HR.tsv\"\n",
    "count_file = 'data_expression_median.txt'"
   ]
  },
  {
   "cell_type": "code",
   "execution_count": 2,
   "id": "enabling-fence",
   "metadata": {},
   "outputs": [
    {
     "name": "stderr",
     "output_type": "stream",
     "text": [
      "Warning message in file(file, \"rt\"):\n",
      "“cannot open file 'BURTON_ADIPOGENESIS_PEAK_AT_16HR.tsv': No such file or directory”"
     ]
    },
    {
     "ename": "ERROR",
     "evalue": "Error in file(file, \"rt\"): cannot open the connection\n",
     "output_type": "error",
     "traceback": [
      "Error in file(file, \"rt\"): cannot open the connection\nTraceback:\n",
      "1. read.csv(GE_output_file, sep = \"\\t\")",
      "2. read.table(file = file, header = header, sep = sep, quote = quote, \n .     dec = dec, fill = fill, comment.char = comment.char, ...)",
      "3. file(file, \"rt\")"
     ]
    }
   ],
   "source": [
    "GE_output = read.csv(GE_output_file, sep = \"\\t\")\n",
    "count = read.csv(count_file, sep = \"\\t\")\n",
    "gene_names = count[,1]"
   ]
  },
  {
   "cell_type": "markdown",
   "id": "bibliographic-scope",
   "metadata": {},
   "source": [
    "Use this cell to set the query genes. Returns gene names not present in original read counts"
   ]
  },
  {
   "cell_type": "code",
   "execution_count": null,
   "id": "indirect-belarus",
   "metadata": {},
   "outputs": [],
   "source": [
    "query = c(\"NTRK1\", \"MYCN\", \"MDM2\",\"ALK\", \"CHD5\", \"VIM\", \"CD44\", \"DBH\",\"KIT\",\"JUN\",\n",
    "          \"JUNB\",\"JUND\",\"FOS\",\"MAF\",\"PHOX2B\",\"HAND2\",\"DEIN\",\"PVRL3\", \"GATA3\", \"PHOX2A\",\n",
    "         \"SNAI2\", \"FN1\", \"MIR21\", \"MIR221\", \"MIR335\",\"MIR124\",\"MIR375\", \"CD24\",\"NTRK2\",\n",
    "         \"PTPN6\",\"TP53\",\"BMI1\",\"DLK1\",\"HIF1A\",\"PHB\",\"CSF3R\",\"FZD6\", \"ALDH1A1\",\"LGR5\", \"MMP1\",\n",
    "         \"NR2E1\",\"ABCG2\",\"NES\", \"KDM5B\",\"SPDYA\", \"TRPM7\", \"LMNA\", \"L1CAM\", \"NOTCH2\", \"NOTCH1\",\n",
    "         \"NOTCH3\", \"HES1\", \"PRRX1\", \"KIAA1524\", \"DCX\", \"TH\", \"CCND1\", \"DDC\", \"GABRB3\", \"ISL1\",\n",
    "         \"KIF1A\", \"CHRNA3\", \"GAP43\", \"CRMP1\", \"CHGA\", \"B4GALNT1\")\n",
    "\n",
    "query[!(query %in% gene_names)]  # Returns queery not in gene names\n",
    "\n",
    "write.table(query[(query %in% gene_names)], \"marker_list.txt\", sep=\"\\n\",row.names = F, col.names = F, quote = T)"
   ]
  },
  {
   "cell_type": "markdown",
   "id": "psychological-terry",
   "metadata": {},
   "source": [
    "CD117/c-kit <br>\n",
    "AP-1 <br>\n",
    "DEIN <br>\n",
    "CD113\n"
   ]
  },
  {
   "cell_type": "markdown",
   "id": "occasional-tuning",
   "metadata": {},
   "source": [
    "Return genes from query in GSEA output"
   ]
  },
  {
   "cell_type": "code",
   "execution_count": null,
   "id": "educational-highlight",
   "metadata": {},
   "outputs": [],
   "source": [
    "out = GE_output[GE_output$SYMBOL == query[query %in% GE_output$SYMBOL],] #Returns queery genes in GE results\n",
    "out"
   ]
  },
  {
   "cell_type": "code",
   "execution_count": null,
   "id": "developed-major",
   "metadata": {},
   "outputs": [],
   "source": [
    "out_name = paste(GE_output_file, \"_markers.csv\", sep=\"\")\n",
    "\n",
    "out_name = paste(\"negative/\",out_name, sep=\"\")\n",
    "out_name\n",
    "\n",
    "write.csv(out,out_name)\n"
   ]
  }
 ],
 "metadata": {
  "kernelspec": {
   "display_name": "R",
   "language": "R",
   "name": "ir"
  },
  "language_info": {
   "codemirror_mode": "r",
   "file_extension": ".r",
   "mimetype": "text/x-r-source",
   "name": "R",
   "pygments_lexer": "r",
   "version": "3.6.1"
  }
 },
 "nbformat": 4,
 "nbformat_minor": 5
}
