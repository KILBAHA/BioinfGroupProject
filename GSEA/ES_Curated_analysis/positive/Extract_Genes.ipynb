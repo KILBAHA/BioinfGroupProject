{
 "cells": [
  {
   "cell_type": "markdown",
   "id": "western-conditions",
   "metadata": {},
   "source": [
    "# Extract Genes from GSEA Output"
   ]
  },
  {
   "cell_type": "markdown",
   "id": "unlimited-behalf",
   "metadata": {},
   "source": [
    "## How to use this notebook:\n",
    "Add files from GSEA output and counts to directory. Define filenames and only_core in the next cell. Run all cells in notebook to produce dimentionality reduced counts file."
   ]
  },
  {
   "cell_type": "code",
   "execution_count": 12,
   "id": "matched-bench",
   "metadata": {},
   "outputs": [],
   "source": [
    "GSEA_output_filename = \"ASGHARZADEH_NEUROBLASTOMA_POOR_SURVIVAL_DN.tsv\"\n",
    "count_filename = \"data_expression_median.txt\"\n",
    "output_count_reduced_filename = \"nb_poor_survival.csv\"\n",
    "only_core = TRUE #set to false if you want to include all genes in set and not just core enrichment"
   ]
  },
  {
   "cell_type": "code",
   "execution_count": 13,
   "id": "regulation-highland",
   "metadata": {},
   "outputs": [],
   "source": [
    "GE_output = read.csv(GSEA_output_filename, sep = \"\\t\")\n",
    "\n",
    "GE_output = GE_output[,c(\"SYMBOL\", \"CORE.ENRICHMENT\")]\n",
    "\n",
    "if (only_core == TRUE){core = GE_output[GE_output$\"CORE.ENRICHMENT\"== \"Yes\",]}"
   ]
  },
  {
   "cell_type": "markdown",
   "id": "passing-underwear",
   "metadata": {},
   "source": [
    "Run to see list of selected genes from GSEA:"
   ]
  },
  {
   "cell_type": "code",
   "execution_count": 14,
   "id": "happy-surveillance",
   "metadata": {},
   "outputs": [
    {
     "data": {
      "text/html": [
       "<table>\n",
       "<thead><tr><th scope=col>SYMBOL</th><th scope=col>CORE.ENRICHMENT</th></tr></thead>\n",
       "<tbody>\n",
       "\t<tr><td>GFRA3    </td><td>Yes      </td></tr>\n",
       "\t<tr><td>CNR1     </td><td>Yes      </td></tr>\n",
       "\t<tr><td>GPR85    </td><td>Yes      </td></tr>\n",
       "\t<tr><td>PGM2L1   </td><td>Yes      </td></tr>\n",
       "\t<tr><td>NTRK1    </td><td>Yes      </td></tr>\n",
       "\t<tr><td>SCN3A    </td><td>Yes      </td></tr>\n",
       "\t<tr><td>ADCY1    </td><td>Yes      </td></tr>\n",
       "\t<tr><td>HOXC6    </td><td>Yes      </td></tr>\n",
       "\t<tr><td>GNAI1    </td><td>Yes      </td></tr>\n",
       "\t<tr><td>BTBD3    </td><td>Yes      </td></tr>\n",
       "\t<tr><td>SCN3B    </td><td>Yes      </td></tr>\n",
       "\t<tr><td>CAMTA1   </td><td>Yes      </td></tr>\n",
       "\t<tr><td>CACNA1G  </td><td>Yes      </td></tr>\n",
       "\t<tr><td>HIVEP3   </td><td>Yes      </td></tr>\n",
       "\t<tr><td>SDK1     </td><td>Yes      </td></tr>\n",
       "\t<tr><td>ST8SIA2  </td><td>Yes      </td></tr>\n",
       "\t<tr><td>TADA2A   </td><td>Yes      </td></tr>\n",
       "\t<tr><td>CILK1    </td><td>Yes      </td></tr>\n",
       "\t<tr><td>SOX4     </td><td>Yes      </td></tr>\n",
       "\t<tr><td>FAXC     </td><td>Yes      </td></tr>\n",
       "\t<tr><td>ST7      </td><td>Yes      </td></tr>\n",
       "\t<tr><td>THAP2    </td><td>Yes      </td></tr>\n",
       "\t<tr><td>TMOD2    </td><td>Yes      </td></tr>\n",
       "\t<tr><td>FOXP1    </td><td>Yes      </td></tr>\n",
       "\t<tr><td>LINC00476</td><td>Yes      </td></tr>\n",
       "\t<tr><td>HAP1     </td><td>Yes      </td></tr>\n",
       "\t<tr><td>CENPBD1  </td><td>Yes      </td></tr>\n",
       "\t<tr><td>DDHD2    </td><td>Yes      </td></tr>\n",
       "\t<tr><td>APBA2    </td><td>Yes      </td></tr>\n",
       "\t<tr><td>CHD3     </td><td>Yes      </td></tr>\n",
       "\t<tr><td>SMARCE1  </td><td>Yes      </td></tr>\n",
       "\t<tr><td>FUBP1    </td><td>Yes      </td></tr>\n",
       "\t<tr><td>HRK      </td><td>Yes      </td></tr>\n",
       "</tbody>\n",
       "</table>\n"
      ],
      "text/latex": [
       "\\begin{tabular}{r|ll}\n",
       " SYMBOL & CORE.ENRICHMENT\\\\\n",
       "\\hline\n",
       "\t GFRA3     & Yes      \\\\\n",
       "\t CNR1      & Yes      \\\\\n",
       "\t GPR85     & Yes      \\\\\n",
       "\t PGM2L1    & Yes      \\\\\n",
       "\t NTRK1     & Yes      \\\\\n",
       "\t SCN3A     & Yes      \\\\\n",
       "\t ADCY1     & Yes      \\\\\n",
       "\t HOXC6     & Yes      \\\\\n",
       "\t GNAI1     & Yes      \\\\\n",
       "\t BTBD3     & Yes      \\\\\n",
       "\t SCN3B     & Yes      \\\\\n",
       "\t CAMTA1    & Yes      \\\\\n",
       "\t CACNA1G   & Yes      \\\\\n",
       "\t HIVEP3    & Yes      \\\\\n",
       "\t SDK1      & Yes      \\\\\n",
       "\t ST8SIA2   & Yes      \\\\\n",
       "\t TADA2A    & Yes      \\\\\n",
       "\t CILK1     & Yes      \\\\\n",
       "\t SOX4      & Yes      \\\\\n",
       "\t FAXC      & Yes      \\\\\n",
       "\t ST7       & Yes      \\\\\n",
       "\t THAP2     & Yes      \\\\\n",
       "\t TMOD2     & Yes      \\\\\n",
       "\t FOXP1     & Yes      \\\\\n",
       "\t LINC00476 & Yes      \\\\\n",
       "\t HAP1      & Yes      \\\\\n",
       "\t CENPBD1   & Yes      \\\\\n",
       "\t DDHD2     & Yes      \\\\\n",
       "\t APBA2     & Yes      \\\\\n",
       "\t CHD3      & Yes      \\\\\n",
       "\t SMARCE1   & Yes      \\\\\n",
       "\t FUBP1     & Yes      \\\\\n",
       "\t HRK       & Yes      \\\\\n",
       "\\end{tabular}\n"
      ],
      "text/markdown": [
       "\n",
       "| SYMBOL | CORE.ENRICHMENT |\n",
       "|---|---|\n",
       "| GFRA3     | Yes       |\n",
       "| CNR1      | Yes       |\n",
       "| GPR85     | Yes       |\n",
       "| PGM2L1    | Yes       |\n",
       "| NTRK1     | Yes       |\n",
       "| SCN3A     | Yes       |\n",
       "| ADCY1     | Yes       |\n",
       "| HOXC6     | Yes       |\n",
       "| GNAI1     | Yes       |\n",
       "| BTBD3     | Yes       |\n",
       "| SCN3B     | Yes       |\n",
       "| CAMTA1    | Yes       |\n",
       "| CACNA1G   | Yes       |\n",
       "| HIVEP3    | Yes       |\n",
       "| SDK1      | Yes       |\n",
       "| ST8SIA2   | Yes       |\n",
       "| TADA2A    | Yes       |\n",
       "| CILK1     | Yes       |\n",
       "| SOX4      | Yes       |\n",
       "| FAXC      | Yes       |\n",
       "| ST7       | Yes       |\n",
       "| THAP2     | Yes       |\n",
       "| TMOD2     | Yes       |\n",
       "| FOXP1     | Yes       |\n",
       "| LINC00476 | Yes       |\n",
       "| HAP1      | Yes       |\n",
       "| CENPBD1   | Yes       |\n",
       "| DDHD2     | Yes       |\n",
       "| APBA2     | Yes       |\n",
       "| CHD3      | Yes       |\n",
       "| SMARCE1   | Yes       |\n",
       "| FUBP1     | Yes       |\n",
       "| HRK       | Yes       |\n",
       "\n"
      ],
      "text/plain": [
       "   SYMBOL    CORE.ENRICHMENT\n",
       "1  GFRA3     Yes            \n",
       "2  CNR1      Yes            \n",
       "3  GPR85     Yes            \n",
       "4  PGM2L1    Yes            \n",
       "5  NTRK1     Yes            \n",
       "6  SCN3A     Yes            \n",
       "7  ADCY1     Yes            \n",
       "8  HOXC6     Yes            \n",
       "9  GNAI1     Yes            \n",
       "10 BTBD3     Yes            \n",
       "11 SCN3B     Yes            \n",
       "12 CAMTA1    Yes            \n",
       "13 CACNA1G   Yes            \n",
       "14 HIVEP3    Yes            \n",
       "15 SDK1      Yes            \n",
       "16 ST8SIA2   Yes            \n",
       "17 TADA2A    Yes            \n",
       "18 CILK1     Yes            \n",
       "19 SOX4      Yes            \n",
       "20 FAXC      Yes            \n",
       "21 ST7       Yes            \n",
       "22 THAP2     Yes            \n",
       "23 TMOD2     Yes            \n",
       "24 FOXP1     Yes            \n",
       "25 LINC00476 Yes            \n",
       "26 HAP1      Yes            \n",
       "27 CENPBD1   Yes            \n",
       "28 DDHD2     Yes            \n",
       "29 APBA2     Yes            \n",
       "30 CHD3      Yes            \n",
       "31 SMARCE1   Yes            \n",
       "32 FUBP1     Yes            \n",
       "33 HRK       Yes            "
      ]
     },
     "metadata": {},
     "output_type": "display_data"
    }
   ],
   "source": [
    "core"
   ]
  },
  {
   "cell_type": "markdown",
   "id": "august-sound",
   "metadata": {},
   "source": [
    "Read in count data:"
   ]
  },
  {
   "cell_type": "code",
   "execution_count": 15,
   "id": "delayed-denmark",
   "metadata": {},
   "outputs": [],
   "source": [
    "count = read.csv(\"data_expression_median.txt\", sep = \"\\t\")\n",
    "\n",
    "gene_names = count[,1]"
   ]
  },
  {
   "cell_type": "markdown",
   "id": "blind-sweden",
   "metadata": {},
   "source": [
    "Run to check for duplicates -> False if duplicate gene names"
   ]
  },
  {
   "cell_type": "code",
   "execution_count": 16,
   "id": "transsexual-folks",
   "metadata": {},
   "outputs": [
    {
     "data": {
      "text/html": [
       "TRUE"
      ],
      "text/latex": [
       "TRUE"
      ],
      "text/markdown": [
       "TRUE"
      ],
      "text/plain": [
       "[1] TRUE"
      ]
     },
     "metadata": {},
     "output_type": "display_data"
    }
   ],
   "source": [
    "#Check for duplicate gene_name entries!\n",
    "length(gene_names) == length(unique(gene_names))"
   ]
  },
  {
   "cell_type": "code",
   "execution_count": 17,
   "id": "first-blade",
   "metadata": {},
   "outputs": [],
   "source": [
    "count = count[,3:ncol(count)]\n",
    "row.names(count) = gene_names\n",
    "\n",
    "inst_names = colnames(count)\n",
    "\n",
    "name_fix = c()\n",
    "for(name in inst_names){name_fix = c(name_fix,substr(name,11,nchar(name)-3))}\n",
    "\n",
    "colnames(count) = name_fix\n",
    "\n",
    "select = count[gene_names %in% core$SYMBOL,]\n"
   ]
  },
  {
   "cell_type": "code",
   "execution_count": 35,
   "id": "owned-railway",
   "metadata": {},
   "outputs": [],
   "source": [
    "patient = as.data.frame(read.csv(\"data_clinical_patient.csv\", sep = \"\\t\", stringsAsFactors = FALSE, header = TRUE, skip = 4))\n",
    "p_nam = patient[,1]\n",
    "\n",
    "p_nam_fix = c()\n",
    "for(name in p_nam){p_nam_fix = c(p_nam_fix,substr(name,11,nchar(name)))}\n",
    "\n",
    "patient = patient[,2:ncol(patient)]\n",
    "\n",
    "row.names(patient) = p_nam_fix\n",
    "efs = patient[,\"EFS_TIME\"]\n",
    "\n",
    "select = merge.data.frame(select,efs, by=\"row.names\")"
   ]
  },
  {
   "cell_type": "markdown",
   "id": "worth-bumper",
   "metadata": {},
   "source": [
    "Run to see the dataframe before it's written to file"
   ]
  },
  {
   "cell_type": "code",
   "execution_count": 36,
   "id": "imposed-guest",
   "metadata": {},
   "outputs": [
    {
     "name": "stderr",
     "output_type": "stream",
     "text": [
      "Warning message in cbind(parts$left, ellip_h, parts$right, deparse.level = 0L):\n",
      "“number of rows of result is not a multiple of vector length (arg 2)”Warning message in cbind(parts$left, ellip_h, parts$right, deparse.level = 0L):\n",
      "“number of rows of result is not a multiple of vector length (arg 2)”Warning message in cbind(parts$left, ellip_h, parts$right, deparse.level = 0L):\n",
      "“number of rows of result is not a multiple of vector length (arg 2)”Warning message in cbind(parts$left, ellip_h, parts$right, deparse.level = 0L):\n",
      "“number of rows of result is not a multiple of vector length (arg 2)”"
     ]
    },
    {
     "data": {
      "text/html": [
       "<table>\n",
       "<thead><tr><th scope=col>Row.names</th><th scope=col>PAAPFA</th><th scope=col>PACLJN</th><th scope=col>PACPJG</th><th scope=col>PACRYY</th><th scope=col>PACRZM</th><th scope=col>PACSNL</th><th scope=col>PACSSR</th><th scope=col>PACUGP</th><th scope=col>PACVNB</th><th scope=col>...</th><th scope=col>PASCLP</th><th scope=col>PASCUF</th><th scope=col>PASDZJ</th><th scope=col>PASFRV</th><th scope=col>PASGPY</th><th scope=col>PASJRT</th><th scope=col>PASJYB</th><th scope=col>PASKJX</th><th scope=col>PASLGS</th><th scope=col>y</th></tr></thead>\n",
       "<tbody>\n",
       "</tbody>\n",
       "</table>\n"
      ],
      "text/latex": [
       "\\begin{tabular}{r|lllllllllllllllllllllllllllllllllllllllllllllllllllllllllllllllllllllllllllllllllllllllllllllllllllllllllllllllllllllllllllllllllllllllllllllllllllllllllllllllllllllllllllllllllllllllllllllllllllllllllllllllllllllllllllllllllllllllllllllllllllllllllll}\n",
       " Row.names & PAAPFA & PACLJN & PACPJG & PACRYY & PACRZM & PACSNL & PACSSR & PACUGP & PACVNB & ... & PASCLP & PASCUF & PASDZJ & PASFRV & PASGPY & PASJRT & PASJYB & PASKJX & PASLGS & y\\\\\n",
       "\\hline\n",
       "\\end{tabular}\n"
      ],
      "text/markdown": [
       "\n",
       "| Row.names | PAAPFA | PACLJN | PACPJG | PACRYY | PACRZM | PACSNL | PACSSR | PACUGP | PACVNB | ... | PASCLP | PASCUF | PASDZJ | PASFRV | PASGPY | PASJRT | PASJYB | PASKJX | PASLGS | y |\n",
       "|---|---|---|---|---|---|---|---|---|---|---|---|---|---|---|---|---|---|---|---|---|\n",
       "\n"
      ],
      "text/plain": [
       "     Row.names PAAPFA PACLJN PACPJG PACRYY PACRZM PACSNL PACSSR PACUGP PACVNB\n",
       "     ... PASCLP PASCUF PASDZJ PASFRV PASGPY PASJRT PASJYB PASKJX PASLGS y"
      ]
     },
     "metadata": {},
     "output_type": "display_data"
    }
   ],
   "source": [
    "select "
   ]
  },
  {
   "cell_type": "code",
   "execution_count": 19,
   "id": "automated-vietnamese",
   "metadata": {},
   "outputs": [],
   "source": [
    "output_count_reduced_filename = paste(\"redfiles/\", output_count_reduced_filename, sep=\"\")\n",
    "\n",
    "\n",
    "write.csv(select, file=output_count_reduced_filename)"
   ]
  }
 ],
 "metadata": {
  "kernelspec": {
   "display_name": "R",
   "language": "R",
   "name": "ir"
  },
  "language_info": {
   "codemirror_mode": "r",
   "file_extension": ".r",
   "mimetype": "text/x-r-source",
   "name": "R",
   "pygments_lexer": "r",
   "version": "3.6.1"
  }
 },
 "nbformat": 4,
 "nbformat_minor": 5
}
