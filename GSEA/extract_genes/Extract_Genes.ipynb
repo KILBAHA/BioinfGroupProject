{
 "cells": [
  {
   "cell_type": "markdown",
   "id": "immune-bishop",
   "metadata": {},
   "source": [
    "# Extract Genes from GSEA Output"
   ]
  },
  {
   "cell_type": "markdown",
   "id": "collective-static",
   "metadata": {},
   "source": [
    "## How to use this notebook:\n",
    "Add files from GSEA output and counts to directory. Define filenames and only_core in the next cell. Run all cells in notebook to produce dimentionality reduced counts file."
   ]
  },
  {
   "cell_type": "code",
   "execution_count": 15,
   "id": "negative-billy",
   "metadata": {},
   "outputs": [],
   "source": [
    "GSEA_output_filename = \"HALLMARK_MYC_TARGETS_V2.tsv\"\n",
    "count_filename = \"data_expression_median.txt\"\n",
    "output_count_reduced_filename = \"GE_selected.csv\"\n",
    "only_core = TRUE #set to false if you want to include all genes in set and not just core enrichment"
   ]
  },
  {
   "cell_type": "code",
   "execution_count": 16,
   "id": "accomplished-british",
   "metadata": {},
   "outputs": [],
   "source": [
    "GE_output = read.csv(GSEA_output_filename, sep = \"\\t\")\n",
    "\n",
    "GE_output = GE_output[,c(\"SYMBOL\", \"CORE.ENRICHMENT\")]\n",
    "\n",
    "if (only_core == TRUE){core = GE_output[GE_output$\"CORE.ENRICHMENT\"== \"Yes\",]}"
   ]
  },
  {
   "cell_type": "markdown",
   "id": "skilled-drilling",
   "metadata": {},
   "source": [
    "Run to see list of selected genes from GSEA:"
   ]
  },
  {
   "cell_type": "code",
   "execution_count": 17,
   "id": "perfect-completion",
   "metadata": {},
   "outputs": [
    {
     "data": {
      "text/html": [
       "<table>\n",
       "<thead><tr><th></th><th scope=col>SYMBOL</th><th scope=col>CORE.ENRICHMENT</th></tr></thead>\n",
       "<tbody>\n",
       "\t<tr><th scope=row>19</th><td>HSPE1  </td><td>Yes    </td></tr>\n",
       "\t<tr><th scope=row>20</th><td>TCOF1  </td><td>Yes    </td></tr>\n",
       "\t<tr><th scope=row>21</th><td>SLC19A1</td><td>Yes    </td></tr>\n",
       "\t<tr><th scope=row>22</th><td>PA2G4  </td><td>Yes    </td></tr>\n",
       "\t<tr><th scope=row>23</th><td>MYBBP1A</td><td>Yes    </td></tr>\n",
       "\t<tr><th scope=row>24</th><td>IMP4   </td><td>Yes    </td></tr>\n",
       "\t<tr><th scope=row>25</th><td>RABEPK </td><td>Yes    </td></tr>\n",
       "\t<tr><th scope=row>26</th><td>EXOSC5 </td><td>Yes    </td></tr>\n",
       "\t<tr><th scope=row>27</th><td>TFB2M  </td><td>Yes    </td></tr>\n",
       "\t<tr><th scope=row>28</th><td>DUSP2  </td><td>Yes    </td></tr>\n",
       "\t<tr><th scope=row>29</th><td>NPM1   </td><td>Yes    </td></tr>\n",
       "\t<tr><th scope=row>30</th><td>SORD   </td><td>Yes    </td></tr>\n",
       "\t<tr><th scope=row>31</th><td>GRWD1  </td><td>Yes    </td></tr>\n",
       "\t<tr><th scope=row>32</th><td>UNG    </td><td>Yes    </td></tr>\n",
       "\t<tr><th scope=row>33</th><td>RRP9   </td><td>Yes    </td></tr>\n",
       "\t<tr><th scope=row>34</th><td>PUS1   </td><td>Yes    </td></tr>\n",
       "\t<tr><th scope=row>35</th><td>MCM5   </td><td>Yes    </td></tr>\n",
       "\t<tr><th scope=row>36</th><td>UTP20  </td><td>Yes    </td></tr>\n",
       "\t<tr><th scope=row>37</th><td>HSPD1  </td><td>Yes    </td></tr>\n",
       "\t<tr><th scope=row>38</th><td>FARSA  </td><td>Yes    </td></tr>\n",
       "\t<tr><th scope=row>39</th><td>NOLC1  </td><td>Yes    </td></tr>\n",
       "\t<tr><th scope=row>40</th><td>GNL3   </td><td>Yes    </td></tr>\n",
       "\t<tr><th scope=row>41</th><td>PPAN   </td><td>Yes    </td></tr>\n",
       "\t<tr><th scope=row>42</th><td>NOP2   </td><td>Yes    </td></tr>\n",
       "\t<tr><th scope=row>43</th><td>PLK4   </td><td>Yes    </td></tr>\n",
       "\t<tr><th scope=row>44</th><td>TMEM97 </td><td>Yes    </td></tr>\n",
       "\t<tr><th scope=row>45</th><td>DCTPP1 </td><td>Yes    </td></tr>\n",
       "\t<tr><th scope=row>46</th><td>WDR74  </td><td>Yes    </td></tr>\n",
       "\t<tr><th scope=row>47</th><td>CDK4   </td><td>Yes    </td></tr>\n",
       "\t<tr><th scope=row>48</th><td>NOP16  </td><td>Yes    </td></tr>\n",
       "\t<tr><th scope=row>49</th><td>PPRC1  </td><td>Yes    </td></tr>\n",
       "\t<tr><th scope=row>50</th><td>RRP12  </td><td>Yes    </td></tr>\n",
       "\t<tr><th scope=row>51</th><td>SLC29A2</td><td>Yes    </td></tr>\n",
       "\t<tr><th scope=row>52</th><td>PLK1   </td><td>Yes    </td></tr>\n",
       "\t<tr><th scope=row>53</th><td>HK2    </td><td>Yes    </td></tr>\n",
       "\t<tr><th scope=row>54</th><td>PRMT3  </td><td>Yes    </td></tr>\n",
       "\t<tr><th scope=row>55</th><td>IPO4   </td><td>Yes    </td></tr>\n",
       "\t<tr><th scope=row>56</th><td>RCL1   </td><td>Yes    </td></tr>\n",
       "\t<tr><th scope=row>57</th><td>NIP7   </td><td>Yes    </td></tr>\n",
       "\t<tr><th scope=row>58</th><td>WDR43  </td><td>Yes    </td></tr>\n",
       "</tbody>\n",
       "</table>\n"
      ],
      "text/latex": [
       "\\begin{tabular}{r|ll}\n",
       "  & SYMBOL & CORE.ENRICHMENT\\\\\n",
       "\\hline\n",
       "\t19 & HSPE1   & Yes    \\\\\n",
       "\t20 & TCOF1   & Yes    \\\\\n",
       "\t21 & SLC19A1 & Yes    \\\\\n",
       "\t22 & PA2G4   & Yes    \\\\\n",
       "\t23 & MYBBP1A & Yes    \\\\\n",
       "\t24 & IMP4    & Yes    \\\\\n",
       "\t25 & RABEPK  & Yes    \\\\\n",
       "\t26 & EXOSC5  & Yes    \\\\\n",
       "\t27 & TFB2M   & Yes    \\\\\n",
       "\t28 & DUSP2   & Yes    \\\\\n",
       "\t29 & NPM1    & Yes    \\\\\n",
       "\t30 & SORD    & Yes    \\\\\n",
       "\t31 & GRWD1   & Yes    \\\\\n",
       "\t32 & UNG     & Yes    \\\\\n",
       "\t33 & RRP9    & Yes    \\\\\n",
       "\t34 & PUS1    & Yes    \\\\\n",
       "\t35 & MCM5    & Yes    \\\\\n",
       "\t36 & UTP20   & Yes    \\\\\n",
       "\t37 & HSPD1   & Yes    \\\\\n",
       "\t38 & FARSA   & Yes    \\\\\n",
       "\t39 & NOLC1   & Yes    \\\\\n",
       "\t40 & GNL3    & Yes    \\\\\n",
       "\t41 & PPAN    & Yes    \\\\\n",
       "\t42 & NOP2    & Yes    \\\\\n",
       "\t43 & PLK4    & Yes    \\\\\n",
       "\t44 & TMEM97  & Yes    \\\\\n",
       "\t45 & DCTPP1  & Yes    \\\\\n",
       "\t46 & WDR74   & Yes    \\\\\n",
       "\t47 & CDK4    & Yes    \\\\\n",
       "\t48 & NOP16   & Yes    \\\\\n",
       "\t49 & PPRC1   & Yes    \\\\\n",
       "\t50 & RRP12   & Yes    \\\\\n",
       "\t51 & SLC29A2 & Yes    \\\\\n",
       "\t52 & PLK1    & Yes    \\\\\n",
       "\t53 & HK2     & Yes    \\\\\n",
       "\t54 & PRMT3   & Yes    \\\\\n",
       "\t55 & IPO4    & Yes    \\\\\n",
       "\t56 & RCL1    & Yes    \\\\\n",
       "\t57 & NIP7    & Yes    \\\\\n",
       "\t58 & WDR43   & Yes    \\\\\n",
       "\\end{tabular}\n"
      ],
      "text/markdown": [
       "\n",
       "| <!--/--> | SYMBOL | CORE.ENRICHMENT |\n",
       "|---|---|---|\n",
       "| 19 | HSPE1   | Yes     |\n",
       "| 20 | TCOF1   | Yes     |\n",
       "| 21 | SLC19A1 | Yes     |\n",
       "| 22 | PA2G4   | Yes     |\n",
       "| 23 | MYBBP1A | Yes     |\n",
       "| 24 | IMP4    | Yes     |\n",
       "| 25 | RABEPK  | Yes     |\n",
       "| 26 | EXOSC5  | Yes     |\n",
       "| 27 | TFB2M   | Yes     |\n",
       "| 28 | DUSP2   | Yes     |\n",
       "| 29 | NPM1    | Yes     |\n",
       "| 30 | SORD    | Yes     |\n",
       "| 31 | GRWD1   | Yes     |\n",
       "| 32 | UNG     | Yes     |\n",
       "| 33 | RRP9    | Yes     |\n",
       "| 34 | PUS1    | Yes     |\n",
       "| 35 | MCM5    | Yes     |\n",
       "| 36 | UTP20   | Yes     |\n",
       "| 37 | HSPD1   | Yes     |\n",
       "| 38 | FARSA   | Yes     |\n",
       "| 39 | NOLC1   | Yes     |\n",
       "| 40 | GNL3    | Yes     |\n",
       "| 41 | PPAN    | Yes     |\n",
       "| 42 | NOP2    | Yes     |\n",
       "| 43 | PLK4    | Yes     |\n",
       "| 44 | TMEM97  | Yes     |\n",
       "| 45 | DCTPP1  | Yes     |\n",
       "| 46 | WDR74   | Yes     |\n",
       "| 47 | CDK4    | Yes     |\n",
       "| 48 | NOP16   | Yes     |\n",
       "| 49 | PPRC1   | Yes     |\n",
       "| 50 | RRP12   | Yes     |\n",
       "| 51 | SLC29A2 | Yes     |\n",
       "| 52 | PLK1    | Yes     |\n",
       "| 53 | HK2     | Yes     |\n",
       "| 54 | PRMT3   | Yes     |\n",
       "| 55 | IPO4    | Yes     |\n",
       "| 56 | RCL1    | Yes     |\n",
       "| 57 | NIP7    | Yes     |\n",
       "| 58 | WDR43   | Yes     |\n",
       "\n"
      ],
      "text/plain": [
       "   SYMBOL  CORE.ENRICHMENT\n",
       "19 HSPE1   Yes            \n",
       "20 TCOF1   Yes            \n",
       "21 SLC19A1 Yes            \n",
       "22 PA2G4   Yes            \n",
       "23 MYBBP1A Yes            \n",
       "24 IMP4    Yes            \n",
       "25 RABEPK  Yes            \n",
       "26 EXOSC5  Yes            \n",
       "27 TFB2M   Yes            \n",
       "28 DUSP2   Yes            \n",
       "29 NPM1    Yes            \n",
       "30 SORD    Yes            \n",
       "31 GRWD1   Yes            \n",
       "32 UNG     Yes            \n",
       "33 RRP9    Yes            \n",
       "34 PUS1    Yes            \n",
       "35 MCM5    Yes            \n",
       "36 UTP20   Yes            \n",
       "37 HSPD1   Yes            \n",
       "38 FARSA   Yes            \n",
       "39 NOLC1   Yes            \n",
       "40 GNL3    Yes            \n",
       "41 PPAN    Yes            \n",
       "42 NOP2    Yes            \n",
       "43 PLK4    Yes            \n",
       "44 TMEM97  Yes            \n",
       "45 DCTPP1  Yes            \n",
       "46 WDR74   Yes            \n",
       "47 CDK4    Yes            \n",
       "48 NOP16   Yes            \n",
       "49 PPRC1   Yes            \n",
       "50 RRP12   Yes            \n",
       "51 SLC29A2 Yes            \n",
       "52 PLK1    Yes            \n",
       "53 HK2     Yes            \n",
       "54 PRMT3   Yes            \n",
       "55 IPO4    Yes            \n",
       "56 RCL1    Yes            \n",
       "57 NIP7    Yes            \n",
       "58 WDR43   Yes            "
      ]
     },
     "metadata": {},
     "output_type": "display_data"
    }
   ],
   "source": [
    "core"
   ]
  },
  {
   "cell_type": "markdown",
   "id": "broad-chrome",
   "metadata": {},
   "source": [
    "Read in count data:"
   ]
  },
  {
   "cell_type": "code",
   "execution_count": 8,
   "id": "sunrise-adelaide",
   "metadata": {},
   "outputs": [],
   "source": [
    "count = read.csv(\"data_expression_median.txt\", sep = \"\\t\")\n",
    "\n",
    "gene_names = count[,1]"
   ]
  },
  {
   "cell_type": "markdown",
   "id": "antique-solution",
   "metadata": {},
   "source": [
    "Run to check for duplicates -> False if duplicate gene names"
   ]
  },
  {
   "cell_type": "code",
   "execution_count": 18,
   "id": "occupational-advocacy",
   "metadata": {},
   "outputs": [
    {
     "data": {
      "text/html": [
       "TRUE"
      ],
      "text/latex": [
       "TRUE"
      ],
      "text/markdown": [
       "TRUE"
      ],
      "text/plain": [
       "[1] TRUE"
      ]
     },
     "metadata": {},
     "output_type": "display_data"
    }
   ],
   "source": [
    "#Check for duplicate gene_name entries!\n",
    "length(gene_names) == length(unique(gene_names))"
   ]
  },
  {
   "cell_type": "code",
   "execution_count": 19,
   "id": "bronze-boating",
   "metadata": {},
   "outputs": [],
   "source": [
    "count = count[,3:ncol(count)]\n",
    "row.names(count) = gene_names\n",
    "\n",
    "inst_names = colnames(count)\n",
    "\n",
    "name_fix = c()\n",
    "for(name in inst_names){name_fix = c(name_fix,substr(name,11,nchar(name)-3))}\n",
    "\n",
    "colnames(count) = name_fix\n",
    "\n",
    "select = count[gene_names %in% core$SYMBOL,]\n"
   ]
  },
  {
   "cell_type": "code",
   "execution_count": null,
   "id": "anonymous-shell",
   "metadata": {},
   "outputs": [],
   "source": [
    "Run to see "
   ]
  },
  {
   "cell_type": "code",
   "execution_count": null,
   "id": "optimum-electric",
   "metadata": {},
   "outputs": [],
   "source": [
    "select "
   ]
  },
  {
   "cell_type": "code",
   "execution_count": 14,
   "id": "pretty-aerospace",
   "metadata": {},
   "outputs": [],
   "source": [
    "write.csv(select, file=output_count_reduced_filename)"
   ]
  }
 ],
 "metadata": {
  "kernelspec": {
   "display_name": "R",
   "language": "R",
   "name": "ir"
  },
  "language_info": {
   "codemirror_mode": "r",
   "file_extension": ".r",
   "mimetype": "text/x-r-source",
   "name": "R",
   "pygments_lexer": "r",
   "version": "3.6.1"
  }
 },
 "nbformat": 4,
 "nbformat_minor": 5
}
