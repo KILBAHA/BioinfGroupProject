{
 "cells": [
  {
   "cell_type": "markdown",
   "id": "certified-industry",
   "metadata": {},
   "source": [
    "# Query GSEA Output\n",
    "\n",
    "Script to queery gene presence in GSEA output. Set Filenames in the cell below."
   ]
  },
  {
   "cell_type": "code",
   "execution_count": 2,
   "id": "ranging-chocolate",
   "metadata": {},
   "outputs": [],
   "source": [
    "GE_output_file = \"HALLMARK_MYC_TARGETS_V2.tsv\"\n",
    "count_file = 'data_expression_median.txt'"
   ]
  },
  {
   "cell_type": "code",
   "execution_count": 3,
   "id": "enabling-fence",
   "metadata": {},
   "outputs": [],
   "source": [
    "GE_output = read.csv(GE_output_file, sep = \"\\t\")\n",
    "count = read.csv(count_file, sep = \"\\t\")\n",
    "gene_names = count[,1]"
   ]
  },
  {
   "cell_type": "markdown",
   "id": "bibliographic-scope",
   "metadata": {},
   "source": [
    "Use this cell to set the query genes. Returns gene names not present in original read counts"
   ]
  },
  {
   "cell_type": "code",
   "execution_count": 19,
   "id": "indirect-belarus",
   "metadata": {},
   "outputs": [
    {
     "data": {
      "text/html": [
       "<ol class=list-inline>\n",
       "\t<li>'DEIN'</li>\n",
       "\t<li>'MIR335'</li>\n",
       "\t<li>'MIR124'</li>\n",
       "\t<li>'MIR375'</li>\n",
       "</ol>\n"
      ],
      "text/latex": [
       "\\begin{enumerate*}\n",
       "\\item 'DEIN'\n",
       "\\item 'MIR335'\n",
       "\\item 'MIR124'\n",
       "\\item 'MIR375'\n",
       "\\end{enumerate*}\n"
      ],
      "text/markdown": [
       "1. 'DEIN'\n",
       "2. 'MIR335'\n",
       "3. 'MIR124'\n",
       "4. 'MIR375'\n",
       "\n",
       "\n"
      ],
      "text/plain": [
       "[1] \"DEIN\"   \"MIR335\" \"MIR124\" \"MIR375\""
      ]
     },
     "metadata": {},
     "output_type": "display_data"
    }
   ],
   "source": [
    "query = c(\"NTRK1\", \"MYCN\", \"MDM2\",\"ALK\", \"CHD5\", \"VIM\", \"CD44\", \"DBH\",\"KIT\",\"JUN\",\n",
    "          \"JUNB\",\"JUND\",\"FOS\",\"MAF\",\"PHOX2B\",\"HAND2\",\"DEIN\",\"PVRL3\", \"GATA3\", \"PHOX2A\",\n",
    "         \"SNAI2\", \"FN1\", \"MIR21\", \"MIR221\", \"MIR335\",\"MIR124\",\"MIR375\", \"CD24\",\"NTRK2\",\n",
    "         \"PTPN6\",\"TP53\",\"BMI1\",\"DLK1\",\"HIF1A\",\"PHB\",\"CSF3R\",\"FZD6\", \"ALDH1A1\",\"LGR5\", \"MMP1\",\n",
    "         \"NR2E1\",\"ABCG2\",\"NES\", \"KDM5B\",\"SPDYA\", \"TRPM7\", \"LMNA\", \"L1CAM\", \"NOTCH2\", \"NOTCH1\",\n",
    "         \"NOTCH3\", \"HES1\", \"PRRX1\", \"KIAA1524\", \"DCX\", \"TH\", \"CCND1\", \"DDC\", \"GABRB3\", \"ISL1\",\n",
    "         \"KIF1A\", \"CHRNA3\", \"GAP43\", \"CRMP1\", \"CHGA\", \"B4GALNT1\")\n",
    "\n",
    "query[!(query %in% gene_names)]  # Returns queery not in gene names\n",
    "\n",
    "write.table(query[(query %in% gene_names)], \"marker_list.txt\", sep=\"\\n\",row.names = F, col.names = F, quote = T)"
   ]
  },
  {
   "cell_type": "markdown",
   "id": "psychological-terry",
   "metadata": {},
   "source": [
    "CD117/c-kit <br>\n",
    "AP-1 <br>\n",
    "DEIN <br>\n",
    "CD113\n"
   ]
  },
  {
   "cell_type": "markdown",
   "id": "occasional-tuning",
   "metadata": {},
   "source": [
    "Return genes from query in GSEA output"
   ]
  },
  {
   "cell_type": "code",
   "execution_count": 21,
   "id": "educational-highlight",
   "metadata": {},
   "outputs": [
    {
     "data": {
      "text/html": [
       "<table>\n",
       "<thead><tr><th></th><th scope=col>NAME</th><th scope=col>SYMBOL</th><th scope=col>TITLE</th><th scope=col>RANK.IN.GENE.LIST</th><th scope=col>RANK.METRIC.SCORE</th><th scope=col>RUNNING.ES</th><th scope=col>CORE.ENRICHMENT</th><th scope=col>X</th></tr></thead>\n",
       "<tbody>\n",
       "\t<tr><th scope=row>15</th><td>row_14                                       </td><td>PHB                                          </td><td>prohibitin [Source:HGNC Symbol;Acc:HGNC:8912]</td><td>13949                                        </td><td>-0.0125231                                   </td><td>-0.5861534                                   </td><td>No                                           </td><td>NA                                           </td></tr>\n",
       "</tbody>\n",
       "</table>\n"
      ],
      "text/latex": [
       "\\begin{tabular}{r|llllllll}\n",
       "  & NAME & SYMBOL & TITLE & RANK.IN.GENE.LIST & RANK.METRIC.SCORE & RUNNING.ES & CORE.ENRICHMENT & X\\\\\n",
       "\\hline\n",
       "\t15 & row\\_14                                          & PHB                                               & prohibitin {[}Source:HGNC Symbol;Acc:HGNC:8912{]} & 13949                                             & -0.0125231                                        & -0.5861534                                        & No                                                & NA                                               \\\\\n",
       "\\end{tabular}\n"
      ],
      "text/markdown": [
       "\n",
       "| <!--/--> | NAME | SYMBOL | TITLE | RANK.IN.GENE.LIST | RANK.METRIC.SCORE | RUNNING.ES | CORE.ENRICHMENT | X |\n",
       "|---|---|---|---|---|---|---|---|---|\n",
       "| 15 | row_14                                        | PHB                                           | prohibitin [Source:HGNC Symbol;Acc:HGNC:8912] | 13949                                         | -0.0125231                                    | -0.5861534                                    | No                                            | NA                                            |\n",
       "\n"
      ],
      "text/plain": [
       "   NAME   SYMBOL TITLE                                        \n",
       "15 row_14 PHB    prohibitin [Source:HGNC Symbol;Acc:HGNC:8912]\n",
       "   RANK.IN.GENE.LIST RANK.METRIC.SCORE RUNNING.ES CORE.ENRICHMENT X \n",
       "15 13949             -0.0125231        -0.5861534 No              NA"
      ]
     },
     "metadata": {},
     "output_type": "display_data"
    }
   ],
   "source": [
    "GE_output[GE_output$SYMBOL == query[query %in% GE_output$SYMBOL],] #Returns queery genes in GE results"
   ]
  }
 ],
 "metadata": {
  "kernelspec": {
   "display_name": "R",
   "language": "R",
   "name": "ir"
  },
  "language_info": {
   "codemirror_mode": "r",
   "file_extension": ".r",
   "mimetype": "text/x-r-source",
   "name": "R",
   "pygments_lexer": "r",
   "version": "3.6.1"
  }
 },
 "nbformat": 4,
 "nbformat_minor": 5
}
