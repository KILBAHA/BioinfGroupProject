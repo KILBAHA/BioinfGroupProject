{
 "cells": [
  {
   "cell_type": "markdown",
   "id": "certified-industry",
   "metadata": {},
   "source": [
    "# Query GSEA Output\n",
    "\n",
    "Script to queery gene presence in GSEA output. Set Filenames in the cell below."
   ]
  },
  {
   "cell_type": "code",
   "execution_count": 2,
   "id": "ranging-chocolate",
   "metadata": {},
   "outputs": [],
   "source": [
    "GE_output_file = \"HALLMARK_MYC_TARGETS_V2.tsv\"\n",
    "count_file = 'data_expression_median.txt'"
   ]
  },
  {
   "cell_type": "code",
   "execution_count": 3,
   "id": "enabling-fence",
   "metadata": {},
   "outputs": [],
   "source": [
    "GE_output = read.csv(GE_output_file, sep = \"\\t\")\n",
    "count = read.csv(count_file, sep = \"\\t\")\n",
    "gene_names = count[,1]"
   ]
  },
  {
   "cell_type": "markdown",
   "id": "bibliographic-scope",
   "metadata": {},
   "source": [
    "Use this cell to set the query genes. Returns gene names not present in original read counts"
   ]
  },
  {
   "cell_type": "code",
   "execution_count": 4,
   "id": "indirect-belarus",
   "metadata": {},
   "outputs": [
    {
     "data": {
      "text/html": [
       "'CD-133'"
      ],
      "text/latex": [
       "'CD-133'"
      ],
      "text/markdown": [
       "'CD-133'"
      ],
      "text/plain": [
       "[1] \"CD-133\""
      ]
     },
     "metadata": {},
     "output_type": "display_data"
    }
   ],
   "source": [
    "query = c(\"MRTO4\", \"MYCN\", \"MDM2\", \"ALK\", \"CHD5\", \"CADM1\",\n",
    "          \"CD44\", \"CD-133\", \"KIT\", \"NTRK2\", \"DLK1\")\n",
    "\n",
    "query[!(query %in% gene_names)]  # Returns queery not in gene names"
   ]
  },
  {
   "cell_type": "markdown",
   "id": "occasional-tuning",
   "metadata": {},
   "source": [
    "Return genes from query in GSEA output"
   ]
  },
  {
   "cell_type": "code",
   "execution_count": 5,
   "id": "educational-highlight",
   "metadata": {},
   "outputs": [
    {
     "data": {
      "text/html": [
       "<table>\n",
       "<thead><tr><th></th><th scope=col>NAME</th><th scope=col>SYMBOL</th><th scope=col>TITLE</th><th scope=col>RANK.IN.GENE.LIST</th><th scope=col>RANK.METRIC.SCORE</th><th scope=col>RUNNING.ES</th><th scope=col>CORE.ENRICHMENT</th><th scope=col>X</th></tr></thead>\n",
       "<tbody>\n",
       "\t<tr><th scope=row>16</th><td>row_15                                                                      </td><td>MRTO4                                                                       </td><td>MRT4 homolog, ribosome maturation factor [Source:HGNC Symbol;Acc:HGNC:18477]</td><td>14649                                                                       </td><td>-0.01460439                                                                 </td><td>-0.6124524                                                                  </td><td>No                                                                          </td><td>NA                                                                          </td></tr>\n",
       "</tbody>\n",
       "</table>\n"
      ],
      "text/latex": [
       "\\begin{tabular}{r|llllllll}\n",
       "  & NAME & SYMBOL & TITLE & RANK.IN.GENE.LIST & RANK.METRIC.SCORE & RUNNING.ES & CORE.ENRICHMENT & X\\\\\n",
       "\\hline\n",
       "\t16 & row\\_15                                                                         & MRTO4                                                                            & MRT4 homolog, ribosome maturation factor {[}Source:HGNC Symbol;Acc:HGNC:18477{]} & 14649                                                                            & -0.01460439                                                                      & -0.6124524                                                                       & No                                                                               & NA                                                                              \\\\\n",
       "\\end{tabular}\n"
      ],
      "text/markdown": [
       "\n",
       "| <!--/--> | NAME | SYMBOL | TITLE | RANK.IN.GENE.LIST | RANK.METRIC.SCORE | RUNNING.ES | CORE.ENRICHMENT | X |\n",
       "|---|---|---|---|---|---|---|---|---|\n",
       "| 16 | row_15                                                                       | MRTO4                                                                        | MRT4 homolog, ribosome maturation factor [Source:HGNC Symbol;Acc:HGNC:18477] | 14649                                                                        | -0.01460439                                                                  | -0.6124524                                                                   | No                                                                           | NA                                                                           |\n",
       "\n"
      ],
      "text/plain": [
       "   NAME   SYMBOL\n",
       "16 row_15 MRTO4 \n",
       "   TITLE                                                                       \n",
       "16 MRT4 homolog, ribosome maturation factor [Source:HGNC Symbol;Acc:HGNC:18477]\n",
       "   RANK.IN.GENE.LIST RANK.METRIC.SCORE RUNNING.ES CORE.ENRICHMENT X \n",
       "16 14649             -0.01460439       -0.6124524 No              NA"
      ]
     },
     "metadata": {},
     "output_type": "display_data"
    }
   ],
   "source": [
    "GE_output[GE_output$SYMBOL == query[query %in% GE_output$SYMBOL],] #Returns queery genes in GE results"
   ]
  }
 ],
 "metadata": {
  "kernelspec": {
   "display_name": "R",
   "language": "R",
   "name": "ir"
  },
  "language_info": {
   "codemirror_mode": "r",
   "file_extension": ".r",
   "mimetype": "text/x-r-source",
   "name": "R",
   "pygments_lexer": "r",
   "version": "3.6.1"
  }
 },
 "nbformat": 4,
 "nbformat_minor": 5
}
