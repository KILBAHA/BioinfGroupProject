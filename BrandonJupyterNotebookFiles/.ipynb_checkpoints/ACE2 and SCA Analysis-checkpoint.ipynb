{
 "cells": [
  {
   "cell_type": "markdown",
   "metadata": {},
   "source": [
    "# ACE2 & SCA Analysis"
   ]
  },
  {
   "cell_type": "markdown",
   "metadata": {},
   "source": [
    "Relevant links:\n",
    "- cBioPortal TARGET CN Segment visualization: https://www.cbioportal.org/study/cnSegments?id=nbl_target_2018_pub\n",
    "- cBioPortal Segmented Data Format: https://docs.cbioportal.org/5.1-data-loading/data-loading/file-formats#discrete-copy-number-data\n",
    "- NCI Copy Number Segmentation file description: https://docs.gdc.cancer.gov/Data/Bioinformatics_Pipelines/CNV_Pipeline/\n"
   ]
  },
  {
   "cell_type": "code",
   "execution_count": 91,
   "metadata": {},
   "outputs": [],
   "source": [
    "import pandas as pd\n",
    "from ipynb.fs.full.CovidReceptorExpressionAnalysis_Functions import *"
   ]
  },
  {
   "cell_type": "code",
   "execution_count": 92,
   "metadata": {},
   "outputs": [],
   "source": [
    "cna_data = pd.read_csv('../nbl_target_2018_pub/data_cna_hg19_copy.txt',  sep='\\t')"
   ]
  },
  {
   "cell_type": "code",
   "execution_count": 93,
   "metadata": {},
   "outputs": [
    {
     "data": {
      "text/html": [
       "<div>\n",
       "<style scoped>\n",
       "    .dataframe tbody tr th:only-of-type {\n",
       "        vertical-align: middle;\n",
       "    }\n",
       "\n",
       "    .dataframe tbody tr th {\n",
       "        vertical-align: top;\n",
       "    }\n",
       "\n",
       "    .dataframe thead th {\n",
       "        text-align: right;\n",
       "    }\n",
       "</style>\n",
       "<table border=\"1\" class=\"dataframe\">\n",
       "  <thead>\n",
       "    <tr style=\"text-align: right;\">\n",
       "      <th></th>\n",
       "      <th>ID</th>\n",
       "      <th>chrom</th>\n",
       "      <th>loc.start</th>\n",
       "      <th>loc.end</th>\n",
       "      <th>num.mark</th>\n",
       "      <th>seg.mean</th>\n",
       "    </tr>\n",
       "  </thead>\n",
       "  <tbody>\n",
       "    <tr>\n",
       "      <th>0</th>\n",
       "      <td>TARGET-30-PAAPFA-01</td>\n",
       "      <td>1</td>\n",
       "      <td>742429</td>\n",
       "      <td>1096336</td>\n",
       "      <td>20</td>\n",
       "      <td>0.1090</td>\n",
       "    </tr>\n",
       "    <tr>\n",
       "      <th>1</th>\n",
       "      <td>TARGET-30-PAAPFA-01</td>\n",
       "      <td>1</td>\n",
       "      <td>1109721</td>\n",
       "      <td>1495118</td>\n",
       "      <td>24</td>\n",
       "      <td>0.4455</td>\n",
       "    </tr>\n",
       "    <tr>\n",
       "      <th>2</th>\n",
       "      <td>TARGET-30-PAAPFA-01</td>\n",
       "      <td>1</td>\n",
       "      <td>1498897</td>\n",
       "      <td>1771080</td>\n",
       "      <td>6</td>\n",
       "      <td>-0.4355</td>\n",
       "    </tr>\n",
       "    <tr>\n",
       "      <th>3</th>\n",
       "      <td>TARGET-30-PAAPFA-01</td>\n",
       "      <td>1</td>\n",
       "      <td>1782971</td>\n",
       "      <td>3681587</td>\n",
       "      <td>355</td>\n",
       "      <td>0.3525</td>\n",
       "    </tr>\n",
       "    <tr>\n",
       "      <th>4</th>\n",
       "      <td>TARGET-30-PAAPFA-01</td>\n",
       "      <td>1</td>\n",
       "      <td>3685860</td>\n",
       "      <td>12758455</td>\n",
       "      <td>1946</td>\n",
       "      <td>0.1499</td>\n",
       "    </tr>\n",
       "    <tr>\n",
       "      <th>...</th>\n",
       "      <td>...</td>\n",
       "      <td>...</td>\n",
       "      <td>...</td>\n",
       "      <td>...</td>\n",
       "      <td>...</td>\n",
       "      <td>...</td>\n",
       "    </tr>\n",
       "    <tr>\n",
       "      <th>13419</th>\n",
       "      <td>TARGET-30-PASLGS-01</td>\n",
       "      <td>X</td>\n",
       "      <td>139360526</td>\n",
       "      <td>154582606</td>\n",
       "      <td>1802</td>\n",
       "      <td>-0.0100</td>\n",
       "    </tr>\n",
       "    <tr>\n",
       "      <th>13420</th>\n",
       "      <td>TARGET-30-PASLGS-01</td>\n",
       "      <td>X</td>\n",
       "      <td>110851122</td>\n",
       "      <td>110851339</td>\n",
       "      <td>1</td>\n",
       "      <td>-0.0100</td>\n",
       "    </tr>\n",
       "    <tr>\n",
       "      <th>13421</th>\n",
       "      <td>TARGET-30-PASLGS-01</td>\n",
       "      <td>X</td>\n",
       "      <td>110894171</td>\n",
       "      <td>118874411</td>\n",
       "      <td>945</td>\n",
       "      <td>-0.0100</td>\n",
       "    </tr>\n",
       "    <tr>\n",
       "      <th>13422</th>\n",
       "      <td>TARGET-30-PASLGS-01</td>\n",
       "      <td>X</td>\n",
       "      <td>118891019</td>\n",
       "      <td>139320535</td>\n",
       "      <td>2418</td>\n",
       "      <td>-0.0100</td>\n",
       "    </tr>\n",
       "    <tr>\n",
       "      <th>13423</th>\n",
       "      <td>TARGET-30-PASLGS-01</td>\n",
       "      <td>X</td>\n",
       "      <td>139321757</td>\n",
       "      <td>139322315</td>\n",
       "      <td>1</td>\n",
       "      <td>-0.0100</td>\n",
       "    </tr>\n",
       "  </tbody>\n",
       "</table>\n",
       "<p>13424 rows × 6 columns</p>\n",
       "</div>"
      ],
      "text/plain": [
       "                        ID chrom  loc.start    loc.end  num.mark  seg.mean\n",
       "0      TARGET-30-PAAPFA-01     1     742429    1096336        20    0.1090\n",
       "1      TARGET-30-PAAPFA-01     1    1109721    1495118        24    0.4455\n",
       "2      TARGET-30-PAAPFA-01     1    1498897    1771080         6   -0.4355\n",
       "3      TARGET-30-PAAPFA-01     1    1782971    3681587       355    0.3525\n",
       "4      TARGET-30-PAAPFA-01     1    3685860   12758455      1946    0.1499\n",
       "...                    ...   ...        ...        ...       ...       ...\n",
       "13419  TARGET-30-PASLGS-01     X  139360526  154582606      1802   -0.0100\n",
       "13420  TARGET-30-PASLGS-01     X  110851122  110851339         1   -0.0100\n",
       "13421  TARGET-30-PASLGS-01     X  110894171  118874411       945   -0.0100\n",
       "13422  TARGET-30-PASLGS-01     X  118891019  139320535      2418   -0.0100\n",
       "13423  TARGET-30-PASLGS-01     X  139321757  139322315         1   -0.0100\n",
       "\n",
       "[13424 rows x 6 columns]"
      ]
     },
     "execution_count": 93,
     "metadata": {},
     "output_type": "execute_result"
    }
   ],
   "source": [
    "cna_data"
   ]
  },
  {
   "cell_type": "code",
   "execution_count": 94,
   "metadata": {},
   "outputs": [
    {
     "name": "stdout",
     "output_type": "stream",
     "text": [
      "Number of samples with CNA data: 59\n"
     ]
    }
   ],
   "source": [
    "print(\"Number of samples with CNA data: \" + str(len(cna_data['ID'].unique())))"
   ]
  },
  {
   "cell_type": "markdown",
   "metadata": {},
   "source": [
    "# Chromosome 1p loss analysis"
   ]
  },
  {
   "cell_type": "code",
   "execution_count": 95,
   "metadata": {},
   "outputs": [],
   "source": [
    "#Filter only data for chromosome 1p\n",
    "ch1_data = cna_data.loc[cna_data['chrom']=='1']\n",
    "ch1p_data = ch1_data.loc[ch1_data['loc.end']<121500000] #coordinate 121500000 is the start of the centrosome"
   ]
  },
  {
   "cell_type": "code",
   "execution_count": 96,
   "metadata": {},
   "outputs": [],
   "source": [
    "#Find all loci with log2-ratio < -0.2\n",
    "ch1p_loss = ch1p_data[ch1p_data['seg.mean']<-0.2]"
   ]
  },
  {
   "cell_type": "code",
   "execution_count": 97,
   "metadata": {},
   "outputs": [
    {
     "data": {
      "text/html": [
       "<div>\n",
       "<style scoped>\n",
       "    .dataframe tbody tr th:only-of-type {\n",
       "        vertical-align: middle;\n",
       "    }\n",
       "\n",
       "    .dataframe tbody tr th {\n",
       "        vertical-align: top;\n",
       "    }\n",
       "\n",
       "    .dataframe thead th {\n",
       "        text-align: right;\n",
       "    }\n",
       "</style>\n",
       "<table border=\"1\" class=\"dataframe\">\n",
       "  <thead>\n",
       "    <tr style=\"text-align: right;\">\n",
       "      <th></th>\n",
       "      <th>ID</th>\n",
       "      <th>chrom</th>\n",
       "      <th>loc.start</th>\n",
       "      <th>loc.end</th>\n",
       "      <th>num.mark</th>\n",
       "      <th>seg.mean</th>\n",
       "    </tr>\n",
       "  </thead>\n",
       "  <tbody>\n",
       "    <tr>\n",
       "      <th>2</th>\n",
       "      <td>TARGET-30-PAAPFA-01</td>\n",
       "      <td>1</td>\n",
       "      <td>1498897</td>\n",
       "      <td>1771080</td>\n",
       "      <td>6</td>\n",
       "      <td>-0.4355</td>\n",
       "    </tr>\n",
       "    <tr>\n",
       "      <th>5</th>\n",
       "      <td>TARGET-30-PAAPFA-01</td>\n",
       "      <td>1</td>\n",
       "      <td>12783336</td>\n",
       "      <td>12836483</td>\n",
       "      <td>11</td>\n",
       "      <td>-0.5778</td>\n",
       "    </tr>\n",
       "    <tr>\n",
       "      <th>7</th>\n",
       "      <td>TARGET-30-PAAPFA-01</td>\n",
       "      <td>1</td>\n",
       "      <td>52828775</td>\n",
       "      <td>52836622</td>\n",
       "      <td>5</td>\n",
       "      <td>-0.8003</td>\n",
       "    </tr>\n",
       "    <tr>\n",
       "      <th>198</th>\n",
       "      <td>TARGET-30-PACRYY-01</td>\n",
       "      <td>1</td>\n",
       "      <td>111180501</td>\n",
       "      <td>111189246</td>\n",
       "      <td>3</td>\n",
       "      <td>-0.8481</td>\n",
       "    </tr>\n",
       "    <tr>\n",
       "      <th>441</th>\n",
       "      <td>TARGET-30-PACUGP-01</td>\n",
       "      <td>1</td>\n",
       "      <td>9909594</td>\n",
       "      <td>10489709</td>\n",
       "      <td>59</td>\n",
       "      <td>-0.6572</td>\n",
       "    </tr>\n",
       "    <tr>\n",
       "      <th>...</th>\n",
       "      <td>...</td>\n",
       "      <td>...</td>\n",
       "      <td>...</td>\n",
       "      <td>...</td>\n",
       "      <td>...</td>\n",
       "      <td>...</td>\n",
       "    </tr>\n",
       "    <tr>\n",
       "      <th>13147</th>\n",
       "      <td>TARGET-30-PASLGS-01</td>\n",
       "      <td>1</td>\n",
       "      <td>35498491</td>\n",
       "      <td>35498608</td>\n",
       "      <td>2</td>\n",
       "      <td>-1.0888</td>\n",
       "    </tr>\n",
       "    <tr>\n",
       "      <th>13149</th>\n",
       "      <td>TARGET-30-PASLGS-01</td>\n",
       "      <td>1</td>\n",
       "      <td>66974753</td>\n",
       "      <td>66989285</td>\n",
       "      <td>5</td>\n",
       "      <td>-0.5343</td>\n",
       "    </tr>\n",
       "    <tr>\n",
       "      <th>13151</th>\n",
       "      <td>TARGET-30-PASLGS-01</td>\n",
       "      <td>1</td>\n",
       "      <td>71150238</td>\n",
       "      <td>71171490</td>\n",
       "      <td>9</td>\n",
       "      <td>-0.3787</td>\n",
       "    </tr>\n",
       "    <tr>\n",
       "      <th>13153</th>\n",
       "      <td>TARGET-30-PASLGS-01</td>\n",
       "      <td>1</td>\n",
       "      <td>72549855</td>\n",
       "      <td>72571413</td>\n",
       "      <td>2</td>\n",
       "      <td>-1.7081</td>\n",
       "    </tr>\n",
       "    <tr>\n",
       "      <th>13155</th>\n",
       "      <td>TARGET-30-PASLGS-01</td>\n",
       "      <td>1</td>\n",
       "      <td>97352864</td>\n",
       "      <td>97357273</td>\n",
       "      <td>5</td>\n",
       "      <td>-1.9718</td>\n",
       "    </tr>\n",
       "  </tbody>\n",
       "</table>\n",
       "<p>149 rows × 6 columns</p>\n",
       "</div>"
      ],
      "text/plain": [
       "                        ID chrom  loc.start    loc.end  num.mark  seg.mean\n",
       "2      TARGET-30-PAAPFA-01     1    1498897    1771080         6   -0.4355\n",
       "5      TARGET-30-PAAPFA-01     1   12783336   12836483        11   -0.5778\n",
       "7      TARGET-30-PAAPFA-01     1   52828775   52836622         5   -0.8003\n",
       "198    TARGET-30-PACRYY-01     1  111180501  111189246         3   -0.8481\n",
       "441    TARGET-30-PACUGP-01     1    9909594   10489709        59   -0.6572\n",
       "...                    ...   ...        ...        ...       ...       ...\n",
       "13147  TARGET-30-PASLGS-01     1   35498491   35498608         2   -1.0888\n",
       "13149  TARGET-30-PASLGS-01     1   66974753   66989285         5   -0.5343\n",
       "13151  TARGET-30-PASLGS-01     1   71150238   71171490         9   -0.3787\n",
       "13153  TARGET-30-PASLGS-01     1   72549855   72571413         2   -1.7081\n",
       "13155  TARGET-30-PASLGS-01     1   97352864   97357273         5   -1.9718\n",
       "\n",
       "[149 rows x 6 columns]"
      ]
     },
     "execution_count": 97,
     "metadata": {},
     "output_type": "execute_result"
    }
   ],
   "source": [
    "ch1p_loss"
   ]
  },
  {
   "cell_type": "code",
   "execution_count": 98,
   "metadata": {},
   "outputs": [
    {
     "name": "stdout",
     "output_type": "stream",
     "text": [
      "TARGET-30-PAAPFA-01 total loss length: 333177\n",
      "TARGET-30-PACRYY-01 total loss length: 8745\n",
      "TARGET-30-PACUGP-01 total loss length: 17340460\n",
      "TARGET-30-PADIEY-01 total loss length: 635567\n",
      "TARGET-30-PADLJN-01 total loss length: 95731\n",
      "TARGET-30-PADLPR-01 total loss length: 74880585\n",
      "TARGET-30-PADMGA-01 total loss length: 20799\n",
      "TARGET-30-PADPHP-01 total loss length: 7286\n",
      "TARGET-30-PADUYJ-01 total loss length: 112069277\n",
      "TARGET-30-PAKADI-01 total loss length: 401862\n",
      "TARGET-30-PAKAFK-01 total loss length: 21739423\n",
      "TARGET-30-PALNMX-01 total loss length: 4832\n",
      "TARGET-30-PAPZYP-01 total loss length: 84063514\n",
      "TARGET-30-PARABN-01 total loss length: 4897\n",
      "TARGET-30-PARACM-01 total loss length: 20738575\n",
      "TARGET-30-PARAHE-01 total loss length: 40590350\n",
      "TARGET-30-PARDUJ-01 total loss length: 4696\n",
      "TARGET-30-PAREGK-01 total loss length: 3897\n",
      "TARGET-30-PARGDJ-01 total loss length: 27247763\n",
      "TARGET-30-PARGUX-01 total loss length: 7812043\n",
      "TARGET-30-PARHYL-01 total loss length: 5905\n",
      "TARGET-30-PARIKF-01 total loss length: 86230418\n",
      "TARGET-30-PARIKT-01 total loss length: 566307\n",
      "TARGET-30-PARIRD-01 total loss length: 8827412\n",
      "TARGET-30-PARJAR-01 total loss length: 1331\n",
      "TARGET-30-PARJTB-01 total loss length: 109440327\n",
      "TARGET-30-PARMFA-01 total loss length: 1323\n",
      "TARGET-30-PARNEE-01 total loss length: 62996333\n",
      "TARGET-30-PARRBU-01 total loss length: 37226297\n",
      "TARGET-30-PARSHT-01 total loss length: 93025452\n",
      "TARGET-30-PARUXY-01 total loss length: 4674\n",
      "TARGET-30-PARVME-01 total loss length: 2988\n",
      "TARGET-30-PARXLM-01 total loss length: 443\n",
      "TARGET-30-PASAZJ-01 total loss length: 21558\n",
      "TARGET-30-PASBEN-01 total loss length: 2550\n",
      "TARGET-30-PASCKI-01 total loss length: 17067\n",
      "TARGET-30-PASCLP-01 total loss length: 96617249\n",
      "TARGET-30-PASCUF-01 total loss length: 5235\n",
      "TARGET-30-PASDZJ-01 total loss length: 23818\n",
      "TARGET-30-PASJYB-01 total loss length: 41450414\n",
      "TARGET-30-PASKJX-01 total loss length: 44567815\n",
      "TARGET-30-PASLGS-01 total loss length: 8055844\n"
     ]
    }
   ],
   "source": [
    "#Only include samples that have substantial CNV loss across the chromosome (>10Mb affected)\n",
    "ch1p_loss_filtered = pd.DataFrame(columns=ch1p_loss.columns)\n",
    "for sample in ch1p_loss['ID'].unique():\n",
    "    sample_df = ch1p_loss.loc[ch1p_loss['ID']==sample]\n",
    "    total_loss_length = sum(sample_df['loc.end']) - sum(sample_df['loc.start'])\n",
    "    print(sample + \" total loss length: \" + str(total_loss_length))\n",
    "    if(total_loss_length >= 10000000):\n",
    "        ch1p_loss_filtered = ch1p_loss_filtered.append(ch1p_loss[ch1p_loss['ID'] == sample])"
   ]
  },
  {
   "cell_type": "code",
   "execution_count": 99,
   "metadata": {},
   "outputs": [
    {
     "data": {
      "text/html": [
       "<div>\n",
       "<style scoped>\n",
       "    .dataframe tbody tr th:only-of-type {\n",
       "        vertical-align: middle;\n",
       "    }\n",
       "\n",
       "    .dataframe tbody tr th {\n",
       "        vertical-align: top;\n",
       "    }\n",
       "\n",
       "    .dataframe thead th {\n",
       "        text-align: right;\n",
       "    }\n",
       "</style>\n",
       "<table border=\"1\" class=\"dataframe\">\n",
       "  <thead>\n",
       "    <tr style=\"text-align: right;\">\n",
       "      <th></th>\n",
       "      <th>ID</th>\n",
       "      <th>chrom</th>\n",
       "      <th>loc.start</th>\n",
       "      <th>loc.end</th>\n",
       "      <th>num.mark</th>\n",
       "      <th>seg.mean</th>\n",
       "    </tr>\n",
       "  </thead>\n",
       "  <tbody>\n",
       "    <tr>\n",
       "      <th>441</th>\n",
       "      <td>TARGET-30-PACUGP-01</td>\n",
       "      <td>1</td>\n",
       "      <td>9909594</td>\n",
       "      <td>10489709</td>\n",
       "      <td>59</td>\n",
       "      <td>-0.6572</td>\n",
       "    </tr>\n",
       "    <tr>\n",
       "      <th>442</th>\n",
       "      <td>TARGET-30-PACUGP-01</td>\n",
       "      <td>1</td>\n",
       "      <td>10489795</td>\n",
       "      <td>20927313</td>\n",
       "      <td>2159</td>\n",
       "      <td>-0.3206</td>\n",
       "    </tr>\n",
       "    <tr>\n",
       "      <th>443</th>\n",
       "      <td>TARGET-30-PACUGP-01</td>\n",
       "      <td>1</td>\n",
       "      <td>20941716</td>\n",
       "      <td>21365118</td>\n",
       "      <td>36</td>\n",
       "      <td>-0.8063</td>\n",
       "    </tr>\n",
       "    <tr>\n",
       "      <th>445</th>\n",
       "      <td>TARGET-30-PACUGP-01</td>\n",
       "      <td>1</td>\n",
       "      <td>21504250</td>\n",
       "      <td>21505057</td>\n",
       "      <td>1</td>\n",
       "      <td>-0.2448</td>\n",
       "    </tr>\n",
       "    <tr>\n",
       "      <th>446</th>\n",
       "      <td>TARGET-30-PACUGP-01</td>\n",
       "      <td>1</td>\n",
       "      <td>21508003</td>\n",
       "      <td>21872613</td>\n",
       "      <td>108</td>\n",
       "      <td>-0.2448</td>\n",
       "    </tr>\n",
       "    <tr>\n",
       "      <th>...</th>\n",
       "      <td>...</td>\n",
       "      <td>...</td>\n",
       "      <td>...</td>\n",
       "      <td>...</td>\n",
       "      <td>...</td>\n",
       "      <td>...</td>\n",
       "    </tr>\n",
       "    <tr>\n",
       "      <th>12651</th>\n",
       "      <td>TARGET-30-PASJYB-01</td>\n",
       "      <td>1</td>\n",
       "      <td>40799336</td>\n",
       "      <td>42622990</td>\n",
       "      <td>350</td>\n",
       "      <td>-0.4957</td>\n",
       "    </tr>\n",
       "    <tr>\n",
       "      <th>12653</th>\n",
       "      <td>TARGET-30-PASJYB-01</td>\n",
       "      <td>1</td>\n",
       "      <td>103941535</td>\n",
       "      <td>103966748</td>\n",
       "      <td>5</td>\n",
       "      <td>-0.4654</td>\n",
       "    </tr>\n",
       "    <tr>\n",
       "      <th>12918</th>\n",
       "      <td>TARGET-30-PASKJX-01</td>\n",
       "      <td>1</td>\n",
       "      <td>758311</td>\n",
       "      <td>12769266</td>\n",
       "      <td>2683</td>\n",
       "      <td>-0.3141</td>\n",
       "    </tr>\n",
       "    <tr>\n",
       "      <th>12919</th>\n",
       "      <td>TARGET-30-PASKJX-01</td>\n",
       "      <td>1</td>\n",
       "      <td>12841261</td>\n",
       "      <td>24740368</td>\n",
       "      <td>2658</td>\n",
       "      <td>-0.3141</td>\n",
       "    </tr>\n",
       "    <tr>\n",
       "      <th>12922</th>\n",
       "      <td>TARGET-30-PASKJX-01</td>\n",
       "      <td>1</td>\n",
       "      <td>41857984</td>\n",
       "      <td>62515737</td>\n",
       "      <td>3993</td>\n",
       "      <td>-0.3692</td>\n",
       "    </tr>\n",
       "  </tbody>\n",
       "</table>\n",
       "<p>95 rows × 6 columns</p>\n",
       "</div>"
      ],
      "text/plain": [
       "                        ID chrom  loc.start    loc.end num.mark  seg.mean\n",
       "441    TARGET-30-PACUGP-01     1    9909594   10489709       59   -0.6572\n",
       "442    TARGET-30-PACUGP-01     1   10489795   20927313     2159   -0.3206\n",
       "443    TARGET-30-PACUGP-01     1   20941716   21365118       36   -0.8063\n",
       "445    TARGET-30-PACUGP-01     1   21504250   21505057        1   -0.2448\n",
       "446    TARGET-30-PACUGP-01     1   21508003   21872613      108   -0.2448\n",
       "...                    ...   ...        ...        ...      ...       ...\n",
       "12651  TARGET-30-PASJYB-01     1   40799336   42622990      350   -0.4957\n",
       "12653  TARGET-30-PASJYB-01     1  103941535  103966748        5   -0.4654\n",
       "12918  TARGET-30-PASKJX-01     1     758311   12769266     2683   -0.3141\n",
       "12919  TARGET-30-PASKJX-01     1   12841261   24740368     2658   -0.3141\n",
       "12922  TARGET-30-PASKJX-01     1   41857984   62515737     3993   -0.3692\n",
       "\n",
       "[95 rows x 6 columns]"
      ]
     },
     "execution_count": 99,
     "metadata": {},
     "output_type": "execute_result"
    }
   ],
   "source": [
    "ch1p_loss_filtered"
   ]
  },
  {
   "cell_type": "code",
   "execution_count": 100,
   "metadata": {},
   "outputs": [
    {
     "name": "stdout",
     "output_type": "stream",
     "text": [
      "Samples called by algorithm but not manually: {'TARGET-30-PADLPR-01', 'TARGET-30-PAKAFK-01'}\n",
      "Samples called manually but not by algorithm: {'TARGET-30-PASBEN-01'}\n"
     ]
    }
   ],
   "source": [
    "#Compare ch1p loss samples identified from algorithm with samples identified manually\n",
    "manual_calls = pd.read_csv('../TARGET_SCA_Identification.csv')\n",
    "ch1p_loss_samples = ch1p_loss_filtered['ID'].unique()\n",
    "manual_ch1p_loss_calls = manual_calls[manual_calls['1p loss']==1]['Sample']\n",
    "print(\"Samples called by algorithm but not manually: \" + str(set(ch1p_loss_samples.tolist()) - set(manual_ch1p_loss_calls.tolist())))\n",
    "print(\"Samples called manually but not by algorithm: \" + str(set(manual_ch1p_loss_calls.tolist()) - set(ch1p_loss_samples.tolist())))\n",
    "\n",
    "\n"
   ]
  },
  {
   "cell_type": "code",
   "execution_count": 101,
   "metadata": {},
   "outputs": [],
   "source": [
    "#Remove samples called by algorithm but not manually\n",
    "ch1p_loss_filtered = ch1p_loss_filtered[ch1p_loss_filtered['ID'] != 'TARGET-30-PAKAFK-01']\n",
    "ch1p_loss_filtered = ch1p_loss_filtered[ch1p_loss_filtered['ID'] != 'TARGET-30-PADLPR-01']\n",
    "\n",
    "#Add samples called manually but not by algorithm\n",
    "ch1p_loss_filtered = ch1p_loss_filtered.append(ch1p_loss[ch1p_loss['ID'] == 'TARGET-30-PASBEN-01'])"
   ]
  },
  {
   "cell_type": "code",
   "execution_count": 102,
   "metadata": {},
   "outputs": [],
   "source": [
    "#Stratify samples based on chromosome 1p deletion status\n",
    "ch1p_loss_samples = ch1p_loss_filtered['ID'].unique()\n",
    "ch1p_non_loss_samples = set(cna_data['ID'].unique().tolist()) - set(ch1p_loss_samples.tolist())"
   ]
  },
  {
   "cell_type": "code",
   "execution_count": 103,
   "metadata": {},
   "outputs": [
    {
     "data": {
      "image/png": "[encoded data removed]",
      "text/plain": [
       "<Figure size 432x288 with 1 Axes>"
      ]
     },
     "metadata": {
      "needs_background": "light"
     },
     "output_type": "display_data"
    },
    {
     "data": {
      "image/png": "[encoded data removed]",
      "text/plain": [
       "<Figure size 432x288 with 1 Axes>"
      ]
     },
     "metadata": {
      "needs_background": "light"
     },
     "output_type": "display_data"
    },
    {
     "name": "stdout",
     "output_type": "stream",
     "text": [
      "No Loss: median = -0.38339999999999996, mean = -0.22586750000000003, 95% CI = (-0.5235206506844001, 0.0717856506844001)\n",
      "Loss: median = -0.0544, mean = -0.09809999999999999, 95% CI = (-0.5329750559949226, 0.33677505599492263)\n",
      "Ttest_indResult(statistic=-0.45141974149127295, pvalue=0.653528865889904)\n"
     ]
    }
   ],
   "source": [
    "#Compare ACE2 expression between different groups\n",
    "compareExpression('ACE2',[ch1p_non_loss_samples,ch1p_loss_samples],'Chromosome 1p loss','No Loss','Loss')"
   ]
  },
  {
   "cell_type": "markdown",
   "metadata": {},
   "source": [
    "# Chromosome 11q loss analysis"
   ]
  },
  {
   "cell_type": "code",
   "execution_count": 104,
   "metadata": {},
   "outputs": [],
   "source": [
    "#Filter only data for chromosome 11q\n",
    "ch11_data = cna_data.loc[cna_data['chrom']=='11']\n",
    "ch11q_data = ch11_data.loc[ch11_data['loc.start']>55700000] #coordinate 55700000 is the end of the centrosome\n",
    "\n",
    "#Find all loci with log2-ratio < -0.2\n",
    "ch11q_loss = ch11q_data[ch11q_data['seg.mean']<-0.2]\n",
    "\n",
    "#Only include samples that have substantial CNV loss across the chromosome (>10Mb affected)\n",
    "ch11q_loss_filtered = pd.DataFrame(columns=ch11q_loss.columns)\n",
    "for sample in ch11q_loss['ID'].unique():\n",
    "    sample_df = ch11q_loss.loc[ch11q_loss['ID']==sample]\n",
    "    total_loss_length = sum(sample_df['loc.end']) - sum(sample_df['loc.start'])\n",
    "    if(total_loss_length >= 10000000):\n",
    "        ch11q_loss_filtered = ch11q_loss_filtered.append(ch11q_loss[ch11q_loss['ID'] == sample])"
   ]
  },
  {
   "cell_type": "code",
   "execution_count": 105,
   "metadata": {},
   "outputs": [
    {
     "name": "stdout",
     "output_type": "stream",
     "text": [
      "Samples called by algorithm but not manually: set()\n",
      "Samples called manually but not by algorithm: {'TARGET-30-PARXLM-01', 'TARGET-30-PARHYL-01', 'TARGET-30-PARCWT-01'}\n"
     ]
    }
   ],
   "source": [
    "#Compare ch11q loss samples identified from algorithm with samples identified manually\n",
    "ch11q_loss_samples = ch11q_loss_filtered['ID'].unique()\n",
    "manual_ch11q_loss_calls = manual_calls[manual_calls['11q loss']==1]['Sample']\n",
    "print(\"Samples called by algorithm but not manually: \" + str(set(ch11q_loss_samples.tolist()) - set(manual_ch11q_loss_calls.tolist())))\n",
    "print(\"Samples called manually but not by algorithm: \" + str(set(manual_ch11q_loss_calls.tolist()) - set(ch11q_loss_samples.tolist())))\n",
    "\n",
    "\n"
   ]
  },
  {
   "cell_type": "code",
   "execution_count": 106,
   "metadata": {},
   "outputs": [],
   "source": [
    "#Add samples called manually but not by algorithm\n",
    "ch11q_loss_filtered = ch11q_loss_filtered.append(ch11q_loss[ch11q_loss['ID'] == 'TARGET-30-PARCWT-01'])\n",
    "ch11q_loss_filtered = ch11q_loss_filtered.append(ch11q_loss[ch11q_loss['ID'] == 'TARGET-30-PARXLM-01'])\n",
    "ch11q_loss_filtered = ch11q_loss_filtered.append(ch11q_loss[ch11q_loss['ID'] == 'TARGET-30-PARHYL-01'])"
   ]
  },
  {
   "cell_type": "code",
   "execution_count": 107,
   "metadata": {},
   "outputs": [
    {
     "data": {
      "image/png": "[encoded data removed]",
      "text/plain": [
       "<Figure size 432x288 with 1 Axes>"
      ]
     },
     "metadata": {
      "needs_background": "light"
     },
     "output_type": "display_data"
    },
    {
     "data": {
      "image/png": "[encoded data removed]",
      "text/plain": [
       "<Figure size 432x288 with 1 Axes>"
      ]
     },
     "metadata": {
      "needs_background": "light"
     },
     "output_type": "display_data"
    },
    {
     "name": "stdout",
     "output_type": "stream",
     "text": [
      "No Loss: median = -0.11435000000000001, mean = -0.08165, 95% CI = (-0.43637476044205487, 0.27307476044205486)\n",
      "Loss: median = -0.2809, mean = -0.30444444444444446, 95% CI = (-0.6438386486835208, 0.034949759794631885)\n",
      "Ttest_indResult(statistic=0.8884368504965121, pvalue=0.37832029949750223)\n"
     ]
    }
   ],
   "source": [
    "#Stratify samples based on chromosome 11q deletion status\n",
    "ch11q_loss_samples = ch11q_loss_filtered['ID'].unique()\n",
    "ch11q_non_loss_samples = set(cna_data['ID'].unique().tolist()) - set(ch11q_loss_samples.tolist())\n",
    "\n",
    "#Compare ACE2 expression between different groups\n",
    "compareExpression('ACE2',[ch11q_non_loss_samples,ch11q_loss_samples],'Chromosome 11q loss','No Loss','Loss')"
   ]
  },
  {
   "cell_type": "markdown",
   "metadata": {},
   "source": [
    "# Chromosome 17q gain analysis"
   ]
  },
  {
   "cell_type": "code",
   "execution_count": 108,
   "metadata": {},
   "outputs": [],
   "source": [
    "#Filter only data for chromosome 17q\n",
    "ch17_data = cna_data.loc[cna_data['chrom']=='17']\n",
    "ch17q_data = ch17_data.loc[ch17_data['loc.start']>25800000] #coordinate 25800000 is the end of the centrosome\n",
    "\n",
    "#Find all loci with log2-ratio > 0.2\n",
    "ch17q_gain = ch17q_data[ch17q_data['seg.mean']>0.2]\n",
    "\n",
    "#Only include samples that have substantial CNV gain across the chromosome (>10Mb affected)\n",
    "ch17q_gain_filtered = pd.DataFrame(columns=ch17q_gain.columns)\n",
    "for sample in ch17q_gain['ID'].unique():\n",
    "    sample_df = ch17q_gain.loc[ch17q_gain['ID']==sample]\n",
    "    total_gain_length = sum(sample_df['loc.end']) - sum(sample_df['loc.start'])\n",
    "    if(total_gain_length >= 10000000):\n",
    "        ch17q_gain_filtered = ch17q_gain_filtered.append(ch17q_gain[ch17q_gain['ID'] == sample])"
   ]
  },
  {
   "cell_type": "code",
   "execution_count": 109,
   "metadata": {},
   "outputs": [
    {
     "name": "stdout",
     "output_type": "stream",
     "text": [
      "Samples called by algorithm but not manually: {'TARGET-30-PALRIA-01', 'TARGET-30-PASKJX-01', 'TARGET-30-PASFRV-01'}\n",
      "Samples called manually but not by algorithm: {'TARGET-30-PARSHT-01'}\n"
     ]
    }
   ],
   "source": [
    "#Compare ch17q gain samples identified from algorithm with samples identified manually\n",
    "ch17q_gain_samples = ch17q_gain_filtered['ID'].unique()\n",
    "manual_ch17q_gain_calls = manual_calls[manual_calls['17q gain']==1]['Sample']\n",
    "print(\"Samples called by algorithm but not manually: \" + str(set(ch17q_gain_samples.tolist()) - set(manual_ch17q_gain_calls.tolist())))\n",
    "print(\"Samples called manually but not by algorithm: \" + str(set(manual_ch17q_gain_calls.tolist()) - set(ch17q_gain_samples.tolist())))\n",
    "\n",
    "\n"
   ]
  },
  {
   "cell_type": "code",
   "execution_count": 110,
   "metadata": {},
   "outputs": [],
   "source": [
    "#Remove samples called by algorithm but not manually\n",
    "ch17q_gain_filtered = ch17q_gain_filtered[ch17q_gain_filtered['ID'] != 'TARGET-30-PASKJX-01']\n",
    "ch17q_gain_filtered = ch17q_gain_filtered[ch17q_gain_filtered['ID'] != 'TARGET-30-PASFRV-01']\n",
    "ch17q_gain_filtered = ch17q_gain_filtered[ch17q_gain_filtered['ID'] != 'TARGET-30-PALRIA-01']\n",
    "\n",
    "#Add samples called manually but not by algorithm\n",
    "ch17q_gain_filtered = ch17q_gain_filtered.append(ch17q_gain[ch17q_gain['ID'] == 'TARGET-30-PASHT-01'])"
   ]
  },
  {
   "cell_type": "code",
   "execution_count": 111,
   "metadata": {},
   "outputs": [
    {
     "data": {
      "image/png": "[encoded data removed]",
      "text/plain": [
       "<Figure size 432x288 with 1 Axes>"
      ]
     },
     "metadata": {
      "needs_background": "light"
     },
     "output_type": "display_data"
    },
    {
     "data": {
      "image/png": "[encoded data removed]",
      "text/plain": [
       "<Figure size 432x288 with 1 Axes>"
      ]
     },
     "metadata": {
      "needs_background": "light"
     },
     "output_type": "display_data"
    },
    {
     "name": "stdout",
     "output_type": "stream",
     "text": [
      "No Gain: median = -0.0383, mean = -0.012668965517241374, 95% CI = (-0.38691561728201473, 0.36157768624753195)\n",
      "Gain: median = -0.3045, mean = -0.38995384615384615, 95% CI = (-0.6870812778251918, -0.09282641448250051)\n",
      "Ttest_indResult(statistic=1.5237604156166282, pvalue=0.1335137256774766)\n"
     ]
    }
   ],
   "source": [
    "#Stratify samples based on chromosome 1p deletion status\n",
    "ch17q_gain_samples = ch17q_gain_filtered['ID'].unique()\n",
    "ch17q_non_gain_samples = set(cna_data['ID'].unique().tolist()) - set(ch17q_gain_samples.tolist())\n",
    "\n",
    "#Compare ACE2 expression between different groups\n",
    "compareExpression('ACE2',[ch17q_non_gain_samples,ch17q_gain_samples],'Chromosome 17q gain','No Gain','Gain')"
   ]
  },
  {
   "cell_type": "markdown",
   "metadata": {},
   "source": [
    "# Chromosome 1p and 11q loss + Chromosome 17q gain"
   ]
  },
  {
   "cell_type": "code",
   "execution_count": 112,
   "metadata": {},
   "outputs": [],
   "source": [
    "sca_samples = np.unique(np.concatenate((ch1p_loss_samples,ch11q_loss_samples,ch17q_gain_samples)))"
   ]
  },
  {
   "cell_type": "code",
   "execution_count": 113,
   "metadata": {},
   "outputs": [],
   "source": [
    "non_sca_samples = set(cna_data['ID'].unique().tolist()) - set(sca_samples.tolist())"
   ]
  },
  {
   "cell_type": "code",
   "execution_count": 114,
   "metadata": {},
   "outputs": [
    {
     "data": {
      "image/png": "[encoded data removed]",
      "text/plain": [
       "<Figure size 432x288 with 1 Axes>"
      ]
     },
     "metadata": {
      "needs_background": "light"
     },
     "output_type": "display_data"
    },
    {
     "data": {
      "image/png": "[encoded data removed]",
      "text/plain": [
       "<Figure size 432x288 with 1 Axes>"
      ]
     },
     "metadata": {
      "needs_background": "light"
     },
     "output_type": "display_data"
    },
    {
     "name": "stdout",
     "output_type": "stream",
     "text": [
      "No SCA: median = 0.4546, mean = 0.3220083333333333, 95% CI = (-0.1973672744023484, 0.8413839410690149)\n",
      "SCA: median = -0.2809, mean = -0.334193023255814, 95% CI = (-0.5998797953727768, -0.06850625113885123)\n",
      "Ttest_indResult(statistic=2.245694753091358, pvalue=0.028917263979268373)\n"
     ]
    }
   ],
   "source": [
    "compareExpression('ACE2',[non_sca_samples,sca_samples],'SCA','No SCA','SCA')"
   ]
  },
  {
   "cell_type": "markdown",
   "metadata": {},
   "source": [
    "# Compare EFS in SCA samples stratified by ACE2 expression"
   ]
  },
  {
   "cell_type": "code",
   "execution_count": 115,
   "metadata": {},
   "outputs": [],
   "source": [
    "#Find z-scores for sca samples\n",
    "sca_columns = ['Hugo_Symbol','Entrez_Gene_Id'] + list(set(sca_samples).intersection(z_scores.columns))\n",
    "sca_z_scores = z_scores[sca_columns]"
   ]
  },
  {
   "cell_type": "code",
   "execution_count": 116,
   "metadata": {},
   "outputs": [
    {
     "data": {
      "text/html": [
       "<div>\n",
       "<style scoped>\n",
       "    .dataframe tbody tr th:only-of-type {\n",
       "        vertical-align: middle;\n",
       "    }\n",
       "\n",
       "    .dataframe tbody tr th {\n",
       "        vertical-align: top;\n",
       "    }\n",
       "\n",
       "    .dataframe thead th {\n",
       "        text-align: right;\n",
       "    }\n",
       "</style>\n",
       "<table border=\"1\" class=\"dataframe\">\n",
       "  <thead>\n",
       "    <tr style=\"text-align: right;\">\n",
       "      <th></th>\n",
       "      <th>Hugo_Symbol</th>\n",
       "      <th>Entrez_Gene_Id</th>\n",
       "      <th>TARGET-30-PARGUX-01</th>\n",
       "      <th>TARGET-30-PARUXY-01</th>\n",
       "      <th>TARGET-30-PASCLP-01</th>\n",
       "      <th>TARGET-30-PARACM-01</th>\n",
       "      <th>TARGET-30-PARAHE-01</th>\n",
       "      <th>TARGET-30-PADIEY-01</th>\n",
       "      <th>TARGET-30-PADLJN-01</th>\n",
       "      <th>TARGET-30-PARIKF-01</th>\n",
       "      <th>...</th>\n",
       "      <th>TARGET-30-PASATK-01</th>\n",
       "      <th>TARGET-30-PAPZYP-01</th>\n",
       "      <th>TARGET-30-PASCUF-01</th>\n",
       "      <th>TARGET-30-PADUYJ-01</th>\n",
       "      <th>TARGET-30-PACUGP-01</th>\n",
       "      <th>TARGET-30-PADMTD-01</th>\n",
       "      <th>TARGET-30-PADSEC-01</th>\n",
       "      <th>TARGET-30-PARRBU-01</th>\n",
       "      <th>TARGET-30-PARDUJ-01</th>\n",
       "      <th>TARGET-30-PARSHT-01</th>\n",
       "    </tr>\n",
       "  </thead>\n",
       "  <tbody>\n",
       "    <tr>\n",
       "      <th>0</th>\n",
       "      <td>A1BG</td>\n",
       "      <td>1.0</td>\n",
       "      <td>-0.7575</td>\n",
       "      <td>0.2270</td>\n",
       "      <td>-0.5069</td>\n",
       "      <td>-0.5560</td>\n",
       "      <td>-1.2959</td>\n",
       "      <td>0.5242</td>\n",
       "      <td>1.0573</td>\n",
       "      <td>-0.2003</td>\n",
       "      <td>...</td>\n",
       "      <td>0.9922</td>\n",
       "      <td>-1.0532</td>\n",
       "      <td>-0.6831</td>\n",
       "      <td>-0.0230</td>\n",
       "      <td>1.0508</td>\n",
       "      <td>-0.2225</td>\n",
       "      <td>0.0604</td>\n",
       "      <td>-0.1815</td>\n",
       "      <td>0.6363</td>\n",
       "      <td>0.5120</td>\n",
       "    </tr>\n",
       "    <tr>\n",
       "      <th>1</th>\n",
       "      <td>A1BG-AS</td>\n",
       "      <td>503538.0</td>\n",
       "      <td>-1.1769</td>\n",
       "      <td>0.3726</td>\n",
       "      <td>-1.6838</td>\n",
       "      <td>-0.0496</td>\n",
       "      <td>0.1115</td>\n",
       "      <td>1.7110</td>\n",
       "      <td>1.2268</td>\n",
       "      <td>0.1267</td>\n",
       "      <td>...</td>\n",
       "      <td>0.7471</td>\n",
       "      <td>-1.0179</td>\n",
       "      <td>0.6489</td>\n",
       "      <td>-0.7145</td>\n",
       "      <td>0.3600</td>\n",
       "      <td>0.4660</td>\n",
       "      <td>1.2163</td>\n",
       "      <td>-0.3242</td>\n",
       "      <td>-0.2008</td>\n",
       "      <td>-0.0760</td>\n",
       "    </tr>\n",
       "    <tr>\n",
       "      <th>2</th>\n",
       "      <td>A1CF</td>\n",
       "      <td>29974.0</td>\n",
       "      <td>-1.0870</td>\n",
       "      <td>0.2570</td>\n",
       "      <td>-0.3968</td>\n",
       "      <td>-0.5413</td>\n",
       "      <td>-1.1317</td>\n",
       "      <td>0.4002</td>\n",
       "      <td>0.4741</td>\n",
       "      <td>-0.5914</td>\n",
       "      <td>...</td>\n",
       "      <td>-0.4038</td>\n",
       "      <td>-0.3305</td>\n",
       "      <td>-0.2848</td>\n",
       "      <td>-1.0227</td>\n",
       "      <td>-0.6576</td>\n",
       "      <td>-0.6443</td>\n",
       "      <td>-0.7339</td>\n",
       "      <td>-0.5096</td>\n",
       "      <td>-0.1254</td>\n",
       "      <td>-0.5037</td>\n",
       "    </tr>\n",
       "    <tr>\n",
       "      <th>3</th>\n",
       "      <td>A2LD1</td>\n",
       "      <td>87769.0</td>\n",
       "      <td>-0.7548</td>\n",
       "      <td>0.5501</td>\n",
       "      <td>-1.2261</td>\n",
       "      <td>-0.1840</td>\n",
       "      <td>-0.5129</td>\n",
       "      <td>0.0063</td>\n",
       "      <td>0.7243</td>\n",
       "      <td>-0.3512</td>\n",
       "      <td>...</td>\n",
       "      <td>0.3184</td>\n",
       "      <td>-0.7540</td>\n",
       "      <td>-0.4304</td>\n",
       "      <td>-1.9870</td>\n",
       "      <td>-1.2074</td>\n",
       "      <td>-0.8643</td>\n",
       "      <td>-0.6668</td>\n",
       "      <td>0.0542</td>\n",
       "      <td>-1.0210</td>\n",
       "      <td>-0.1750</td>\n",
       "    </tr>\n",
       "    <tr>\n",
       "      <th>4</th>\n",
       "      <td>A2M</td>\n",
       "      <td>2.0</td>\n",
       "      <td>0.7565</td>\n",
       "      <td>1.1830</td>\n",
       "      <td>-2.1143</td>\n",
       "      <td>1.2334</td>\n",
       "      <td>1.3564</td>\n",
       "      <td>0.0835</td>\n",
       "      <td>0.4163</td>\n",
       "      <td>-0.7907</td>\n",
       "      <td>...</td>\n",
       "      <td>0.1497</td>\n",
       "      <td>0.7453</td>\n",
       "      <td>-0.2107</td>\n",
       "      <td>-0.4322</td>\n",
       "      <td>-0.4674</td>\n",
       "      <td>-1.7882</td>\n",
       "      <td>0.1765</td>\n",
       "      <td>0.6566</td>\n",
       "      <td>0.9899</td>\n",
       "      <td>0.3145</td>\n",
       "    </tr>\n",
       "    <tr>\n",
       "      <th>...</th>\n",
       "      <td>...</td>\n",
       "      <td>...</td>\n",
       "      <td>...</td>\n",
       "      <td>...</td>\n",
       "      <td>...</td>\n",
       "      <td>...</td>\n",
       "      <td>...</td>\n",
       "      <td>...</td>\n",
       "      <td>...</td>\n",
       "      <td>...</td>\n",
       "      <td>...</td>\n",
       "      <td>...</td>\n",
       "      <td>...</td>\n",
       "      <td>...</td>\n",
       "      <td>...</td>\n",
       "      <td>...</td>\n",
       "      <td>...</td>\n",
       "      <td>...</td>\n",
       "      <td>...</td>\n",
       "      <td>...</td>\n",
       "      <td>...</td>\n",
       "    </tr>\n",
       "    <tr>\n",
       "      <th>23429</th>\n",
       "      <td>ZYX</td>\n",
       "      <td>7791.0</td>\n",
       "      <td>0.5268</td>\n",
       "      <td>0.2533</td>\n",
       "      <td>-2.8126</td>\n",
       "      <td>-0.6417</td>\n",
       "      <td>0.4738</td>\n",
       "      <td>-0.9149</td>\n",
       "      <td>0.6479</td>\n",
       "      <td>-0.3058</td>\n",
       "      <td>...</td>\n",
       "      <td>-0.8906</td>\n",
       "      <td>-0.3924</td>\n",
       "      <td>-1.7315</td>\n",
       "      <td>-1.1564</td>\n",
       "      <td>-0.2110</td>\n",
       "      <td>0.2232</td>\n",
       "      <td>-0.9968</td>\n",
       "      <td>2.0992</td>\n",
       "      <td>-0.2040</td>\n",
       "      <td>-0.8092</td>\n",
       "    </tr>\n",
       "    <tr>\n",
       "      <th>23430</th>\n",
       "      <td>ZZEF1</td>\n",
       "      <td>23140.0</td>\n",
       "      <td>1.3047</td>\n",
       "      <td>-0.5412</td>\n",
       "      <td>0.4842</td>\n",
       "      <td>-0.2173</td>\n",
       "      <td>0.8736</td>\n",
       "      <td>0.1749</td>\n",
       "      <td>0.1990</td>\n",
       "      <td>0.5272</td>\n",
       "      <td>...</td>\n",
       "      <td>-0.8695</td>\n",
       "      <td>0.1024</td>\n",
       "      <td>-0.7491</td>\n",
       "      <td>1.4162</td>\n",
       "      <td>0.5187</td>\n",
       "      <td>1.3664</td>\n",
       "      <td>-0.0899</td>\n",
       "      <td>-0.1711</td>\n",
       "      <td>-0.8550</td>\n",
       "      <td>0.2682</td>\n",
       "    </tr>\n",
       "    <tr>\n",
       "      <th>23431</th>\n",
       "      <td>ZZZ3</td>\n",
       "      <td>26009.0</td>\n",
       "      <td>0.4341</td>\n",
       "      <td>-0.4094</td>\n",
       "      <td>-0.1371</td>\n",
       "      <td>0.9689</td>\n",
       "      <td>0.7461</td>\n",
       "      <td>-0.6206</td>\n",
       "      <td>-0.4257</td>\n",
       "      <td>-0.7474</td>\n",
       "      <td>...</td>\n",
       "      <td>0.0602</td>\n",
       "      <td>-0.8886</td>\n",
       "      <td>1.1405</td>\n",
       "      <td>-0.7207</td>\n",
       "      <td>0.4037</td>\n",
       "      <td>0.5328</td>\n",
       "      <td>1.0088</td>\n",
       "      <td>1.1131</td>\n",
       "      <td>0.9751</td>\n",
       "      <td>-0.2958</td>\n",
       "    </tr>\n",
       "    <tr>\n",
       "      <th>23432</th>\n",
       "      <td>psiTPTE22</td>\n",
       "      <td>387590.0</td>\n",
       "      <td>0.3224</td>\n",
       "      <td>2.2296</td>\n",
       "      <td>0.1803</td>\n",
       "      <td>-0.2175</td>\n",
       "      <td>3.0866</td>\n",
       "      <td>-1.2599</td>\n",
       "      <td>0.3618</td>\n",
       "      <td>1.0334</td>\n",
       "      <td>...</td>\n",
       "      <td>0.4462</td>\n",
       "      <td>1.8960</td>\n",
       "      <td>1.3919</td>\n",
       "      <td>-1.2103</td>\n",
       "      <td>1.6464</td>\n",
       "      <td>-0.3975</td>\n",
       "      <td>-0.2522</td>\n",
       "      <td>-0.3480</td>\n",
       "      <td>1.5174</td>\n",
       "      <td>1.2576</td>\n",
       "    </tr>\n",
       "    <tr>\n",
       "      <th>23433</th>\n",
       "      <td>tAKR</td>\n",
       "      <td>NaN</td>\n",
       "      <td>-0.5373</td>\n",
       "      <td>0.6413</td>\n",
       "      <td>-0.3684</td>\n",
       "      <td>-0.1772</td>\n",
       "      <td>-1.2842</td>\n",
       "      <td>-0.3886</td>\n",
       "      <td>-0.0408</td>\n",
       "      <td>-0.0057</td>\n",
       "      <td>...</td>\n",
       "      <td>-0.1997</td>\n",
       "      <td>-1.7531</td>\n",
       "      <td>-0.8458</td>\n",
       "      <td>0.4100</td>\n",
       "      <td>0.1579</td>\n",
       "      <td>0.1106</td>\n",
       "      <td>0.0590</td>\n",
       "      <td>0.7933</td>\n",
       "      <td>-0.0275</td>\n",
       "      <td>0.8209</td>\n",
       "    </tr>\n",
       "  </tbody>\n",
       "</table>\n",
       "<p>23434 rows × 45 columns</p>\n",
       "</div>"
      ],
      "text/plain": [
       "      Hugo_Symbol  Entrez_Gene_Id  TARGET-30-PARGUX-01  TARGET-30-PARUXY-01  \\\n",
       "0            A1BG             1.0              -0.7575               0.2270   \n",
       "1         A1BG-AS        503538.0              -1.1769               0.3726   \n",
       "2            A1CF         29974.0              -1.0870               0.2570   \n",
       "3           A2LD1         87769.0              -0.7548               0.5501   \n",
       "4             A2M             2.0               0.7565               1.1830   \n",
       "...           ...             ...                  ...                  ...   \n",
       "23429         ZYX          7791.0               0.5268               0.2533   \n",
       "23430       ZZEF1         23140.0               1.3047              -0.5412   \n",
       "23431        ZZZ3         26009.0               0.4341              -0.4094   \n",
       "23432   psiTPTE22        387590.0               0.3224               2.2296   \n",
       "23433        tAKR             NaN              -0.5373               0.6413   \n",
       "\n",
       "       TARGET-30-PASCLP-01  TARGET-30-PARACM-01  TARGET-30-PARAHE-01  \\\n",
       "0                  -0.5069              -0.5560              -1.2959   \n",
       "1                  -1.6838              -0.0496               0.1115   \n",
       "2                  -0.3968              -0.5413              -1.1317   \n",
       "3                  -1.2261              -0.1840              -0.5129   \n",
       "4                  -2.1143               1.2334               1.3564   \n",
       "...                    ...                  ...                  ...   \n",
       "23429              -2.8126              -0.6417               0.4738   \n",
       "23430               0.4842              -0.2173               0.8736   \n",
       "23431              -0.1371               0.9689               0.7461   \n",
       "23432               0.1803              -0.2175               3.0866   \n",
       "23433              -0.3684              -0.1772              -1.2842   \n",
       "\n",
       "       TARGET-30-PADIEY-01  TARGET-30-PADLJN-01  TARGET-30-PARIKF-01  ...  \\\n",
       "0                   0.5242               1.0573              -0.2003  ...   \n",
       "1                   1.7110               1.2268               0.1267  ...   \n",
       "2                   0.4002               0.4741              -0.5914  ...   \n",
       "3                   0.0063               0.7243              -0.3512  ...   \n",
       "4                   0.0835               0.4163              -0.7907  ...   \n",
       "...                    ...                  ...                  ...  ...   \n",
       "23429              -0.9149               0.6479              -0.3058  ...   \n",
       "23430               0.1749               0.1990               0.5272  ...   \n",
       "23431              -0.6206              -0.4257              -0.7474  ...   \n",
       "23432              -1.2599               0.3618               1.0334  ...   \n",
       "23433              -0.3886              -0.0408              -0.0057  ...   \n",
       "\n",
       "       TARGET-30-PASATK-01  TARGET-30-PAPZYP-01  TARGET-30-PASCUF-01  \\\n",
       "0                   0.9922              -1.0532              -0.6831   \n",
       "1                   0.7471              -1.0179               0.6489   \n",
       "2                  -0.4038              -0.3305              -0.2848   \n",
       "3                   0.3184              -0.7540              -0.4304   \n",
       "4                   0.1497               0.7453              -0.2107   \n",
       "...                    ...                  ...                  ...   \n",
       "23429              -0.8906              -0.3924              -1.7315   \n",
       "23430              -0.8695               0.1024              -0.7491   \n",
       "23431               0.0602              -0.8886               1.1405   \n",
       "23432               0.4462               1.8960               1.3919   \n",
       "23433              -0.1997              -1.7531              -0.8458   \n",
       "\n",
       "       TARGET-30-PADUYJ-01  TARGET-30-PACUGP-01  TARGET-30-PADMTD-01  \\\n",
       "0                  -0.0230               1.0508              -0.2225   \n",
       "1                  -0.7145               0.3600               0.4660   \n",
       "2                  -1.0227              -0.6576              -0.6443   \n",
       "3                  -1.9870              -1.2074              -0.8643   \n",
       "4                  -0.4322              -0.4674              -1.7882   \n",
       "...                    ...                  ...                  ...   \n",
       "23429              -1.1564              -0.2110               0.2232   \n",
       "23430               1.4162               0.5187               1.3664   \n",
       "23431              -0.7207               0.4037               0.5328   \n",
       "23432              -1.2103               1.6464              -0.3975   \n",
       "23433               0.4100               0.1579               0.1106   \n",
       "\n",
       "       TARGET-30-PADSEC-01  TARGET-30-PARRBU-01  TARGET-30-PARDUJ-01  \\\n",
       "0                   0.0604              -0.1815               0.6363   \n",
       "1                   1.2163              -0.3242              -0.2008   \n",
       "2                  -0.7339              -0.5096              -0.1254   \n",
       "3                  -0.6668               0.0542              -1.0210   \n",
       "4                   0.1765               0.6566               0.9899   \n",
       "...                    ...                  ...                  ...   \n",
       "23429              -0.9968               2.0992              -0.2040   \n",
       "23430              -0.0899              -0.1711              -0.8550   \n",
       "23431               1.0088               1.1131               0.9751   \n",
       "23432              -0.2522              -0.3480               1.5174   \n",
       "23433               0.0590               0.7933              -0.0275   \n",
       "\n",
       "       TARGET-30-PARSHT-01  \n",
       "0                   0.5120  \n",
       "1                  -0.0760  \n",
       "2                  -0.5037  \n",
       "3                  -0.1750  \n",
       "4                   0.3145  \n",
       "...                    ...  \n",
       "23429              -0.8092  \n",
       "23430               0.2682  \n",
       "23431              -0.2958  \n",
       "23432               1.2576  \n",
       "23433               0.8209  \n",
       "\n",
       "[23434 rows x 45 columns]"
      ]
     },
     "execution_count": 116,
     "metadata": {},
     "output_type": "execute_result"
    }
   ],
   "source": [
    "sca_z_scores"
   ]
  },
  {
   "cell_type": "code",
   "execution_count": 129,
   "metadata": {},
   "outputs": [],
   "source": [
    "#Obtain the ACE2 z-scores in sca samples\n",
    "ACE2_sca_z_scores = sca_z_scores.loc[sca_z_scores['Hugo_Symbol']=='ACE2'].iloc[:,2:].transpose()\n",
    "#Find samples for which the z-scores are < -0.5\n",
    "low_ACE2_sca_samples = ACE2_sca_z_scores.loc[ACE2_sca_z_scores.iloc[:,0] < -0.5].index\n",
    "#Find samples for which the z-scores are > 0.5\n",
    "high_ACE2_sca_samples = ACE2_sca_z_scores.loc[ACE2_sca_z_scores.iloc[:,0] > 0.5].index\n",
    "\n"
   ]
  },
  {
   "cell_type": "code",
   "execution_count": 130,
   "metadata": {},
   "outputs": [
    {
     "name": "stdout",
     "output_type": "stream",
     "text": [
      "Low expression: median EFS = 1191.5, mean EFS = 1708.1666666666667, 95% CI = (1016.1689087011222, 2400.164424632211)\n",
      "High expression: median EFS = 762.5, mean EFS = 1344.0, 95% CI = (389.13647003621907, 2298.863529963781)\n",
      "Ttest_indResult(statistic=0.5385618820725083, pvalue=0.5955971080904647)\n"
     ]
    },
    {
     "data": {
      "image/png": "[encoded data removed]",
      "text/plain": [
       "<Figure size 432x288 with 1 Axes>"
      ]
     },
     "metadata": {
      "needs_background": "light"
     },
     "output_type": "display_data"
    }
   ],
   "source": [
    "compareEFS([low_ACE2_sca_samples,high_ACE2_sca_samples], 'EFS in SCA samples stratified by ACE2 expression', 'Low expression', 'High expression')\n",
    "\n"
   ]
  },
  {
   "cell_type": "markdown",
   "metadata": {},
   "source": [
    "# Chromosome 10 loss analysis"
   ]
  },
  {
   "cell_type": "code",
   "execution_count": 119,
   "metadata": {},
   "outputs": [
    {
     "data": {
      "image/png": "[encoded data removed]",
      "text/plain": [
       "<Figure size 432x288 with 1 Axes>"
      ]
     },
     "metadata": {
      "needs_background": "light"
     },
     "output_type": "display_data"
    },
    {
     "data": {
      "image/png": "[encoded data removed]",
      "text/plain": [
       "<Figure size 432x288 with 1 Axes>"
      ]
     },
     "metadata": {
      "needs_background": "light"
     },
     "output_type": "display_data"
    },
    {
     "name": "stdout",
     "output_type": "stream",
     "text": [
      "No Loss: median = -0.2675, mean = -0.21671111111111108, 95% CI = (-0.4806820533722305, 0.04725983115000837)\n",
      "Loss: median = -0.0009500000000000064, mean = -0.07541999999999999, 95% CI = (-0.742214386488971, 0.5913743864889709)\n",
      "Ttest_indResult(statistic=-0.4322514698057315, pvalue=0.6673123030658021)\n"
     ]
    }
   ],
   "source": [
    "#Filter only data for chromosome 10\n",
    "ch10_data = cna_data.loc[cna_data['chrom']=='10']\n",
    "\n",
    "#Find all loci with log2-ratio < -0.2\n",
    "ch10_loss = ch10_data[ch10_data['seg.mean']<-0.2]\n",
    "\n",
    "#Only include samples that have substantial CNV gain across the chromosome (>10Mb affected)\n",
    "ch10_loss_filtered = pd.DataFrame(columns=ch10_loss.columns)\n",
    "for sample in ch10_loss['ID'].unique():\n",
    "    sample_df = ch10_loss.loc[ch10_loss['ID']==sample]\n",
    "    total_loss_length = sum(sample_df['loc.end']) - sum(sample_df['loc.start'])\n",
    "    if(total_loss_length >= 10000000):\n",
    "        ch10_loss_filtered = ch10_loss_filtered.append(ch10_loss[ch10_loss['ID'] == sample])\n",
    "        \n",
    "#Stratify samples based on chromosome 10 deletion status\n",
    "ch10_loss_samples = ch10_loss_filtered['ID'].unique()\n",
    "ch10_non_loss_samples = set(cna_data['ID'].unique().tolist()) - set(ch10_loss_samples.tolist())\n",
    "\n",
    "#Compare ACE2 expression between different groups\n",
    "compareExpression('ACE2',[ch10_non_loss_samples,ch10_loss_samples],'Chromosome 10 loss','No Loss','Loss')\n",
    "\n",
    "        \n",
    "        \n",
    "        "
   ]
  },
  {
   "cell_type": "code",
   "execution_count": 120,
   "metadata": {},
   "outputs": [
    {
     "data": {
      "image/png": "[encoded data removed]",
      "text/plain": [
       "<Figure size 432x288 with 1 Axes>"
      ]
     },
     "metadata": {
      "needs_background": "light"
     },
     "output_type": "display_data"
    },
    {
     "data": {
      "image/png": "[encoded data removed]",
      "text/plain": [
       "<Figure size 432x288 with 1 Axes>"
      ]
     },
     "metadata": {
      "needs_background": "light"
     },
     "output_type": "display_data"
    },
    {
     "name": "stdout",
     "output_type": "stream",
     "text": [
      "No Loss: median = -0.2809, mean = -0.2546978723404255, 95% CI = (-0.5156297241739318, 0.006233979493080799)\n",
      "Loss: median = 0.2163, mean = 0.18307500000000004, 95% CI = (-0.5032306576605012, 0.8693806576605012)\n",
      "Ttest_indResult(statistic=-1.2396544676479546, pvalue=0.22056424831585858)\n"
     ]
    }
   ],
   "source": [
    "#Filter only data for chromosome 10q\n",
    "ch10q_data = ch10_data.loc[ch10_data['loc.start']>42300000] #coordinate 42300000 is the end of the centrosome\n",
    "\n",
    "#Find all loci with log2-ratio < -0.2\n",
    "ch10q_loss = ch10q_data[ch10q_data['seg.mean']<-0.2]\n",
    "\n",
    "#Only include samples that have substantial CNV gain across the chromosome (>10Mb affected)\n",
    "ch10q_loss_filtered = pd.DataFrame(columns=ch10q_loss.columns)\n",
    "for sample in ch10q_loss['ID'].unique():\n",
    "    sample_df = ch10q_loss.loc[ch10q_loss['ID']==sample]\n",
    "    total_loss_length = sum(sample_df['loc.end']) - sum(sample_df['loc.start'])\n",
    "    if(total_loss_length >= 10000000):\n",
    "        ch10q_loss_filtered = ch10q_loss_filtered.append(ch10q_loss[ch10q_loss['ID'] == sample])\n",
    "        \n",
    "#Stratify samples based on chromosome 10 deletion status\n",
    "ch10q_loss_samples = ch10q_loss_filtered['ID'].unique()\n",
    "ch10q_non_loss_samples = set(cna_data['ID'].unique().tolist()) - set(ch10q_loss_samples.tolist())\n",
    "\n",
    "#Compare ACE2 expression between different groups\n",
    "compareExpression('ACE2',[ch10q_non_loss_samples,ch10q_loss_samples],'Chromosome 10q loss','No Loss','Loss')\n",
    "\n",
    "        \n",
    "        \n",
    "        "
   ]
  },
  {
   "cell_type": "code",
   "execution_count": 121,
   "metadata": {},
   "outputs": [
    {
     "data": {
      "image/png": "[encoded data removed]",
      "text/plain": [
       "<Figure size 432x288 with 1 Axes>"
      ]
     },
     "metadata": {
      "needs_background": "light"
     },
     "output_type": "display_data"
    },
    {
     "data": {
      "image/png": "[encoded data removed]",
      "text/plain": [
       "<Figure size 432x288 with 1 Axes>"
      ]
     },
     "metadata": {
      "needs_background": "light"
     },
     "output_type": "display_data"
    },
    {
     "name": "stdout",
     "output_type": "stream",
     "text": [
      "No Loss: median = -0.23270000000000002, mean = -0.22176, 95% CI = (-0.46335962318681, 0.019839623186809985)\n",
      "Loss: median = 0.7244, mean = 0.11635999999999999, 95% CI = (-1.179919274927091, 1.412639274927091)\n",
      "Ttest_indResult(statistic=-0.7739852879963528, pvalue=0.4423784111143586)\n"
     ]
    }
   ],
   "source": [
    "#Filter only data for chromosome 10p\n",
    "ch10p_data = ch10_data.loc[ch10_data['loc.end']<38000000] #coordinate 38000000 is the start of the centrosome\n",
    "\n",
    "#Find all loci with log2-ratio < -0.2\n",
    "ch10p_loss = ch10p_data[ch10p_data['seg.mean']<-0.2]\n",
    "\n",
    "#Only include samples that have substantial CNV gain across the chromosome (>10Mb affected)\n",
    "ch10p_loss_filtered = pd.DataFrame(columns=ch10p_loss.columns)\n",
    "for sample in ch10p_loss['ID'].unique():\n",
    "    sample_df = ch10p_loss.loc[ch10p_loss['ID']==sample]\n",
    "    total_loss_length = sum(sample_df['loc.end']) - sum(sample_df['loc.start'])\n",
    "    if(total_loss_length >= 10000000):\n",
    "        ch10p_loss_filtered = ch10p_loss_filtered.append(ch10p_loss[ch10p_loss['ID'] == sample])\n",
    "        \n",
    "#Stratify samples based on chromosome 10 deletion status\n",
    "ch10p_loss_samples = ch10p_loss_filtered['ID'].unique()\n",
    "ch10p_non_loss_samples = set(cna_data['ID'].unique().tolist()) - set(ch10p_loss_samples.tolist())\n",
    "\n",
    "#Compare ACE2 expression between different groups\n",
    "compareExpression('ACE2',[ch10p_non_loss_samples,ch10p_loss_samples],'Chromosome 10p loss','No Loss','Loss')\n",
    "\n",
    "        \n",
    "        \n",
    "        "
   ]
  },
  {
   "cell_type": "markdown",
   "metadata": {},
   "source": [
    "# Chromosome 4 loss analysis"
   ]
  },
  {
   "cell_type": "code",
   "execution_count": 122,
   "metadata": {},
   "outputs": [
    {
     "data": {
      "image/png": "[encoded data removed]",
      "text/plain": [
       "<Figure size 432x288 with 1 Axes>"
      ]
     },
     "metadata": {
      "needs_background": "light"
     },
     "output_type": "display_data"
    },
    {
     "data": {
      "image/png": "[encoded data removed]",
      "text/plain": [
       "<Figure size 432x288 with 1 Axes>"
      ]
     },
     "metadata": {
      "needs_background": "light"
     },
     "output_type": "display_data"
    },
    {
     "name": "stdout",
     "output_type": "stream",
     "text": [
      "No Loss: median = -0.0544, mean = -0.01625121951219512, 95% CI = (-0.29693268250755034, 0.26443024348316013)\n",
      "Loss: median = -0.9163, mean = -0.7028500000000001, 95% CI = (-1.1122740810981147, -0.29342591890188563)\n",
      "Ttest_indResult(statistic=2.504357581554988, pvalue=0.015379334264358467)\n"
     ]
    }
   ],
   "source": [
    "#Filter only data for chromosome 4\n",
    "ch_data = cna_data.loc[cna_data['chrom']=='4']\n",
    "\n",
    "#Find all loci with log2-ratio < -0.2\n",
    "ch_loss = ch_data[ch_data['seg.mean']<-0.2]\n",
    "\n",
    "#Only include samples that have substantial CNV gain across the chromosome (>10Mb affected)\n",
    "ch_loss_filtered = pd.DataFrame(columns=ch_loss.columns)\n",
    "for sample in ch_loss['ID'].unique():\n",
    "    sample_df = ch_loss.loc[ch_loss['ID']==sample]\n",
    "    total_loss_length = sum(sample_df['loc.end']) - sum(sample_df['loc.start'])\n",
    "    if(total_loss_length >= 10000000):\n",
    "        ch_loss_filtered = ch_loss_filtered.append(ch_loss[ch_loss['ID'] == sample])\n",
    "        \n",
    "#Stratify samples based on chromosome 10 deletion status\n",
    "ch_loss_samples = ch_loss_filtered['ID'].unique()\n",
    "ch_non_loss_samples = set(cna_data['ID'].unique().tolist()) - set(ch_loss_samples.tolist())\n",
    "\n",
    "#Compare ACE2 expression between different groups\n",
    "compareExpression('ACE2',[ch_non_loss_samples,ch_loss_samples],'Chromosome 4 loss','No Loss','Loss')\n",
    "\n",
    "        \n",
    "        \n",
    "        "
   ]
  },
  {
   "cell_type": "code",
   "execution_count": 123,
   "metadata": {},
   "outputs": [
    {
     "data": {
      "image/png": "[encoded data removed]",
      "text/plain": [
       "<Figure size 432x288 with 1 Axes>"
      ]
     },
     "metadata": {
      "needs_background": "light"
     },
     "output_type": "display_data"
    },
    {
     "data": {
      "image/png": "[encoded data removed]",
      "text/plain": [
       "<Figure size 432x288 with 1 Axes>"
      ]
     },
     "metadata": {
      "needs_background": "light"
     },
     "output_type": "display_data"
    },
    {
     "name": "stdout",
     "output_type": "stream",
     "text": [
      "No Loss: median = -0.168, mean = -0.08352790697674416, 95% CI = (-0.3671363307864672, 0.20008051683297884)\n",
      "Loss: median = -0.58825, mean = -0.5762083333333333, 95% CI = (-1.0078984933526887, -0.14451817331397793)\n",
      "Ttest_indResult(statistic=1.6521377115386253, pvalue=0.10441956137157472)\n"
     ]
    }
   ],
   "source": [
    "#Filter only data for chromosome 4\n",
    "ch_data = cna_data.loc[cna_data['chrom']=='4']\n",
    "\n",
    "#Filter only data for chromosome 4p\n",
    "ch_data = ch_data.loc[ch_data['loc.end']<48200000] #coordinate 48200000 is the start of the centrosome\n",
    "\n",
    "#Find all loci with log2-ratio < -0.2\n",
    "ch_loss = ch_data[ch_data['seg.mean']<-0.2]\n",
    "\n",
    "#Only include samples that have substantial CNV gain across the chromosome (>10Mb affected)\n",
    "ch_loss_filtered = pd.DataFrame(columns=ch_loss.columns)\n",
    "for sample in ch_loss['ID'].unique():\n",
    "    sample_df = ch_loss.loc[ch_loss['ID']==sample]\n",
    "    total_loss_length = sum(sample_df['loc.end']) - sum(sample_df['loc.start'])\n",
    "    if(total_loss_length >= 10000000):\n",
    "        ch_loss_filtered = ch_loss_filtered.append(ch_loss[ch_loss['ID'] == sample])\n",
    "        \n",
    "#Stratify samples based on chromosome 10 deletion status\n",
    "ch_loss_samples = ch_loss_filtered['ID'].unique()\n",
    "ch_non_loss_samples = set(cna_data['ID'].unique().tolist()) - set(ch_loss_samples.tolist())\n",
    "\n",
    "#Compare ACE2 expression between different groups\n",
    "compareExpression('ACE2',[ch_non_loss_samples,ch_loss_samples],'Chromosome 4 loss','No Loss','Loss')\n",
    "\n",
    "        \n",
    "        \n",
    "        "
   ]
  },
  {
   "cell_type": "code",
   "execution_count": 124,
   "metadata": {},
   "outputs": [
    {
     "data": {
      "image/png": "[encoded data removed]",
      "text/plain": [
       "<Figure size 432x288 with 1 Axes>"
      ]
     },
     "metadata": {
      "needs_background": "light"
     },
     "output_type": "display_data"
    },
    {
     "data": {
      "image/png": "[encoded data removed]",
      "text/plain": [
       "<Figure size 432x288 with 1 Axes>"
      ]
     },
     "metadata": {
      "needs_background": "light"
     },
     "output_type": "display_data"
    },
    {
     "name": "stdout",
     "output_type": "stream",
     "text": [
      "No Loss: median = -0.1743, mean = -0.17088235294117643, 95% CI = (-0.4323899887392556, 0.09062528285690274)\n",
      "Loss: median = -0.36395, mean = -0.4478, 95% CI = (-0.9587587326775627, 0.06315873267756278)\n",
      "Ttest_indResult(statistic=0.5711489228398173, pvalue=0.5703127851118381)\n"
     ]
    }
   ],
   "source": [
    "#Filter only data for chromosome 4\n",
    "ch_data = cna_data.loc[cna_data['chrom']=='4']\n",
    "\n",
    "#Filter only data for chromosome 4q\n",
    "ch_data = ch_data.loc[ch_data['loc.start']>52700000] #coordinate 52700000 is the end of the centrosome\n",
    "\n",
    "#Find all loci with log2-ratio < -0.2\n",
    "ch_loss = ch_data[ch_data['seg.mean']<-0.2]\n",
    "\n",
    "#Only include samples that have substantial CNV gain across the chromosome (>10Mb affected)\n",
    "ch_loss_filtered = pd.DataFrame(columns=ch_loss.columns)\n",
    "for sample in ch_loss['ID'].unique():\n",
    "    sample_df = ch_loss.loc[ch_loss['ID']==sample]\n",
    "    total_loss_length = sum(sample_df['loc.end']) - sum(sample_df['loc.start'])\n",
    "    if(total_loss_length >= 10000000):\n",
    "        ch_loss_filtered = ch_loss_filtered.append(ch_loss[ch_loss['ID'] == sample])\n",
    "        \n",
    "#Stratify samples based on chromosome 10 deletion status\n",
    "ch_loss_samples = ch_loss_filtered['ID'].unique()\n",
    "ch_non_loss_samples = set(cna_data['ID'].unique().tolist()) - set(ch_loss_samples.tolist())\n",
    "\n",
    "#Compare ACE2 expression between different groups\n",
    "compareExpression('ACE2',[ch_non_loss_samples,ch_loss_samples],'Chromosome 4 loss','No Loss','Loss')\n",
    "\n",
    "        \n",
    "        \n",
    "        "
   ]
  },
  {
   "cell_type": "markdown",
   "metadata": {},
   "source": [
    "# Chromosome 12 gain analysis"
   ]
  },
  {
   "cell_type": "code",
   "execution_count": 125,
   "metadata": {},
   "outputs": [
    {
     "data": {
      "image/png": "[encoded data removed]",
      "text/plain": [
       "<Figure size 432x288 with 1 Axes>"
      ]
     },
     "metadata": {
      "needs_background": "light"
     },
     "output_type": "display_data"
    },
    {
     "data": {
      "image/png": "[encoded data removed]",
      "text/plain": [
       "<Figure size 432x288 with 1 Axes>"
      ]
     },
     "metadata": {
      "needs_background": "light"
     },
     "output_type": "display_data"
    },
    {
     "name": "stdout",
     "output_type": "stream",
     "text": [
      "No Gain: median = -0.12614999999999998, mean = -0.05577045454545457, 95% CI = (-0.3183982119871279, 0.20685730289621881)\n",
      "Gain: median = -1.1319, mean = -0.7320272727272726, 95% CI = (-1.2768640266119564, -0.18719051884258875)\n",
      "Ttest_indResult(statistic=2.2410136334290507, pvalue=0.02923828895061316)\n"
     ]
    }
   ],
   "source": [
    "#Filter only data for chromosome 12\n",
    "ch_data = cna_data.loc[cna_data['chrom']=='12']\n",
    "\n",
    "#Find all loci with log2-ratio > 0.2\n",
    "ch_loss = ch_data[ch_data['seg.mean']>0.2]\n",
    "\n",
    "#Only include samples that have substantial CNV gain across the chromosome (>10Mb affected)\n",
    "ch_loss_filtered = pd.DataFrame(columns=ch_loss.columns)\n",
    "for sample in ch_loss['ID'].unique():\n",
    "    sample_df = ch_loss.loc[ch_loss['ID']==sample]\n",
    "    total_loss_length = sum(sample_df['loc.end']) - sum(sample_df['loc.start'])\n",
    "    if(total_loss_length >= 10000000):\n",
    "        ch_loss_filtered = ch_loss_filtered.append(ch_loss[ch_loss['ID'] == sample])\n",
    "        \n",
    "#Stratify samples based on chromosome 10 deletion status\n",
    "ch_loss_samples = ch_loss_filtered['ID'].unique()\n",
    "ch_non_loss_samples = set(cna_data['ID'].unique().tolist()) - set(ch_loss_samples.tolist())\n",
    "\n",
    "#Compare ACE2 expression between different groups\n",
    "compareExpression('ACE2',[ch_non_loss_samples,ch_loss_samples],'Chromosome 12 gain','No Gain','Gain')\n",
    "\n",
    "        \n",
    "        \n",
    "        "
   ]
  },
  {
   "cell_type": "code",
   "execution_count": 126,
   "metadata": {},
   "outputs": [
    {
     "data": {
      "image/png": "[encoded data removed]",
      "text/plain": [
       "<Figure size 432x288 with 1 Axes>"
      ]
     },
     "metadata": {
      "needs_background": "light"
     },
     "output_type": "display_data"
    },
    {
     "data": {
      "image/png": "[encoded data removed]",
      "text/plain": [
       "<Figure size 432x288 with 1 Axes>"
      ]
     },
     "metadata": {
      "needs_background": "light"
     },
     "output_type": "display_data"
    },
    {
     "name": "stdout",
     "output_type": "stream",
     "text": [
      "No Gain: median = -0.0544, mean = -0.05538222222222223, 95% CI = (-0.31210860623403847, 0.20134416178959402)\n",
      "Gain: median = -1.14275, mean = -0.8013999999999999, 95% CI = (-1.3846816705191745, -0.21811832948082543)\n",
      "Ttest_indResult(statistic=2.3987650204784976, pvalue=0.020001219069765624)\n"
     ]
    }
   ],
   "source": [
    "#Filter only data for chromosome 12\n",
    "ch_data = cna_data.loc[cna_data['chrom']=='12']\n",
    "\n",
    "#Filter only data for chromosome 12q\n",
    "ch_data = ch_data.loc[ch_data['loc.start']>38200000] #coordinate 38200000 is the end of the centrosome\n",
    "\n",
    "#Find all loci with log2-ratio > 0.2\n",
    "ch_loss = ch_data[ch_data['seg.mean']>0.2]\n",
    "\n",
    "#Only include samples that have substantial CNV gain across the chromosome (>10Mb affected)\n",
    "ch_loss_filtered = pd.DataFrame(columns=ch_loss.columns)\n",
    "for sample in ch_loss['ID'].unique():\n",
    "    sample_df = ch_loss.loc[ch_loss['ID']==sample]\n",
    "    total_loss_length = sum(sample_df['loc.end']) - sum(sample_df['loc.start'])\n",
    "    if(total_loss_length >= 10000000):\n",
    "        ch_loss_filtered = ch_loss_filtered.append(ch_loss[ch_loss['ID'] == sample])\n",
    "        \n",
    "#Stratify samples based on chromosome 10 deletion status\n",
    "ch_loss_samples = ch_loss_filtered['ID'].unique()\n",
    "ch_non_loss_samples = set(cna_data['ID'].unique().tolist()) - set(ch_loss_samples.tolist())\n",
    "\n",
    "#Compare ACE2 expression between different groups\n",
    "compareExpression('ACE2',[ch_non_loss_samples,ch_loss_samples],'Chromosome 12q gain','No Gain','Gain')\n",
    "\n",
    "        \n",
    "        \n",
    "        "
   ]
  },
  {
   "cell_type": "code",
   "execution_count": 127,
   "metadata": {},
   "outputs": [
    {
     "data": {
      "image/png": "[encoded data removed]",
      "text/plain": [
       "<Figure size 432x288 with 1 Axes>"
      ]
     },
     "metadata": {
      "needs_background": "light"
     },
     "output_type": "display_data"
    },
    {
     "data": {
      "image/png": "[encoded data removed]",
      "text/plain": [
       "<Figure size 432x288 with 1 Axes>"
      ]
     },
     "metadata": {
      "needs_background": "light"
     },
     "output_type": "display_data"
    },
    {
     "name": "stdout",
     "output_type": "stream",
     "text": [
      "No Gain: median = -0.0286, mean = 0.02646444444444444, 95% CI = (-0.2402492614585859, 0.2931781503474748)\n",
      "Gain: median = 0.7639, mean = 0.97079, 95% CI = (0.27510617225189105, 1.666473827748109)\n",
      "Ttest_indResult(statistic=-2.838202452353092, pvalue=0.006416759734785295)\n"
     ]
    }
   ],
   "source": [
    "compareExpression('MDM2',[ch_non_loss_samples,ch_loss_samples],'Chromosome 12q gain','No Gain','Gain')\n"
   ]
  },
  {
   "cell_type": "code",
   "execution_count": 128,
   "metadata": {},
   "outputs": [
    {
     "name": "stdout",
     "output_type": "stream",
     "text": [
      "No Gain: median EFS = 932.0, mean EFS = 1497.0204081632653, 95% CI = (1118.5066004241855, 1875.534215902345)\n",
      "Gain: median EFS = 596.0, mean EFS = 1594.2, 95% CI = (418.5503193994143, 2769.849680600586)\n",
      "Ttest_indResult(statistic=-0.19293340714948753, pvalue=0.8476969294089705)\n"
     ]
    },
    {
     "data": {
      "image/png": "[encoded data removed]",
      "text/plain": [
       "<Figure size 432x288 with 1 Axes>"
      ]
     },
     "metadata": {
      "needs_background": "light"
     },
     "output_type": "display_data"
    }
   ],
   "source": [
    "compareEFS([ch_non_loss_samples,ch_loss_samples], 'EFS stratified by 12q gain', 'No Gain', 'Gain')\n",
    "\n"
   ]
  },
  {
   "cell_type": "markdown",
   "metadata": {},
   "source": [
    "### Centrosome Coordinates for GRCh37 (hg19)\n",
    "\n",
    "Obtained from running \"curl -s \"http://hgdownload.cse.ucsc.edu/goldenPath/hg19/database/cytoBand.txt.gz\" | gunzip -c | grep acen\" in command line\n",
    "\n",
    "- chr1\t121500000\t125000000\tp11.1\tacen\n",
    "- chr1\t125000000\t128900000\tq11\tacen\n",
    "- chr10\t38000000\t40200000\tp11.1\tacen\n",
    "- chr10\t40200000\t42300000\tq11.1\tacen\n",
    "- chr11\t51600000\t53700000\tp11.11\tacen\n",
    "- chr11\t53700000\t55700000\tq11\tacen\n",
    "- chr12\t33300000\t35800000\tp11.1\tacen\n",
    "- chr12\t35800000\t38200000\tq11\tacen\n",
    "- chr13\t16300000\t17900000\tp11.1\tacen\n",
    "- chr13\t17900000\t19500000\tq11\tacen\n",
    "- chr14\t16100000\t17600000\tp11.1\tacen\n",
    "- chr14\t17600000\t19100000\tq11.1\tacen\n",
    "- chr15\t15800000\t19000000\tp11.1\tacen\n",
    "- chr15\t19000000\t20700000\tq11.1\tacen\n",
    "- chr16\t34600000\t36600000\tp11.1\tacen\n",
    "- chr16\t36600000\t38600000\tq11.1\tacen\n",
    "- chr17\t22200000\t24000000\tp11.1\tacen\n",
    "- chr17\t24000000\t25800000\tq11.1\tacen\n",
    "- chr18\t15400000\t17200000\tp11.1\tacen\n",
    "- chr18\t17200000\t19000000\tq11.1\tacen\n",
    "- chr19\t24400000\t26500000\tp11\tacen\n",
    "- chr19\t26500000\t28600000\tq11\tacen\n",
    "- chr2\t90500000\t93300000\tp11.1\tacen\n",
    "- chr2\t93300000\t96800000\tq11.1\tacen\n",
    "- chr20\t25600000\t27500000\tp11.1\tacen\n",
    "- chr20\t27500000\t29400000\tq11.1\tacen\n",
    "- chr21\t10900000\t13200000\tp11.1\tacen\n",
    "- chr21\t13200000\t14300000\tq11.1\tacen\n",
    "- chr22\t12200000\t14700000\tp11.1\tacen\n",
    "- chr22\t14700000\t17900000\tq11.1\tacen\n",
    "- chr3\t87900000\t91000000\tp11.1\tacen\n",
    "- chr3\t91000000\t93900000\tq11.1\tacen\n",
    "- chr4\t48200000\t50400000\tp11\tacen\n",
    "- chr4\t50400000\t52700000\tq11\tacen\n",
    "- chr5\t46100000\t48400000\tp11\tacen\n",
    "- chr5\t48400000\t50700000\tq11.1\tacen\n",
    "- chr6\t58700000\t61000000\tp11.1\tacen\n",
    "- chr6\t61000000\t63300000\tq11.1\tacen\n",
    "- chr7\t58000000\t59900000\tp11.1\tacen\n",
    "- chr7\t59900000\t61700000\tq11.1\tacen\n",
    "- chr8\t43100000\t45600000\tp11.1\tacen\n",
    "- chr8\t45600000\t48100000\tq11.1\tacen\n",
    "- chr9\t47300000\t49000000\tp11.1\tacen\n",
    "- chr9\t49000000\t50700000\tq11\tacen\n",
    "- chrX\t58100000\t60600000\tp11.1\tacen\n",
    "- chrX\t60600000\t63000000\tq11.1\tacen\n",
    "- chrY\t11600000\t12500000\tp11.1\tacen\n",
    "- chrY\t12500000\t13400000\tq11.1\tacen"
   ]
  },
  {
   "cell_type": "code",
   "execution_count": null,
   "metadata": {},
   "outputs": [],
   "source": []
  }
 ],
 "metadata": {
  "kernelspec": {
   "display_name": "Python 3",
   "language": "python",
   "name": "python3"
  },
  "language_info": {
   "codemirror_mode": {
    "name": "ipython",
    "version": 3
   },
   "file_extension": ".py",
   "mimetype": "text/x-python",
   "name": "python",
   "nbconvert_exporter": "python",
   "pygments_lexer": "ipython3",
   "version": "3.8.5"
  }
 },
 "nbformat": 4,
 "nbformat_minor": 4
}
