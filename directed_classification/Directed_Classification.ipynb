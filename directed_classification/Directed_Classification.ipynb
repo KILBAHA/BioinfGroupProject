{
 "cells": [
  {
   "cell_type": "markdown",
   "id": "handy-canadian",
   "metadata": {},
   "source": [
    "# Create dataset for directed classification"
   ]
  },
  {
   "cell_type": "markdown",
   "id": "south-usage",
   "metadata": {},
   "source": [
    "Script used to create a dataset with select attributes"
   ]
  },
  {
   "cell_type": "markdown",
   "id": "above-birmingham",
   "metadata": {},
   "source": [
    "## Read in z scores and format"
   ]
  },
  {
   "cell_type": "code",
   "execution_count": 1,
   "id": "intellectual-chick",
   "metadata": {},
   "outputs": [],
   "source": [
    "### Read in z_scores and format ###\n",
    "z_scores = read.csv(\"data_RNA_Seq_mRNA_median_all_sample_Zscores.txt\", sep = \"\\t\", stringsAsFactors = FALSE, header = TRUE)\n",
    "\n",
    "map = z_scores[,c(1,2)]\n",
    "\n",
    "inst_names = colnames(z_scores)[3:length(colnames(z_scores))]\n",
    "\n",
    "z_scores = z_scores[,-2]\n",
    "z_scores = as.data.frame(t(z_scores), stringsAsFactors = FALSE)\n",
    "names(z_scores) = map[,1]\n",
    "z_scores = z_scores[-1,]\n",
    "\n",
    "z_scores = as.data.frame(apply(z_scores, 2, as.numeric))\n",
    "\n",
    "name_fix = c()\n",
    "for(name in inst_names){name_fix = c(name_fix,substr(name,11,nchar(name)-3))}\n",
    "\n",
    "\n",
    "row.names(z_scores) = name_fix\n"
   ]
  },
  {
   "cell_type": "markdown",
   "id": "likely-wireless",
   "metadata": {},
   "source": [
    "## Read in Clinical Data and format"
   ]
  },
  {
   "cell_type": "code",
   "execution_count": 2,
   "id": "known-mason",
   "metadata": {},
   "outputs": [],
   "source": [
    "## Read in Clinical Data ###\n",
    "patient = as.data.frame(read.csv(\"data_clinical_patient.txt\", sep = \"\\t\", stringsAsFactors = FALSE, header = TRUE, skip = 4))\n",
    "p_nam = patient[,1]\n",
    "\n",
    "p_nam_fix = c()\n",
    "for(name in p_nam){p_nam_fix = c(p_nam_fix,substr(name,11,nchar(name)))}\n",
    "\n",
    "patient = patient[,2:ncol(patient)]\n",
    "\n",
    "row.names(patient) = p_nam_fix"
   ]
  },
  {
   "cell_type": "markdown",
   "id": "metallic-boundary",
   "metadata": {},
   "source": [
    "## Merge Sets\n",
    "\n",
    "Isolate Status from Clinical Data and merge with z scores"
   ]
  },
  {
   "cell_type": "code",
   "execution_count": 3,
   "id": "arbitrary-credits",
   "metadata": {},
   "outputs": [],
   "source": [
    "status = data.frame(patient[,\"OS_STATUS\"])\n",
    "colnames(status) = \"STATUS\"\n",
    "rownames(status) = p_nam_fix\n",
    "\n",
    "mg = merge.data.frame(status,z_scores, by=\"row.names\")"
   ]
  },
  {
   "cell_type": "markdown",
   "id": "infinite-dodge",
   "metadata": {},
   "source": [
    "## Determine attributes to add to dataset\n",
    "fn used to determine if attribute is in dataset: "
   ]
  },
  {
   "cell_type": "code",
   "execution_count": 4,
   "id": "angry-chemistry",
   "metadata": {},
   "outputs": [],
   "source": [
    "check_attrib = function(df, attrib){ #Script to determine if an attribute is in the dataframe\n",
    "  ret = attrib %in% colnames(df)\n",
    "  return(ret)\n",
    "}"
   ]
  },
  {
   "cell_type": "markdown",
   "id": "brilliant-rochester",
   "metadata": {},
   "source": [
    "Use this cell to pick attributes. Prints attributes that are NOT contained in the set (move on when print is empty) "
   ]
  },
  {
   "cell_type": "code",
   "execution_count": 5,
   "id": "opposed-management",
   "metadata": {},
   "outputs": [
    {
     "data": {
      "text/html": [
       "'CD-133'"
      ],
      "text/latex": [
       "'CD-133'"
      ],
      "text/markdown": [
       "'CD-133'"
      ],
      "text/plain": [
       "[1] \"CD-133\""
      ]
     },
     "metadata": {},
     "output_type": "display_data"
    }
   ],
   "source": [
    "attributes = c(\"NTRK1\", \"MYCN\", \"MDM2\", \"ALK\", \"CHD5\", \"CADM1\",\n",
    "               \"CD44\", \"CD-133\", \"KIT\", \"NTRK2\", \"DLK1\",\"STATUS\")\n",
    "\n",
    "\n",
    "attributes[!check_attrib(mg, attributes)]# return attributes not included in set"
   ]
  },
  {
   "cell_type": "markdown",
   "id": "classical-tension",
   "metadata": {},
   "source": [
    "Return a dataset with the attributes given in the cell above. Write to csv"
   ]
  },
  {
   "cell_type": "code",
   "execution_count": 6,
   "id": "gentle-patio",
   "metadata": {},
   "outputs": [],
   "source": [
    "select_attributes = attributes[check_attrib(mg,attributes)]\n",
    "\n",
    "dr = mg[mg$STATUS!=\"\",select_attributes]# Don't return individuals with empty status\n",
    "\n",
    "write.csv(dr, \"dir_class.csv\")"
   ]
  }
 ],
 "metadata": {
  "kernelspec": {
   "display_name": "R",
   "language": "R",
   "name": "ir"
  },
  "language_info": {
   "codemirror_mode": "r",
   "file_extension": ".r",
   "mimetype": "text/x-r-source",
   "name": "R",
   "pygments_lexer": "r",
   "version": "3.6.1"
  }
 },
 "nbformat": 4,
 "nbformat_minor": 5
}
