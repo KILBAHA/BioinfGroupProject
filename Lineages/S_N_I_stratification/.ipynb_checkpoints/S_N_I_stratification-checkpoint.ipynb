{
 "cells": [
  {
   "cell_type": "code",
   "execution_count": 48,
   "metadata": {},
   "outputs": [],
   "source": [
    "# Read in z_scores and format ###\n",
    " z_scores = read.csv(\"data_mRNA_median_all_sample_Zscores.txt\", sep = \"\\t\", stringsAsFactors = FALSE, header = TRUE)\n",
    " \n",
    " map = z_scores[,c(1,2)]\n",
    " \n",
    " inst_names = colnames(z_scores)[3:length(colnames(z_scores))] \n",
    "\n",
    " z_scores = z_scores[,-2]\n",
    " z_scores = as.data.frame(t(z_scores), stringsAsFactors = FALSE)\n",
    " names(z_scores) = map[,1]\n",
    " z_scores = z_scores[-1,]\n",
    " \n",
    " z_scores = as.data.frame(apply(z_scores, 2, as.numeric))\n",
    " \n",
    " name_fix = c()\n",
    " for(name in inst_names){name_fix = c(name_fix,substr(name,11,nchar(name)-3))}\n",
    " row.names(z_scores) = name_fix\n",
    "\n",
    " patients <- name_fix\n",
    " \n",
    "# Function that splits data up into high and low expression for given gene. Returns names of individuals###\n",
    " get_split = function(gene, threshold = 0.5, data = z_scores){\n",
    "   select = z_scores[,gene]\n",
    "   above = row.names(data)[which(select > threshold)]\n",
    "   below = row.names(data)[which(select <= threshold)]\n",
    "   return(list(above,below)) #writes to list. To index: > threshold = list[1], <= threshold = list[2]\n",
    " }\n"
   ]
  },
  {
   "cell_type": "code",
   "execution_count": 3,
   "metadata": {},
   "outputs": [
    {
     "data": {
      "text/html": [
       "<ol class=list-inline>\n",
       "\t<li>'PADHWC'</li>\n",
       "\t<li>'PADKFS'</li>\n",
       "\t<li>'PADKGF'</li>\n",
       "\t<li>'PADWSM'</li>\n",
       "\t<li>'PAILZJ'</li>\n",
       "\t<li>'PAIMDS'</li>\n",
       "\t<li>'PAIRLN'</li>\n",
       "\t<li>'PAITEG'</li>\n",
       "\t<li>'PAIVHE'</li>\n",
       "\t<li>'PAIVMJ'</li>\n",
       "\t<li>'PAJYLA'</li>\n",
       "\t<li>'PAKAFK'</li>\n",
       "\t<li>'PALAWZ'</li>\n",
       "\t<li>'PALFSE'</li>\n",
       "\t<li>'PALTYB'</li>\n",
       "\t<li>'PALVKK'</li>\n",
       "\t<li>'PANDHZ'</li>\n",
       "\t<li>'PANUVK'</li>\n",
       "\t<li>'PAPRTD'</li>\n",
       "\t<li>'PARAHE'</li>\n",
       "\t<li>'PARCWT'</li>\n",
       "\t<li>'PARGDJ'</li>\n",
       "\t<li>'PARJAR'</li>\n",
       "\t<li>'PARMFA'</li>\n",
       "\t<li>'PASCKI'</li>\n",
       "</ol>\n"
      ],
      "text/latex": [
       "\\begin{enumerate*}\n",
       "\\item 'PADHWC'\n",
       "\\item 'PADKFS'\n",
       "\\item 'PADKGF'\n",
       "\\item 'PADWSM'\n",
       "\\item 'PAILZJ'\n",
       "\\item 'PAIMDS'\n",
       "\\item 'PAIRLN'\n",
       "\\item 'PAITEG'\n",
       "\\item 'PAIVHE'\n",
       "\\item 'PAIVMJ'\n",
       "\\item 'PAJYLA'\n",
       "\\item 'PAKAFK'\n",
       "\\item 'PALAWZ'\n",
       "\\item 'PALFSE'\n",
       "\\item 'PALTYB'\n",
       "\\item 'PALVKK'\n",
       "\\item 'PANDHZ'\n",
       "\\item 'PANUVK'\n",
       "\\item 'PAPRTD'\n",
       "\\item 'PARAHE'\n",
       "\\item 'PARCWT'\n",
       "\\item 'PARGDJ'\n",
       "\\item 'PARJAR'\n",
       "\\item 'PARMFA'\n",
       "\\item 'PASCKI'\n",
       "\\end{enumerate*}\n"
      ],
      "text/markdown": [
       "1. 'PADHWC'\n",
       "2. 'PADKFS'\n",
       "3. 'PADKGF'\n",
       "4. 'PADWSM'\n",
       "5. 'PAILZJ'\n",
       "6. 'PAIMDS'\n",
       "7. 'PAIRLN'\n",
       "8. 'PAITEG'\n",
       "9. 'PAIVHE'\n",
       "10. 'PAIVMJ'\n",
       "11. 'PAJYLA'\n",
       "12. 'PAKAFK'\n",
       "13. 'PALAWZ'\n",
       "14. 'PALFSE'\n",
       "15. 'PALTYB'\n",
       "16. 'PALVKK'\n",
       "17. 'PANDHZ'\n",
       "18. 'PANUVK'\n",
       "19. 'PAPRTD'\n",
       "20. 'PARAHE'\n",
       "21. 'PARCWT'\n",
       "22. 'PARGDJ'\n",
       "23. 'PARJAR'\n",
       "24. 'PARMFA'\n",
       "25. 'PASCKI'\n",
       "\n",
       "\n"
      ],
      "text/plain": [
       " [1] \"PADHWC\" \"PADKFS\" \"PADKGF\" \"PADWSM\" \"PAILZJ\" \"PAIMDS\" \"PAIRLN\" \"PAITEG\"\n",
       " [9] \"PAIVHE\" \"PAIVMJ\" \"PAJYLA\" \"PAKAFK\" \"PALAWZ\" \"PALFSE\" \"PALTYB\" \"PALVKK\"\n",
       "[17] \"PANDHZ\" \"PANUVK\" \"PAPRTD\" \"PARAHE\" \"PARCWT\" \"PARGDJ\" \"PARJAR\" \"PARMFA\"\n",
       "[25] \"PASCKI\""
      ]
     },
     "metadata": {},
     "output_type": "display_data"
    }
   ],
   "source": [
    "# S-type NB markers \n",
    "# Overexpressed markers\n",
    "s1 <- unlist(get_split(\"CD44\")[1])\n",
    "s2 <- unlist(get_split(\"VIM\")[1])\n",
    "s3 <- unlist(get_split(\"ITGB1\")[1])\n",
    "\n",
    "# Intersection of the markers\n",
    "s_type <- Reduce(intersect, list(s1,s2,s3))\n",
    "s_type\n",
    "\n",
    "# Write to file \n",
    "write.table(s_type, file = 'S_type_NB_TARGET.txt', sep = \"\\t\", \n",
    "            row.names = FALSE)\n"
   ]
  },
  {
   "cell_type": "code",
   "execution_count": 55,
   "metadata": {},
   "outputs": [],
   "source": [
    "# Create a non-s-type file\n",
    "non_s <- patients[!(patients %in% s_type)]\n",
    "\n",
    "write.table(non_s, file = 'non_S_type_NB_TARGET.txt', sep = \"\\t\", \n",
    "            row.names = FALSE)"
   ]
  },
  {
   "cell_type": "code",
   "execution_count": 52,
   "metadata": {},
   "outputs": [
    {
     "data": {
      "text/html": [
       "<ol class=list-inline>\n",
       "\t<li>'PADLES'</li>\n",
       "\t<li>'PADPCI'</li>\n",
       "\t<li>'PADUWR'</li>\n",
       "\t<li>'PADWSM'</li>\n",
       "\t<li>'PAKGKH'</li>\n",
       "\t<li>'PAKJBA'</li>\n",
       "\t<li>'PAKUXT'</li>\n",
       "\t<li>'PALNVP'</li>\n",
       "\t<li>'PALUDH'</li>\n",
       "\t<li>'PALWSJ'</li>\n",
       "\t<li>'PALWXP'</li>\n",
       "\t<li>'PALZRG'</li>\n",
       "\t<li>'PAMACS'</li>\n",
       "\t<li>'PAMMXF'</li>\n",
       "\t<li>'PARGDJ'</li>\n",
       "\t<li>'PARMTT'</li>\n",
       "</ol>\n"
      ],
      "text/latex": [
       "\\begin{enumerate*}\n",
       "\\item 'PADLES'\n",
       "\\item 'PADPCI'\n",
       "\\item 'PADUWR'\n",
       "\\item 'PADWSM'\n",
       "\\item 'PAKGKH'\n",
       "\\item 'PAKJBA'\n",
       "\\item 'PAKUXT'\n",
       "\\item 'PALNVP'\n",
       "\\item 'PALUDH'\n",
       "\\item 'PALWSJ'\n",
       "\\item 'PALWXP'\n",
       "\\item 'PALZRG'\n",
       "\\item 'PAMACS'\n",
       "\\item 'PAMMXF'\n",
       "\\item 'PARGDJ'\n",
       "\\item 'PARMTT'\n",
       "\\end{enumerate*}\n"
      ],
      "text/markdown": [
       "1. 'PADLES'\n",
       "2. 'PADPCI'\n",
       "3. 'PADUWR'\n",
       "4. 'PADWSM'\n",
       "5. 'PAKGKH'\n",
       "6. 'PAKJBA'\n",
       "7. 'PAKUXT'\n",
       "8. 'PALNVP'\n",
       "9. 'PALUDH'\n",
       "10. 'PALWSJ'\n",
       "11. 'PALWXP'\n",
       "12. 'PALZRG'\n",
       "13. 'PAMACS'\n",
       "14. 'PAMMXF'\n",
       "15. 'PARGDJ'\n",
       "16. 'PARMTT'\n",
       "\n",
       "\n"
      ],
      "text/plain": [
       " [1] \"PADLES\" \"PADPCI\" \"PADUWR\" \"PADWSM\" \"PAKGKH\" \"PAKJBA\" \"PAKUXT\" \"PALNVP\"\n",
       " [9] \"PALUDH\" \"PALWSJ\" \"PALWXP\" \"PALZRG\" \"PAMACS\" \"PAMMXF\" \"PARGDJ\" \"PARMTT\""
      ]
     },
     "metadata": {},
     "output_type": "display_data"
    }
   ],
   "source": [
    "# N-type NB markers \n",
    "# Overexpressed markers\n",
    "n1 <- unlist(get_split(\"CD24\")[1])\n",
    "n2 <- unlist(get_split(\"DBH\")[1])\n",
    "n3 <- unlist(get_split(\"CHGA\")[1])\n",
    "\n",
    "# Intersection of the markers\n",
    "n_type <- Reduce(intersect, list(n1,n2,n3))\n",
    "n_type\n",
    "\n",
    "# Write to file \n",
    "write.table(n_type, file = 'N_type_NB_TARGET.txt', sep = \"\\t\", \n",
    "            row.names = FALSE)\n",
    "\n"
   ]
  },
  {
   "cell_type": "code",
   "execution_count": 60,
   "metadata": {},
   "outputs": [],
   "source": [
    "# Create a non-N-type file\n",
    "non_n <- patients[!(patients %in% n_type)]\n",
    "\n",
    "write.table(non_n, file = 'non_N_type_NB_TARGET.txt', sep = \"\\t\", \n",
    "            row.names = FALSE)\n"
   ]
  },
  {
   "cell_type": "code",
   "execution_count": 56,
   "metadata": {},
   "outputs": [
    {
     "data": {
      "text/html": [
       "<ol class=list-inline>\n",
       "\t<li>'PACPJG'</li>\n",
       "\t<li>'PACZPX'</li>\n",
       "\t<li>'PADKXS'</li>\n",
       "\t<li>'PADPCI'</li>\n",
       "\t<li>'PADSXU'</li>\n",
       "\t<li>'PADUWR'</li>\n",
       "\t<li>'PADWEN'</li>\n",
       "\t<li>'PAIXNG'</li>\n",
       "\t<li>'PAKGKH'</li>\n",
       "\t<li>'PAKJBA'</li>\n",
       "\t<li>'PALWSJ'</li>\n",
       "\t<li>'PALYEC'</li>\n",
       "\t<li>'PAMACS'</li>\n",
       "\t<li>'PAMBMJ'</li>\n",
       "\t<li>'PAMNAL'</li>\n",
       "\t<li>'PANUVK'</li>\n",
       "\t<li>'PAPKWN'</li>\n",
       "\t<li>'PARHYL'</li>\n",
       "\t<li>'PARNCW'</li>\n",
       "\t<li>'PASGPY'</li>\n",
       "</ol>\n"
      ],
      "text/latex": [
       "\\begin{enumerate*}\n",
       "\\item 'PACPJG'\n",
       "\\item 'PACZPX'\n",
       "\\item 'PADKXS'\n",
       "\\item 'PADPCI'\n",
       "\\item 'PADSXU'\n",
       "\\item 'PADUWR'\n",
       "\\item 'PADWEN'\n",
       "\\item 'PAIXNG'\n",
       "\\item 'PAKGKH'\n",
       "\\item 'PAKJBA'\n",
       "\\item 'PALWSJ'\n",
       "\\item 'PALYEC'\n",
       "\\item 'PAMACS'\n",
       "\\item 'PAMBMJ'\n",
       "\\item 'PAMNAL'\n",
       "\\item 'PANUVK'\n",
       "\\item 'PAPKWN'\n",
       "\\item 'PARHYL'\n",
       "\\item 'PARNCW'\n",
       "\\item 'PASGPY'\n",
       "\\end{enumerate*}\n"
      ],
      "text/markdown": [
       "1. 'PACPJG'\n",
       "2. 'PACZPX'\n",
       "3. 'PADKXS'\n",
       "4. 'PADPCI'\n",
       "5. 'PADSXU'\n",
       "6. 'PADUWR'\n",
       "7. 'PADWEN'\n",
       "8. 'PAIXNG'\n",
       "9. 'PAKGKH'\n",
       "10. 'PAKJBA'\n",
       "11. 'PALWSJ'\n",
       "12. 'PALYEC'\n",
       "13. 'PAMACS'\n",
       "14. 'PAMBMJ'\n",
       "15. 'PAMNAL'\n",
       "16. 'PANUVK'\n",
       "17. 'PAPKWN'\n",
       "18. 'PARHYL'\n",
       "19. 'PARNCW'\n",
       "20. 'PASGPY'\n",
       "\n",
       "\n"
      ],
      "text/plain": [
       " [1] \"PACPJG\" \"PACZPX\" \"PADKXS\" \"PADPCI\" \"PADSXU\" \"PADUWR\" \"PADWEN\" \"PAIXNG\"\n",
       " [9] \"PAKGKH\" \"PAKJBA\" \"PALWSJ\" \"PALYEC\" \"PAMACS\" \"PAMBMJ\" \"PAMNAL\" \"PANUVK\"\n",
       "[17] \"PAPKWN\" \"PARHYL\" \"PARNCW\" \"PASGPY\""
      ]
     },
     "metadata": {},
     "output_type": "display_data"
    }
   ],
   "source": [
    "# I-type NB markers \n",
    "# Overexpressed markers\n",
    "i1 <- unlist(get_split(\"PVRL3\")[1])\n",
    "i2 <- unlist(get_split(\"KIT\")[1])\n",
    "\n",
    "# Intersection of the markers\n",
    "i_type <- Reduce(intersect, list(i1,i2))\n",
    "i_type\n",
    "\n",
    "# Write to file \n",
    "write.table(i_type, file = 'I_type_NB_TARGET.txt', sep = \"\\t\", \n",
    "            row.names = FALSE)\n"
   ]
  },
  {
   "cell_type": "code",
   "execution_count": 57,
   "metadata": {},
   "outputs": [],
   "source": [
    "# Create a non-I-type file\n",
    "non_i <- patients[!(patients %in% i_type)]\n",
    "\n",
    "write.table(non_i, file = 'non_I_type_NB_TARGET.txt', sep = \"\\t\", \n",
    "            row.names = FALSE)"
   ]
  },
  {
   "cell_type": "code",
   "execution_count": 58,
   "metadata": {},
   "outputs": [
    {
     "data": {
      "text/html": [
       "<ol class=list-inline>\n",
       "\t<li>'PADKXS'</li>\n",
       "\t<li>'PADPCI'</li>\n",
       "\t<li>'PADUWR'</li>\n",
       "\t<li>'PAKGKH'</li>\n",
       "\t<li>'PAKJBA'</li>\n",
       "\t<li>'PALWSJ'</li>\n",
       "\t<li>'PAMACS'</li>\n",
       "\t<li>'PAMBMJ'</li>\n",
       "\t<li>'PANUVK'</li>\n",
       "\t<li>'PAPKWN'</li>\n",
       "\t<li>'PARHYL'</li>\n",
       "\t<li>'PARNCW'</li>\n",
       "\t<li>'PASGPY'</li>\n",
       "</ol>\n"
      ],
      "text/latex": [
       "\\begin{enumerate*}\n",
       "\\item 'PADKXS'\n",
       "\\item 'PADPCI'\n",
       "\\item 'PADUWR'\n",
       "\\item 'PAKGKH'\n",
       "\\item 'PAKJBA'\n",
       "\\item 'PALWSJ'\n",
       "\\item 'PAMACS'\n",
       "\\item 'PAMBMJ'\n",
       "\\item 'PANUVK'\n",
       "\\item 'PAPKWN'\n",
       "\\item 'PARHYL'\n",
       "\\item 'PARNCW'\n",
       "\\item 'PASGPY'\n",
       "\\end{enumerate*}\n"
      ],
      "text/markdown": [
       "1. 'PADKXS'\n",
       "2. 'PADPCI'\n",
       "3. 'PADUWR'\n",
       "4. 'PAKGKH'\n",
       "5. 'PAKJBA'\n",
       "6. 'PALWSJ'\n",
       "7. 'PAMACS'\n",
       "8. 'PAMBMJ'\n",
       "9. 'PANUVK'\n",
       "10. 'PAPKWN'\n",
       "11. 'PARHYL'\n",
       "12. 'PARNCW'\n",
       "13. 'PASGPY'\n",
       "\n",
       "\n"
      ],
      "text/plain": [
       " [1] \"PADKXS\" \"PADPCI\" \"PADUWR\" \"PAKGKH\" \"PAKJBA\" \"PALWSJ\" \"PAMACS\" \"PAMBMJ\"\n",
       " [9] \"PANUVK\" \"PAPKWN\" \"PARHYL\" \"PARNCW\" \"PASGPY\""
      ]
     },
     "metadata": {},
     "output_type": "display_data"
    }
   ],
   "source": [
    "#I and N-type markers combined to form neuronal group\n",
    "\n",
    "# Overexpressed markers\n",
    "ni1 <- unlist(get_split(\"PVRL3\")[1])\n",
    "ni2 <- unlist(get_split(\"KIT\")[1])\n",
    "ni3 <- unlist(get_split(\"CD24\")[1])\n",
    "\n",
    "# Intersection of the markers\n",
    "ni_type <- Reduce(intersect, list(ni1,ni2,ni3))\n",
    "ni_type\n",
    "\n",
    "#write to file\n",
    "write.table(ni_type, file = 'NI_type_NB_TARGET.txt', sep = \"\\t\",\n",
    "            row.names = FALSE)\n"
   ]
  },
  {
   "cell_type": "code",
   "execution_count": 61,
   "metadata": {},
   "outputs": [],
   "source": [
    "# Create a non-ni-type file\n",
    "non_ni <- patients[!(patients %in% n_type)]\n",
    "\n",
    "write.table(non_ni, file = 'non_NI_type_NB_TARGET.txt', sep = \"\\t\", \n",
    "            row.names = FALSE)\n"
   ]
  },
  {
   "cell_type": "code",
   "execution_count": null,
   "metadata": {},
   "outputs": [],
   "source": []
  }
 ],
 "metadata": {
  "kernelspec": {
   "display_name": "R",
   "language": "R",
   "name": "ir"
  },
  "language_info": {
   "codemirror_mode": "r",
   "file_extension": ".r",
   "mimetype": "text/x-r-source",
   "name": "R",
   "pygments_lexer": "r",
   "version": "3.6.1"
  }
 },
 "nbformat": 4,
 "nbformat_minor": 4
}
