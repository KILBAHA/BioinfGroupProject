{
 "cells": [
  {
   "cell_type": "code",
   "execution_count": null,
   "metadata": {},
   "outputs": [],
   "source": [
    "# Analyzing GSEA enrichment results and Identifying overlaps and unique signatures"
   ]
  },
  {
   "cell_type": "code",
   "execution_count": null,
   "metadata": {},
   "outputs": [],
   "source": [
    "# Find significant GSEA values from the lineage group and gene set\n",
    "# This function filters through the tsv files and identifies the values within the p value and q value threshold\n",
    "\n",
    "get_sig = function(set, cluster, pval=0.05, qval=0.25){ \n",
    "  file = paste(set, \"/gsea_report_for_\",cluster,\".tsv\", sep = \"\")\n",
    "  res = read.csv(file, sep = \"\\t\")\n",
    "  return(res[(res[,\"NOM.p.val\"] <= pval) & (res[,\"FDR.q.val\"] <= qval),])\n",
    "}\n"
   ]
  }
 ],
 "metadata": {
  "kernelspec": {
   "display_name": "R 4.0.0",
   "language": "R",
   "name": "ir35"
  },
  "language_info": {
   "codemirror_mode": "r",
   "file_extension": ".r",
   "mimetype": "text/x-r-source",
   "name": "R",
   "pygments_lexer": "r",
   "version": "3.6.1"
  }
 },
 "nbformat": 4,
 "nbformat_minor": 4
}
