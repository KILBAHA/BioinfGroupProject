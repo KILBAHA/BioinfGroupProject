{
 "cells": [
  {
   "cell_type": "code",
   "execution_count": null,
   "metadata": {
    "scrolled": false
   },
   "outputs": [],
   "source": [
    "# Import dataset for ACE2 analysis\n",
    "nb_data <- read.table(\"data_mRNA_median_all_sample_Zscores.txt\", sep=\"\\t\")\n",
    "#transpose so it is easier to view the list of patients\n",
    "nb_datadf <- as.data.frame(nb_data)\n",
    "\n",
    "#Select the relevant columns for analysis, want columns V1 and V146 (ACE2)\n",
    "ace2data <- as_tibble(t(nb_datadf))\n",
    "ace2data1 <- ace2data %>% select(V1, V146)"
   ]
  },
  {
   "cell_type": "code",
   "execution_count": 4,
   "metadata": {},
   "outputs": [],
   "source": [
    "# Separate the dataset into high ACE2 and low ACE2 \n",
    "# Use the z score threshold from Brandon's file \"ACE2_Expression_Analysis\", where high score threshold = 0.5,low score threshold = -0.5 \n",
    "ace2_high <- ace2data1 %>% filter(V146 > 0.5)\n",
    "ace2h <- ace2_high %>% select(V1)\n",
    "\n",
    "ace2_low <- ace2data1 %>% filter(V146 <= 0.5)\n",
    "ace2l <- ace2_low %>% select(V1)\n",
    "\n",
    "# write the patient names out into separate files \n",
    "write.table(ace2h, file = 'ace2high.txt', sep = \"\\t\",\n",
    "            row.names = FALSE)\n",
    "write.table(ace2l, file = 'ace2low.txt', sep = \"\\t\",\n",
    "            row.names = FALSE)"
   ]
  }
 ],
 "metadata": {
  "kernelspec": {
   "display_name": "R",
   "language": "R",
   "name": "ir"
  },
  "language_info": {
   "codemirror_mode": "r",
   "file_extension": ".r",
   "mimetype": "text/x-r-source",
   "name": "R",
   "pygments_lexer": "r",
   "version": "3.6.1"
  }
 },
 "nbformat": 4,
 "nbformat_minor": 4
}
