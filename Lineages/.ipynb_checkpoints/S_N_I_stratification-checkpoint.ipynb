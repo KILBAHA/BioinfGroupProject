{
 "cells": [
  {
   "cell_type": "code",
   "execution_count": 2,
   "metadata": {},
   "outputs": [],
   "source": [
    "# Read in z_scores and format ###\n",
    " z_scores = read.csv(\"data_mRNA_median_all_sample_Zscores.txt\", sep = \"\\t\", stringsAsFactors = FALSE, header = TRUE)\n",
    " \n",
    " map = z_scores[,c(1,2)]\n",
    " \n",
    " inst_names = colnames(z_scores)[3:length(colnames(z_scores))]\n",
    " \n",
    " z_scores = z_scores[,-2]\n",
    " z_scores = as.data.frame(t(z_scores), stringsAsFactors = FALSE)\n",
    " names(z_scores) = map[,1]\n",
    " z_scores = z_scores[-1,]\n",
    " \n",
    " z_scores = as.data.frame(apply(z_scores, 2, as.numeric))\n",
    " \n",
    " name_fix = c()\n",
    " for(name in inst_names){name_fix = c(name_fix,substr(name,11,nchar(name)-3))}\n",
    " row.names(z_scores) = name_fix\n",
    " \n",
    " \n",
    "# Function that splits data up into high and low expression for given gene. Returns names of individuals###\n",
    " get_split = function(gene, threshold = 0.5, data = z_scores){\n",
    "   select = z_scores[,gene]\n",
    "   above = row.names(data)[which(select > threshold)]\n",
    "   below = row.names(data)[which(select <= threshold)]\n",
    "   return(list(above,below)) #writes to list. To index: > threshold = list[1], <= threshold = list[2]\n",
    " }\n"
   ]
  },
  {
   "cell_type": "code",
   "execution_count": 4,
   "metadata": {},
   "outputs": [
    {
     "data": {
      "text/html": [
       "<ol class=list-inline>\n",
       "\t<li>'PAIMDS'</li>\n",
       "\t<li>'PAIPGU'</li>\n",
       "\t<li>'PAIRLN'</li>\n",
       "\t<li>'PAIVHE'</li>\n",
       "\t<li>'PAKAFK'</li>\n",
       "\t<li>'PAPSKM'</li>\n",
       "\t<li>'PARAHE'</li>\n",
       "\t<li>'PARGDJ'</li>\n",
       "</ol>\n"
      ],
      "text/latex": [
       "\\begin{enumerate*}\n",
       "\\item 'PAIMDS'\n",
       "\\item 'PAIPGU'\n",
       "\\item 'PAIRLN'\n",
       "\\item 'PAIVHE'\n",
       "\\item 'PAKAFK'\n",
       "\\item 'PAPSKM'\n",
       "\\item 'PARAHE'\n",
       "\\item 'PARGDJ'\n",
       "\\end{enumerate*}\n"
      ],
      "text/markdown": [
       "1. 'PAIMDS'\n",
       "2. 'PAIPGU'\n",
       "3. 'PAIRLN'\n",
       "4. 'PAIVHE'\n",
       "5. 'PAKAFK'\n",
       "6. 'PAPSKM'\n",
       "7. 'PARAHE'\n",
       "8. 'PARGDJ'\n",
       "\n",
       "\n"
      ],
      "text/plain": [
       "[1] \"PAIMDS\" \"PAIPGU\" \"PAIRLN\" \"PAIVHE\" \"PAKAFK\" \"PAPSKM\" \"PARAHE\" \"PARGDJ\""
      ]
     },
     "metadata": {},
     "output_type": "display_data"
    }
   ],
   "source": [
    "# S-type NB markers \n",
    "# Under-expressed markers\n",
    "#s1 <- unlist(get_split(\"MYCN\")[2])\n",
    "#s5 <- unlist(get_split(\"DCX\")[2])\n",
    "\n",
    "# Overexpressed markers\n",
    "s2 <- unlist(get_split(\"CD44\")[1])\n",
    "s3 <- unlist(get_split(\"VIM\")[1])\n",
    "s4 <- unlist(get_split(\"DBH\")[1])\n",
    "\n",
    "\n",
    "# Intersection of the markers\n",
    "s_type <- Reduce(intersect, list(s2,s3,s4,s5))\n",
    "s_type\n",
    "\n",
    "# Write to file \n",
    "#write.table(s_type, file = 'S_type_NB_TARGET.txt', sep = \"\\t\", \n",
    "#            row.names = FALSE)"
   ]
  },
  {
   "cell_type": "code",
   "execution_count": null,
   "metadata": {},
   "outputs": [],
   "source": [
    "# N-type NB markers\n",
    "\n",
    "# Under-expressed markers\n",
    "\n",
    "# Overexpressed markers\n",
    "n1 <- unlist(get_split(\"KIT\")[1])\n",
    "n2 <- unlist(get_split(\"PVRL3\")[1])\n",
    "n3 <- unlist(get_split(\"NTRK2\")[1])\n",
    "n4 <- unlist(get_split(\"NOTCH1\")[1])\n",
    "n5 <- unlist(get_split(\"\")[1])\n",
    "\n",
    "# Intersection of the markers\n",
    "n_type <- Reduce(intersect, list(n1,n2,n3,n4,n5))\n",
    "\n",
    "# write to file\n",
    "#write.table(n_type, file = 'n_type_NB_TARGET.txt', sep = \"\\t\",\n",
    "#           row.names = FALSE)"
   ]
  },
  {
   "cell_type": "code",
   "execution_count": null,
   "metadata": {},
   "outputs": [],
   "source": [
    "# I type NB markers\n",
    "\n",
    "# Under-expressed markers\n",
    "\n",
    "# Overexpressed markers\n",
    "i1 <-\n",
    "i2 <-\n",
    "i3 <-\n",
    "i4 <-\n",
    "i5 <-\n",
    "\n",
    "# Intersection of the markers\n",
    "i_type <- Reduce(intersect, list(i1,i2,i3))\n",
    "\n",
    "#write to file\n",
    "#write.table(i_type, file = 'i_type_NB_TARGET.txt', sep = \"\\t\",\n",
    "#            row.names = FALSE)"
   ]
  },
  {
   "cell_type": "code",
   "execution_count": null,
   "metadata": {},
   "outputs": [],
   "source": [
    "#I and N-type markers combined to form neuronal group\n",
    "\n",
    "# Under-expressed markers\n",
    "\n",
    "# Overexpressed markers\n",
    "\n",
    "# Intersection of the markers\n",
    "ni_type <- Reduce(intersect, list(i1,i2,i3))\n",
    "\n",
    "#write to file\n",
    "#write.table(i_type, file = 'ni_type_NB_TARGET.txt', sep = \"\\t\",\n",
    "#            row.names = FALSE)\n"
   ]
  }
 ],
 "metadata": {
  "kernelspec": {
   "display_name": "R",
   "language": "R",
   "name": "ir"
  },
  "language_info": {
   "codemirror_mode": "r",
   "file_extension": ".r",
   "mimetype": "text/x-r-source",
   "name": "R",
   "pygments_lexer": "r",
   "version": "3.6.1"
  }
 },
 "nbformat": 4,
 "nbformat_minor": 4
}
