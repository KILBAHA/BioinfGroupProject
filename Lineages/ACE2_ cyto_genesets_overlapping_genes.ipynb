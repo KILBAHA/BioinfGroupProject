{
 "cells": [
  {
   "cell_type": "code",
   "execution_count": null,
   "metadata": {},
   "outputs": [],
   "source": [
    "# Identifying the presence of genes in the overlap of two genesets (as observed in cytoscape visualization)\n",
    "# Set working directory \n",
    "setwd(\"~/Documents/GitHub/BioinfGroupProject/GSEA_rank_cluster/k9/analysis/Sets\")\n",
    "\n",
    "\n",
    "files = read.table('files.txt')\n",
    "\n",
    "files = files$V1\n",
    "\n",
    "\n",
    "get_ol = function(compare, sets){\n",
    "  cmp = read.csv(paste(compare, \".tsv\", sep = \"\"), sep = \"\\t\")\n",
    "  \n",
    "  lst = list()\n",
    "  for(set in sets){\n",
    "    current = read.csv(paste(set,\".tsv\", sep = \"\"), sep=\"\\t\")\n",
    "    lst[set] = ifelse(length(current$SYMBOL[current$SYMBOL %in% cmp$SYMBOL]) > 0 , list(current$SYMBOL[current$SYMBOL %in% cmp$SYMBOL]), NA)\n",
    "  }\n",
    "  return(lst)\n",
    "}\n",
    "\n",
    "# Input the gene sets that you have observed an interacton between on cytoscape\n",
    "get_ol(\"E2\", c(\"HALLMARK_APOPTOSIS\", \"HALLMARK_COMPLEMENT\", \"HALLMARK_IL2_STAT5_SIGNALING\", \"HALLMARK_IL6_JAK_STAT3_SIGNALING\", \"HALLMARK_INFLAMATORY_RESPONSE\", \"HALLMARK_INTERFERON_ALPHA_RESPONSE\", \"HALLMARK_INTERFERON_GAMMA_RESPONSE\", \"HALLMARK_P53_PATHWAY\"))"
   ]
  }
 ],
 "metadata": {
  "kernelspec": {
   "display_name": "R 4.0.0",
   "language": "R",
   "name": "ir35"
  },
  "language_info": {
   "codemirror_mode": "r",
   "file_extension": ".r",
   "mimetype": "text/x-r-source",
   "name": "R",
   "pygments_lexer": "r",
   "version": "3.6.1"
  }
 },
 "nbformat": 4,
 "nbformat_minor": 4
}
