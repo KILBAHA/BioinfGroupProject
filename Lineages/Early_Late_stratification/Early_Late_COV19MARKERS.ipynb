{
 "cells": [
  {
   "cell_type": "code",
   "execution_count": null,
   "metadata": {},
   "outputs": [],
   "source": [
    "from ipynb.fs.full.TARGET_Analysis_Functions import *"
   ]
  },
  {
   "cell_type": "code",
   "execution_count": null,
   "metadata": {},
   "outputs": [],
   "source": [
    "c1_patients = pd.read_csv('../GSEA_rank_cluster/c1.txt',header=None)[0].tolist()\n",
    "c2_patients = pd.read_csv('../GSEA_rank_cluster/c2.txt',header=None)[0].tolist()\n",
    "\n",
    "for i in range(len(c1)):\n",
    "    c1_patients[i] = ('TARGET-30-' + c1_patients[i])\n",
    "for i in range(len(c2)):\n",
    "    c2_patients[i] = ('TARGET-30-' + c2_patients [i])\n",
    "\n",
    "c1_samples = clinical_sample_trimmed.loc[clinical_sample_trimmed['#Patient Identifier'].isin(c1_patients)]['Sample Identifier']\n",
    "c2_samples = clinical_sample_trimmed.loc[clinical_sample_trimmed['#Patient Identifier'].isin(c2_patients)]['Sample Identifier']"
   ]
  },
  {
   "cell_type": "code",
   "execution_count": null,
   "metadata": {},
   "outputs": [],
   "source": [
    "compareEFS([c1_samples,c2_samples], 'EFS stratified by GSEA rank clusters', 'c1', 'c2')"
   ]
  },
  {
   "cell_type": "code",
   "execution_count": null,
   "metadata": {},
   "outputs": [],
   "source": [
    "kaplanmeierEFS([c1_samples,c2_samples], 'c1', 'c2')"
   ]
  },
  {
   "cell_type": "code",
   "execution_count": null,
   "metadata": {},
   "outputs": [],
   "source": [
    "compareExpression('ACE2',[c1_samples,c2_samples],'Clusters','c1','c2')"
   ]
  },
  {
   "cell_type": "code",
   "execution_count": null,
   "metadata": {},
   "outputs": [],
   "source": [
    "compareExpression('IFITM3',[c1_samples,c2_samples],'Clusters','c1','c2')"
   ]
  },
  {
   "cell_type": "code",
   "execution_count": null,
   "metadata": {},
   "outputs": [],
   "source": [
    "compareExpression('MYCN',[c1_samples,c2_samples],'Clusters','c1','c2')"
   ]
  },
  {
   "cell_type": "code",
   "execution_count": null,
   "metadata": {},
   "outputs": [],
   "source": [
    "compareExpression('NTRK1',[c1_samples,c2_samples],'Clusters','c1','c2')"
   ]
  },
  {
   "cell_type": "code",
   "execution_count": null,
   "metadata": {},
   "outputs": [],
   "source": [
    "compareExpression('PTPN6',[c1_samples,c2_samples],'Clusters','c1','c2')"
   ]
  },
  {
   "cell_type": "code",
   "execution_count": null,
   "metadata": {},
   "outputs": [],
   "source": [
    "compareExpression('TP53',[c1_samples,c2_samples],'Clusters','c1','c2')"
   ]
  },
  {
   "cell_type": "code",
   "execution_count": null,
   "metadata": {},
   "outputs": [],
   "source": [
    "compareExpression('KM',[c1_samples,c2_samples],'Clusters','c1','c2')"
   ]
  },
  {
   "cell_type": "code",
   "execution_count": null,
   "metadata": {},
   "outputs": [],
   "source": [
    "compareExpression('IFITM2',[c1_samples,c2_samples],'Clusters','c1','c2')"
   ]
  },
  {
   "cell_type": "code",
   "execution_count": null,
   "metadata": {},
   "outputs": [],
   "source": [
    "compareExpression('TMPRSS2',[c1_samples,c2_samples],'Clusters','c1','c2')"
   ]
  },
  {
   "cell_type": "code",
   "execution_count": null,
   "metadata": {},
   "outputs": [],
   "source": [
    "compareExpression('CXCL10',[c1_samples,c2_samples],'Clusters','c1','c2')"
   ]
  },
  {
   "cell_type": "code",
   "execution_count": null,
   "metadata": {},
   "outputs": [],
   "source": [
    "compareExpression('CXCL11',[c1_samples,c2_samples],'Clusters','c1','c2')"
   ]
  },
  {
   "cell_type": "code",
   "execution_count": null,
   "metadata": {},
   "outputs": [],
   "source": [
    "compareExpression('AGTR1',[c1_samples,c2_samples],'Clusters','c1','c2')"
   ]
  },
  {
   "cell_type": "code",
   "execution_count": null,
   "metadata": {},
   "outputs": [],
   "source": [
    "compareExpression('BSG',[c1_samples,c2_samples],'Clusters','c1','c2')"
   ]
  }
 ],
 "metadata": {
  "kernelspec": {
   "display_name": "R 4.0.0",
   "language": "R",
   "name": "ir35"
  },
  "language_info": {
   "codemirror_mode": "r",
   "file_extension": ".r",
   "mimetype": "text/x-r-source",
   "name": "R",
   "pygments_lexer": "r",
   "version": "3.6.1"
  }
 },
 "nbformat": 4,
 "nbformat_minor": 4
}
